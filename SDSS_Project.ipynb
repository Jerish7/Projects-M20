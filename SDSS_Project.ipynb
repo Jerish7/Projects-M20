{
 "cells": [
  {
   "cell_type": "code",
   "execution_count": 1,
   "metadata": {},
   "outputs": [],
   "source": [
    "#Importing warning library to avoid any warnings\n",
    "import warnings\n",
    "warnings.filterwarnings('ignore')"
   ]
  },
  {
   "cell_type": "markdown",
   "metadata": {},
   "source": [
    "# Loading the dataset"
   ]
  },
  {
   "cell_type": "code",
   "execution_count": 2,
   "metadata": {},
   "outputs": [
    {
     "data": {
      "text/html": [
       "<div>\n",
       "<style scoped>\n",
       "    .dataframe tbody tr th:only-of-type {\n",
       "        vertical-align: middle;\n",
       "    }\n",
       "\n",
       "    .dataframe tbody tr th {\n",
       "        vertical-align: top;\n",
       "    }\n",
       "\n",
       "    .dataframe thead th {\n",
       "        text-align: right;\n",
       "    }\n",
       "</style>\n",
       "<table border=\"1\" class=\"dataframe\">\n",
       "  <thead>\n",
       "    <tr style=\"text-align: right;\">\n",
       "      <th></th>\n",
       "      <th>objid</th>\n",
       "      <th>ra</th>\n",
       "      <th>dec</th>\n",
       "      <th>u</th>\n",
       "      <th>g</th>\n",
       "      <th>r</th>\n",
       "      <th>i</th>\n",
       "      <th>z</th>\n",
       "      <th>run</th>\n",
       "      <th>rerun</th>\n",
       "      <th>camcol</th>\n",
       "      <th>field</th>\n",
       "      <th>specobjid</th>\n",
       "      <th>class</th>\n",
       "      <th>redshift</th>\n",
       "      <th>plate</th>\n",
       "      <th>mjd</th>\n",
       "      <th>fiberid</th>\n",
       "    </tr>\n",
       "  </thead>\n",
       "  <tbody>\n",
       "    <tr>\n",
       "      <th>0</th>\n",
       "      <td>1.237650e+18</td>\n",
       "      <td>183.531326</td>\n",
       "      <td>0.089693</td>\n",
       "      <td>19.47406</td>\n",
       "      <td>17.04240</td>\n",
       "      <td>15.94699</td>\n",
       "      <td>15.50342</td>\n",
       "      <td>15.22531</td>\n",
       "      <td>752</td>\n",
       "      <td>301</td>\n",
       "      <td>4</td>\n",
       "      <td>267</td>\n",
       "      <td>3.722360e+18</td>\n",
       "      <td>STAR</td>\n",
       "      <td>-0.000009</td>\n",
       "      <td>3306</td>\n",
       "      <td>54922</td>\n",
       "      <td>491</td>\n",
       "    </tr>\n",
       "    <tr>\n",
       "      <th>1</th>\n",
       "      <td>1.237650e+18</td>\n",
       "      <td>183.598371</td>\n",
       "      <td>0.135285</td>\n",
       "      <td>18.66280</td>\n",
       "      <td>17.21449</td>\n",
       "      <td>16.67637</td>\n",
       "      <td>16.48922</td>\n",
       "      <td>16.39150</td>\n",
       "      <td>752</td>\n",
       "      <td>301</td>\n",
       "      <td>4</td>\n",
       "      <td>267</td>\n",
       "      <td>3.638140e+17</td>\n",
       "      <td>STAR</td>\n",
       "      <td>-0.000055</td>\n",
       "      <td>323</td>\n",
       "      <td>51615</td>\n",
       "      <td>541</td>\n",
       "    </tr>\n",
       "    <tr>\n",
       "      <th>2</th>\n",
       "      <td>1.237650e+18</td>\n",
       "      <td>183.680207</td>\n",
       "      <td>0.126185</td>\n",
       "      <td>19.38298</td>\n",
       "      <td>18.19169</td>\n",
       "      <td>17.47428</td>\n",
       "      <td>17.08732</td>\n",
       "      <td>16.80125</td>\n",
       "      <td>752</td>\n",
       "      <td>301</td>\n",
       "      <td>4</td>\n",
       "      <td>268</td>\n",
       "      <td>3.232740e+17</td>\n",
       "      <td>GALAXY</td>\n",
       "      <td>0.123111</td>\n",
       "      <td>287</td>\n",
       "      <td>52023</td>\n",
       "      <td>513</td>\n",
       "    </tr>\n",
       "    <tr>\n",
       "      <th>3</th>\n",
       "      <td>1.237650e+18</td>\n",
       "      <td>183.870529</td>\n",
       "      <td>0.049911</td>\n",
       "      <td>17.76536</td>\n",
       "      <td>16.60272</td>\n",
       "      <td>16.16116</td>\n",
       "      <td>15.98233</td>\n",
       "      <td>15.90438</td>\n",
       "      <td>752</td>\n",
       "      <td>301</td>\n",
       "      <td>4</td>\n",
       "      <td>269</td>\n",
       "      <td>3.722370e+18</td>\n",
       "      <td>STAR</td>\n",
       "      <td>-0.000111</td>\n",
       "      <td>3306</td>\n",
       "      <td>54922</td>\n",
       "      <td>510</td>\n",
       "    </tr>\n",
       "    <tr>\n",
       "      <th>4</th>\n",
       "      <td>1.237650e+18</td>\n",
       "      <td>183.883288</td>\n",
       "      <td>0.102557</td>\n",
       "      <td>17.55025</td>\n",
       "      <td>16.26342</td>\n",
       "      <td>16.43869</td>\n",
       "      <td>16.55492</td>\n",
       "      <td>16.61326</td>\n",
       "      <td>752</td>\n",
       "      <td>301</td>\n",
       "      <td>4</td>\n",
       "      <td>269</td>\n",
       "      <td>3.722370e+18</td>\n",
       "      <td>STAR</td>\n",
       "      <td>0.000590</td>\n",
       "      <td>3306</td>\n",
       "      <td>54922</td>\n",
       "      <td>512</td>\n",
       "    </tr>\n",
       "  </tbody>\n",
       "</table>\n",
       "</div>"
      ],
      "text/plain": [
       "          objid          ra       dec         u         g         r         i  \\\n",
       "0  1.237650e+18  183.531326  0.089693  19.47406  17.04240  15.94699  15.50342   \n",
       "1  1.237650e+18  183.598371  0.135285  18.66280  17.21449  16.67637  16.48922   \n",
       "2  1.237650e+18  183.680207  0.126185  19.38298  18.19169  17.47428  17.08732   \n",
       "3  1.237650e+18  183.870529  0.049911  17.76536  16.60272  16.16116  15.98233   \n",
       "4  1.237650e+18  183.883288  0.102557  17.55025  16.26342  16.43869  16.55492   \n",
       "\n",
       "          z  run  rerun  camcol  field     specobjid   class  redshift  plate  \\\n",
       "0  15.22531  752    301       4    267  3.722360e+18    STAR -0.000009   3306   \n",
       "1  16.39150  752    301       4    267  3.638140e+17    STAR -0.000055    323   \n",
       "2  16.80125  752    301       4    268  3.232740e+17  GALAXY  0.123111    287   \n",
       "3  15.90438  752    301       4    269  3.722370e+18    STAR -0.000111   3306   \n",
       "4  16.61326  752    301       4    269  3.722370e+18    STAR  0.000590   3306   \n",
       "\n",
       "     mjd  fiberid  \n",
       "0  54922      491  \n",
       "1  51615      541  \n",
       "2  52023      513  \n",
       "3  54922      510  \n",
       "4  54922      512  "
      ]
     },
     "execution_count": 2,
     "metadata": {},
     "output_type": "execute_result"
    }
   ],
   "source": [
    "import pandas as pd\n",
    "df=pd.read_csv('D:/Python file/Project Datasets/FinalEval/Skyserver.csv')  #Path location of the dataset\n",
    "df.head()  #Checking out the top 5 rows of the dataset"
   ]
  },
  {
   "cell_type": "code",
   "execution_count": 3,
   "metadata": {},
   "outputs": [
    {
     "data": {
      "text/plain": [
       "(10000, 18)"
      ]
     },
     "execution_count": 3,
     "metadata": {},
     "output_type": "execute_result"
    }
   ],
   "source": [
    "df.shape    #Checking the dimensions of the dataset"
   ]
  },
  {
   "cell_type": "code",
   "execution_count": 4,
   "metadata": {},
   "outputs": [
    {
     "data": {
      "text/plain": [
       "Index(['objid', 'ra', 'dec', 'u', 'g', 'r', 'i', 'z', 'run', 'rerun', 'camcol',\n",
       "       'field', 'specobjid', 'class', 'redshift', 'plate', 'mjd', 'fiberid'],\n",
       "      dtype='object')"
      ]
     },
     "execution_count": 4,
     "metadata": {},
     "output_type": "execute_result"
    }
   ],
   "source": [
    "df.columns   #Checking out the columns of the dataset"
   ]
  },
  {
   "cell_type": "markdown",
   "metadata": {},
   "source": [
    "# Dataset Description"
   ]
  },
  {
   "cell_type": "markdown",
   "metadata": {},
   "source": [
    "Introduction:\n",
    "\n",
    "     The Sloan Digital Sky Survey has created the most detailed three-dimensional maps of the Universe ever made, with deep multi-color images of one third of the sky, and spectra for more than three million astronomical objects. Learn and     explore all phases and surveys—past, present, and future—of the SDSS. In this notebook we will try to classify          observations of space to be either stars, galaxies or quasars. We will try to have a complete cycle of the data science workflow including querying the database to get the dataset, data analysis and building machine learning models on basis of class to predict for new data.\n",
    "     \n",
    "Feature Description:\n",
    "\n",
    "     -> The data consists of 10,000 observations of space taken by the SDSS. Every observation is described by 17 feature   \n",
    "     columns and 1 class column which identifies it to be either a star, galaxy or quasar.\n",
    "\n",
    "     -> The table results from a query which joins two tables (actuaclly views): \"PhotoObj\" which contains photometric data and  \"SpecObj\" which contains spectral data.\n",
    "\n",
    "To ease your start with the data you can read the feature descriptions below:\n",
    "\n",
    "-> View \"PhotoObj\"\n",
    "   \n",
    "    objid = Object Identifier\n",
    "    \n",
    "    ra = J2000 Right Ascension (r-band)\n",
    "    \n",
    "    dec = J2000 Declination (r-band)\n",
    "\n",
    "    Right ascension (abbreviated RA) is the angular distance measured eastward along the celestial equator from the Sun at  the March equinox to the hour circle of the point above the earth in question. When paired with declination (abbreviated dec), these astronomical coordinates specify the direction of a point on the celestial sphere (traditionally called in  English the skies or the sky) in the equatorial coordinate system.\n",
    "    \n",
    " Source: https://en.wikipedia.org/wiki/Right_ascension\n",
    " \n",
    "    u = better of DeV/Exp magnitude fit\n",
    "\n",
    "    g = better of DeV/Exp magnitude fit\n",
    "\n",
    "    r = better of DeV/Exp magnitude fit\n",
    " \n",
    "    i = better of DeV/Exp magnitude fit\n",
    "\n",
    "    z = better of DeV/Exp magnitude fit \n",
    "    \n",
    "-> The Thuan-Gunn astronomic magnitude system. u, g, r, i, z represent the response of the 5 bands of the telescope.\n",
    "\n",
    " Further education: https://www.astro.umd.edu/~ssm/ASTR620/mags.html\n",
    " \n",
    "    run = Run Number\n",
    "\n",
    "    rereun = Rerun Number\n",
    "\n",
    "    camcol = Camera column\n",
    "\n",
    "    field = Field number \n",
    "    \n",
    "-> Run, rerun, camcol and field are features which describe a field within an image taken by the SDSS. A field is basically a part of the entire image corresponding to 2048 by 1489 pixels. A field can be identified by:\n",
    "\n",
    "     - run number, which identifies the specific scan,\n",
    "\n",
    "     - the camera column, or \"camcol,\" a number from 1 to 6, identifying the scanline within the run, and\n",
    "\n",
    "     - the field number. The field number typically starts at 11 (after an initial rampup time), and can be as large as 800 for  particularly long runs.\n",
    "\n",
    "     - An additional number, rerun, specifies how the image was processed.\n",
    "     \n",
    "-> View \"SpecObj\"\n",
    "\n",
    "     specobjid = Object Identifier\n",
    "\n",
    "     class = object class (galaxy, star or quasar object)\n",
    "     \n",
    "-> The class identifies an object to be either a galaxy, star or quasar. This will be the response variable which we will be        trying to predict.     \n",
    "\n",
    "    redshift = Final Redshift\n",
    "\n",
    "    plate = plate number\n",
    "\n",
    "    mjd = MJD of observation\n",
    "\n",
    "    fiberid = fiber ID\n",
    "    \n",
    "-> In physics, redshift happens when light or other electromagnetic radiation from an object is increased in wavelength, or        shifted to the red end of the spectrum.\n",
    "\n",
    "-> Each spectroscopic exposure employs a large, thin, circular metal plate that positions optical fibers via holes drilled at      the locations of the images in the telescope focal plane. These fibers then feed into the spectrographs. Each plate has a        unique serial number, which is called plate in views such as SpecObj in the CAS.\n",
    "\n",
    "-> Modified Julian Date, used to indicate the date that a given piece of SDSS data (image or spectrum) was taken.\n",
    "\n",
    "-> The SDSS spectrograph uses optical fibers to direct the light at the focal plane from individual objects to the slithead.        Each object is assigned a corresponding fiberID.   \n"
   ]
  },
  {
   "cell_type": "markdown",
   "metadata": {},
   "source": [
    "# Our agenda in this project"
   ]
  },
  {
   "cell_type": "markdown",
   "metadata": {},
   "source": [
    "-> Totally there are 10000 observations and 18 columns in the dataset.\n",
    "\n",
    "-> We need to predict if the 10000 observations of space taken by the SDSS is either a star, galaxy or quasar and we are going      to approach by using classification analysis."
   ]
  },
  {
   "cell_type": "code",
   "execution_count": 5,
   "metadata": {},
   "outputs": [
    {
     "name": "stdout",
     "output_type": "stream",
     "text": [
      "<class 'pandas.core.frame.DataFrame'>\n",
      "RangeIndex: 10000 entries, 0 to 9999\n",
      "Data columns (total 18 columns):\n",
      " #   Column     Non-Null Count  Dtype  \n",
      "---  ------     --------------  -----  \n",
      " 0   objid      10000 non-null  float64\n",
      " 1   ra         10000 non-null  float64\n",
      " 2   dec        10000 non-null  float64\n",
      " 3   u          10000 non-null  float64\n",
      " 4   g          10000 non-null  float64\n",
      " 5   r          10000 non-null  float64\n",
      " 6   i          10000 non-null  float64\n",
      " 7   z          10000 non-null  float64\n",
      " 8   run        10000 non-null  int64  \n",
      " 9   rerun      10000 non-null  int64  \n",
      " 10  camcol     10000 non-null  int64  \n",
      " 11  field      10000 non-null  int64  \n",
      " 12  specobjid  10000 non-null  float64\n",
      " 13  class      10000 non-null  object \n",
      " 14  redshift   10000 non-null  float64\n",
      " 15  plate      10000 non-null  int64  \n",
      " 16  mjd        10000 non-null  int64  \n",
      " 17  fiberid    10000 non-null  int64  \n",
      "dtypes: float64(10), int64(7), object(1)\n",
      "memory usage: 1.4+ MB\n"
     ]
    }
   ],
   "source": [
    "df.info()    #Checking the datatype of all the columns present"
   ]
  },
  {
   "cell_type": "markdown",
   "metadata": {},
   "source": [
    "Except class, which is of object, all other columns are either float or int datatype"
   ]
  },
  {
   "cell_type": "code",
   "execution_count": 6,
   "metadata": {},
   "outputs": [
    {
     "data": {
      "text/plain": [
       "objid        0\n",
       "ra           0\n",
       "dec          0\n",
       "u            0\n",
       "g            0\n",
       "r            0\n",
       "i            0\n",
       "z            0\n",
       "run          0\n",
       "rerun        0\n",
       "camcol       0\n",
       "field        0\n",
       "specobjid    0\n",
       "class        0\n",
       "redshift     0\n",
       "plate        0\n",
       "mjd          0\n",
       "fiberid      0\n",
       "dtype: int64"
      ]
     },
     "execution_count": 6,
     "metadata": {},
     "output_type": "execute_result"
    }
   ],
   "source": [
    "df.isnull().sum()   #Checking for null values in the dataset"
   ]
  },
  {
   "cell_type": "markdown",
   "metadata": {},
   "source": [
    "As we can see, there are no missing data in this dataset"
   ]
  },
  {
   "cell_type": "markdown",
   "metadata": {},
   "source": [
    "# Exploratory Data Analysis "
   ]
  },
  {
   "cell_type": "code",
   "execution_count": 7,
   "metadata": {},
   "outputs": [],
   "source": [
    "#Importing Matplotlib and Seaborn\n",
    "import seaborn as sns\n",
    "import matplotlib.pyplot as plt"
   ]
  },
  {
   "cell_type": "markdown",
   "metadata": {},
   "source": [
    "# Univariate Analysis"
   ]
  },
  {
   "cell_type": "code",
   "execution_count": 8,
   "metadata": {},
   "outputs": [
    {
     "name": "stdout",
     "output_type": "stream",
     "text": [
      "GALAXY    4998\n",
      "STAR      4152\n",
      "QSO        850\n",
      "Name: class, dtype: int64\n"
     ]
    },
    {
     "data": {
      "image/png": "[encoded data removed]",
      "text/plain": [
       "<Figure size 432x288 with 1 Axes>"
      ]
     },
     "metadata": {
      "needs_background": "light"
     },
     "output_type": "display_data"
    }
   ],
   "source": [
    "#Plotting countplot for checking the number of class data present\n",
    "print(df['class'].value_counts())\n",
    "sns.countplot(x='class',data=df)\n",
    "plt.show()"
   ]
  },
  {
   "cell_type": "markdown",
   "metadata": {},
   "source": [
    "GALAXY has been recorded as the most observations in the dataset with 4998 records, STAR has 4152 records and QSO has 850 recorded observations"
   ]
  },
  {
   "cell_type": "code",
   "execution_count": 9,
   "metadata": {},
   "outputs": [
    {
     "name": "stdout",
     "output_type": "stream",
     "text": [
      "4    1834\n",
      "5    1827\n",
      "6    1769\n",
      "2    1712\n",
      "3    1560\n",
      "1    1298\n",
      "Name: camcol, dtype: int64\n"
     ]
    },
    {
     "data": {
      "image/png": "[encoded data removed]",
      "text/plain": [
       "<Figure size 432x288 with 1 Axes>"
      ]
     },
     "metadata": {
      "needs_background": "light"
     },
     "output_type": "display_data"
    }
   ],
   "source": [
    "#Counting the camera column using countplot\n",
    "print(df['camcol'].value_counts())\n",
    "sns.countplot(x='camcol',data=df)\n",
    "plt.show()"
   ]
  },
  {
   "cell_type": "markdown",
   "metadata": {},
   "source": [
    "The 4th type of camcol has the highest value with 1834 whereas the 1st type of camcol has the least value with 1298 recordings"
   ]
  },
  {
   "cell_type": "code",
   "execution_count": 10,
   "metadata": {},
   "outputs": [
    {
     "data": {
      "text/plain": [
       "Text(0.5, 1.0, 'QSO')"
      ]
     },
     "execution_count": 10,
     "metadata": {},
     "output_type": "execute_result"
    },
    {
     "data": {
      "image/png": "[encoded data removed]",
      "text/plain": [
       "<Figure size 1152x288 with 3 Axes>"
      ]
     },
     "metadata": {
      "needs_background": "light"
     },
     "output_type": "display_data"
    }
   ],
   "source": [
    "#Plotting distplot for redshift feature column of each class\n",
    "fig, axes = plt.subplots(nrows=1,ncols=3,figsize=(16, 4))\n",
    "ax = sns.distplot(df[df['class']=='STAR'].redshift, bins = 30, ax = axes[0],kde=True)\n",
    "ax.set_title('Star')\n",
    "ax = sns.distplot(df[df['class']=='GALAXY'].redshift, bins = 30, ax = axes[1],kde=True)\n",
    "ax.set_title('Galaxy')\n",
    "ax = sns.distplot(df[df['class']=='QSO'].redshift, bins = 30, ax = axes[2],kde=True)\n",
    "ax.set_title('QSO')"
   ]
  },
  {
   "cell_type": "markdown",
   "metadata": {},
   "source": [
    "Observation:\n",
    "\n",
    "-> The Star class data distribution looks like zero-centered normal distribution\n",
    "\n",
    "-> The Galaxy class data distribution looks like it is rightly skewed and falls in range 0.0-0.2.\n",
    "\n",
    "-> The QSO class data distribution looks like they are nearly normal distributed from 0 to 3 but after that there is no normal      distribution and it is due to the presence of outliers."
   ]
  },
  {
   "cell_type": "code",
   "execution_count": 11,
   "metadata": {},
   "outputs": [
    {
     "data": {
      "image/png": "[encoded data removed]",
      "text/plain": [
       "<Figure size 432x288 with 1 Axes>"
      ]
     },
     "metadata": {
      "needs_background": "light"
     },
     "output_type": "display_data"
    }
   ],
   "source": [
    "#Checking the distribution of plate count using violin plot\n",
    "sns.violinplot(df['plate'])\n",
    "plt.show()"
   ]
  },
  {
   "cell_type": "markdown",
   "metadata": {},
   "source": [
    "The values of plate number are falling in the ranges 0-500, 2000-4000 and also in 7000 range too"
   ]
  },
  {
   "cell_type": "markdown",
   "metadata": {},
   "source": [
    "# Bivariate Analysis"
   ]
  },
  {
   "cell_type": "code",
   "execution_count": 12,
   "metadata": {},
   "outputs": [
    {
     "data": {
      "text/plain": [
       "<matplotlib.axes._subplots.AxesSubplot at 0x1bd419e8820>"
      ]
     },
     "execution_count": 12,
     "metadata": {},
     "output_type": "execute_result"
    },
    {
     "data": {
      "image/png": "[encoded data removed]",
      "text/plain": [
       "<Figure size 432x288 with 1 Axes>"
      ]
     },
     "metadata": {
      "needs_background": "light"
     },
     "output_type": "display_data"
    }
   ],
   "source": [
    "#Plotting scatterplot between 2 features\n",
    "sns.scatterplot(x='u',y='g',data=df)"
   ]
  },
  {
   "cell_type": "code",
   "execution_count": 13,
   "metadata": {},
   "outputs": [
    {
     "data": {
      "text/plain": [
       "<matplotlib.axes._subplots.AxesSubplot at 0x1bd41a227c0>"
      ]
     },
     "execution_count": 13,
     "metadata": {},
     "output_type": "execute_result"
    },
    {
     "data": {
      "image/png": "[encoded data removed]",
      "text/plain": [
       "<Figure size 432x288 with 1 Axes>"
      ]
     },
     "metadata": {
      "needs_background": "light"
     },
     "output_type": "display_data"
    }
   ],
   "source": [
    "sns.scatterplot(x='r',y='z',data=df)"
   ]
  },
  {
   "cell_type": "code",
   "execution_count": 14,
   "metadata": {},
   "outputs": [
    {
     "data": {
      "text/plain": [
       "Text(0.5, 1.0, 'Direction of a point on the celestial sphere vs class')"
      ]
     },
     "execution_count": 14,
     "metadata": {},
     "output_type": "execute_result"
    },
    {
     "data": {
      "image/png": "[encoded data removed]",
      "text/plain": [
       "<Figure size 504x360 with 1 Axes>"
      ]
     },
     "metadata": {
      "needs_background": "light"
     },
     "output_type": "display_data"
    }
   ],
   "source": [
    "#Checking relationship between dec and class using violinplot\n",
    "plt.figure(figsize=(7,5))\n",
    "sns.violinplot(x='class',y='dec',data=df)\n",
    "plt.xlabel('class')\n",
    "plt.ylabel('direction of a point on the celestial sphere')\n",
    "plt.title('Direction of a point on the celestial sphere vs class')"
   ]
  },
  {
   "cell_type": "markdown",
   "metadata": {},
   "source": [
    "# Multivariate Analysis"
   ]
  },
  {
   "cell_type": "code",
   "execution_count": 15,
   "metadata": {},
   "outputs": [
    {
     "data": {
      "text/html": [
       "<div>\n",
       "<style scoped>\n",
       "    .dataframe tbody tr th:only-of-type {\n",
       "        vertical-align: middle;\n",
       "    }\n",
       "\n",
       "    .dataframe tbody tr th {\n",
       "        vertical-align: top;\n",
       "    }\n",
       "\n",
       "    .dataframe thead th {\n",
       "        text-align: right;\n",
       "    }\n",
       "</style>\n",
       "<table border=\"1\" class=\"dataframe\">\n",
       "  <thead>\n",
       "    <tr style=\"text-align: right;\">\n",
       "      <th></th>\n",
       "      <th>objid</th>\n",
       "      <th>ra</th>\n",
       "      <th>dec</th>\n",
       "      <th>u</th>\n",
       "      <th>g</th>\n",
       "      <th>r</th>\n",
       "      <th>i</th>\n",
       "      <th>z</th>\n",
       "      <th>run</th>\n",
       "      <th>rerun</th>\n",
       "      <th>camcol</th>\n",
       "      <th>field</th>\n",
       "      <th>specobjid</th>\n",
       "      <th>redshift</th>\n",
       "      <th>plate</th>\n",
       "      <th>mjd</th>\n",
       "      <th>fiberid</th>\n",
       "    </tr>\n",
       "  </thead>\n",
       "  <tbody>\n",
       "    <tr>\n",
       "      <th>count</th>\n",
       "      <td>1.000000e+04</td>\n",
       "      <td>10000.000000</td>\n",
       "      <td>10000.000000</td>\n",
       "      <td>10000.000000</td>\n",
       "      <td>10000.000000</td>\n",
       "      <td>10000.000000</td>\n",
       "      <td>10000.000000</td>\n",
       "      <td>10000.000000</td>\n",
       "      <td>10000.000000</td>\n",
       "      <td>10000.0</td>\n",
       "      <td>10000.000000</td>\n",
       "      <td>10000.000000</td>\n",
       "      <td>1.000000e+04</td>\n",
       "      <td>10000.000000</td>\n",
       "      <td>10000.000000</td>\n",
       "      <td>10000.000000</td>\n",
       "      <td>10000.000000</td>\n",
       "    </tr>\n",
       "    <tr>\n",
       "      <th>mean</th>\n",
       "      <td>1.237650e+18</td>\n",
       "      <td>175.529987</td>\n",
       "      <td>14.836148</td>\n",
       "      <td>18.619355</td>\n",
       "      <td>17.371931</td>\n",
       "      <td>16.840963</td>\n",
       "      <td>16.583579</td>\n",
       "      <td>16.422833</td>\n",
       "      <td>981.034800</td>\n",
       "      <td>301.0</td>\n",
       "      <td>3.648700</td>\n",
       "      <td>302.380100</td>\n",
       "      <td>1.645022e+18</td>\n",
       "      <td>0.143726</td>\n",
       "      <td>1460.986400</td>\n",
       "      <td>52943.533300</td>\n",
       "      <td>353.069400</td>\n",
       "    </tr>\n",
       "    <tr>\n",
       "      <th>std</th>\n",
       "      <td>1.577039e+05</td>\n",
       "      <td>47.783439</td>\n",
       "      <td>25.212207</td>\n",
       "      <td>0.828656</td>\n",
       "      <td>0.945457</td>\n",
       "      <td>1.067764</td>\n",
       "      <td>1.141805</td>\n",
       "      <td>1.203188</td>\n",
       "      <td>273.305024</td>\n",
       "      <td>0.0</td>\n",
       "      <td>1.666183</td>\n",
       "      <td>162.577763</td>\n",
       "      <td>2.013998e+18</td>\n",
       "      <td>0.388774</td>\n",
       "      <td>1788.778371</td>\n",
       "      <td>1511.150651</td>\n",
       "      <td>206.298149</td>\n",
       "    </tr>\n",
       "    <tr>\n",
       "      <th>min</th>\n",
       "      <td>1.237650e+18</td>\n",
       "      <td>8.235100</td>\n",
       "      <td>-5.382632</td>\n",
       "      <td>12.988970</td>\n",
       "      <td>12.799550</td>\n",
       "      <td>12.431600</td>\n",
       "      <td>11.947210</td>\n",
       "      <td>11.610410</td>\n",
       "      <td>308.000000</td>\n",
       "      <td>301.0</td>\n",
       "      <td>1.000000</td>\n",
       "      <td>11.000000</td>\n",
       "      <td>2.995780e+17</td>\n",
       "      <td>-0.004136</td>\n",
       "      <td>266.000000</td>\n",
       "      <td>51578.000000</td>\n",
       "      <td>1.000000</td>\n",
       "    </tr>\n",
       "    <tr>\n",
       "      <th>25%</th>\n",
       "      <td>1.237650e+18</td>\n",
       "      <td>157.370946</td>\n",
       "      <td>-0.539035</td>\n",
       "      <td>18.178035</td>\n",
       "      <td>16.815100</td>\n",
       "      <td>16.173333</td>\n",
       "      <td>15.853705</td>\n",
       "      <td>15.618285</td>\n",
       "      <td>752.000000</td>\n",
       "      <td>301.0</td>\n",
       "      <td>2.000000</td>\n",
       "      <td>184.000000</td>\n",
       "      <td>3.389248e+17</td>\n",
       "      <td>0.000081</td>\n",
       "      <td>301.000000</td>\n",
       "      <td>51900.000000</td>\n",
       "      <td>186.750000</td>\n",
       "    </tr>\n",
       "    <tr>\n",
       "      <th>50%</th>\n",
       "      <td>1.237650e+18</td>\n",
       "      <td>180.394514</td>\n",
       "      <td>0.404166</td>\n",
       "      <td>18.853095</td>\n",
       "      <td>17.495135</td>\n",
       "      <td>16.858770</td>\n",
       "      <td>16.554985</td>\n",
       "      <td>16.389945</td>\n",
       "      <td>756.000000</td>\n",
       "      <td>301.0</td>\n",
       "      <td>4.000000</td>\n",
       "      <td>299.000000</td>\n",
       "      <td>4.966580e+17</td>\n",
       "      <td>0.042591</td>\n",
       "      <td>441.000000</td>\n",
       "      <td>51997.000000</td>\n",
       "      <td>351.000000</td>\n",
       "    </tr>\n",
       "    <tr>\n",
       "      <th>75%</th>\n",
       "      <td>1.237650e+18</td>\n",
       "      <td>201.547279</td>\n",
       "      <td>35.649397</td>\n",
       "      <td>19.259232</td>\n",
       "      <td>18.010145</td>\n",
       "      <td>17.512675</td>\n",
       "      <td>17.258550</td>\n",
       "      <td>17.141447</td>\n",
       "      <td>1331.000000</td>\n",
       "      <td>301.0</td>\n",
       "      <td>5.000000</td>\n",
       "      <td>414.000000</td>\n",
       "      <td>2.881300e+18</td>\n",
       "      <td>0.092579</td>\n",
       "      <td>2559.000000</td>\n",
       "      <td>54468.000000</td>\n",
       "      <td>510.000000</td>\n",
       "    </tr>\n",
       "    <tr>\n",
       "      <th>max</th>\n",
       "      <td>1.237650e+18</td>\n",
       "      <td>260.884382</td>\n",
       "      <td>68.542265</td>\n",
       "      <td>19.599900</td>\n",
       "      <td>19.918970</td>\n",
       "      <td>24.802040</td>\n",
       "      <td>28.179630</td>\n",
       "      <td>22.833060</td>\n",
       "      <td>1412.000000</td>\n",
       "      <td>301.0</td>\n",
       "      <td>6.000000</td>\n",
       "      <td>768.000000</td>\n",
       "      <td>9.468830e+18</td>\n",
       "      <td>5.353854</td>\n",
       "      <td>8410.000000</td>\n",
       "      <td>57481.000000</td>\n",
       "      <td>1000.000000</td>\n",
       "    </tr>\n",
       "  </tbody>\n",
       "</table>\n",
       "</div>"
      ],
      "text/plain": [
       "              objid            ra           dec             u             g  \\\n",
       "count  1.000000e+04  10000.000000  10000.000000  10000.000000  10000.000000   \n",
       "mean   1.237650e+18    175.529987     14.836148     18.619355     17.371931   \n",
       "std    1.577039e+05     47.783439     25.212207      0.828656      0.945457   \n",
       "min    1.237650e+18      8.235100     -5.382632     12.988970     12.799550   \n",
       "25%    1.237650e+18    157.370946     -0.539035     18.178035     16.815100   \n",
       "50%    1.237650e+18    180.394514      0.404166     18.853095     17.495135   \n",
       "75%    1.237650e+18    201.547279     35.649397     19.259232     18.010145   \n",
       "max    1.237650e+18    260.884382     68.542265     19.599900     19.918970   \n",
       "\n",
       "                  r             i             z           run    rerun  \\\n",
       "count  10000.000000  10000.000000  10000.000000  10000.000000  10000.0   \n",
       "mean      16.840963     16.583579     16.422833    981.034800    301.0   \n",
       "std        1.067764      1.141805      1.203188    273.305024      0.0   \n",
       "min       12.431600     11.947210     11.610410    308.000000    301.0   \n",
       "25%       16.173333     15.853705     15.618285    752.000000    301.0   \n",
       "50%       16.858770     16.554985     16.389945    756.000000    301.0   \n",
       "75%       17.512675     17.258550     17.141447   1331.000000    301.0   \n",
       "max       24.802040     28.179630     22.833060   1412.000000    301.0   \n",
       "\n",
       "             camcol         field     specobjid      redshift         plate  \\\n",
       "count  10000.000000  10000.000000  1.000000e+04  10000.000000  10000.000000   \n",
       "mean       3.648700    302.380100  1.645022e+18      0.143726   1460.986400   \n",
       "std        1.666183    162.577763  2.013998e+18      0.388774   1788.778371   \n",
       "min        1.000000     11.000000  2.995780e+17     -0.004136    266.000000   \n",
       "25%        2.000000    184.000000  3.389248e+17      0.000081    301.000000   \n",
       "50%        4.000000    299.000000  4.966580e+17      0.042591    441.000000   \n",
       "75%        5.000000    414.000000  2.881300e+18      0.092579   2559.000000   \n",
       "max        6.000000    768.000000  9.468830e+18      5.353854   8410.000000   \n",
       "\n",
       "                mjd       fiberid  \n",
       "count  10000.000000  10000.000000  \n",
       "mean   52943.533300    353.069400  \n",
       "std     1511.150651    206.298149  \n",
       "min    51578.000000      1.000000  \n",
       "25%    51900.000000    186.750000  \n",
       "50%    51997.000000    351.000000  \n",
       "75%    54468.000000    510.000000  \n",
       "max    57481.000000   1000.000000  "
      ]
     },
     "execution_count": 15,
     "metadata": {},
     "output_type": "execute_result"
    }
   ],
   "source": [
    "df.describe()    #Statistical summary of the dataset"
   ]
  },
  {
   "cell_type": "markdown",
   "metadata": {},
   "source": [
    "Observations:\n",
    "\n",
    "1.The difference between the mean and median of dec is high and it is due to outliers and other columns have minimal difference\n",
    "\n",
    "2.For some columns, the difference between 75th percentile and max value is high due to outliers and we should handle them in     further analysis."
   ]
  },
  {
   "cell_type": "code",
   "execution_count": 16,
   "metadata": {},
   "outputs": [],
   "source": [
    "#Dropping objid and rerun as they are the same values for all the records and also specobjid as it is not important\n",
    "df.drop(columns=['objid','rerun','specobjid'],axis=1,inplace=True)"
   ]
  },
  {
   "cell_type": "code",
   "execution_count": 17,
   "metadata": {},
   "outputs": [
    {
     "data": {
      "text/html": [
       "<div>\n",
       "<style scoped>\n",
       "    .dataframe tbody tr th:only-of-type {\n",
       "        vertical-align: middle;\n",
       "    }\n",
       "\n",
       "    .dataframe tbody tr th {\n",
       "        vertical-align: top;\n",
       "    }\n",
       "\n",
       "    .dataframe thead th {\n",
       "        text-align: right;\n",
       "    }\n",
       "</style>\n",
       "<table border=\"1\" class=\"dataframe\">\n",
       "  <thead>\n",
       "    <tr style=\"text-align: right;\">\n",
       "      <th></th>\n",
       "      <th>ra</th>\n",
       "      <th>dec</th>\n",
       "      <th>u</th>\n",
       "      <th>g</th>\n",
       "      <th>r</th>\n",
       "      <th>i</th>\n",
       "      <th>z</th>\n",
       "      <th>run</th>\n",
       "      <th>camcol</th>\n",
       "      <th>field</th>\n",
       "      <th>class</th>\n",
       "      <th>redshift</th>\n",
       "      <th>plate</th>\n",
       "      <th>mjd</th>\n",
       "      <th>fiberid</th>\n",
       "    </tr>\n",
       "  </thead>\n",
       "  <tbody>\n",
       "    <tr>\n",
       "      <th>0</th>\n",
       "      <td>183.531326</td>\n",
       "      <td>0.089693</td>\n",
       "      <td>19.47406</td>\n",
       "      <td>17.04240</td>\n",
       "      <td>15.94699</td>\n",
       "      <td>15.50342</td>\n",
       "      <td>15.22531</td>\n",
       "      <td>752</td>\n",
       "      <td>4</td>\n",
       "      <td>267</td>\n",
       "      <td>STAR</td>\n",
       "      <td>-0.000009</td>\n",
       "      <td>3306</td>\n",
       "      <td>54922</td>\n",
       "      <td>491</td>\n",
       "    </tr>\n",
       "    <tr>\n",
       "      <th>1</th>\n",
       "      <td>183.598371</td>\n",
       "      <td>0.135285</td>\n",
       "      <td>18.66280</td>\n",
       "      <td>17.21449</td>\n",
       "      <td>16.67637</td>\n",
       "      <td>16.48922</td>\n",
       "      <td>16.39150</td>\n",
       "      <td>752</td>\n",
       "      <td>4</td>\n",
       "      <td>267</td>\n",
       "      <td>STAR</td>\n",
       "      <td>-0.000055</td>\n",
       "      <td>323</td>\n",
       "      <td>51615</td>\n",
       "      <td>541</td>\n",
       "    </tr>\n",
       "    <tr>\n",
       "      <th>2</th>\n",
       "      <td>183.680207</td>\n",
       "      <td>0.126185</td>\n",
       "      <td>19.38298</td>\n",
       "      <td>18.19169</td>\n",
       "      <td>17.47428</td>\n",
       "      <td>17.08732</td>\n",
       "      <td>16.80125</td>\n",
       "      <td>752</td>\n",
       "      <td>4</td>\n",
       "      <td>268</td>\n",
       "      <td>GALAXY</td>\n",
       "      <td>0.123111</td>\n",
       "      <td>287</td>\n",
       "      <td>52023</td>\n",
       "      <td>513</td>\n",
       "    </tr>\n",
       "    <tr>\n",
       "      <th>3</th>\n",
       "      <td>183.870529</td>\n",
       "      <td>0.049911</td>\n",
       "      <td>17.76536</td>\n",
       "      <td>16.60272</td>\n",
       "      <td>16.16116</td>\n",
       "      <td>15.98233</td>\n",
       "      <td>15.90438</td>\n",
       "      <td>752</td>\n",
       "      <td>4</td>\n",
       "      <td>269</td>\n",
       "      <td>STAR</td>\n",
       "      <td>-0.000111</td>\n",
       "      <td>3306</td>\n",
       "      <td>54922</td>\n",
       "      <td>510</td>\n",
       "    </tr>\n",
       "    <tr>\n",
       "      <th>4</th>\n",
       "      <td>183.883288</td>\n",
       "      <td>0.102557</td>\n",
       "      <td>17.55025</td>\n",
       "      <td>16.26342</td>\n",
       "      <td>16.43869</td>\n",
       "      <td>16.55492</td>\n",
       "      <td>16.61326</td>\n",
       "      <td>752</td>\n",
       "      <td>4</td>\n",
       "      <td>269</td>\n",
       "      <td>STAR</td>\n",
       "      <td>0.000590</td>\n",
       "      <td>3306</td>\n",
       "      <td>54922</td>\n",
       "      <td>512</td>\n",
       "    </tr>\n",
       "  </tbody>\n",
       "</table>\n",
       "</div>"
      ],
      "text/plain": [
       "           ra       dec         u         g         r         i         z  \\\n",
       "0  183.531326  0.089693  19.47406  17.04240  15.94699  15.50342  15.22531   \n",
       "1  183.598371  0.135285  18.66280  17.21449  16.67637  16.48922  16.39150   \n",
       "2  183.680207  0.126185  19.38298  18.19169  17.47428  17.08732  16.80125   \n",
       "3  183.870529  0.049911  17.76536  16.60272  16.16116  15.98233  15.90438   \n",
       "4  183.883288  0.102557  17.55025  16.26342  16.43869  16.55492  16.61326   \n",
       "\n",
       "   run  camcol  field   class  redshift  plate    mjd  fiberid  \n",
       "0  752       4    267    STAR -0.000009   3306  54922      491  \n",
       "1  752       4    267    STAR -0.000055    323  51615      541  \n",
       "2  752       4    268  GALAXY  0.123111    287  52023      513  \n",
       "3  752       4    269    STAR -0.000111   3306  54922      510  \n",
       "4  752       4    269    STAR  0.000590   3306  54922      512  "
      ]
     },
     "execution_count": 17,
     "metadata": {},
     "output_type": "execute_result"
    }
   ],
   "source": [
    "#Checking the dataset after dropping\n",
    "df.head()"
   ]
  },
  {
   "cell_type": "code",
   "execution_count": 18,
   "metadata": {},
   "outputs": [
    {
     "data": {
      "text/html": [
       "<div>\n",
       "<style scoped>\n",
       "    .dataframe tbody tr th:only-of-type {\n",
       "        vertical-align: middle;\n",
       "    }\n",
       "\n",
       "    .dataframe tbody tr th {\n",
       "        vertical-align: top;\n",
       "    }\n",
       "\n",
       "    .dataframe thead th {\n",
       "        text-align: right;\n",
       "    }\n",
       "</style>\n",
       "<table border=\"1\" class=\"dataframe\">\n",
       "  <thead>\n",
       "    <tr style=\"text-align: right;\">\n",
       "      <th></th>\n",
       "      <th>ra</th>\n",
       "      <th>dec</th>\n",
       "      <th>u</th>\n",
       "      <th>g</th>\n",
       "      <th>r</th>\n",
       "      <th>i</th>\n",
       "      <th>z</th>\n",
       "      <th>run</th>\n",
       "      <th>camcol</th>\n",
       "      <th>field</th>\n",
       "      <th>redshift</th>\n",
       "      <th>plate</th>\n",
       "      <th>mjd</th>\n",
       "      <th>fiberid</th>\n",
       "    </tr>\n",
       "  </thead>\n",
       "  <tbody>\n",
       "    <tr>\n",
       "      <th>ra</th>\n",
       "      <td>1.000000</td>\n",
       "      <td>0.003596</td>\n",
       "      <td>0.031238</td>\n",
       "      <td>0.043909</td>\n",
       "      <td>0.047103</td>\n",
       "      <td>0.045731</td>\n",
       "      <td>0.042950</td>\n",
       "      <td>-0.092741</td>\n",
       "      <td>-0.006294</td>\n",
       "      <td>0.594700</td>\n",
       "      <td>0.030307</td>\n",
       "      <td>-0.095329</td>\n",
       "      <td>-0.086887</td>\n",
       "      <td>0.057485</td>\n",
       "    </tr>\n",
       "    <tr>\n",
       "      <th>dec</th>\n",
       "      <td>0.003596</td>\n",
       "      <td>1.000000</td>\n",
       "      <td>0.035279</td>\n",
       "      <td>0.061875</td>\n",
       "      <td>0.063404</td>\n",
       "      <td>0.058292</td>\n",
       "      <td>0.056870</td>\n",
       "      <td>0.778385</td>\n",
       "      <td>0.114614</td>\n",
       "      <td>-0.131471</td>\n",
       "      <td>0.067021</td>\n",
       "      <td>0.088342</td>\n",
       "      <td>0.066147</td>\n",
       "      <td>0.155012</td>\n",
       "    </tr>\n",
       "    <tr>\n",
       "      <th>u</th>\n",
       "      <td>0.031238</td>\n",
       "      <td>0.035279</td>\n",
       "      <td>1.000000</td>\n",
       "      <td>0.849232</td>\n",
       "      <td>0.692379</td>\n",
       "      <td>0.602630</td>\n",
       "      <td>0.551483</td>\n",
       "      <td>0.038229</td>\n",
       "      <td>0.009945</td>\n",
       "      <td>0.008548</td>\n",
       "      <td>0.163741</td>\n",
       "      <td>-0.129430</td>\n",
       "      <td>-0.168793</td>\n",
       "      <td>0.011301</td>\n",
       "    </tr>\n",
       "    <tr>\n",
       "      <th>g</th>\n",
       "      <td>0.043909</td>\n",
       "      <td>0.061875</td>\n",
       "      <td>0.849232</td>\n",
       "      <td>1.000000</td>\n",
       "      <td>0.958106</td>\n",
       "      <td>0.907419</td>\n",
       "      <td>0.879622</td>\n",
       "      <td>0.058446</td>\n",
       "      <td>0.010223</td>\n",
       "      <td>0.014651</td>\n",
       "      <td>0.407576</td>\n",
       "      <td>-0.054981</td>\n",
       "      <td>-0.092772</td>\n",
       "      <td>0.047187</td>\n",
       "    </tr>\n",
       "    <tr>\n",
       "      <th>r</th>\n",
       "      <td>0.047103</td>\n",
       "      <td>0.063404</td>\n",
       "      <td>0.692379</td>\n",
       "      <td>0.958106</td>\n",
       "      <td>1.000000</td>\n",
       "      <td>0.977672</td>\n",
       "      <td>0.969197</td>\n",
       "      <td>0.057261</td>\n",
       "      <td>0.010747</td>\n",
       "      <td>0.017133</td>\n",
       "      <td>0.441080</td>\n",
       "      <td>0.019787</td>\n",
       "      <td>-0.009345</td>\n",
       "      <td>0.061081</td>\n",
       "    </tr>\n",
       "    <tr>\n",
       "      <th>i</th>\n",
       "      <td>0.045731</td>\n",
       "      <td>0.058292</td>\n",
       "      <td>0.602630</td>\n",
       "      <td>0.907419</td>\n",
       "      <td>0.977672</td>\n",
       "      <td>1.000000</td>\n",
       "      <td>0.981507</td>\n",
       "      <td>0.049765</td>\n",
       "      <td>0.013461</td>\n",
       "      <td>0.019781</td>\n",
       "      <td>0.431450</td>\n",
       "      <td>0.072958</td>\n",
       "      <td>0.050896</td>\n",
       "      <td>0.069977</td>\n",
       "    </tr>\n",
       "    <tr>\n",
       "      <th>z</th>\n",
       "      <td>0.042950</td>\n",
       "      <td>0.056870</td>\n",
       "      <td>0.551483</td>\n",
       "      <td>0.879622</td>\n",
       "      <td>0.969197</td>\n",
       "      <td>0.981507</td>\n",
       "      <td>1.000000</td>\n",
       "      <td>0.048252</td>\n",
       "      <td>0.010930</td>\n",
       "      <td>0.018248</td>\n",
       "      <td>0.424034</td>\n",
       "      <td>0.112397</td>\n",
       "      <td>0.095658</td>\n",
       "      <td>0.067980</td>\n",
       "    </tr>\n",
       "    <tr>\n",
       "      <th>run</th>\n",
       "      <td>-0.092741</td>\n",
       "      <td>0.778385</td>\n",
       "      <td>0.038229</td>\n",
       "      <td>0.058446</td>\n",
       "      <td>0.057261</td>\n",
       "      <td>0.049765</td>\n",
       "      <td>0.048252</td>\n",
       "      <td>1.000000</td>\n",
       "      <td>0.151814</td>\n",
       "      <td>-0.463898</td>\n",
       "      <td>0.059056</td>\n",
       "      <td>0.093601</td>\n",
       "      <td>0.070354</td>\n",
       "      <td>0.138566</td>\n",
       "    </tr>\n",
       "    <tr>\n",
       "      <th>camcol</th>\n",
       "      <td>-0.006294</td>\n",
       "      <td>0.114614</td>\n",
       "      <td>0.009945</td>\n",
       "      <td>0.010223</td>\n",
       "      <td>0.010747</td>\n",
       "      <td>0.013461</td>\n",
       "      <td>0.010930</td>\n",
       "      <td>0.151814</td>\n",
       "      <td>1.000000</td>\n",
       "      <td>-0.067921</td>\n",
       "      <td>0.006834</td>\n",
       "      <td>0.040795</td>\n",
       "      <td>0.026284</td>\n",
       "      <td>0.535629</td>\n",
       "    </tr>\n",
       "    <tr>\n",
       "      <th>field</th>\n",
       "      <td>0.594700</td>\n",
       "      <td>-0.131471</td>\n",
       "      <td>0.008548</td>\n",
       "      <td>0.014651</td>\n",
       "      <td>0.017133</td>\n",
       "      <td>0.019781</td>\n",
       "      <td>0.018248</td>\n",
       "      <td>-0.463898</td>\n",
       "      <td>-0.067921</td>\n",
       "      <td>1.000000</td>\n",
       "      <td>0.015414</td>\n",
       "      <td>-0.093723</td>\n",
       "      <td>-0.086558</td>\n",
       "      <td>-0.040493</td>\n",
       "    </tr>\n",
       "    <tr>\n",
       "      <th>redshift</th>\n",
       "      <td>0.030307</td>\n",
       "      <td>0.067021</td>\n",
       "      <td>0.163741</td>\n",
       "      <td>0.407576</td>\n",
       "      <td>0.441080</td>\n",
       "      <td>0.431450</td>\n",
       "      <td>0.424034</td>\n",
       "      <td>0.059056</td>\n",
       "      <td>0.006834</td>\n",
       "      <td>0.015414</td>\n",
       "      <td>1.000000</td>\n",
       "      <td>-0.038091</td>\n",
       "      <td>-0.057957</td>\n",
       "      <td>0.046532</td>\n",
       "    </tr>\n",
       "    <tr>\n",
       "      <th>plate</th>\n",
       "      <td>-0.095329</td>\n",
       "      <td>0.088342</td>\n",
       "      <td>-0.129430</td>\n",
       "      <td>-0.054981</td>\n",
       "      <td>0.019787</td>\n",
       "      <td>0.072958</td>\n",
       "      <td>0.112397</td>\n",
       "      <td>0.093601</td>\n",
       "      <td>0.040795</td>\n",
       "      <td>-0.093723</td>\n",
       "      <td>-0.038091</td>\n",
       "      <td>1.000000</td>\n",
       "      <td>0.966881</td>\n",
       "      <td>0.229811</td>\n",
       "    </tr>\n",
       "    <tr>\n",
       "      <th>mjd</th>\n",
       "      <td>-0.086887</td>\n",
       "      <td>0.066147</td>\n",
       "      <td>-0.168793</td>\n",
       "      <td>-0.092772</td>\n",
       "      <td>-0.009345</td>\n",
       "      <td>0.050896</td>\n",
       "      <td>0.095658</td>\n",
       "      <td>0.070354</td>\n",
       "      <td>0.026284</td>\n",
       "      <td>-0.086558</td>\n",
       "      <td>-0.057957</td>\n",
       "      <td>0.966881</td>\n",
       "      <td>1.000000</td>\n",
       "      <td>0.190328</td>\n",
       "    </tr>\n",
       "    <tr>\n",
       "      <th>fiberid</th>\n",
       "      <td>0.057485</td>\n",
       "      <td>0.155012</td>\n",
       "      <td>0.011301</td>\n",
       "      <td>0.047187</td>\n",
       "      <td>0.061081</td>\n",
       "      <td>0.069977</td>\n",
       "      <td>0.067980</td>\n",
       "      <td>0.138566</td>\n",
       "      <td>0.535629</td>\n",
       "      <td>-0.040493</td>\n",
       "      <td>0.046532</td>\n",
       "      <td>0.229811</td>\n",
       "      <td>0.190328</td>\n",
       "      <td>1.000000</td>\n",
       "    </tr>\n",
       "  </tbody>\n",
       "</table>\n",
       "</div>"
      ],
      "text/plain": [
       "                ra       dec         u         g         r         i  \\\n",
       "ra        1.000000  0.003596  0.031238  0.043909  0.047103  0.045731   \n",
       "dec       0.003596  1.000000  0.035279  0.061875  0.063404  0.058292   \n",
       "u         0.031238  0.035279  1.000000  0.849232  0.692379  0.602630   \n",
       "g         0.043909  0.061875  0.849232  1.000000  0.958106  0.907419   \n",
       "r         0.047103  0.063404  0.692379  0.958106  1.000000  0.977672   \n",
       "i         0.045731  0.058292  0.602630  0.907419  0.977672  1.000000   \n",
       "z         0.042950  0.056870  0.551483  0.879622  0.969197  0.981507   \n",
       "run      -0.092741  0.778385  0.038229  0.058446  0.057261  0.049765   \n",
       "camcol   -0.006294  0.114614  0.009945  0.010223  0.010747  0.013461   \n",
       "field     0.594700 -0.131471  0.008548  0.014651  0.017133  0.019781   \n",
       "redshift  0.030307  0.067021  0.163741  0.407576  0.441080  0.431450   \n",
       "plate    -0.095329  0.088342 -0.129430 -0.054981  0.019787  0.072958   \n",
       "mjd      -0.086887  0.066147 -0.168793 -0.092772 -0.009345  0.050896   \n",
       "fiberid   0.057485  0.155012  0.011301  0.047187  0.061081  0.069977   \n",
       "\n",
       "                 z       run    camcol     field  redshift     plate  \\\n",
       "ra        0.042950 -0.092741 -0.006294  0.594700  0.030307 -0.095329   \n",
       "dec       0.056870  0.778385  0.114614 -0.131471  0.067021  0.088342   \n",
       "u         0.551483  0.038229  0.009945  0.008548  0.163741 -0.129430   \n",
       "g         0.879622  0.058446  0.010223  0.014651  0.407576 -0.054981   \n",
       "r         0.969197  0.057261  0.010747  0.017133  0.441080  0.019787   \n",
       "i         0.981507  0.049765  0.013461  0.019781  0.431450  0.072958   \n",
       "z         1.000000  0.048252  0.010930  0.018248  0.424034  0.112397   \n",
       "run       0.048252  1.000000  0.151814 -0.463898  0.059056  0.093601   \n",
       "camcol    0.010930  0.151814  1.000000 -0.067921  0.006834  0.040795   \n",
       "field     0.018248 -0.463898 -0.067921  1.000000  0.015414 -0.093723   \n",
       "redshift  0.424034  0.059056  0.006834  0.015414  1.000000 -0.038091   \n",
       "plate     0.112397  0.093601  0.040795 -0.093723 -0.038091  1.000000   \n",
       "mjd       0.095658  0.070354  0.026284 -0.086558 -0.057957  0.966881   \n",
       "fiberid   0.067980  0.138566  0.535629 -0.040493  0.046532  0.229811   \n",
       "\n",
       "               mjd   fiberid  \n",
       "ra       -0.086887  0.057485  \n",
       "dec       0.066147  0.155012  \n",
       "u        -0.168793  0.011301  \n",
       "g        -0.092772  0.047187  \n",
       "r        -0.009345  0.061081  \n",
       "i         0.050896  0.069977  \n",
       "z         0.095658  0.067980  \n",
       "run       0.070354  0.138566  \n",
       "camcol    0.026284  0.535629  \n",
       "field    -0.086558 -0.040493  \n",
       "redshift -0.057957  0.046532  \n",
       "plate     0.966881  0.229811  \n",
       "mjd       1.000000  0.190328  \n",
       "fiberid   0.190328  1.000000  "
      ]
     },
     "execution_count": 18,
     "metadata": {},
     "output_type": "execute_result"
    }
   ],
   "source": [
    "#Checking correlation of the dataset\n",
    "corr=df.corr()  #corr() function provides the correlation value of each column\n",
    "corr"
   ]
  },
  {
   "cell_type": "code",
   "execution_count": 19,
   "metadata": {},
   "outputs": [
    {
     "data": {
      "image/png": "[encoded data removed]",
      "text/plain": [
       "<Figure size 1440x720 with 2 Axes>"
      ]
     },
     "metadata": {
      "needs_background": "light"
     },
     "output_type": "display_data"
    }
   ],
   "source": [
    "#Plotting heatmap for visualizing the correlation\n",
    "plt.figure(figsize=(20,10))\n",
    "sns.heatmap(corr,linewidth=0.5,linecolor='black',fmt='.0%',cmap='rainbow',annot=True)\n",
    "plt.show()"
   ]
  },
  {
   "cell_type": "markdown",
   "metadata": {},
   "source": [
    "Observations:\n",
    "\n",
    "1.There are more number of positively correlated features in this dataset.\n",
    "\n",
    "2.Highest postive correlated value is 98% and it is with columns like i along z and r along i.\n",
    "\n",
    "3.Most negatively correlated value is -46% and it is field column along with run.\n",
    "\n",
    "4.Positively correlated columns have high impact with the target variable and negatively correlated columns have less or zero     impact with the target variable."
   ]
  },
  {
   "cell_type": "markdown",
   "metadata": {},
   "source": [
    "# Converting categorical data into numeric"
   ]
  },
  {
   "cell_type": "markdown",
   "metadata": {},
   "source": [
    "As class column has categorical data, we need to convert into numerical for proceeding further analysis and it can be done by using LabelEncoder"
   ]
  },
  {
   "cell_type": "code",
   "execution_count": 20,
   "metadata": {},
   "outputs": [],
   "source": [
    "#Importing Label Encoder\n",
    "from sklearn.preprocessing import LabelEncoder\n",
    "le=LabelEncoder()\n",
    "df['class']=le.fit_transform(df['class'].astype(str))   #Converting class column"
   ]
  },
  {
   "cell_type": "code",
   "execution_count": 21,
   "metadata": {},
   "outputs": [
    {
     "data": {
      "text/plain": [
       "0       2\n",
       "1       2\n",
       "2       0\n",
       "3       2\n",
       "4       2\n",
       "       ..\n",
       "9995    0\n",
       "9996    0\n",
       "9997    2\n",
       "9998    0\n",
       "9999    0\n",
       "Name: class, Length: 10000, dtype: int32"
      ]
     },
     "execution_count": 21,
     "metadata": {},
     "output_type": "execute_result"
    }
   ],
   "source": [
    "#Checking class column after conversion\n",
    "df['class']"
   ]
  },
  {
   "cell_type": "markdown",
   "metadata": {},
   "source": [
    "The categorical column class has been converted into numerical type and now we can proceed further"
   ]
  },
  {
   "cell_type": "markdown",
   "metadata": {},
   "source": [
    "# Checking skewness"
   ]
  },
  {
   "cell_type": "code",
   "execution_count": 22,
   "metadata": {},
   "outputs": [
    {
     "data": {
      "text/plain": [
       "ra         -1.227350\n",
       "dec         1.191544\n",
       "u          -1.219795\n",
       "g          -0.536293\n",
       "r          -0.021673\n",
       "i           0.286442\n",
       "z           0.214313\n",
       "run         0.412555\n",
       "camcol     -0.100220\n",
       "field       0.249795\n",
       "class       0.169292\n",
       "redshift    4.265729\n",
       "plate       1.794609\n",
       "mjd         1.039610\n",
       "fiberid     0.308053\n",
       "dtype: float64"
      ]
     },
     "execution_count": 22,
     "metadata": {},
     "output_type": "execute_result"
    }
   ],
   "source": [
    "df.skew()"
   ]
  },
  {
   "cell_type": "markdown",
   "metadata": {},
   "source": [
    "There are both positive and negative skewness in this dataset and now we will check the distribution of data"
   ]
  },
  {
   "cell_type": "code",
   "execution_count": 23,
   "metadata": {
    "scrolled": false
   },
   "outputs": [
    {
     "data": {
      "image/png": "[encoded data removed]",
      "text/plain": [
       "<Figure size 432x288 with 1 Axes>"
      ]
     },
     "metadata": {
      "needs_background": "light"
     },
     "output_type": "display_data"
    },
    {
     "data": {
      "image/png": "[encoded data removed]",
      "text/plain": [
       "<Figure size 432x288 with 1 Axes>"
      ]
     },
     "metadata": {
      "needs_background": "light"
     },
     "output_type": "display_data"
    },
    {
     "data": {
      "image/png": "[encoded data removed]",
      "text/plain": [
       "<Figure size 432x288 with 1 Axes>"
      ]
     },
     "metadata": {
      "needs_background": "light"
     },
     "output_type": "display_data"
    },
    {
     "data": {
      "image/png": "[encoded data removed]",
      "text/plain": [
       "<Figure size 432x288 with 1 Axes>"
      ]
     },
     "metadata": {
      "needs_background": "light"
     },
     "output_type": "display_data"
    },
    {
     "data": {
      "image/png": "[encoded data removed]",
      "text/plain": [
       "<Figure size 432x288 with 1 Axes>"
      ]
     },
     "metadata": {
      "needs_background": "light"
     },
     "output_type": "display_data"
    },
    {
     "data": {
      "image/png": "[encoded data removed]",
      "text/plain": [
       "<Figure size 432x288 with 1 Axes>"
      ]
     },
     "metadata": {
      "needs_background": "light"
     },
     "output_type": "display_data"
    },
    {
     "data": {
      "image/png": "[encoded data removed]",
      "text/plain": [
       "<Figure size 432x288 with 1 Axes>"
      ]
     },
     "metadata": {
      "needs_background": "light"
     },
     "output_type": "display_data"
    },
    {
     "data": {
      "image/png": "[encoded data removed]",
      "text/plain": [
       "<Figure size 432x288 with 1 Axes>"
      ]
     },
     "metadata": {
      "needs_background": "light"
     },
     "output_type": "display_data"
    },
    {
     "data": {
      "image/png": "[encoded data removed]",
      "text/plain": [
       "<Figure size 432x288 with 1 Axes>"
      ]
     },
     "metadata": {
      "needs_background": "light"
     },
     "output_type": "display_data"
    },
    {
     "data": {
      "image/png": "[encoded data removed]",
      "text/plain": [
       "<Figure size 432x288 with 1 Axes>"
      ]
     },
     "metadata": {
      "needs_background": "light"
     },
     "output_type": "display_data"
    },
    {
     "data": {
      "image/png": "[encoded data removed]",
      "text/plain": [
       "<Figure size 432x288 with 1 Axes>"
      ]
     },
     "metadata": {
      "needs_background": "light"
     },
     "output_type": "display_data"
    },
    {
     "data": {
      "image/png": "[encoded data removed]",
      "text/plain": [
       "<Figure size 432x288 with 1 Axes>"
      ]
     },
     "metadata": {
      "needs_background": "light"
     },
     "output_type": "display_data"
    },
    {
     "data": {
      "image/png": "[encoded data removed]",
      "text/plain": [
       "<Figure size 432x288 with 1 Axes>"
      ]
     },
     "metadata": {
      "needs_background": "light"
     },
     "output_type": "display_data"
    },
    {
     "data": {
      "image/png": "[encoded data removed]",
      "text/plain": [
       "<Figure size 432x288 with 1 Axes>"
      ]
     },
     "metadata": {
      "needs_background": "light"
     },
     "output_type": "display_data"
    },
    {
     "data": {
      "image/png": "[encoded data removed]",
      "text/plain": [
       "<Figure size 432x288 with 1 Axes>"
      ]
     },
     "metadata": {
      "needs_background": "light"
     },
     "output_type": "display_data"
    }
   ],
   "source": [
    "#Plotting distplot for checking the distribution of skewness\n",
    "for col in df.describe().columns:\n",
    "    sns.distplot(df[col])\n",
    "    plt.show()"
   ]
  },
  {
   "cell_type": "markdown",
   "metadata": {},
   "source": [
    "Most of the features are not normally distributed and it is due to the presence of outliers."
   ]
  },
  {
   "cell_type": "markdown",
   "metadata": {},
   "source": [
    "# Checking outliers"
   ]
  },
  {
   "cell_type": "markdown",
   "metadata": {},
   "source": [
    "We can check outliers by plotting boxplot"
   ]
  },
  {
   "cell_type": "code",
   "execution_count": 24,
   "metadata": {},
   "outputs": [],
   "source": [
    "collist=df.columns.values \n",
    "ncol=15\n",
    "nrows=15"
   ]
  },
  {
   "cell_type": "code",
   "execution_count": 25,
   "metadata": {},
   "outputs": [
    {
     "data": {
      "image/png": "[encoded data removed]",
      "text/plain": [
       "<Figure size 1080x5400 with 14 Axes>"
      ]
     },
     "metadata": {
      "needs_background": "light"
     },
     "output_type": "display_data"
    }
   ],
   "source": [
    "#Lets visualize outliers through boxplots\n",
    "plt.figure(figsize=(ncol,5*ncol))\n",
    "for i in range (1,len(collist)):\n",
    "    plt.subplot(nrows,ncol,i+1)\n",
    "    sns.boxplot(df[collist[i]],color='orange',orient='v')\n",
    "    plt.tight_layout()"
   ]
  },
  {
   "cell_type": "markdown",
   "metadata": {},
   "source": [
    "Most of the columns are having outliers and they can be handled by using z-score "
   ]
  },
  {
   "cell_type": "markdown",
   "metadata": {},
   "source": [
    "# Handling outliers by using z-score method"
   ]
  },
  {
   "cell_type": "code",
   "execution_count": 26,
   "metadata": {},
   "outputs": [
    {
     "data": {
      "text/plain": [
       "(array([  45,  109,  129, ..., 9992, 9994, 9997], dtype=int64),\n",
       " array([11, 11, 11, ..., 12, 12, 12], dtype=int64))"
      ]
     },
     "execution_count": 26,
     "metadata": {},
     "output_type": "execute_result"
    }
   ],
   "source": [
    "from scipy.stats import zscore\n",
    "import numpy as np\n",
    "z=np.abs(zscore(df))   #converting all values into absolute values\n",
    "threshold=3    #setting up a threshold\n",
    "np.where(z>3)"
   ]
  },
  {
   "cell_type": "code",
   "execution_count": 27,
   "metadata": {},
   "outputs": [
    {
     "data": {
      "text/html": [
       "<div>\n",
       "<style scoped>\n",
       "    .dataframe tbody tr th:only-of-type {\n",
       "        vertical-align: middle;\n",
       "    }\n",
       "\n",
       "    .dataframe tbody tr th {\n",
       "        vertical-align: top;\n",
       "    }\n",
       "\n",
       "    .dataframe thead th {\n",
       "        text-align: right;\n",
       "    }\n",
       "</style>\n",
       "<table border=\"1\" class=\"dataframe\">\n",
       "  <thead>\n",
       "    <tr style=\"text-align: right;\">\n",
       "      <th></th>\n",
       "      <th>ra</th>\n",
       "      <th>dec</th>\n",
       "      <th>u</th>\n",
       "      <th>g</th>\n",
       "      <th>r</th>\n",
       "      <th>i</th>\n",
       "      <th>z</th>\n",
       "      <th>run</th>\n",
       "      <th>camcol</th>\n",
       "      <th>field</th>\n",
       "      <th>class</th>\n",
       "      <th>redshift</th>\n",
       "      <th>plate</th>\n",
       "      <th>mjd</th>\n",
       "      <th>fiberid</th>\n",
       "    </tr>\n",
       "  </thead>\n",
       "  <tbody>\n",
       "    <tr>\n",
       "      <th>0</th>\n",
       "      <td>183.531326</td>\n",
       "      <td>0.089693</td>\n",
       "      <td>19.47406</td>\n",
       "      <td>17.04240</td>\n",
       "      <td>15.94699</td>\n",
       "      <td>15.50342</td>\n",
       "      <td>15.22531</td>\n",
       "      <td>752</td>\n",
       "      <td>4</td>\n",
       "      <td>267</td>\n",
       "      <td>2</td>\n",
       "      <td>-0.000009</td>\n",
       "      <td>3306</td>\n",
       "      <td>54922</td>\n",
       "      <td>491</td>\n",
       "    </tr>\n",
       "    <tr>\n",
       "      <th>1</th>\n",
       "      <td>183.598371</td>\n",
       "      <td>0.135285</td>\n",
       "      <td>18.66280</td>\n",
       "      <td>17.21449</td>\n",
       "      <td>16.67637</td>\n",
       "      <td>16.48922</td>\n",
       "      <td>16.39150</td>\n",
       "      <td>752</td>\n",
       "      <td>4</td>\n",
       "      <td>267</td>\n",
       "      <td>2</td>\n",
       "      <td>-0.000055</td>\n",
       "      <td>323</td>\n",
       "      <td>51615</td>\n",
       "      <td>541</td>\n",
       "    </tr>\n",
       "    <tr>\n",
       "      <th>2</th>\n",
       "      <td>183.680207</td>\n",
       "      <td>0.126185</td>\n",
       "      <td>19.38298</td>\n",
       "      <td>18.19169</td>\n",
       "      <td>17.47428</td>\n",
       "      <td>17.08732</td>\n",
       "      <td>16.80125</td>\n",
       "      <td>752</td>\n",
       "      <td>4</td>\n",
       "      <td>268</td>\n",
       "      <td>0</td>\n",
       "      <td>0.123111</td>\n",
       "      <td>287</td>\n",
       "      <td>52023</td>\n",
       "      <td>513</td>\n",
       "    </tr>\n",
       "    <tr>\n",
       "      <th>3</th>\n",
       "      <td>183.870529</td>\n",
       "      <td>0.049911</td>\n",
       "      <td>17.76536</td>\n",
       "      <td>16.60272</td>\n",
       "      <td>16.16116</td>\n",
       "      <td>15.98233</td>\n",
       "      <td>15.90438</td>\n",
       "      <td>752</td>\n",
       "      <td>4</td>\n",
       "      <td>269</td>\n",
       "      <td>2</td>\n",
       "      <td>-0.000111</td>\n",
       "      <td>3306</td>\n",
       "      <td>54922</td>\n",
       "      <td>510</td>\n",
       "    </tr>\n",
       "    <tr>\n",
       "      <th>4</th>\n",
       "      <td>183.883288</td>\n",
       "      <td>0.102557</td>\n",
       "      <td>17.55025</td>\n",
       "      <td>16.26342</td>\n",
       "      <td>16.43869</td>\n",
       "      <td>16.55492</td>\n",
       "      <td>16.61326</td>\n",
       "      <td>752</td>\n",
       "      <td>4</td>\n",
       "      <td>269</td>\n",
       "      <td>2</td>\n",
       "      <td>0.000590</td>\n",
       "      <td>3306</td>\n",
       "      <td>54922</td>\n",
       "      <td>512</td>\n",
       "    </tr>\n",
       "    <tr>\n",
       "      <th>...</th>\n",
       "      <td>...</td>\n",
       "      <td>...</td>\n",
       "      <td>...</td>\n",
       "      <td>...</td>\n",
       "      <td>...</td>\n",
       "      <td>...</td>\n",
       "      <td>...</td>\n",
       "      <td>...</td>\n",
       "      <td>...</td>\n",
       "      <td>...</td>\n",
       "      <td>...</td>\n",
       "      <td>...</td>\n",
       "      <td>...</td>\n",
       "      <td>...</td>\n",
       "      <td>...</td>\n",
       "    </tr>\n",
       "    <tr>\n",
       "      <th>9993</th>\n",
       "      <td>131.398915</td>\n",
       "      <td>51.533706</td>\n",
       "      <td>17.79613</td>\n",
       "      <td>16.02621</td>\n",
       "      <td>15.15955</td>\n",
       "      <td>14.71488</td>\n",
       "      <td>14.33840</td>\n",
       "      <td>1345</td>\n",
       "      <td>3</td>\n",
       "      <td>161</td>\n",
       "      <td>0</td>\n",
       "      <td>0.055515</td>\n",
       "      <td>447</td>\n",
       "      <td>51877</td>\n",
       "      <td>249</td>\n",
       "    </tr>\n",
       "    <tr>\n",
       "      <th>9995</th>\n",
       "      <td>131.316413</td>\n",
       "      <td>51.539547</td>\n",
       "      <td>18.81777</td>\n",
       "      <td>17.47053</td>\n",
       "      <td>16.91508</td>\n",
       "      <td>16.68305</td>\n",
       "      <td>16.50570</td>\n",
       "      <td>1345</td>\n",
       "      <td>3</td>\n",
       "      <td>161</td>\n",
       "      <td>0</td>\n",
       "      <td>0.027583</td>\n",
       "      <td>447</td>\n",
       "      <td>51877</td>\n",
       "      <td>246</td>\n",
       "    </tr>\n",
       "    <tr>\n",
       "      <th>9996</th>\n",
       "      <td>131.306083</td>\n",
       "      <td>51.671341</td>\n",
       "      <td>18.27255</td>\n",
       "      <td>17.43849</td>\n",
       "      <td>17.07692</td>\n",
       "      <td>16.71661</td>\n",
       "      <td>16.69897</td>\n",
       "      <td>1345</td>\n",
       "      <td>3</td>\n",
       "      <td>162</td>\n",
       "      <td>0</td>\n",
       "      <td>0.117772</td>\n",
       "      <td>447</td>\n",
       "      <td>51877</td>\n",
       "      <td>228</td>\n",
       "    </tr>\n",
       "    <tr>\n",
       "      <th>9998</th>\n",
       "      <td>131.477151</td>\n",
       "      <td>51.753068</td>\n",
       "      <td>18.88287</td>\n",
       "      <td>17.91068</td>\n",
       "      <td>17.53152</td>\n",
       "      <td>17.36284</td>\n",
       "      <td>17.13988</td>\n",
       "      <td>1345</td>\n",
       "      <td>3</td>\n",
       "      <td>163</td>\n",
       "      <td>0</td>\n",
       "      <td>0.014019</td>\n",
       "      <td>447</td>\n",
       "      <td>51877</td>\n",
       "      <td>229</td>\n",
       "    </tr>\n",
       "    <tr>\n",
       "      <th>9999</th>\n",
       "      <td>131.665012</td>\n",
       "      <td>51.805307</td>\n",
       "      <td>19.27586</td>\n",
       "      <td>17.37829</td>\n",
       "      <td>16.30542</td>\n",
       "      <td>15.83548</td>\n",
       "      <td>15.50588</td>\n",
       "      <td>1345</td>\n",
       "      <td>3</td>\n",
       "      <td>163</td>\n",
       "      <td>0</td>\n",
       "      <td>0.118417</td>\n",
       "      <td>447</td>\n",
       "      <td>51877</td>\n",
       "      <td>233</td>\n",
       "    </tr>\n",
       "  </tbody>\n",
       "</table>\n",
       "<p>8698 rows × 15 columns</p>\n",
       "</div>"
      ],
      "text/plain": [
       "              ra        dec         u         g         r         i         z  \\\n",
       "0     183.531326   0.089693  19.47406  17.04240  15.94699  15.50342  15.22531   \n",
       "1     183.598371   0.135285  18.66280  17.21449  16.67637  16.48922  16.39150   \n",
       "2     183.680207   0.126185  19.38298  18.19169  17.47428  17.08732  16.80125   \n",
       "3     183.870529   0.049911  17.76536  16.60272  16.16116  15.98233  15.90438   \n",
       "4     183.883288   0.102557  17.55025  16.26342  16.43869  16.55492  16.61326   \n",
       "...          ...        ...       ...       ...       ...       ...       ...   \n",
       "9993  131.398915  51.533706  17.79613  16.02621  15.15955  14.71488  14.33840   \n",
       "9995  131.316413  51.539547  18.81777  17.47053  16.91508  16.68305  16.50570   \n",
       "9996  131.306083  51.671341  18.27255  17.43849  17.07692  16.71661  16.69897   \n",
       "9998  131.477151  51.753068  18.88287  17.91068  17.53152  17.36284  17.13988   \n",
       "9999  131.665012  51.805307  19.27586  17.37829  16.30542  15.83548  15.50588   \n",
       "\n",
       "       run  camcol  field  class  redshift  plate    mjd  fiberid  \n",
       "0      752       4    267      2 -0.000009   3306  54922      491  \n",
       "1      752       4    267      2 -0.000055    323  51615      541  \n",
       "2      752       4    268      0  0.123111    287  52023      513  \n",
       "3      752       4    269      2 -0.000111   3306  54922      510  \n",
       "4      752       4    269      2  0.000590   3306  54922      512  \n",
       "...    ...     ...    ...    ...       ...    ...    ...      ...  \n",
       "9993  1345       3    161      0  0.055515    447  51877      249  \n",
       "9995  1345       3    161      0  0.027583    447  51877      246  \n",
       "9996  1345       3    162      0  0.117772    447  51877      228  \n",
       "9998  1345       3    163      0  0.014019    447  51877      229  \n",
       "9999  1345       3    163      0  0.118417    447  51877      233  \n",
       "\n",
       "[8698 rows x 15 columns]"
      ]
     },
     "execution_count": 27,
     "metadata": {},
     "output_type": "execute_result"
    }
   ],
   "source": [
    "#Removing outliers\n",
    "df_new=df[(z<3).all(axis=1)]\n",
    "df_new"
   ]
  },
  {
   "cell_type": "code",
   "execution_count": 28,
   "metadata": {},
   "outputs": [
    {
     "data": {
      "text/plain": [
       "(10000, 15)"
      ]
     },
     "execution_count": 28,
     "metadata": {},
     "output_type": "execute_result"
    }
   ],
   "source": [
    "df.shape   #Original dataset dimensions"
   ]
  },
  {
   "cell_type": "code",
   "execution_count": 29,
   "metadata": {},
   "outputs": [
    {
     "data": {
      "text/plain": [
       "(8698, 15)"
      ]
     },
     "execution_count": 29,
     "metadata": {},
     "output_type": "execute_result"
    }
   ],
   "source": [
    "df_new.shape    #New dataset dimensions"
   ]
  },
  {
   "cell_type": "markdown",
   "metadata": {},
   "source": [
    "Nearly 1000+ rows had outliers data and they had been handled by using z-score method"
   ]
  },
  {
   "cell_type": "markdown",
   "metadata": {},
   "source": [
    "# Preparing dataset for model training"
   ]
  },
  {
   "cell_type": "markdown",
   "metadata": {},
   "source": [
    "We need to split independent and dependent variables from the dataset in order to perform further analysis"
   ]
  },
  {
   "cell_type": "code",
   "execution_count": 30,
   "metadata": {},
   "outputs": [],
   "source": [
    "df_x=df_new.drop('class',axis=1)   #Independent variables\n",
    "y=df_new['class']    #Dependent or Target Variable"
   ]
  },
  {
   "cell_type": "code",
   "execution_count": 31,
   "metadata": {},
   "outputs": [
    {
     "data": {
      "text/html": [
       "<div>\n",
       "<style scoped>\n",
       "    .dataframe tbody tr th:only-of-type {\n",
       "        vertical-align: middle;\n",
       "    }\n",
       "\n",
       "    .dataframe tbody tr th {\n",
       "        vertical-align: top;\n",
       "    }\n",
       "\n",
       "    .dataframe thead th {\n",
       "        text-align: right;\n",
       "    }\n",
       "</style>\n",
       "<table border=\"1\" class=\"dataframe\">\n",
       "  <thead>\n",
       "    <tr style=\"text-align: right;\">\n",
       "      <th></th>\n",
       "      <th>ra</th>\n",
       "      <th>dec</th>\n",
       "      <th>u</th>\n",
       "      <th>g</th>\n",
       "      <th>r</th>\n",
       "      <th>i</th>\n",
       "      <th>z</th>\n",
       "      <th>run</th>\n",
       "      <th>camcol</th>\n",
       "      <th>field</th>\n",
       "      <th>redshift</th>\n",
       "      <th>plate</th>\n",
       "      <th>mjd</th>\n",
       "      <th>fiberid</th>\n",
       "    </tr>\n",
       "  </thead>\n",
       "  <tbody>\n",
       "    <tr>\n",
       "      <th>0</th>\n",
       "      <td>183.531326</td>\n",
       "      <td>0.089693</td>\n",
       "      <td>19.47406</td>\n",
       "      <td>17.04240</td>\n",
       "      <td>15.94699</td>\n",
       "      <td>15.50342</td>\n",
       "      <td>15.22531</td>\n",
       "      <td>752</td>\n",
       "      <td>4</td>\n",
       "      <td>267</td>\n",
       "      <td>-0.000009</td>\n",
       "      <td>3306</td>\n",
       "      <td>54922</td>\n",
       "      <td>491</td>\n",
       "    </tr>\n",
       "    <tr>\n",
       "      <th>1</th>\n",
       "      <td>183.598371</td>\n",
       "      <td>0.135285</td>\n",
       "      <td>18.66280</td>\n",
       "      <td>17.21449</td>\n",
       "      <td>16.67637</td>\n",
       "      <td>16.48922</td>\n",
       "      <td>16.39150</td>\n",
       "      <td>752</td>\n",
       "      <td>4</td>\n",
       "      <td>267</td>\n",
       "      <td>-0.000055</td>\n",
       "      <td>323</td>\n",
       "      <td>51615</td>\n",
       "      <td>541</td>\n",
       "    </tr>\n",
       "    <tr>\n",
       "      <th>2</th>\n",
       "      <td>183.680207</td>\n",
       "      <td>0.126185</td>\n",
       "      <td>19.38298</td>\n",
       "      <td>18.19169</td>\n",
       "      <td>17.47428</td>\n",
       "      <td>17.08732</td>\n",
       "      <td>16.80125</td>\n",
       "      <td>752</td>\n",
       "      <td>4</td>\n",
       "      <td>268</td>\n",
       "      <td>0.123111</td>\n",
       "      <td>287</td>\n",
       "      <td>52023</td>\n",
       "      <td>513</td>\n",
       "    </tr>\n",
       "    <tr>\n",
       "      <th>3</th>\n",
       "      <td>183.870529</td>\n",
       "      <td>0.049911</td>\n",
       "      <td>17.76536</td>\n",
       "      <td>16.60272</td>\n",
       "      <td>16.16116</td>\n",
       "      <td>15.98233</td>\n",
       "      <td>15.90438</td>\n",
       "      <td>752</td>\n",
       "      <td>4</td>\n",
       "      <td>269</td>\n",
       "      <td>-0.000111</td>\n",
       "      <td>3306</td>\n",
       "      <td>54922</td>\n",
       "      <td>510</td>\n",
       "    </tr>\n",
       "    <tr>\n",
       "      <th>4</th>\n",
       "      <td>183.883288</td>\n",
       "      <td>0.102557</td>\n",
       "      <td>17.55025</td>\n",
       "      <td>16.26342</td>\n",
       "      <td>16.43869</td>\n",
       "      <td>16.55492</td>\n",
       "      <td>16.61326</td>\n",
       "      <td>752</td>\n",
       "      <td>4</td>\n",
       "      <td>269</td>\n",
       "      <td>0.000590</td>\n",
       "      <td>3306</td>\n",
       "      <td>54922</td>\n",
       "      <td>512</td>\n",
       "    </tr>\n",
       "  </tbody>\n",
       "</table>\n",
       "</div>"
      ],
      "text/plain": [
       "           ra       dec         u         g         r         i         z  \\\n",
       "0  183.531326  0.089693  19.47406  17.04240  15.94699  15.50342  15.22531   \n",
       "1  183.598371  0.135285  18.66280  17.21449  16.67637  16.48922  16.39150   \n",
       "2  183.680207  0.126185  19.38298  18.19169  17.47428  17.08732  16.80125   \n",
       "3  183.870529  0.049911  17.76536  16.60272  16.16116  15.98233  15.90438   \n",
       "4  183.883288  0.102557  17.55025  16.26342  16.43869  16.55492  16.61326   \n",
       "\n",
       "   run  camcol  field  redshift  plate    mjd  fiberid  \n",
       "0  752       4    267 -0.000009   3306  54922      491  \n",
       "1  752       4    267 -0.000055    323  51615      541  \n",
       "2  752       4    268  0.123111    287  52023      513  \n",
       "3  752       4    269 -0.000111   3306  54922      510  \n",
       "4  752       4    269  0.000590   3306  54922      512  "
      ]
     },
     "execution_count": 31,
     "metadata": {},
     "output_type": "execute_result"
    }
   ],
   "source": [
    "#Checking x data\n",
    "df_x.head()"
   ]
  },
  {
   "cell_type": "code",
   "execution_count": 32,
   "metadata": {},
   "outputs": [
    {
     "data": {
      "text/plain": [
       "0       2\n",
       "1       2\n",
       "2       0\n",
       "3       2\n",
       "4       2\n",
       "       ..\n",
       "9993    0\n",
       "9995    0\n",
       "9996    0\n",
       "9998    0\n",
       "9999    0\n",
       "Name: class, Length: 8698, dtype: int32"
      ]
     },
     "execution_count": 32,
     "metadata": {},
     "output_type": "execute_result"
    }
   ],
   "source": [
    "#Checking y data after splitting\n",
    "y"
   ]
  },
  {
   "cell_type": "markdown",
   "metadata": {},
   "source": [
    "# Treating skewness"
   ]
  },
  {
   "cell_type": "code",
   "execution_count": 33,
   "metadata": {},
   "outputs": [],
   "source": [
    "#We are treating skewness by using cube root transform and square root transform\n",
    "for col in df_x.skew().index:\n",
    "    if col in df_x.describe().columns:\n",
    "        if df_x[col].skew()>0.55:\n",
    "            df_x[col]=np.cbrt(df_x[col])\n",
    "        if df_x[col].skew()<-0.55:\n",
    "            df_x[col]=np.sqrt(df_x[col])"
   ]
  },
  {
   "cell_type": "code",
   "execution_count": 34,
   "metadata": {},
   "outputs": [
    {
     "data": {
      "text/plain": [
       "ra         -0.130951\n",
       "dec         0.598346\n",
       "u          -1.023622\n",
       "g          -0.528033\n",
       "r          -0.153454\n",
       "i           0.055966\n",
       "z           0.167256\n",
       "run         0.518602\n",
       "camcol     -0.141193\n",
       "field       0.220032\n",
       "redshift    0.383962\n",
       "plate       0.877994\n",
       "mjd         0.954315\n",
       "fiberid     0.065374\n",
       "dtype: float64"
      ]
     },
     "execution_count": 34,
     "metadata": {},
     "output_type": "execute_result"
    }
   ],
   "source": [
    "df_x.skew()    #Checking skewness after treating it"
   ]
  },
  {
   "cell_type": "markdown",
   "metadata": {},
   "source": [
    "We can see that the skewness has been treated and now we can proceed for model building"
   ]
  },
  {
   "cell_type": "markdown",
   "metadata": {},
   "source": [
    "# Scaling the data"
   ]
  },
  {
   "cell_type": "markdown",
   "metadata": {},
   "source": [
    "Sometimes model can be biased to higher values in dataset, so it is better to scale the dataset so that we can bring all the columns in common range. We can use StandardScaler here."
   ]
  },
  {
   "cell_type": "code",
   "execution_count": 35,
   "metadata": {},
   "outputs": [
    {
     "data": {
      "text/html": [
       "<div>\n",
       "<style scoped>\n",
       "    .dataframe tbody tr th:only-of-type {\n",
       "        vertical-align: middle;\n",
       "    }\n",
       "\n",
       "    .dataframe tbody tr th {\n",
       "        vertical-align: top;\n",
       "    }\n",
       "\n",
       "    .dataframe thead th {\n",
       "        text-align: right;\n",
       "    }\n",
       "</style>\n",
       "<table border=\"1\" class=\"dataframe\">\n",
       "  <thead>\n",
       "    <tr style=\"text-align: right;\">\n",
       "      <th></th>\n",
       "      <th>ra</th>\n",
       "      <th>dec</th>\n",
       "      <th>u</th>\n",
       "      <th>g</th>\n",
       "      <th>r</th>\n",
       "      <th>i</th>\n",
       "      <th>z</th>\n",
       "      <th>run</th>\n",
       "      <th>camcol</th>\n",
       "      <th>field</th>\n",
       "      <th>redshift</th>\n",
       "      <th>plate</th>\n",
       "      <th>mjd</th>\n",
       "      <th>fiberid</th>\n",
       "    </tr>\n",
       "  </thead>\n",
       "  <tbody>\n",
       "    <tr>\n",
       "      <th>0</th>\n",
       "      <td>0.022563</td>\n",
       "      <td>-0.233531</td>\n",
       "      <td>1.063403</td>\n",
       "      <td>-0.332856</td>\n",
       "      <td>-0.855097</td>\n",
       "      <td>-0.969819</td>\n",
       "      <td>-1.007660</td>\n",
       "      <td>-0.790307</td>\n",
       "      <td>0.197332</td>\n",
       "      <td>-0.304679</td>\n",
       "      <td>-1.178877</td>\n",
       "      <td>1.615890</td>\n",
       "      <td>1.665903</td>\n",
       "      <td>0.754994</td>\n",
       "    </tr>\n",
       "    <tr>\n",
       "      <th>1</th>\n",
       "      <td>0.024421</td>\n",
       "      <td>-0.198898</td>\n",
       "      <td>0.049930</td>\n",
       "      <td>-0.134171</td>\n",
       "      <td>-0.098144</td>\n",
       "      <td>-0.009474</td>\n",
       "      <td>0.055512</td>\n",
       "      <td>-0.790307</td>\n",
       "      <td>0.197332</td>\n",
       "      <td>-0.304679</td>\n",
       "      <td>-1.247953</td>\n",
       "      <td>-0.713942</td>\n",
       "      <td>-0.888875</td>\n",
       "      <td>1.016814</td>\n",
       "    </tr>\n",
       "    <tr>\n",
       "      <th>2</th>\n",
       "      <td>0.026689</td>\n",
       "      <td>-0.205105</td>\n",
       "      <td>0.950686</td>\n",
       "      <td>0.994046</td>\n",
       "      <td>0.729930</td>\n",
       "      <td>0.573183</td>\n",
       "      <td>0.429065</td>\n",
       "      <td>-0.790307</td>\n",
       "      <td>0.197332</td>\n",
       "      <td>-0.298398</td>\n",
       "      <td>0.898012</td>\n",
       "      <td>-0.790776</td>\n",
       "      <td>-0.567886</td>\n",
       "      <td>0.870195</td>\n",
       "    </tr>\n",
       "    <tr>\n",
       "      <th>3</th>\n",
       "      <td>0.031964</td>\n",
       "      <td>-0.275395</td>\n",
       "      <td>-1.097219</td>\n",
       "      <td>-0.840484</td>\n",
       "      <td>-0.632831</td>\n",
       "      <td>-0.503275</td>\n",
       "      <td>-0.388577</td>\n",
       "      <td>-0.790307</td>\n",
       "      <td>0.197332</td>\n",
       "      <td>-0.292117</td>\n",
       "      <td>-1.288017</td>\n",
       "      <td>1.615890</td>\n",
       "      <td>1.665903</td>\n",
       "      <td>0.854486</td>\n",
       "    </tr>\n",
       "    <tr>\n",
       "      <th>4</th>\n",
       "      <td>0.032318</td>\n",
       "      <td>-0.222754</td>\n",
       "      <td>-1.376460</td>\n",
       "      <td>-1.232219</td>\n",
       "      <td>-0.344809</td>\n",
       "      <td>0.054530</td>\n",
       "      <td>0.257682</td>\n",
       "      <td>-0.790307</td>\n",
       "      <td>0.197332</td>\n",
       "      <td>-0.292117</td>\n",
       "      <td>-0.759446</td>\n",
       "      <td>1.615890</td>\n",
       "      <td>1.665903</td>\n",
       "      <td>0.864958</td>\n",
       "    </tr>\n",
       "    <tr>\n",
       "      <th>...</th>\n",
       "      <td>...</td>\n",
       "      <td>...</td>\n",
       "      <td>...</td>\n",
       "      <td>...</td>\n",
       "      <td>...</td>\n",
       "      <td>...</td>\n",
       "      <td>...</td>\n",
       "      <td>...</td>\n",
       "      <td>...</td>\n",
       "      <td>...</td>\n",
       "      <td>...</td>\n",
       "      <td>...</td>\n",
       "      <td>...</td>\n",
       "      <td>...</td>\n",
       "    </tr>\n",
       "    <tr>\n",
       "      <th>8693</th>\n",
       "      <td>-1.422261</td>\n",
       "      <td>1.491533</td>\n",
       "      <td>-1.057414</td>\n",
       "      <td>-1.506087</td>\n",
       "      <td>-1.672305</td>\n",
       "      <td>-1.737999</td>\n",
       "      <td>-1.816223</td>\n",
       "      <td>1.360326</td>\n",
       "      <td>-0.394324</td>\n",
       "      <td>-0.970460</td>\n",
       "      <td>0.433171</td>\n",
       "      <td>-0.486401</td>\n",
       "      <td>-0.682556</td>\n",
       "      <td>-0.512213</td>\n",
       "    </tr>\n",
       "    <tr>\n",
       "      <th>8694</th>\n",
       "      <td>-1.424548</td>\n",
       "      <td>1.491607</td>\n",
       "      <td>0.245204</td>\n",
       "      <td>0.161438</td>\n",
       "      <td>0.149590</td>\n",
       "      <td>0.179351</td>\n",
       "      <td>0.159624</td>\n",
       "      <td>1.360326</td>\n",
       "      <td>-0.394324</td>\n",
       "      <td>-0.970460</td>\n",
       "      <td>0.115229</td>\n",
       "      <td>-0.486401</td>\n",
       "      <td>-0.682556</td>\n",
       "      <td>-0.527922</td>\n",
       "    </tr>\n",
       "    <tr>\n",
       "      <th>8695</th>\n",
       "      <td>-1.424834</td>\n",
       "      <td>1.493278</td>\n",
       "      <td>-0.445438</td>\n",
       "      <td>0.124446</td>\n",
       "      <td>0.317548</td>\n",
       "      <td>0.212045</td>\n",
       "      <td>0.335821</td>\n",
       "      <td>1.360326</td>\n",
       "      <td>-0.394324</td>\n",
       "      <td>-0.964179</td>\n",
       "      <td>0.868765</td>\n",
       "      <td>-0.486401</td>\n",
       "      <td>-0.682556</td>\n",
       "      <td>-0.622177</td>\n",
       "    </tr>\n",
       "    <tr>\n",
       "      <th>8696</th>\n",
       "      <td>-1.420093</td>\n",
       "      <td>1.494312</td>\n",
       "      <td>0.326996</td>\n",
       "      <td>0.669608</td>\n",
       "      <td>0.789334</td>\n",
       "      <td>0.841588</td>\n",
       "      <td>0.737782</td>\n",
       "      <td>1.360326</td>\n",
       "      <td>-0.394324</td>\n",
       "      <td>-0.957898</td>\n",
       "      <td>-0.129317</td>\n",
       "      <td>-0.486401</td>\n",
       "      <td>-0.682556</td>\n",
       "      <td>-0.616941</td>\n",
       "    </tr>\n",
       "    <tr>\n",
       "      <th>8697</th>\n",
       "      <td>-1.414887</td>\n",
       "      <td>1.494972</td>\n",
       "      <td>0.817780</td>\n",
       "      <td>0.054943</td>\n",
       "      <td>-0.483117</td>\n",
       "      <td>-0.646334</td>\n",
       "      <td>-0.751875</td>\n",
       "      <td>1.360326</td>\n",
       "      <td>-0.394324</td>\n",
       "      <td>-0.957898</td>\n",
       "      <td>0.872345</td>\n",
       "      <td>-0.486401</td>\n",
       "      <td>-0.682556</td>\n",
       "      <td>-0.595995</td>\n",
       "    </tr>\n",
       "  </tbody>\n",
       "</table>\n",
       "<p>8698 rows × 14 columns</p>\n",
       "</div>"
      ],
      "text/plain": [
       "            ra       dec         u         g         r         i         z  \\\n",
       "0     0.022563 -0.233531  1.063403 -0.332856 -0.855097 -0.969819 -1.007660   \n",
       "1     0.024421 -0.198898  0.049930 -0.134171 -0.098144 -0.009474  0.055512   \n",
       "2     0.026689 -0.205105  0.950686  0.994046  0.729930  0.573183  0.429065   \n",
       "3     0.031964 -0.275395 -1.097219 -0.840484 -0.632831 -0.503275 -0.388577   \n",
       "4     0.032318 -0.222754 -1.376460 -1.232219 -0.344809  0.054530  0.257682   \n",
       "...        ...       ...       ...       ...       ...       ...       ...   \n",
       "8693 -1.422261  1.491533 -1.057414 -1.506087 -1.672305 -1.737999 -1.816223   \n",
       "8694 -1.424548  1.491607  0.245204  0.161438  0.149590  0.179351  0.159624   \n",
       "8695 -1.424834  1.493278 -0.445438  0.124446  0.317548  0.212045  0.335821   \n",
       "8696 -1.420093  1.494312  0.326996  0.669608  0.789334  0.841588  0.737782   \n",
       "8697 -1.414887  1.494972  0.817780  0.054943 -0.483117 -0.646334 -0.751875   \n",
       "\n",
       "           run    camcol     field  redshift     plate       mjd   fiberid  \n",
       "0    -0.790307  0.197332 -0.304679 -1.178877  1.615890  1.665903  0.754994  \n",
       "1    -0.790307  0.197332 -0.304679 -1.247953 -0.713942 -0.888875  1.016814  \n",
       "2    -0.790307  0.197332 -0.298398  0.898012 -0.790776 -0.567886  0.870195  \n",
       "3    -0.790307  0.197332 -0.292117 -1.288017  1.615890  1.665903  0.854486  \n",
       "4    -0.790307  0.197332 -0.292117 -0.759446  1.615890  1.665903  0.864958  \n",
       "...        ...       ...       ...       ...       ...       ...       ...  \n",
       "8693  1.360326 -0.394324 -0.970460  0.433171 -0.486401 -0.682556 -0.512213  \n",
       "8694  1.360326 -0.394324 -0.970460  0.115229 -0.486401 -0.682556 -0.527922  \n",
       "8695  1.360326 -0.394324 -0.964179  0.868765 -0.486401 -0.682556 -0.622177  \n",
       "8696  1.360326 -0.394324 -0.957898 -0.129317 -0.486401 -0.682556 -0.616941  \n",
       "8697  1.360326 -0.394324 -0.957898  0.872345 -0.486401 -0.682556 -0.595995  \n",
       "\n",
       "[8698 rows x 14 columns]"
      ]
     },
     "execution_count": 35,
     "metadata": {},
     "output_type": "execute_result"
    }
   ],
   "source": [
    "#Scaling the dataset using StandardScaler\n",
    "from sklearn.preprocessing import StandardScaler\n",
    "sc=StandardScaler()\n",
    "x=sc.fit_transform(df_x)\n",
    "x=pd.DataFrame(x,columns=df_x.columns)\n",
    "x"
   ]
  },
  {
   "cell_type": "markdown",
   "metadata": {},
   "source": [
    "# Building the model"
   ]
  },
  {
   "cell_type": "code",
   "execution_count": 36,
   "metadata": {},
   "outputs": [],
   "source": [
    "#Importing train_test_split, Logistic Regression and accuracy_score\n",
    "from sklearn.model_selection import train_test_split\n",
    "from sklearn.linear_model import LogisticRegression\n",
    "LR=LogisticRegression()\n",
    "from sklearn.metrics import accuracy_score"
   ]
  },
  {
   "cell_type": "code",
   "execution_count": 37,
   "metadata": {},
   "outputs": [
    {
     "name": "stdout",
     "output_type": "stream",
     "text": [
      "At random state 20 ,the model performs well\n",
      "Training accuracy_score is:  99.08019545846508\n",
      "Testing accuracy_score is:  99.08045977011494\n",
      "At random state 66 ,the model performs well\n",
      "Training accuracy_score is:  99.08019545846508\n",
      "Testing accuracy_score is:  99.08045977011494\n",
      "At random state 78 ,the model performs well\n",
      "Training accuracy_score is:  99.08019545846508\n",
      "Testing accuracy_score is:  99.08045977011494\n",
      "At random state 185 ,the model performs well\n",
      "Training accuracy_score is:  99.08019545846508\n",
      "Testing accuracy_score is:  99.08045977011494\n",
      "At random state 263 ,the model performs well\n",
      "Training accuracy_score is:  99.08019545846508\n",
      "Testing accuracy_score is:  99.08045977011494\n",
      "At random state 320 ,the model performs well\n",
      "Training accuracy_score is:  99.08019545846508\n",
      "Testing accuracy_score is:  99.08045977011494\n",
      "At random state 325 ,the model performs well\n",
      "Training accuracy_score is:  99.08019545846508\n",
      "Testing accuracy_score is:  99.08045977011494\n",
      "At random state 337 ,the model performs well\n",
      "Training accuracy_score is:  99.08019545846508\n",
      "Testing accuracy_score is:  99.08045977011494\n",
      "At random state 441 ,the model performs well\n",
      "Training accuracy_score is:  99.08019545846508\n",
      "Testing accuracy_score is:  99.08045977011494\n",
      "At random state 476 ,the model performs well\n",
      "Training accuracy_score is:  99.08019545846508\n",
      "Testing accuracy_score is:  99.08045977011494\n",
      "At random state 510 ,the model performs well\n",
      "Training accuracy_score is:  99.08019545846508\n",
      "Testing accuracy_score is:  99.08045977011494\n",
      "At random state 553 ,the model performs well\n",
      "Training accuracy_score is:  99.08019545846508\n",
      "Testing accuracy_score is:  99.08045977011494\n",
      "At random state 604 ,the model performs well\n",
      "Training accuracy_score is:  99.08019545846508\n",
      "Testing accuracy_score is:  99.08045977011494\n",
      "At random state 633 ,the model performs well\n",
      "Training accuracy_score is:  99.08019545846508\n",
      "Testing accuracy_score is:  99.08045977011494\n",
      "At random state 642 ,the model performs well\n",
      "Training accuracy_score is:  99.02270767461914\n",
      "Testing accuracy_score is:  99.02298850574712\n",
      "At random state 707 ,the model performs well\n",
      "Training accuracy_score is:  99.08019545846508\n",
      "Testing accuracy_score is:  99.08045977011494\n",
      "At random state 752 ,the model performs well\n",
      "Training accuracy_score is:  99.08019545846508\n",
      "Testing accuracy_score is:  99.08045977011494\n",
      "At random state 811 ,the model performs well\n",
      "Training accuracy_score is:  99.08019545846508\n",
      "Testing accuracy_score is:  99.08045977011494\n",
      "At random state 813 ,the model performs well\n",
      "Training accuracy_score is:  99.08019545846508\n",
      "Testing accuracy_score is:  99.08045977011494\n",
      "At random state 836 ,the model performs well\n",
      "Training accuracy_score is:  99.08019545846508\n",
      "Testing accuracy_score is:  99.08045977011494\n",
      "At random state 912 ,the model performs well\n",
      "Training accuracy_score is:  99.08019545846508\n",
      "Testing accuracy_score is:  99.08045977011494\n",
      "At random state 972 ,the model performs well\n",
      "Training accuracy_score is:  99.08019545846508\n",
      "Testing accuracy_score is:  99.08045977011494\n"
     ]
    }
   ],
   "source": [
    "#Finding the best random state and accuracy\n",
    "for i in range(0,1000):\n",
    "    x_train,x_test,y_train,y_test=train_test_split(x,y,test_size=.20,random_state=i)\n",
    "    LR.fit(x_train,y_train)\n",
    "    pred_train=LR.predict(x_train)\n",
    "    pred_test=LR.predict(x_test)\n",
    "    if round(accuracy_score(y_train,pred_train)*100,2)==round(accuracy_score(y_test,pred_test)*100,2):\n",
    "        print('At random state',i,',the model performs well')\n",
    "        print('Training accuracy_score is: ',accuracy_score(y_train,pred_train)*100)\n",
    "        print('Testing accuracy_score is: ',accuracy_score(y_test,pred_test)*100)"
   ]
  },
  {
   "cell_type": "markdown",
   "metadata": {},
   "source": [
    "We can see that at random_state=20, the best scores are obtained so that we can use in our train_test_split"
   ]
  },
  {
   "cell_type": "code",
   "execution_count": 38,
   "metadata": {},
   "outputs": [],
   "source": [
    "#Creating train_test_split using best random_state\n",
    "x_train,x_test,y_train,y_test=train_test_split(x,y,random_state=20,test_size=.20,stratify=y)"
   ]
  },
  {
   "cell_type": "markdown",
   "metadata": {},
   "source": [
    "# Finding out the best model"
   ]
  },
  {
   "cell_type": "markdown",
   "metadata": {},
   "source": [
    "We are going to use LogisticRegression, SVC, GaussianNB, DecisionTreeClassifier and KNeighborsClassifier algorithms for finding out the best model among those"
   ]
  },
  {
   "cell_type": "code",
   "execution_count": 39,
   "metadata": {},
   "outputs": [],
   "source": [
    "#Importing various classification models for testing\n",
    "from sklearn.linear_model import LogisticRegression\n",
    "from sklearn.svm import SVC\n",
    "from sklearn.naive_bayes import GaussianNB\n",
    "from sklearn.tree import DecisionTreeClassifier\n",
    "from sklearn.neighbors import KNeighborsClassifier"
   ]
  },
  {
   "cell_type": "code",
   "execution_count": 40,
   "metadata": {},
   "outputs": [],
   "source": [
    "#Initializing the instance of the model\n",
    "LR=LogisticRegression()\n",
    "svc=SVC()\n",
    "gnb=GaussianNB()\n",
    "dtc=DecisionTreeClassifier()\n",
    "knc=KNeighborsClassifier()"
   ]
  },
  {
   "cell_type": "code",
   "execution_count": 41,
   "metadata": {},
   "outputs": [],
   "source": [
    "models= []\n",
    "models.append(('Logistic Regression',LR))\n",
    "models.append(('SupportVectorClassifier',svc))\n",
    "models.append(('GaussianNB',gnb))\n",
    "models.append(('DecisionTreeClassifier',dtc))\n",
    "models.append(('KNeighborsClassifier',knc))"
   ]
  },
  {
   "cell_type": "code",
   "execution_count": 42,
   "metadata": {},
   "outputs": [],
   "source": [
    "#Importing required modules and metrices\n",
    "from sklearn.metrics import confusion_matrix,classification_report\n",
    "from sklearn.model_selection import cross_val_score"
   ]
  },
  {
   "cell_type": "code",
   "execution_count": 43,
   "metadata": {
    "scrolled": false
   },
   "outputs": [
    {
     "name": "stdout",
     "output_type": "stream",
     "text": [
      "****************************** Logistic Regression ***************************\n",
      "\n",
      "\n",
      "LogisticRegression()\n",
      "\n",
      "\n",
      "accuracy_score:  0.9942528735632183\n",
      "\n",
      "\n",
      "cross_val_score:  0.9908019538246979\n",
      "\n",
      "\n",
      "Classification report:\n",
      " \n",
      "              precision    recall  f1-score   support\n",
      "\n",
      "           0       1.00      0.99      0.99       955\n",
      "           1       0.94      0.96      0.95        82\n",
      "           2       1.00      1.00      1.00       703\n",
      "\n",
      "    accuracy                           0.99      1740\n",
      "   macro avg       0.98      0.99      0.98      1740\n",
      "weighted avg       0.99      0.99      0.99      1740\n",
      "\n",
      "\n",
      "\n",
      "Confusion matrix: \n",
      "\n",
      "[[948   5   2]\n",
      " [  3  79   0]\n",
      " [  0   0 703]]\n",
      "\n",
      "\n",
      "\n",
      "\n",
      "****************************** SupportVectorClassifier ***************************\n",
      "\n",
      "\n",
      "SVC()\n",
      "\n",
      "\n",
      "accuracy_score:  0.993103448275862\n",
      "\n",
      "\n",
      "cross_val_score:  0.9873531491873384\n",
      "\n",
      "\n",
      "Classification report:\n",
      " \n",
      "              precision    recall  f1-score   support\n",
      "\n",
      "           0       0.99      0.99      0.99       955\n",
      "           1       0.95      0.93      0.94        82\n",
      "           2       1.00      1.00      1.00       703\n",
      "\n",
      "    accuracy                           0.99      1740\n",
      "   macro avg       0.98      0.97      0.98      1740\n",
      "weighted avg       0.99      0.99      0.99      1740\n",
      "\n",
      "\n",
      "\n",
      "Confusion matrix: \n",
      "\n",
      "[[949   4   2]\n",
      " [  6  76   0]\n",
      " [  0   0 703]]\n",
      "\n",
      "\n",
      "\n",
      "\n",
      "****************************** GaussianNB ***************************\n",
      "\n",
      "\n",
      "GaussianNB()\n",
      "\n",
      "\n",
      "accuracy_score:  0.9666666666666667\n",
      "\n",
      "\n",
      "cross_val_score:  0.9710264189354432\n",
      "\n",
      "\n",
      "Classification report:\n",
      " \n",
      "              precision    recall  f1-score   support\n",
      "\n",
      "           0       1.00      0.95      0.97       955\n",
      "           1       0.72      0.96      0.82        82\n",
      "           2       0.97      0.99      0.98       703\n",
      "\n",
      "    accuracy                           0.97      1740\n",
      "   macro avg       0.89      0.97      0.92      1740\n",
      "weighted avg       0.97      0.97      0.97      1740\n",
      "\n",
      "\n",
      "\n",
      "Confusion matrix: \n",
      "\n",
      "[[907  25  23]\n",
      " [  3  79   0]\n",
      " [  1   6 696]]\n",
      "\n",
      "\n",
      "\n",
      "\n",
      "****************************** DecisionTreeClassifier ***************************\n",
      "\n",
      "\n",
      "DecisionTreeClassifier()\n",
      "\n",
      "\n",
      "accuracy_score:  0.9919540229885058\n",
      "\n",
      "\n",
      "cross_val_score:  0.9826386547956615\n",
      "\n",
      "\n",
      "Classification report:\n",
      " \n",
      "              precision    recall  f1-score   support\n",
      "\n",
      "           0       0.99      0.99      0.99       955\n",
      "           1       0.91      0.96      0.93        82\n",
      "           2       1.00      1.00      1.00       703\n",
      "\n",
      "    accuracy                           0.99      1740\n",
      "   macro avg       0.97      0.98      0.98      1740\n",
      "weighted avg       0.99      0.99      0.99      1740\n",
      "\n",
      "\n",
      "\n",
      "Confusion matrix: \n",
      "\n",
      "[[947   8   0]\n",
      " [  3  79   0]\n",
      " [  3   0 700]]\n",
      "\n",
      "\n",
      "\n",
      "\n",
      "****************************** KNeighborsClassifier ***************************\n",
      "\n",
      "\n",
      "KNeighborsClassifier()\n",
      "\n",
      "\n",
      "accuracy_score:  0.9816091954022989\n",
      "\n",
      "\n",
      "cross_val_score:  0.9713723040722307\n",
      "\n",
      "\n",
      "Classification report:\n",
      " \n",
      "              precision    recall  f1-score   support\n",
      "\n",
      "           0       0.98      0.99      0.98       955\n",
      "           1       0.97      0.88      0.92        82\n",
      "           2       0.98      0.99      0.99       703\n",
      "\n",
      "    accuracy                           0.98      1740\n",
      "   macro avg       0.98      0.95      0.96      1740\n",
      "weighted avg       0.98      0.98      0.98      1740\n",
      "\n",
      "\n",
      "\n",
      "Confusion matrix: \n",
      "\n",
      "[[942   2  11]\n",
      " [ 10  72   0]\n",
      " [  9   0 694]]\n",
      "\n",
      "\n",
      "\n",
      "\n"
     ]
    }
   ],
   "source": [
    "#Making a for loop and calling the algorithm one by one and save data to respective model using append function\n",
    "Model=[]\n",
    "score=[]\n",
    "cvs=[]\n",
    "for name,model in models:\n",
    "    print('******************************',name,'***************************')\n",
    "    print('\\n')\n",
    "    Model.append(name)\n",
    "    model.fit(x_train,y_train)\n",
    "    print(model)\n",
    "    pre=model.predict(x_test)\n",
    "    print('\\n')\n",
    "    AS=accuracy_score(y_test,pre)\n",
    "    print('accuracy_score: ',AS)\n",
    "    score.append(AS*100)\n",
    "    print('\\n')\n",
    "    sc=cross_val_score(model,x,y,cv=5,scoring='accuracy').mean()\n",
    "    print('cross_val_score: ',sc)\n",
    "    cvs.append(sc*100)\n",
    "    print('\\n')\n",
    "    print('Classification report:\\n ')\n",
    "    print(classification_report(y_test,pre))\n",
    "    print('\\n')\n",
    "    print('Confusion matrix: \\n')\n",
    "    cm=confusion_matrix(y_test,pre)\n",
    "    print(cm)    \n",
    "    print('\\n\\n\\n')"
   ]
  },
  {
   "cell_type": "code",
   "execution_count": 44,
   "metadata": {},
   "outputs": [
    {
     "data": {
      "text/html": [
       "<div>\n",
       "<style scoped>\n",
       "    .dataframe tbody tr th:only-of-type {\n",
       "        vertical-align: middle;\n",
       "    }\n",
       "\n",
       "    .dataframe tbody tr th {\n",
       "        vertical-align: top;\n",
       "    }\n",
       "\n",
       "    .dataframe thead th {\n",
       "        text-align: right;\n",
       "    }\n",
       "</style>\n",
       "<table border=\"1\" class=\"dataframe\">\n",
       "  <thead>\n",
       "    <tr style=\"text-align: right;\">\n",
       "      <th></th>\n",
       "      <th>Model</th>\n",
       "      <th>Accuracy_score</th>\n",
       "      <th>Cross_val_score</th>\n",
       "    </tr>\n",
       "  </thead>\n",
       "  <tbody>\n",
       "    <tr>\n",
       "      <th>0</th>\n",
       "      <td>Logistic Regression</td>\n",
       "      <td>99.425287</td>\n",
       "      <td>99.080195</td>\n",
       "    </tr>\n",
       "    <tr>\n",
       "      <th>1</th>\n",
       "      <td>SupportVectorClassifier</td>\n",
       "      <td>99.310345</td>\n",
       "      <td>98.735315</td>\n",
       "    </tr>\n",
       "    <tr>\n",
       "      <th>2</th>\n",
       "      <td>GaussianNB</td>\n",
       "      <td>96.666667</td>\n",
       "      <td>97.102642</td>\n",
       "    </tr>\n",
       "    <tr>\n",
       "      <th>3</th>\n",
       "      <td>DecisionTreeClassifier</td>\n",
       "      <td>99.195402</td>\n",
       "      <td>98.263865</td>\n",
       "    </tr>\n",
       "    <tr>\n",
       "      <th>4</th>\n",
       "      <td>KNeighborsClassifier</td>\n",
       "      <td>98.160920</td>\n",
       "      <td>97.137230</td>\n",
       "    </tr>\n",
       "  </tbody>\n",
       "</table>\n",
       "</div>"
      ],
      "text/plain": [
       "                     Model  Accuracy_score  Cross_val_score\n",
       "0      Logistic Regression       99.425287        99.080195\n",
       "1  SupportVectorClassifier       99.310345        98.735315\n",
       "2               GaussianNB       96.666667        97.102642\n",
       "3   DecisionTreeClassifier       99.195402        98.263865\n",
       "4     KNeighborsClassifier       98.160920        97.137230"
      ]
     },
     "execution_count": 44,
     "metadata": {},
     "output_type": "execute_result"
    }
   ],
   "source": [
    "#Finalizing the result\n",
    "result=pd.DataFrame({'Model':Model, 'Accuracy_score': score,'Cross_val_score':cvs})\n",
    "result"
   ]
  },
  {
   "cell_type": "markdown",
   "metadata": {},
   "source": [
    "From the above algorithms, Logistic Regression, SVC and DecisionTreeClassifier algorithms are working well as they are giving good accuracy score and cross validation score. Now we will try to find out the best parameters and improve our scores by using Hyperparameter Tuning technique."
   ]
  },
  {
   "cell_type": "markdown",
   "metadata": {},
   "source": [
    "# Hyperparameter Tuning"
   ]
  },
  {
   "cell_type": "markdown",
   "metadata": {},
   "source": [
    "Logistic Regression"
   ]
  },
  {
   "cell_type": "code",
   "execution_count": 45,
   "metadata": {},
   "outputs": [],
   "source": [
    "#Creating parameter list to pass in GridSearchCV\n",
    "parameters={'penalty':['l1','l2','elasticnet'],'C':[10, 1, 0.1, 0.01,0.001,0.001],'solver':['newton-cg', 'lbfgs', 'liblinear']}"
   ]
  },
  {
   "cell_type": "code",
   "execution_count": 46,
   "metadata": {},
   "outputs": [
    {
     "name": "stdout",
     "output_type": "stream",
     "text": [
      "{'C': 10, 'penalty': 'l2', 'solver': 'newton-cg'}\n",
      "0.9905138327672972\n"
     ]
    }
   ],
   "source": [
    "#Using GridSearchCV to run the parameters and checking final accuracy\n",
    "from sklearn.model_selection import GridSearchCV\n",
    "LR=LogisticRegression()\n",
    "grid=GridSearchCV(LR,parameters,cv=5,scoring='accuracy')\n",
    "grid.fit(x_train,y_train)\n",
    "print(grid.best_params_)  #Printing the best parameters obtained\n",
    "print(grid.best_score_) #Mean cross-validated score of best_estimator"
   ]
  },
  {
   "cell_type": "code",
   "execution_count": 47,
   "metadata": {},
   "outputs": [
    {
     "name": "stdout",
     "output_type": "stream",
     "text": [
      "Final Accuracy after tuning is:  99.36781609195403\n",
      "Cross validation score:  99.11469797016386\n",
      "Classification report: \n",
      "\n",
      "              precision    recall  f1-score   support\n",
      "\n",
      "           0       1.00      0.99      0.99       955\n",
      "           1       0.93      0.98      0.95        82\n",
      "           2       1.00      1.00      1.00       703\n",
      "\n",
      "    accuracy                           0.99      1740\n",
      "   macro avg       0.97      0.99      0.98      1740\n",
      "weighted avg       0.99      0.99      0.99      1740\n",
      "\n",
      "Confusion matrix: \n",
      "\n",
      "[[948   5   2]\n",
      " [  2  80   0]\n",
      " [  1   1 701]]\n"
     ]
    }
   ],
   "source": [
    "#Using the best parameters\n",
    "LR=LogisticRegression(C=10,penalty='l2',solver='newton-cg')\n",
    "LR.fit(x_train,y_train)\n",
    "pred=LR.predict(x_test)\n",
    "print('Final Accuracy after tuning is: ',accuracy_score(y_test,pred)*100)\n",
    "print('Cross validation score: ',cross_val_score(LR,x,y,cv=5,scoring='accuracy').mean()*100)\n",
    "print('Classification report: \\n')\n",
    "print(classification_report(y_test,pred))\n",
    "print('Confusion matrix: \\n')\n",
    "print(confusion_matrix(y_test,pred))"
   ]
  },
  {
   "cell_type": "markdown",
   "metadata": {},
   "source": [
    "SVC"
   ]
  },
  {
   "cell_type": "code",
   "execution_count": 48,
   "metadata": {},
   "outputs": [],
   "source": [
    "#Creating parameter list to pass in GridSearchCV\n",
    "parameters={'C':[10, 1, 0.1, 0.01,0.001],'kernel':['poly','rbf','linear'],'gamma':['scale','auto']}"
   ]
  },
  {
   "cell_type": "code",
   "execution_count": 49,
   "metadata": {},
   "outputs": [
    {
     "name": "stdout",
     "output_type": "stream",
     "text": [
      "{'C': 10, 'gamma': 'scale', 'kernel': 'linear'}\n",
      "0.9906575109282167\n"
     ]
    }
   ],
   "source": [
    "#Using GridSearchCV to run the parameters and checking final accuracy\n",
    "from sklearn.model_selection import GridSearchCV\n",
    "svc=SVC()\n",
    "grid=GridSearchCV(svc,parameters,cv=5,scoring='accuracy')\n",
    "grid.fit(x_train,y_train)\n",
    "print(grid.best_params_)  #Printing the best parameters obtained\n",
    "print(grid.best_score_) #Mean cross-validated score of best_estimator"
   ]
  },
  {
   "cell_type": "code",
   "execution_count": 50,
   "metadata": {},
   "outputs": [
    {
     "name": "stdout",
     "output_type": "stream",
     "text": [
      "Final Accuracy after tuning is:  99.48275862068967\n",
      "Cross validation score:  99.19517756935218\n",
      "Classification report: \n",
      "\n",
      "              precision    recall  f1-score   support\n",
      "\n",
      "           0       1.00      0.99      1.00       955\n",
      "           1       0.94      0.98      0.96        82\n",
      "           2       1.00      1.00      1.00       703\n",
      "\n",
      "    accuracy                           0.99      1740\n",
      "   macro avg       0.98      0.99      0.98      1740\n",
      "weighted avg       0.99      0.99      0.99      1740\n",
      "\n",
      "Confusion matrix: \n",
      "\n",
      "[[949   5   1]\n",
      " [  2  80   0]\n",
      " [  1   0 702]]\n"
     ]
    }
   ],
   "source": [
    "#Using the best parameters obtained \n",
    "svc=SVC(C=10,gamma='scale',kernel='linear',random_state=20)\n",
    "svc.fit(x_train,y_train)\n",
    "pred=svc.predict(x_test)\n",
    "print('Final Accuracy after tuning is: ',accuracy_score(y_test,pred)*100)\n",
    "print('Cross validation score: ',cross_val_score(svc,x,y,cv=5,scoring='accuracy').mean()*100)\n",
    "print('Classification report: \\n')\n",
    "print(classification_report(y_test,pred))\n",
    "print('Confusion matrix: \\n')\n",
    "print(confusion_matrix(y_test,pred))"
   ]
  },
  {
   "cell_type": "markdown",
   "metadata": {},
   "source": [
    "Decision Tree Classifier"
   ]
  },
  {
   "cell_type": "code",
   "execution_count": 51,
   "metadata": {},
   "outputs": [],
   "source": [
    "#Creating parameters list to pass in GridSearchCV\n",
    "parameters={'criterion':['gini','entropy'],'random_state':range(0,10),'splitter':['best','random']}"
   ]
  },
  {
   "cell_type": "code",
   "execution_count": 52,
   "metadata": {},
   "outputs": [
    {
     "name": "stdout",
     "output_type": "stream",
     "text": [
      "{'criterion': 'entropy', 'random_state': 5, 'splitter': 'best'}\n",
      "0.9876396498012676\n"
     ]
    }
   ],
   "source": [
    "#Using GridSearchCV to run the parameters and checking final accuracy\n",
    "from sklearn.model_selection import GridSearchCV\n",
    "dtc=DecisionTreeClassifier()\n",
    "grid=GridSearchCV(dtc,parameters,cv=5,scoring='accuracy')\n",
    "grid.fit(x_train,y_train)\n",
    "print(grid.best_params_)  #Printing the best parameters obtained\n",
    "print(grid.best_score_) #Mean cross-validated score of best_estimator"
   ]
  },
  {
   "cell_type": "code",
   "execution_count": 53,
   "metadata": {},
   "outputs": [
    {
     "name": "stdout",
     "output_type": "stream",
     "text": [
      "Final Accuracy after tuning is:  99.48275862068967\n",
      "Cross validation score:  98.48244135551546\n",
      "Classification report: \n",
      "\n",
      "              precision    recall  f1-score   support\n",
      "\n",
      "           0       1.00      0.99      1.00       955\n",
      "           1       0.94      0.98      0.96        82\n",
      "           2       1.00      1.00      1.00       703\n",
      "\n",
      "    accuracy                           0.99      1740\n",
      "   macro avg       0.98      0.99      0.98      1740\n",
      "weighted avg       0.99      0.99      0.99      1740\n",
      "\n",
      "Confusion matrix: \n",
      "\n",
      "[[949   5   1]\n",
      " [  2  80   0]\n",
      " [  1   0 702]]\n"
     ]
    }
   ],
   "source": [
    "#Using the best parameters obtained \n",
    "dtc=DecisionTreeClassifier(criterion='entropy',splitter='best',random_state=5)\n",
    "dtc.fit(x_train,y_train)\n",
    "pred=svc.predict(x_test)\n",
    "print('Final Accuracy after tuning is: ',accuracy_score(y_test,pred)*100)\n",
    "print('Cross validation score: ',cross_val_score(dtc,x,y,cv=5,scoring='accuracy').mean()*100)\n",
    "print('Classification report: \\n')\n",
    "print(classification_report(y_test,pred))\n",
    "print('Confusion matrix: \\n')\n",
    "print(confusion_matrix(y_test,pred))"
   ]
  },
  {
   "cell_type": "markdown",
   "metadata": {},
   "source": [
    "After using Hyperparameter Tuning on the best 3 algorithms we found, we can see that SVC algorithm is the best working algorithm as the scores have been increased, i.e, accuracy score has been increased from 99.31 to 99.48 and cross_val_score has been increased from 98.73 to 99.19 and also the metrics values have been improved. We will also try Ensemble Techniques to boost up our scores."
   ]
  },
  {
   "cell_type": "markdown",
   "metadata": {},
   "source": [
    "# Ensemble Techniques for boosting our scores"
   ]
  },
  {
   "cell_type": "code",
   "execution_count": 54,
   "metadata": {},
   "outputs": [
    {
     "name": "stdout",
     "output_type": "stream",
     "text": [
      "{'criterion': 'gini', 'n_estimators': 50}\n",
      "0.987783224670914\n"
     ]
    }
   ],
   "source": [
    "#RandomForestClassifier\n",
    "from sklearn.ensemble import RandomForestClassifier\n",
    "rfc=RandomForestClassifier(random_state=20)   #Using the best random state we obtained\n",
    "parameters={'n_estimators':[10,50,100,500,1000,1200],'criterion' :['gini', 'entropy']}\n",
    "grid=GridSearchCV(rfc,parameters,cv=5,scoring='accuracy')\n",
    "grid.fit(x_train,y_train)\n",
    "print(grid.best_params_)  #Printing the best parameters obtained\n",
    "print(grid.best_score_) #Mean cross-validated score of best_estimator"
   ]
  },
  {
   "cell_type": "code",
   "execution_count": 55,
   "metadata": {},
   "outputs": [
    {
     "name": "stdout",
     "output_type": "stream",
     "text": [
      "Accuracy score:  99.3103448275862\n",
      "Cross validation score:  98.82728877079575\n",
      "Classification report: \n",
      "\n",
      "              precision    recall  f1-score   support\n",
      "\n",
      "           0       0.99      0.99      0.99       955\n",
      "           1       0.94      0.94      0.94        82\n",
      "           2       1.00      1.00      1.00       703\n",
      "\n",
      "    accuracy                           0.99      1740\n",
      "   macro avg       0.98      0.98      0.98      1740\n",
      "weighted avg       0.99      0.99      0.99      1740\n",
      "\n",
      "Confusion matrix: \n",
      "\n",
      "[[949   5   1]\n",
      " [  5  77   0]\n",
      " [  1   0 702]]\n"
     ]
    }
   ],
   "source": [
    "#Using the best parameters obtained\n",
    "RF=RandomForestClassifier(random_state=20,criterion='gini',n_estimators=50)\n",
    "RF.fit(x_train,y_train)\n",
    "pred=RF.predict(x_test)\n",
    "print('Accuracy score: ',accuracy_score(y_test,pred)*100)\n",
    "print('Cross validation score: ',cross_val_score(RF,x,y,cv=5,scoring='accuracy').mean()*100)\n",
    "print('Classification report: \\n')\n",
    "print(classification_report(y_test,pred))\n",
    "print('Confusion matrix: \\n')\n",
    "print(confusion_matrix(y_test,pred))"
   ]
  },
  {
   "cell_type": "code",
   "execution_count": 56,
   "metadata": {},
   "outputs": [
    {
     "name": "stdout",
     "output_type": "stream",
     "text": [
      "{'learning_rate': 1, 'n_estimators': 50}\n",
      "0.9517125693084443\n"
     ]
    }
   ],
   "source": [
    "#AdaBoostClassifier\n",
    "from sklearn.ensemble import AdaBoostClassifier\n",
    "adc=AdaBoostClassifier(random_state=20)   #Using the best random state we obtained\n",
    "parameters={'n_estimators':[50,100,500,1000],'learning_rate':[0.001,0.01,0.1,1]}\n",
    "grid=GridSearchCV(adc,parameters,cv=5,scoring='accuracy')\n",
    "grid.fit(x_train,y_train)\n",
    "print(grid.best_params_)  #Printing the best parameters obtained\n",
    "print(grid.best_score_) #Mean cross-validated score of best_estimator"
   ]
  },
  {
   "cell_type": "code",
   "execution_count": 57,
   "metadata": {},
   "outputs": [
    {
     "name": "stdout",
     "output_type": "stream",
     "text": [
      "Accuracy score:  94.6551724137931\n",
      "Cross validation score:  76.1136866874211\n",
      "Classification report: \n",
      "\n",
      "              precision    recall  f1-score   support\n",
      "\n",
      "           0       0.92      0.99      0.95       955\n",
      "           1       0.27      0.05      0.08        82\n",
      "           2       1.00      1.00      1.00       703\n",
      "\n",
      "    accuracy                           0.95      1740\n",
      "   macro avg       0.73      0.68      0.68      1740\n",
      "weighted avg       0.92      0.95      0.93      1740\n",
      "\n",
      "Confusion matrix: \n",
      "\n",
      "[[943  11   1]\n",
      " [ 78   4   0]\n",
      " [  3   0 700]]\n"
     ]
    }
   ],
   "source": [
    "#Using the best parameters obtained\n",
    "adc=AdaBoostClassifier(random_state=20,n_estimators=50,learning_rate=1)\n",
    "adc.fit(x_train,y_train)\n",
    "pred=adc.predict(x_test)\n",
    "print(\"Accuracy score: \",accuracy_score(y_test,pred)*100)\n",
    "print('Cross validation score: ',cross_val_score(adc,x,y,cv=5,scoring='accuracy').mean()*100)\n",
    "print('Classification report: \\n')\n",
    "print(classification_report(y_test,pred))\n",
    "print('Confusion matrix: \\n')\n",
    "print(confusion_matrix(y_test,pred))"
   ]
  },
  {
   "cell_type": "code",
   "execution_count": 58,
   "metadata": {},
   "outputs": [
    {
     "name": "stdout",
     "output_type": "stream",
     "text": [
      "{'learning_rate': 0.01, 'n_estimators': 1000}\n",
      "0.9903702578976507\n"
     ]
    }
   ],
   "source": [
    "#GradientBoostingClassifier\n",
    "from sklearn.ensemble import GradientBoostingClassifier\n",
    "gbc=GradientBoostingClassifier(random_state=20)   #Using the best random state we obtained\n",
    "parameters={'n_estimators':[50,100,500,1000],'learning_rate':[0.0001,0.001,0.01,0.1]}\n",
    "gbc=GridSearchCV(gbc,parameters,cv=5,scoring='accuracy')\n",
    "gbc.fit(x_train,y_train)\n",
    "print(gbc.best_params_)     #Printing the best parameters obtained\n",
    "print(gbc.best_score_)      #Mean cross-validated score of best_estimator"
   ]
  },
  {
   "cell_type": "code",
   "execution_count": 59,
   "metadata": {},
   "outputs": [
    {
     "name": "stdout",
     "output_type": "stream",
     "text": [
      "Accuracy score:  99.3103448275862\n",
      "Cross validation score:  99.06870773928735\n",
      "Classification report: \n",
      "\n",
      "              precision    recall  f1-score   support\n",
      "\n",
      "           0       0.99      0.99      0.99       955\n",
      "           1       0.93      0.95      0.94        82\n",
      "           2       1.00      1.00      1.00       703\n",
      "\n",
      "    accuracy                           0.99      1740\n",
      "   macro avg       0.97      0.98      0.98      1740\n",
      "weighted avg       0.99      0.99      0.99      1740\n",
      "\n",
      "Confusion matrix: \n",
      "\n",
      "[[949   6   0]\n",
      " [  4  78   0]\n",
      " [  2   0 701]]\n"
     ]
    }
   ],
   "source": [
    "#Using the best parameters obtained\n",
    "gbc=GradientBoostingClassifier(random_state=20,n_estimators=1000,learning_rate=0.01)\n",
    "gbc.fit(x_train,y_train)\n",
    "pred=gbc.predict(x_test)\n",
    "print(\"Accuracy score: \",accuracy_score(y_test,pred)*100)\n",
    "print('Cross validation score: ',cross_val_score(gbc,x,y,cv=5,scoring='accuracy').mean()*100)\n",
    "print('Classification report: \\n')\n",
    "print(classification_report(y_test,pred))\n",
    "print('Confusion matrix: \\n')\n",
    "print(confusion_matrix(y_test,pred))"
   ]
  },
  {
   "cell_type": "markdown",
   "metadata": {},
   "source": [
    "After applying the Tuning and Ensemble Techniques, we can say that SVC is the best algorithm we got as the accuracy score is 99.48 and cross validation score is 99.19. We will now finalize the model."
   ]
  },
  {
   "cell_type": "markdown",
   "metadata": {},
   "source": [
    "# Finalizing the model"
   ]
  },
  {
   "cell_type": "code",
   "execution_count": 60,
   "metadata": {},
   "outputs": [
    {
     "name": "stdout",
     "output_type": "stream",
     "text": [
      "Predictions of SVC:  [2 2 0 ... 0 0 0]\n"
     ]
    }
   ],
   "source": [
    "svc_prediction=svc.predict(x)\n",
    "print('Predictions of SVC: ',svc_prediction)"
   ]
  },
  {
   "cell_type": "code",
   "execution_count": 61,
   "metadata": {},
   "outputs": [
    {
     "data": {
      "text/plain": [
       "['SDSS_Project_Classification.obj']"
      ]
     },
     "execution_count": 61,
     "metadata": {},
     "output_type": "execute_result"
    }
   ],
   "source": [
    "#Saving the model\n",
    "import joblib\n",
    "joblib.dump(svc,'SDSS_Project_Classification.obj')"
   ]
  },
  {
   "cell_type": "markdown",
   "metadata": {},
   "source": [
    "# Saving the predicted values"
   ]
  },
  {
   "cell_type": "code",
   "execution_count": 62,
   "metadata": {},
   "outputs": [],
   "source": [
    "pred_results=pd.DataFrame(svc_prediction)\n",
    "pred_results.to_csv('SDSS_Project_Classification_Results.csv')"
   ]
  },
  {
   "cell_type": "markdown",
   "metadata": {},
   "source": [
    "# Conclusion"
   ]
  },
  {
   "cell_type": "markdown",
   "metadata": {},
   "source": [
    "-> After exploring the SDSS data, we came to know that how SDSS image is working and how to navigate and plot the sky image        using camera data.\n",
    "\n",
    "-> First we loaded the dataset and did the EDA process and other pre-processing techniques like skewness check and removal,        handling the outliers present, filling the missing data, visualizing the distribution of data,etc.\n",
    "\n",
    "-> Then we did the model training, building the model and finding out the best model on the basis of different metrices scores      we got like Classification Report, Confusion matrix, cross validation score, etc.\n",
    "\n",
    "-> We got SupportVectorClassifier Algorithm, Logistic Regression and Decision Tree Classifier as the best algorithms among all      as the accuracy score was 99% and cross validation score was between 98-99%. Then for finding out the best parameter and        improving the scores, we performed Hyperparameter Tuning in all these 3 algorithms.\n",
    "\n",
    "-> After Tuning, we got that SVC algorithm is the best working algorithm as the scores have been increased, i.e, accuracy score    has been increased from 99.31 to 99.48 and cross_val_score has been increased from 98.73 to 99.19 and also the metrics values    have been improved.\n",
    "\n",
    "-> We also tried Ensemble Techniques to boost up the scores and we used algorithms like Random Forest Classifier, AdaBoost          Classifier and Gradient Boosting Classifier.\n",
    "\n",
    "-> Finally we concluded that SVC was the best algorithm among all other algorithms as its scores were good and we finalized the    model. We saved the predicted values in a new dataframe and also we saved the model too.\n",
    "\n",
    "-> Overall, we can say that this dataset is an excellent dataset for predicting the category in the space as the average            accuracy of the dataset was nearly 97% and the error rate was minimal too, which is very good and also the best model can be    used again and again during further deployment process."
   ]
  }
 ],
 "metadata": {
  "kernelspec": {
   "display_name": "Python 3",
   "language": "python",
   "name": "python3"
  },
  "language_info": {
   "codemirror_mode": {
    "name": "ipython",
    "version": 3
   },
   "file_extension": ".py",
   "mimetype": "text/x-python",
   "name": "python",
   "nbconvert_exporter": "python",
   "pygments_lexer": "ipython3",
   "version": "3.8.3"
  }
 },
 "nbformat": 4,
 "nbformat_minor": 4
}
