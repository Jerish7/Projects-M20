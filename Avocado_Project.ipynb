{
 "cells": [
  {
   "cell_type": "code",
   "execution_count": 1,
   "metadata": {},
   "outputs": [],
   "source": [
    "#Importing warning library to avoid any warnings\n",
    "import warnings\n",
    "warnings.filterwarnings('ignore')"
   ]
  },
  {
   "cell_type": "markdown",
   "metadata": {},
   "source": [
    "# Loading the dataset"
   ]
  },
  {
   "cell_type": "code",
   "execution_count": 2,
   "metadata": {},
   "outputs": [
    {
     "data": {
      "text/html": [
       "<div>\n",
       "<style scoped>\n",
       "    .dataframe tbody tr th:only-of-type {\n",
       "        vertical-align: middle;\n",
       "    }\n",
       "\n",
       "    .dataframe tbody tr th {\n",
       "        vertical-align: top;\n",
       "    }\n",
       "\n",
       "    .dataframe thead th {\n",
       "        text-align: right;\n",
       "    }\n",
       "</style>\n",
       "<table border=\"1\" class=\"dataframe\">\n",
       "  <thead>\n",
       "    <tr style=\"text-align: right;\">\n",
       "      <th></th>\n",
       "      <th>Date</th>\n",
       "      <th>AveragePrice</th>\n",
       "      <th>Total Volume</th>\n",
       "      <th>4046</th>\n",
       "      <th>4225</th>\n",
       "      <th>4770</th>\n",
       "      <th>Total Bags</th>\n",
       "      <th>Small Bags</th>\n",
       "      <th>Large Bags</th>\n",
       "      <th>XLarge Bags</th>\n",
       "      <th>type</th>\n",
       "      <th>year</th>\n",
       "      <th>region</th>\n",
       "    </tr>\n",
       "  </thead>\n",
       "  <tbody>\n",
       "    <tr>\n",
       "      <th>0</th>\n",
       "      <td>27-12-2015</td>\n",
       "      <td>1.33</td>\n",
       "      <td>64236.62</td>\n",
       "      <td>1036.74</td>\n",
       "      <td>54454.85</td>\n",
       "      <td>48.16</td>\n",
       "      <td>8696.87</td>\n",
       "      <td>8603.62</td>\n",
       "      <td>93.25</td>\n",
       "      <td>0.0</td>\n",
       "      <td>conventional</td>\n",
       "      <td>2015</td>\n",
       "      <td>Albany</td>\n",
       "    </tr>\n",
       "    <tr>\n",
       "      <th>1</th>\n",
       "      <td>20-12-2015</td>\n",
       "      <td>1.35</td>\n",
       "      <td>54876.98</td>\n",
       "      <td>674.28</td>\n",
       "      <td>44638.81</td>\n",
       "      <td>58.33</td>\n",
       "      <td>9505.56</td>\n",
       "      <td>9408.07</td>\n",
       "      <td>97.49</td>\n",
       "      <td>0.0</td>\n",
       "      <td>conventional</td>\n",
       "      <td>2015</td>\n",
       "      <td>Albany</td>\n",
       "    </tr>\n",
       "    <tr>\n",
       "      <th>2</th>\n",
       "      <td>13-12-2015</td>\n",
       "      <td>0.93</td>\n",
       "      <td>118220.22</td>\n",
       "      <td>794.70</td>\n",
       "      <td>109149.67</td>\n",
       "      <td>130.50</td>\n",
       "      <td>8145.35</td>\n",
       "      <td>8042.21</td>\n",
       "      <td>103.14</td>\n",
       "      <td>0.0</td>\n",
       "      <td>conventional</td>\n",
       "      <td>2015</td>\n",
       "      <td>Albany</td>\n",
       "    </tr>\n",
       "    <tr>\n",
       "      <th>3</th>\n",
       "      <td>06-12-2015</td>\n",
       "      <td>1.08</td>\n",
       "      <td>78992.15</td>\n",
       "      <td>1132.00</td>\n",
       "      <td>71976.41</td>\n",
       "      <td>72.58</td>\n",
       "      <td>5811.16</td>\n",
       "      <td>5677.40</td>\n",
       "      <td>133.76</td>\n",
       "      <td>0.0</td>\n",
       "      <td>conventional</td>\n",
       "      <td>2015</td>\n",
       "      <td>Albany</td>\n",
       "    </tr>\n",
       "    <tr>\n",
       "      <th>4</th>\n",
       "      <td>29-11-2015</td>\n",
       "      <td>1.28</td>\n",
       "      <td>51039.60</td>\n",
       "      <td>941.48</td>\n",
       "      <td>43838.39</td>\n",
       "      <td>75.78</td>\n",
       "      <td>6183.95</td>\n",
       "      <td>5986.26</td>\n",
       "      <td>197.69</td>\n",
       "      <td>0.0</td>\n",
       "      <td>conventional</td>\n",
       "      <td>2015</td>\n",
       "      <td>Albany</td>\n",
       "    </tr>\n",
       "  </tbody>\n",
       "</table>\n",
       "</div>"
      ],
      "text/plain": [
       "         Date  AveragePrice  Total Volume     4046       4225    4770  \\\n",
       "0  27-12-2015          1.33      64236.62  1036.74   54454.85   48.16   \n",
       "1  20-12-2015          1.35      54876.98   674.28   44638.81   58.33   \n",
       "2  13-12-2015          0.93     118220.22   794.70  109149.67  130.50   \n",
       "3  06-12-2015          1.08      78992.15  1132.00   71976.41   72.58   \n",
       "4  29-11-2015          1.28      51039.60   941.48   43838.39   75.78   \n",
       "\n",
       "   Total Bags  Small Bags  Large Bags  XLarge Bags          type  year  region  \n",
       "0     8696.87     8603.62       93.25          0.0  conventional  2015  Albany  \n",
       "1     9505.56     9408.07       97.49          0.0  conventional  2015  Albany  \n",
       "2     8145.35     8042.21      103.14          0.0  conventional  2015  Albany  \n",
       "3     5811.16     5677.40      133.76          0.0  conventional  2015  Albany  \n",
       "4     6183.95     5986.26      197.69          0.0  conventional  2015  Albany  "
      ]
     },
     "execution_count": 2,
     "metadata": {},
     "output_type": "execute_result"
    }
   ],
   "source": [
    "import pandas as pd\n",
    "df=pd.read_csv('D:/Python file/Project Datasets/FinalEval/avocado.csv')  #Path location of the dataset\n",
    "df.head()  #Checking out the top 5 rows of the dataset"
   ]
  },
  {
   "cell_type": "code",
   "execution_count": 3,
   "metadata": {},
   "outputs": [
    {
     "data": {
      "text/plain": [
       "(1517, 13)"
      ]
     },
     "execution_count": 3,
     "metadata": {},
     "output_type": "execute_result"
    }
   ],
   "source": [
    "df.shape    #Checking the dimensions of the dataset"
   ]
  },
  {
   "cell_type": "code",
   "execution_count": 4,
   "metadata": {},
   "outputs": [
    {
     "data": {
      "text/plain": [
       "Index(['Date', 'AveragePrice', 'Total Volume', '4046', '4225', '4770',\n",
       "       'Total Bags', 'Small Bags', 'Large Bags', 'XLarge Bags', 'type', 'year',\n",
       "       'region'],\n",
       "      dtype='object')"
      ]
     },
     "execution_count": 4,
     "metadata": {},
     "output_type": "execute_result"
    }
   ],
   "source": [
    "df.columns   #Checking out the columns of the dataset"
   ]
  },
  {
   "cell_type": "markdown",
   "metadata": {},
   "source": [
    "# Dataset Description"
   ]
  },
  {
   "cell_type": "markdown",
   "metadata": {},
   "source": [
    "Introduction:\n",
    "\n",
    "    -> This data was downloaded from the Hass Avocado Board(HAB) website in May of 2018 & compiled into a single CSV file.\n",
    "\n",
    "    -> Avocado is a fruit consumed by people heavily in the United States.\n",
    "\n",
    "    -> HAB is the only avocado organization that equips the entire global industry for success by collecting, focusing and     distributing investments to maintain and expand demand for avocados in the United States. \n",
    "\n",
    "    -> HAB provides the industry with consolidated supply and market data, conducts nutrition research, educates health        professionals, and brings people together from all corners of the industry to collectively work towards growth that     benefits everyone. The organization also collects and reallocates funds to California and importer associations to      benefit specific countries of origin in promoting their avocado brands to customers and consumers across the United      States.\n",
    "\n",
    "Details of the dataset:\n",
    "\n",
    "    -> The table above represents weekly 2018 retail scan data for National retail volume (units) and price. Retail scan    data comes directly from retailers’ cash registers based on actual retail sales of Hass avocados.\n",
    "     \n",
    "    -> Starting in 2013, the table below reflects an expanded, multi-outlet retail data set. Multi-outlet reporting includes an aggregation of the following channels: grocery, mass, club, drug, dollar and military. The Average Price(of avocados) in the table reflects a per unit (per avocado) cost, even when multiple units (avocados) are sold in bags.              The Product Lookup codes (PLU’s) in the table are only for Hass avocados. Other varieties of avocados (e.g. greenskins) are not included in this table.\n",
    "     \n",
    "\n",
    "->There are totally 1517 rows and 13 columns of the dataset and the details of each column is given below:\n",
    "\n",
    "1.Date - The date of the observation\n",
    "\n",
    "2.AveragePrice - the average price of a single avocado\n",
    "\n",
    "3.Total Volume - Total number of avocados sold\n",
    "\n",
    "4.4046 - Total number of avocados with PLU 4046 sold\n",
    "\n",
    "5.4225 - Total number of avocados with PLU 4225 sold\n",
    "\n",
    "6.4770 - Total number of avocados with PLU 4770 sold\n",
    "\n",
    "7.Total Bags - Sum total of Small Bags + Large Bags + XLarge Bags\n",
    "\n",
    "8.Small Bags - Total small bags\n",
    "\n",
    "9.Large Bags - Total large bags\n",
    "\n",
    "10.XLarge Bags - Total XLarge bags\n",
    "\n",
    "11.type - conventional or organic type of avocada\n",
    "\n",
    "12.year - the year\n",
    "\n",
    "13.region - the city or region of the observation"
   ]
  },
  {
   "cell_type": "markdown",
   "metadata": {},
   "source": [
    "# Our agenda in this project"
   ]
  },
  {
   "cell_type": "markdown",
   "metadata": {},
   "source": [
    "There are 2 agendas in this project. They are:\n",
    "\n",
    "1.We need to predict the city or region of the observation from the dataset and we need to approach Classification analysis.\n",
    "\n",
    "2.We need to predict the AveragePrice of the avocados from the dataset and we need to approach Regression analysis."
   ]
  },
  {
   "cell_type": "code",
   "execution_count": 5,
   "metadata": {},
   "outputs": [
    {
     "name": "stdout",
     "output_type": "stream",
     "text": [
      "<class 'pandas.core.frame.DataFrame'>\n",
      "RangeIndex: 1517 entries, 0 to 1516\n",
      "Data columns (total 13 columns):\n",
      " #   Column        Non-Null Count  Dtype  \n",
      "---  ------        --------------  -----  \n",
      " 0   Date          1517 non-null   object \n",
      " 1   AveragePrice  1517 non-null   float64\n",
      " 2   Total Volume  1517 non-null   float64\n",
      " 3   4046          1517 non-null   float64\n",
      " 4   4225          1517 non-null   float64\n",
      " 5   4770          1517 non-null   float64\n",
      " 6   Total Bags    1517 non-null   float64\n",
      " 7   Small Bags    1517 non-null   float64\n",
      " 8   Large Bags    1517 non-null   float64\n",
      " 9   XLarge Bags   1517 non-null   float64\n",
      " 10  type          1517 non-null   object \n",
      " 11  year          1517 non-null   int64  \n",
      " 12  region        1517 non-null   object \n",
      "dtypes: float64(9), int64(1), object(3)\n",
      "memory usage: 154.2+ KB\n"
     ]
    }
   ],
   "source": [
    "df.info()    #Checking the datatype of all the columns present"
   ]
  },
  {
   "cell_type": "markdown",
   "metadata": {},
   "source": [
    "As there is a Date column present, we need to convert into datetime format and it can be done by using parse_dates"
   ]
  },
  {
   "cell_type": "code",
   "execution_count": 6,
   "metadata": {},
   "outputs": [],
   "source": [
    "df=pd.read_csv('D:/Python file/Project Datasets/FinalEval/avocado.csv',parse_dates=['Date'])"
   ]
  },
  {
   "cell_type": "code",
   "execution_count": 7,
   "metadata": {},
   "outputs": [
    {
     "name": "stdout",
     "output_type": "stream",
     "text": [
      "<class 'pandas.core.frame.DataFrame'>\n",
      "RangeIndex: 1517 entries, 0 to 1516\n",
      "Data columns (total 13 columns):\n",
      " #   Column        Non-Null Count  Dtype         \n",
      "---  ------        --------------  -----         \n",
      " 0   Date          1517 non-null   datetime64[ns]\n",
      " 1   AveragePrice  1517 non-null   float64       \n",
      " 2   Total Volume  1517 non-null   float64       \n",
      " 3   4046          1517 non-null   float64       \n",
      " 4   4225          1517 non-null   float64       \n",
      " 5   4770          1517 non-null   float64       \n",
      " 6   Total Bags    1517 non-null   float64       \n",
      " 7   Small Bags    1517 non-null   float64       \n",
      " 8   Large Bags    1517 non-null   float64       \n",
      " 9   XLarge Bags   1517 non-null   float64       \n",
      " 10  type          1517 non-null   object        \n",
      " 11  year          1517 non-null   int64         \n",
      " 12  region        1517 non-null   object        \n",
      "dtypes: datetime64[ns](1), float64(9), int64(1), object(2)\n",
      "memory usage: 154.2+ KB\n"
     ]
    }
   ],
   "source": [
    "df.info()    #Checking the datatype of all the columns present after changing date datatype"
   ]
  },
  {
   "cell_type": "markdown",
   "metadata": {},
   "source": [
    "The column names of 3, 4 and 5 are in numbers and it will cause confusions while doing analysis. We can rename them by using rename() through numpy library"
   ]
  },
  {
   "cell_type": "code",
   "execution_count": 8,
   "metadata": {},
   "outputs": [
    {
     "data": {
      "text/html": [
       "<div>\n",
       "<style scoped>\n",
       "    .dataframe tbody tr th:only-of-type {\n",
       "        vertical-align: middle;\n",
       "    }\n",
       "\n",
       "    .dataframe tbody tr th {\n",
       "        vertical-align: top;\n",
       "    }\n",
       "\n",
       "    .dataframe thead th {\n",
       "        text-align: right;\n",
       "    }\n",
       "</style>\n",
       "<table border=\"1\" class=\"dataframe\">\n",
       "  <thead>\n",
       "    <tr style=\"text-align: right;\">\n",
       "      <th></th>\n",
       "      <th>Date</th>\n",
       "      <th>AveragePrice</th>\n",
       "      <th>Total Avocados sold</th>\n",
       "      <th>PLU 4046 sold</th>\n",
       "      <th>PLU 4225 sold</th>\n",
       "      <th>PLU 4770 sold</th>\n",
       "      <th>Total Bags</th>\n",
       "      <th>Small Bags</th>\n",
       "      <th>Large Bags</th>\n",
       "      <th>XLarge Bags</th>\n",
       "      <th>type</th>\n",
       "      <th>year</th>\n",
       "      <th>region</th>\n",
       "    </tr>\n",
       "  </thead>\n",
       "  <tbody>\n",
       "    <tr>\n",
       "      <th>0</th>\n",
       "      <td>2015-12-27</td>\n",
       "      <td>1.33</td>\n",
       "      <td>64236.62</td>\n",
       "      <td>1036.74</td>\n",
       "      <td>54454.85</td>\n",
       "      <td>48.16</td>\n",
       "      <td>8696.87</td>\n",
       "      <td>8603.62</td>\n",
       "      <td>93.25</td>\n",
       "      <td>0.0</td>\n",
       "      <td>conventional</td>\n",
       "      <td>2015</td>\n",
       "      <td>Albany</td>\n",
       "    </tr>\n",
       "    <tr>\n",
       "      <th>1</th>\n",
       "      <td>2015-12-20</td>\n",
       "      <td>1.35</td>\n",
       "      <td>54876.98</td>\n",
       "      <td>674.28</td>\n",
       "      <td>44638.81</td>\n",
       "      <td>58.33</td>\n",
       "      <td>9505.56</td>\n",
       "      <td>9408.07</td>\n",
       "      <td>97.49</td>\n",
       "      <td>0.0</td>\n",
       "      <td>conventional</td>\n",
       "      <td>2015</td>\n",
       "      <td>Albany</td>\n",
       "    </tr>\n",
       "    <tr>\n",
       "      <th>2</th>\n",
       "      <td>2015-12-13</td>\n",
       "      <td>0.93</td>\n",
       "      <td>118220.22</td>\n",
       "      <td>794.70</td>\n",
       "      <td>109149.67</td>\n",
       "      <td>130.50</td>\n",
       "      <td>8145.35</td>\n",
       "      <td>8042.21</td>\n",
       "      <td>103.14</td>\n",
       "      <td>0.0</td>\n",
       "      <td>conventional</td>\n",
       "      <td>2015</td>\n",
       "      <td>Albany</td>\n",
       "    </tr>\n",
       "    <tr>\n",
       "      <th>3</th>\n",
       "      <td>2015-06-12</td>\n",
       "      <td>1.08</td>\n",
       "      <td>78992.15</td>\n",
       "      <td>1132.00</td>\n",
       "      <td>71976.41</td>\n",
       "      <td>72.58</td>\n",
       "      <td>5811.16</td>\n",
       "      <td>5677.40</td>\n",
       "      <td>133.76</td>\n",
       "      <td>0.0</td>\n",
       "      <td>conventional</td>\n",
       "      <td>2015</td>\n",
       "      <td>Albany</td>\n",
       "    </tr>\n",
       "    <tr>\n",
       "      <th>4</th>\n",
       "      <td>2015-11-29</td>\n",
       "      <td>1.28</td>\n",
       "      <td>51039.60</td>\n",
       "      <td>941.48</td>\n",
       "      <td>43838.39</td>\n",
       "      <td>75.78</td>\n",
       "      <td>6183.95</td>\n",
       "      <td>5986.26</td>\n",
       "      <td>197.69</td>\n",
       "      <td>0.0</td>\n",
       "      <td>conventional</td>\n",
       "      <td>2015</td>\n",
       "      <td>Albany</td>\n",
       "    </tr>\n",
       "  </tbody>\n",
       "</table>\n",
       "</div>"
      ],
      "text/plain": [
       "        Date  AveragePrice  Total Avocados sold  PLU 4046 sold  PLU 4225 sold  \\\n",
       "0 2015-12-27          1.33             64236.62        1036.74       54454.85   \n",
       "1 2015-12-20          1.35             54876.98         674.28       44638.81   \n",
       "2 2015-12-13          0.93            118220.22         794.70      109149.67   \n",
       "3 2015-06-12          1.08             78992.15        1132.00       71976.41   \n",
       "4 2015-11-29          1.28             51039.60         941.48       43838.39   \n",
       "\n",
       "   PLU 4770 sold  Total Bags  Small Bags  Large Bags  XLarge Bags  \\\n",
       "0          48.16     8696.87     8603.62       93.25          0.0   \n",
       "1          58.33     9505.56     9408.07       97.49          0.0   \n",
       "2         130.50     8145.35     8042.21      103.14          0.0   \n",
       "3          72.58     5811.16     5677.40      133.76          0.0   \n",
       "4          75.78     6183.95     5986.26      197.69          0.0   \n",
       "\n",
       "           type  year  region  \n",
       "0  conventional  2015  Albany  \n",
       "1  conventional  2015  Albany  \n",
       "2  conventional  2015  Albany  \n",
       "3  conventional  2015  Albany  \n",
       "4  conventional  2015  Albany  "
      ]
     },
     "execution_count": 8,
     "metadata": {},
     "output_type": "execute_result"
    }
   ],
   "source": [
    "import numpy as np\n",
    "df=df.rename(columns={'4046':'PLU 4046 sold','4225':'PLU 4225 sold','4770':'PLU 4770 sold','Total Volume':'Total Avocados sold'})\n",
    "#We are also renaming Total Volume to Total Avocados sold\n",
    "df.head()"
   ]
  },
  {
   "cell_type": "code",
   "execution_count": 9,
   "metadata": {},
   "outputs": [
    {
     "data": {
      "text/plain": [
       "Date                   0\n",
       "AveragePrice           0\n",
       "Total Avocados sold    0\n",
       "PLU 4046 sold          0\n",
       "PLU 4225 sold          0\n",
       "PLU 4770 sold          0\n",
       "Total Bags             0\n",
       "Small Bags             0\n",
       "Large Bags             0\n",
       "XLarge Bags            0\n",
       "type                   0\n",
       "year                   0\n",
       "region                 0\n",
       "dtype: int64"
      ]
     },
     "execution_count": 9,
     "metadata": {},
     "output_type": "execute_result"
    }
   ],
   "source": [
    "df.isnull().sum()   #Checking for null values in the dataset"
   ]
  },
  {
   "cell_type": "markdown",
   "metadata": {},
   "source": [
    "There are no missing values in the dataset"
   ]
  },
  {
   "cell_type": "markdown",
   "metadata": {},
   "source": [
    "# Handling the dataframe"
   ]
  },
  {
   "cell_type": "markdown",
   "metadata": {},
   "source": [
    "We need to analyse the dataset according to days and months so that we can further learn about the dataset. We can split by converting into dataframes separately and concatenating together after splitting."
   ]
  },
  {
   "cell_type": "code",
   "execution_count": 10,
   "metadata": {},
   "outputs": [
    {
     "data": {
      "text/html": [
       "<div>\n",
       "<style scoped>\n",
       "    .dataframe tbody tr th:only-of-type {\n",
       "        vertical-align: middle;\n",
       "    }\n",
       "\n",
       "    .dataframe tbody tr th {\n",
       "        vertical-align: top;\n",
       "    }\n",
       "\n",
       "    .dataframe thead th {\n",
       "        text-align: right;\n",
       "    }\n",
       "</style>\n",
       "<table border=\"1\" class=\"dataframe\">\n",
       "  <thead>\n",
       "    <tr style=\"text-align: right;\">\n",
       "      <th></th>\n",
       "      <th>AveragePrice</th>\n",
       "      <th>Total Avocados sold</th>\n",
       "      <th>PLU 4046 sold</th>\n",
       "      <th>PLU 4225 sold</th>\n",
       "      <th>PLU 4770 sold</th>\n",
       "      <th>Total Bags</th>\n",
       "      <th>Small Bags</th>\n",
       "      <th>Large Bags</th>\n",
       "      <th>XLarge Bags</th>\n",
       "      <th>year</th>\n",
       "      <th>region</th>\n",
       "    </tr>\n",
       "  </thead>\n",
       "  <tbody>\n",
       "    <tr>\n",
       "      <th>0</th>\n",
       "      <td>1.33</td>\n",
       "      <td>64236.62</td>\n",
       "      <td>1036.74</td>\n",
       "      <td>54454.85</td>\n",
       "      <td>48.16</td>\n",
       "      <td>8696.87</td>\n",
       "      <td>8603.62</td>\n",
       "      <td>93.25</td>\n",
       "      <td>0.0</td>\n",
       "      <td>2015</td>\n",
       "      <td>Albany</td>\n",
       "    </tr>\n",
       "    <tr>\n",
       "      <th>1</th>\n",
       "      <td>1.35</td>\n",
       "      <td>54876.98</td>\n",
       "      <td>674.28</td>\n",
       "      <td>44638.81</td>\n",
       "      <td>58.33</td>\n",
       "      <td>9505.56</td>\n",
       "      <td>9408.07</td>\n",
       "      <td>97.49</td>\n",
       "      <td>0.0</td>\n",
       "      <td>2015</td>\n",
       "      <td>Albany</td>\n",
       "    </tr>\n",
       "    <tr>\n",
       "      <th>2</th>\n",
       "      <td>0.93</td>\n",
       "      <td>118220.22</td>\n",
       "      <td>794.70</td>\n",
       "      <td>109149.67</td>\n",
       "      <td>130.50</td>\n",
       "      <td>8145.35</td>\n",
       "      <td>8042.21</td>\n",
       "      <td>103.14</td>\n",
       "      <td>0.0</td>\n",
       "      <td>2015</td>\n",
       "      <td>Albany</td>\n",
       "    </tr>\n",
       "    <tr>\n",
       "      <th>3</th>\n",
       "      <td>1.08</td>\n",
       "      <td>78992.15</td>\n",
       "      <td>1132.00</td>\n",
       "      <td>71976.41</td>\n",
       "      <td>72.58</td>\n",
       "      <td>5811.16</td>\n",
       "      <td>5677.40</td>\n",
       "      <td>133.76</td>\n",
       "      <td>0.0</td>\n",
       "      <td>2015</td>\n",
       "      <td>Albany</td>\n",
       "    </tr>\n",
       "    <tr>\n",
       "      <th>4</th>\n",
       "      <td>1.28</td>\n",
       "      <td>51039.60</td>\n",
       "      <td>941.48</td>\n",
       "      <td>43838.39</td>\n",
       "      <td>75.78</td>\n",
       "      <td>6183.95</td>\n",
       "      <td>5986.26</td>\n",
       "      <td>197.69</td>\n",
       "      <td>0.0</td>\n",
       "      <td>2015</td>\n",
       "      <td>Albany</td>\n",
       "    </tr>\n",
       "  </tbody>\n",
       "</table>\n",
       "</div>"
      ],
      "text/plain": [
       "   AveragePrice  Total Avocados sold  PLU 4046 sold  PLU 4225 sold  \\\n",
       "0          1.33             64236.62        1036.74       54454.85   \n",
       "1          1.35             54876.98         674.28       44638.81   \n",
       "2          0.93            118220.22         794.70      109149.67   \n",
       "3          1.08             78992.15        1132.00       71976.41   \n",
       "4          1.28             51039.60         941.48       43838.39   \n",
       "\n",
       "   PLU 4770 sold  Total Bags  Small Bags  Large Bags  XLarge Bags  year  \\\n",
       "0          48.16     8696.87     8603.62       93.25          0.0  2015   \n",
       "1          58.33     9505.56     9408.07       97.49          0.0  2015   \n",
       "2         130.50     8145.35     8042.21      103.14          0.0  2015   \n",
       "3          72.58     5811.16     5677.40      133.76          0.0  2015   \n",
       "4          75.78     6183.95     5986.26      197.69          0.0  2015   \n",
       "\n",
       "   region  \n",
       "0  Albany  \n",
       "1  Albany  \n",
       "2  Albany  \n",
       "3  Albany  \n",
       "4  Albany  "
      ]
     },
     "execution_count": 10,
     "metadata": {},
     "output_type": "execute_result"
    }
   ],
   "source": [
    "df1=pd.DataFrame()\n",
    "df1['month']=df['Date'].dt.month_name()\n",
    "df1['day']=df['Date'].dt.day_name()\n",
    "df=df.drop(columns=['Date','type'],axis=1)    #as there is a single type of avocado, we are dropping the column\n",
    "df.head()"
   ]
  },
  {
   "cell_type": "code",
   "execution_count": 11,
   "metadata": {},
   "outputs": [
    {
     "data": {
      "text/html": [
       "<div>\n",
       "<style scoped>\n",
       "    .dataframe tbody tr th:only-of-type {\n",
       "        vertical-align: middle;\n",
       "    }\n",
       "\n",
       "    .dataframe tbody tr th {\n",
       "        vertical-align: top;\n",
       "    }\n",
       "\n",
       "    .dataframe thead th {\n",
       "        text-align: right;\n",
       "    }\n",
       "</style>\n",
       "<table border=\"1\" class=\"dataframe\">\n",
       "  <thead>\n",
       "    <tr style=\"text-align: right;\">\n",
       "      <th></th>\n",
       "      <th>month</th>\n",
       "      <th>day</th>\n",
       "      <th>AveragePrice</th>\n",
       "      <th>Total Avocados sold</th>\n",
       "      <th>PLU 4046 sold</th>\n",
       "      <th>PLU 4225 sold</th>\n",
       "      <th>PLU 4770 sold</th>\n",
       "      <th>Total Bags</th>\n",
       "      <th>Small Bags</th>\n",
       "      <th>Large Bags</th>\n",
       "      <th>XLarge Bags</th>\n",
       "      <th>year</th>\n",
       "      <th>region</th>\n",
       "    </tr>\n",
       "  </thead>\n",
       "  <tbody>\n",
       "    <tr>\n",
       "      <th>0</th>\n",
       "      <td>December</td>\n",
       "      <td>Sunday</td>\n",
       "      <td>1.33</td>\n",
       "      <td>64236.62</td>\n",
       "      <td>1036.74</td>\n",
       "      <td>54454.85</td>\n",
       "      <td>48.16</td>\n",
       "      <td>8696.87</td>\n",
       "      <td>8603.62</td>\n",
       "      <td>93.25</td>\n",
       "      <td>0.0</td>\n",
       "      <td>2015</td>\n",
       "      <td>Albany</td>\n",
       "    </tr>\n",
       "    <tr>\n",
       "      <th>1</th>\n",
       "      <td>December</td>\n",
       "      <td>Sunday</td>\n",
       "      <td>1.35</td>\n",
       "      <td>54876.98</td>\n",
       "      <td>674.28</td>\n",
       "      <td>44638.81</td>\n",
       "      <td>58.33</td>\n",
       "      <td>9505.56</td>\n",
       "      <td>9408.07</td>\n",
       "      <td>97.49</td>\n",
       "      <td>0.0</td>\n",
       "      <td>2015</td>\n",
       "      <td>Albany</td>\n",
       "    </tr>\n",
       "    <tr>\n",
       "      <th>2</th>\n",
       "      <td>December</td>\n",
       "      <td>Sunday</td>\n",
       "      <td>0.93</td>\n",
       "      <td>118220.22</td>\n",
       "      <td>794.70</td>\n",
       "      <td>109149.67</td>\n",
       "      <td>130.50</td>\n",
       "      <td>8145.35</td>\n",
       "      <td>8042.21</td>\n",
       "      <td>103.14</td>\n",
       "      <td>0.0</td>\n",
       "      <td>2015</td>\n",
       "      <td>Albany</td>\n",
       "    </tr>\n",
       "    <tr>\n",
       "      <th>3</th>\n",
       "      <td>June</td>\n",
       "      <td>Friday</td>\n",
       "      <td>1.08</td>\n",
       "      <td>78992.15</td>\n",
       "      <td>1132.00</td>\n",
       "      <td>71976.41</td>\n",
       "      <td>72.58</td>\n",
       "      <td>5811.16</td>\n",
       "      <td>5677.40</td>\n",
       "      <td>133.76</td>\n",
       "      <td>0.0</td>\n",
       "      <td>2015</td>\n",
       "      <td>Albany</td>\n",
       "    </tr>\n",
       "    <tr>\n",
       "      <th>4</th>\n",
       "      <td>November</td>\n",
       "      <td>Sunday</td>\n",
       "      <td>1.28</td>\n",
       "      <td>51039.60</td>\n",
       "      <td>941.48</td>\n",
       "      <td>43838.39</td>\n",
       "      <td>75.78</td>\n",
       "      <td>6183.95</td>\n",
       "      <td>5986.26</td>\n",
       "      <td>197.69</td>\n",
       "      <td>0.0</td>\n",
       "      <td>2015</td>\n",
       "      <td>Albany</td>\n",
       "    </tr>\n",
       "  </tbody>\n",
       "</table>\n",
       "</div>"
      ],
      "text/plain": [
       "      month     day  AveragePrice  Total Avocados sold  PLU 4046 sold  \\\n",
       "0  December  Sunday          1.33             64236.62        1036.74   \n",
       "1  December  Sunday          1.35             54876.98         674.28   \n",
       "2  December  Sunday          0.93            118220.22         794.70   \n",
       "3      June  Friday          1.08             78992.15        1132.00   \n",
       "4  November  Sunday          1.28             51039.60         941.48   \n",
       "\n",
       "   PLU 4225 sold  PLU 4770 sold  Total Bags  Small Bags  Large Bags  \\\n",
       "0       54454.85          48.16     8696.87     8603.62       93.25   \n",
       "1       44638.81          58.33     9505.56     9408.07       97.49   \n",
       "2      109149.67         130.50     8145.35     8042.21      103.14   \n",
       "3       71976.41          72.58     5811.16     5677.40      133.76   \n",
       "4       43838.39          75.78     6183.95     5986.26      197.69   \n",
       "\n",
       "   XLarge Bags  year  region  \n",
       "0          0.0  2015  Albany  \n",
       "1          0.0  2015  Albany  \n",
       "2          0.0  2015  Albany  \n",
       "3          0.0  2015  Albany  \n",
       "4          0.0  2015  Albany  "
      ]
     },
     "execution_count": 11,
     "metadata": {},
     "output_type": "execute_result"
    }
   ],
   "source": [
    "#Concatenating df and df1 together using concat\n",
    "df=pd.concat([df1,df],axis=1)\n",
    "df.head()"
   ]
  },
  {
   "cell_type": "markdown",
   "metadata": {},
   "source": [
    "After concatenating, we can see that date has been converted to month and day respectively."
   ]
  },
  {
   "cell_type": "markdown",
   "metadata": {},
   "source": [
    "# Exploratory Data Analysis"
   ]
  },
  {
   "cell_type": "code",
   "execution_count": 12,
   "metadata": {},
   "outputs": [],
   "source": [
    "#Importing Matplotlib and Seaborn\n",
    "import seaborn as sns\n",
    "import matplotlib.pyplot as plt"
   ]
  },
  {
   "cell_type": "markdown",
   "metadata": {},
   "source": [
    "# Univariate Analysis"
   ]
  },
  {
   "cell_type": "code",
   "execution_count": 13,
   "metadata": {},
   "outputs": [
    {
     "name": "stdout",
     "output_type": "stream",
     "text": [
      "2015    1270\n",
      "2016     247\n",
      "Name: year, dtype: int64\n"
     ]
    },
    {
     "data": {
      "image/png": "[encoded data removed]",
      "text/plain": [
       "<Figure size 432x288 with 1 Axes>"
      ]
     },
     "metadata": {
      "needs_background": "light"
     },
     "output_type": "display_data"
    }
   ],
   "source": [
    "#Checking out total avocado in each year\n",
    "print(df['year'].value_counts())\n",
    "sns.countplot(x='year',data=df)\n",
    "plt.show()"
   ]
  },
  {
   "cell_type": "markdown",
   "metadata": {},
   "source": [
    "We can see that 1270 records of avocado data are in the year 2015 whereas 247 records of avocado data are in the year 2016"
   ]
  },
  {
   "cell_type": "code",
   "execution_count": 14,
   "metadata": {},
   "outputs": [
    {
     "data": {
      "image/png": "[encoded data removed]",
      "text/plain": [
       "<Figure size 432x288 with 1 Axes>"
      ]
     },
     "metadata": {},
     "output_type": "display_data"
    }
   ],
   "source": [
    "#Checking the distribution of price using violin plot\n",
    "sns.set_style('white')\n",
    "sns.violinplot(df['AveragePrice'])\n",
    "plt.show()"
   ]
  },
  {
   "cell_type": "code",
   "execution_count": 15,
   "metadata": {},
   "outputs": [
    {
     "data": {
      "image/png": "[encoded data removed]",
      "text/plain": [
       "<Figure size 432x288 with 1 Axes>"
      ]
     },
     "metadata": {},
     "output_type": "display_data"
    }
   ],
   "source": [
    "#Checking the distribution of total bags using violin plot\n",
    "sns.violinplot(df['Total Bags'])\n",
    "plt.show()"
   ]
  },
  {
   "cell_type": "code",
   "execution_count": 16,
   "metadata": {},
   "outputs": [
    {
     "data": {
      "image/png": "[encoded data removed]",
      "text/plain": [
       "<Figure size 432x288 with 1 Axes>"
      ]
     },
     "metadata": {},
     "output_type": "display_data"
    }
   ],
   "source": [
    "#Checking the distribution of PLU 4046 sold using violin plot\n",
    "sns.violinplot(df['PLU 4046 sold'])\n",
    "plt.show()"
   ]
  },
  {
   "cell_type": "markdown",
   "metadata": {},
   "source": [
    "# Bivariate Analysis"
   ]
  },
  {
   "cell_type": "code",
   "execution_count": 17,
   "metadata": {},
   "outputs": [
    {
     "data": {
      "text/plain": [
       "<matplotlib.axes._subplots.AxesSubplot at 0x1f6d28360a0>"
      ]
     },
     "execution_count": 17,
     "metadata": {},
     "output_type": "execute_result"
    },
    {
     "data": {
      "image/png": "[encoded data removed]",
      "text/plain": [
       "<Figure size 1440x1440 with 6 Axes>"
      ]
     },
     "metadata": {},
     "output_type": "display_data"
    }
   ],
   "source": [
    "#Plotting year with diffrent data parameters\n",
    "fig, axes = plt.subplots(3, 2, figsize=(20,20))  #axes is for giving dimensions to the figures we are plotting\n",
    "#3 means 3 rows and 2 means 2 columns\n",
    "\n",
    "fig.suptitle('Avocado Analysis Based on year',fontsize=25)  #Adding a centered title to the figure using suptitle\n",
    "sns.set_style('whitegrid')\n",
    "\n",
    "#Plotting year vs Average price relationship using barplot\n",
    "sns.barplot(ax=axes[0, 0],x='year',y='AveragePrice',data=df,palette=\"Set1\")\n",
    "#ax=axes[0,0] means we are plotting the figure on 0th row and 0th column\n",
    "\n",
    "#Plotting year vs Total avocados sold relationship using barplot\n",
    "sns.barplot(ax=axes[0, 1],x='year',y='Total Avocados sold',data=df,palette=\"Set2\")\n",
    "#ax=axes[0,1] means we are plotting the figure on 0th row and 1st column\n",
    "\n",
    "#Plotting year vs PLU 4046 sold relationship using barplot\n",
    "sns.barplot(ax=axes[1, 0],x='year',y='PLU 4046 sold',data=df,palette=\"rainbow\")\n",
    "#ax=axes[1,0] means we are plotting the figure on 1st row and 0th column\n",
    "\n",
    "#Plotting year vs PLU 4225 sold relationship using barplot\n",
    "sns.barplot(ax=axes[1, 1],x='year',y='PLU 4225 sold',data=df,palette=\"Wistia\")\n",
    "#ax=axes[1,1] means we are plotting the figure on 1st row and 1st column\n",
    "\n",
    "#Plotting year vs PLU 4770 sold relationship using barplot\n",
    "sns.barplot(ax=axes[2, 0],x='year',y='PLU 4770 sold',data=df,palette=\"autumn\")\n",
    "#ax=axes[2,0] means we are plotting the figure on 2nd row and 0th column\n",
    "\n",
    "#Plotting year vs Total Bags relationship using barplot\n",
    "sns.barplot(ax=axes[2, 1],x='year',y='Total Bags',data=df)\n",
    "#ax=axes[2,1] means we are plotting the figure on 2nd row and 1st column"
   ]
  },
  {
   "cell_type": "markdown",
   "metadata": {},
   "source": [
    "Observations:\n",
    "\n",
    "1.Maximum average price of avocado is in 2016 and minimum average price in 2015.\n",
    "\n",
    "2.Maximum avocados were sold in 2015 and minimum number of avocados were sold in 2016.\n",
    "\n",
    "3.In 2015, PLU 4046 were sold more compared to 2016.\n",
    "\n",
    "4.In 2015, PLU 4225 were sold more compared to 2016.\n",
    "\n",
    "5.In 2016, PLU 4770 were sold more compared to 2015.\n",
    "\n",
    "6.Total number of bags were used more in 2016."
   ]
  },
  {
   "cell_type": "code",
   "execution_count": 18,
   "metadata": {},
   "outputs": [
    {
     "name": "stdout",
     "output_type": "stream",
     "text": [
      "AxesSubplot(0.125,0.657941;0.775x0.222059)\n",
      "AxesSubplot(0.125,0.391471;0.775x0.222059)\n",
      "AxesSubplot(0.125,0.125;0.775x0.222059)\n"
     ]
    },
    {
     "data": {
      "image/png": "[encoded data removed]",
      "text/plain": [
       "<Figure size 936x792 with 3 Axes>"
      ]
     },
     "metadata": {},
     "output_type": "display_data"
    }
   ],
   "source": [
    "plt.figure(figsize = (13,11))\n",
    "sns.set_style('whitegrid')\n",
    "plt.xticks(np.linspace(1,2,5))\n",
    "plt.suptitle('Avocado Analysis Based on month',fontsize=25)\n",
    "plt.subplot(311)\n",
    "print(sns.barplot(x='month',y='AveragePrice',data=df,palette=\"Set1\"))\n",
    "\n",
    "plt.subplot(312)\n",
    "print(sns.barplot(x='month',y='Total Avocados sold',data=df,palette=\"rainbow\"))\n",
    "\n",
    "plt.subplot(313)\n",
    "print(sns.barplot(x='month',y='Total Bags',data=df,palette=\"twilight_shifted_r\"))"
   ]
  },
  {
   "cell_type": "markdown",
   "metadata": {},
   "source": [
    "Observations:\n",
    "\n",
    "1.We can observe the average price of avocados is higher in the month of November, while lesser in the month of January.\n",
    "\n",
    "2.Maximum number of avocados were sold in the month of May, whereas minimum number of avocados were sold in November. \n",
    "\n",
    "3.Maximum number of bags were used in July, whereas minimum number of bags were used in September."
   ]
  },
  {
   "cell_type": "code",
   "execution_count": 19,
   "metadata": {},
   "outputs": [
    {
     "data": {
      "text/plain": [
       "Text(0, 0.5, 'Total Avocados sold')"
      ]
     },
     "execution_count": 19,
     "metadata": {},
     "output_type": "execute_result"
    },
    {
     "data": {
      "image/png": "[encoded data removed]",
      "text/plain": [
       "<Figure size 1080x360 with 1 Axes>"
      ]
     },
     "metadata": {},
     "output_type": "display_data"
    }
   ],
   "source": [
    "#Checking the ratio of total avocados sold in Each region\n",
    "plt.figure(figsize=(15,30))\n",
    "sns.set_style('whitegrid')\n",
    "plt.xticks(np.linspace(1,2,5))\n",
    "plt.title('Total Avocados Sold in Each Region',{'fontsize':20})\n",
    "df.groupby(\"region\")[\"Total Avocados sold\"].sum().sort_values(ascending=False).plot(kind=\"bar\",figsize=(15,5))\n",
    "plt.xlabel('Region',{'fontsize' : 'large'})\n",
    "plt.ylabel('Total Avocados sold',{'fontsize':'large'})"
   ]
  },
  {
   "cell_type": "markdown",
   "metadata": {},
   "source": [
    "We can see that more number of avocados were sold in TotalUS region and less number of avocados were sold in regions like Albany, Boise, Seattle, etc."
   ]
  },
  {
   "cell_type": "code",
   "execution_count": 20,
   "metadata": {},
   "outputs": [
    {
     "data": {
      "text/plain": [
       "Text(0, 0.5, 'Total Avocados sold')"
      ]
     },
     "execution_count": 20,
     "metadata": {},
     "output_type": "execute_result"
    },
    {
     "data": {
      "image/png": "[encoded data removed]",
      "text/plain": [
       "<Figure size 1080x360 with 1 Axes>"
      ]
     },
     "metadata": {},
     "output_type": "display_data"
    }
   ],
   "source": [
    "# lets check the which week got highest Avocado sell in year 2018.\n",
    "df.groupby(\"day\")[\"Total Avocados sold\"].sum().sort_values(ascending=False).plot(kind=\"bar\",figsize=(15,5))\n",
    "plt.title('Highest Avocado sold on the basis of day',{'fontsize':20})\n",
    "plt.xlabel('Day',{'fontsize' : 'large'})\n",
    "plt.ylabel('Total Avocados sold',{'fontsize':'large'})"
   ]
  },
  {
   "cell_type": "markdown",
   "metadata": {},
   "source": [
    "More avocados were sold on Sundays, whereas minimum number of avocados were sold on Wednesday."
   ]
  },
  {
   "cell_type": "code",
   "execution_count": 21,
   "metadata": {},
   "outputs": [
    {
     "data": {
      "text/plain": [
       "Text(0.5, 1.0, 'Average price in different regions')"
      ]
     },
     "execution_count": 21,
     "metadata": {},
     "output_type": "execute_result"
    },
    {
     "data": {
      "image/png": "[encoded data removed]",
      "text/plain": [
       "<Figure size 1080x360 with 1 Axes>"
      ]
     },
     "metadata": {},
     "output_type": "display_data"
    }
   ],
   "source": [
    "#How Average price varies by comparing with different regions\n",
    "region = df.groupby('region')['AveragePrice'].sum().sort_values(ascending=False).reset_index()\n",
    "# Visualizing by bar plot\n",
    "plt.figure(figsize=(15,5))\n",
    "ax = sns.barplot(region['region'],region['AveragePrice'])\n",
    "plt.xticks(rotation= 90)\n",
    "plt.title(\"Average price in different regions\")"
   ]
  },
  {
   "cell_type": "markdown",
   "metadata": {},
   "source": [
    "The average price in Albany is maximum whereas the average price in LosAngeles is minimum"
   ]
  },
  {
   "cell_type": "markdown",
   "metadata": {},
   "source": [
    "# Multivariate Analysis"
   ]
  },
  {
   "cell_type": "code",
   "execution_count": 22,
   "metadata": {},
   "outputs": [
    {
     "data": {
      "text/html": [
       "<div>\n",
       "<style scoped>\n",
       "    .dataframe tbody tr th:only-of-type {\n",
       "        vertical-align: middle;\n",
       "    }\n",
       "\n",
       "    .dataframe tbody tr th {\n",
       "        vertical-align: top;\n",
       "    }\n",
       "\n",
       "    .dataframe thead th {\n",
       "        text-align: right;\n",
       "    }\n",
       "</style>\n",
       "<table border=\"1\" class=\"dataframe\">\n",
       "  <thead>\n",
       "    <tr style=\"text-align: right;\">\n",
       "      <th></th>\n",
       "      <th>AveragePrice</th>\n",
       "      <th>Total Avocados sold</th>\n",
       "      <th>PLU 4046 sold</th>\n",
       "      <th>PLU 4225 sold</th>\n",
       "      <th>PLU 4770 sold</th>\n",
       "      <th>Total Bags</th>\n",
       "      <th>Small Bags</th>\n",
       "      <th>Large Bags</th>\n",
       "      <th>XLarge Bags</th>\n",
       "      <th>year</th>\n",
       "    </tr>\n",
       "  </thead>\n",
       "  <tbody>\n",
       "    <tr>\n",
       "      <th>count</th>\n",
       "      <td>1517.000000</td>\n",
       "      <td>1.517000e+03</td>\n",
       "      <td>1.517000e+03</td>\n",
       "      <td>1.517000e+03</td>\n",
       "      <td>1.517000e+03</td>\n",
       "      <td>1.517000e+03</td>\n",
       "      <td>1.517000e+03</td>\n",
       "      <td>1.517000e+03</td>\n",
       "      <td>1517.000000</td>\n",
       "      <td>1517.000000</td>\n",
       "    </tr>\n",
       "    <tr>\n",
       "      <th>mean</th>\n",
       "      <td>1.074990</td>\n",
       "      <td>1.601879e+06</td>\n",
       "      <td>6.464387e+05</td>\n",
       "      <td>6.114375e+05</td>\n",
       "      <td>5.040550e+04</td>\n",
       "      <td>2.935974e+05</td>\n",
       "      <td>2.487736e+05</td>\n",
       "      <td>4.264205e+04</td>\n",
       "      <td>2181.771074</td>\n",
       "      <td>2015.162821</td>\n",
       "    </tr>\n",
       "    <tr>\n",
       "      <th>std</th>\n",
       "      <td>0.188891</td>\n",
       "      <td>4.433143e+06</td>\n",
       "      <td>1.947614e+06</td>\n",
       "      <td>1.672906e+06</td>\n",
       "      <td>1.377812e+05</td>\n",
       "      <td>7.579765e+05</td>\n",
       "      <td>6.474765e+05</td>\n",
       "      <td>1.182157e+05</td>\n",
       "      <td>7455.712144</td>\n",
       "      <td>0.369324</td>\n",
       "    </tr>\n",
       "    <tr>\n",
       "      <th>min</th>\n",
       "      <td>0.490000</td>\n",
       "      <td>3.875074e+04</td>\n",
       "      <td>4.677200e+02</td>\n",
       "      <td>1.783770e+03</td>\n",
       "      <td>0.000000e+00</td>\n",
       "      <td>3.311770e+03</td>\n",
       "      <td>3.311770e+03</td>\n",
       "      <td>0.000000e+00</td>\n",
       "      <td>0.000000</td>\n",
       "      <td>2015.000000</td>\n",
       "    </tr>\n",
       "    <tr>\n",
       "      <th>25%</th>\n",
       "      <td>0.980000</td>\n",
       "      <td>1.474700e+05</td>\n",
       "      <td>2.040034e+04</td>\n",
       "      <td>4.147606e+04</td>\n",
       "      <td>9.112500e+02</td>\n",
       "      <td>3.620689e+04</td>\n",
       "      <td>2.972722e+04</td>\n",
       "      <td>5.407400e+02</td>\n",
       "      <td>0.000000</td>\n",
       "      <td>2015.000000</td>\n",
       "    </tr>\n",
       "    <tr>\n",
       "      <th>50%</th>\n",
       "      <td>1.080000</td>\n",
       "      <td>4.027919e+05</td>\n",
       "      <td>8.175117e+04</td>\n",
       "      <td>1.186649e+05</td>\n",
       "      <td>7.688170e+03</td>\n",
       "      <td>7.397906e+04</td>\n",
       "      <td>6.237569e+04</td>\n",
       "      <td>5.044350e+03</td>\n",
       "      <td>0.000000</td>\n",
       "      <td>2015.000000</td>\n",
       "    </tr>\n",
       "    <tr>\n",
       "      <th>75%</th>\n",
       "      <td>1.190000</td>\n",
       "      <td>9.819751e+05</td>\n",
       "      <td>3.775785e+05</td>\n",
       "      <td>4.851503e+05</td>\n",
       "      <td>2.916730e+04</td>\n",
       "      <td>1.576097e+05</td>\n",
       "      <td>1.461994e+05</td>\n",
       "      <td>2.926767e+04</td>\n",
       "      <td>401.480000</td>\n",
       "      <td>2015.000000</td>\n",
       "    </tr>\n",
       "    <tr>\n",
       "      <th>max</th>\n",
       "      <td>1.680000</td>\n",
       "      <td>4.465546e+07</td>\n",
       "      <td>1.893304e+07</td>\n",
       "      <td>1.895648e+07</td>\n",
       "      <td>1.381516e+06</td>\n",
       "      <td>6.736304e+06</td>\n",
       "      <td>5.893642e+06</td>\n",
       "      <td>1.121076e+06</td>\n",
       "      <td>108072.790000</td>\n",
       "      <td>2016.000000</td>\n",
       "    </tr>\n",
       "  </tbody>\n",
       "</table>\n",
       "</div>"
      ],
      "text/plain": [
       "       AveragePrice  Total Avocados sold  PLU 4046 sold  PLU 4225 sold  \\\n",
       "count   1517.000000         1.517000e+03   1.517000e+03   1.517000e+03   \n",
       "mean       1.074990         1.601879e+06   6.464387e+05   6.114375e+05   \n",
       "std        0.188891         4.433143e+06   1.947614e+06   1.672906e+06   \n",
       "min        0.490000         3.875074e+04   4.677200e+02   1.783770e+03   \n",
       "25%        0.980000         1.474700e+05   2.040034e+04   4.147606e+04   \n",
       "50%        1.080000         4.027919e+05   8.175117e+04   1.186649e+05   \n",
       "75%        1.190000         9.819751e+05   3.775785e+05   4.851503e+05   \n",
       "max        1.680000         4.465546e+07   1.893304e+07   1.895648e+07   \n",
       "\n",
       "       PLU 4770 sold    Total Bags    Small Bags    Large Bags    XLarge Bags  \\\n",
       "count   1.517000e+03  1.517000e+03  1.517000e+03  1.517000e+03    1517.000000   \n",
       "mean    5.040550e+04  2.935974e+05  2.487736e+05  4.264205e+04    2181.771074   \n",
       "std     1.377812e+05  7.579765e+05  6.474765e+05  1.182157e+05    7455.712144   \n",
       "min     0.000000e+00  3.311770e+03  3.311770e+03  0.000000e+00       0.000000   \n",
       "25%     9.112500e+02  3.620689e+04  2.972722e+04  5.407400e+02       0.000000   \n",
       "50%     7.688170e+03  7.397906e+04  6.237569e+04  5.044350e+03       0.000000   \n",
       "75%     2.916730e+04  1.576097e+05  1.461994e+05  2.926767e+04     401.480000   \n",
       "max     1.381516e+06  6.736304e+06  5.893642e+06  1.121076e+06  108072.790000   \n",
       "\n",
       "              year  \n",
       "count  1517.000000  \n",
       "mean   2015.162821  \n",
       "std       0.369324  \n",
       "min    2015.000000  \n",
       "25%    2015.000000  \n",
       "50%    2015.000000  \n",
       "75%    2015.000000  \n",
       "max    2016.000000  "
      ]
     },
     "execution_count": 22,
     "metadata": {},
     "output_type": "execute_result"
    }
   ],
   "source": [
    "df.describe()    #Statistical summary of the dataset"
   ]
  },
  {
   "cell_type": "markdown",
   "metadata": {},
   "source": [
    "Observations:\n",
    "\n",
    "1.There is not much difference between the mean and median values.\n",
    "\n",
    "2.The standard deviation value for XLarge Bags is high.\n",
    "\n",
    "3.There can be outliers present in this dataset as the difference between the 75th percentile and max values are bit higher for some columns."
   ]
  },
  {
   "cell_type": "code",
   "execution_count": 23,
   "metadata": {},
   "outputs": [
    {
     "data": {
      "text/html": [
       "<div>\n",
       "<style scoped>\n",
       "    .dataframe tbody tr th:only-of-type {\n",
       "        vertical-align: middle;\n",
       "    }\n",
       "\n",
       "    .dataframe tbody tr th {\n",
       "        vertical-align: top;\n",
       "    }\n",
       "\n",
       "    .dataframe thead th {\n",
       "        text-align: right;\n",
       "    }\n",
       "</style>\n",
       "<table border=\"1\" class=\"dataframe\">\n",
       "  <thead>\n",
       "    <tr style=\"text-align: right;\">\n",
       "      <th></th>\n",
       "      <th>AveragePrice</th>\n",
       "      <th>Total Avocados sold</th>\n",
       "      <th>PLU 4046 sold</th>\n",
       "      <th>PLU 4225 sold</th>\n",
       "      <th>PLU 4770 sold</th>\n",
       "      <th>Total Bags</th>\n",
       "      <th>Small Bags</th>\n",
       "      <th>Large Bags</th>\n",
       "      <th>XLarge Bags</th>\n",
       "      <th>year</th>\n",
       "    </tr>\n",
       "  </thead>\n",
       "  <tbody>\n",
       "    <tr>\n",
       "      <th>AveragePrice</th>\n",
       "      <td>1.000000</td>\n",
       "      <td>-0.140470</td>\n",
       "      <td>-0.190096</td>\n",
       "      <td>-0.092084</td>\n",
       "      <td>-0.100567</td>\n",
       "      <td>-0.111597</td>\n",
       "      <td>-0.097682</td>\n",
       "      <td>-0.177480</td>\n",
       "      <td>-0.048284</td>\n",
       "      <td>0.178683</td>\n",
       "    </tr>\n",
       "    <tr>\n",
       "      <th>Total Avocados sold</th>\n",
       "      <td>-0.140470</td>\n",
       "      <td>1.000000</td>\n",
       "      <td>0.985568</td>\n",
       "      <td>0.987154</td>\n",
       "      <td>0.934347</td>\n",
       "      <td>0.967689</td>\n",
       "      <td>0.960642</td>\n",
       "      <td>0.910226</td>\n",
       "      <td>0.521717</td>\n",
       "      <td>-0.004189</td>\n",
       "    </tr>\n",
       "    <tr>\n",
       "      <th>PLU 4046 sold</th>\n",
       "      <td>-0.190096</td>\n",
       "      <td>0.985568</td>\n",
       "      <td>1.000000</td>\n",
       "      <td>0.951952</td>\n",
       "      <td>0.898570</td>\n",
       "      <td>0.930395</td>\n",
       "      <td>0.922278</td>\n",
       "      <td>0.884229</td>\n",
       "      <td>0.474063</td>\n",
       "      <td>-0.040439</td>\n",
       "    </tr>\n",
       "    <tr>\n",
       "      <th>PLU 4225 sold</th>\n",
       "      <td>-0.092084</td>\n",
       "      <td>0.987154</td>\n",
       "      <td>0.951952</td>\n",
       "      <td>1.000000</td>\n",
       "      <td>0.927757</td>\n",
       "      <td>0.951779</td>\n",
       "      <td>0.943988</td>\n",
       "      <td>0.900496</td>\n",
       "      <td>0.504718</td>\n",
       "      <td>-0.007254</td>\n",
       "    </tr>\n",
       "    <tr>\n",
       "      <th>PLU 4770 sold</th>\n",
       "      <td>-0.100567</td>\n",
       "      <td>0.934347</td>\n",
       "      <td>0.898570</td>\n",
       "      <td>0.927757</td>\n",
       "      <td>1.000000</td>\n",
       "      <td>0.926405</td>\n",
       "      <td>0.923607</td>\n",
       "      <td>0.840523</td>\n",
       "      <td>0.646053</td>\n",
       "      <td>0.029222</td>\n",
       "    </tr>\n",
       "    <tr>\n",
       "      <th>Total Bags</th>\n",
       "      <td>-0.111597</td>\n",
       "      <td>0.967689</td>\n",
       "      <td>0.930395</td>\n",
       "      <td>0.951779</td>\n",
       "      <td>0.926405</td>\n",
       "      <td>1.000000</td>\n",
       "      <td>0.997341</td>\n",
       "      <td>0.911336</td>\n",
       "      <td>0.601856</td>\n",
       "      <td>0.090108</td>\n",
       "    </tr>\n",
       "    <tr>\n",
       "      <th>Small Bags</th>\n",
       "      <td>-0.097682</td>\n",
       "      <td>0.960642</td>\n",
       "      <td>0.922278</td>\n",
       "      <td>0.943988</td>\n",
       "      <td>0.923607</td>\n",
       "      <td>0.997341</td>\n",
       "      <td>1.000000</td>\n",
       "      <td>0.879131</td>\n",
       "      <td>0.611300</td>\n",
       "      <td>0.106382</td>\n",
       "    </tr>\n",
       "    <tr>\n",
       "      <th>Large Bags</th>\n",
       "      <td>-0.177480</td>\n",
       "      <td>0.910226</td>\n",
       "      <td>0.884229</td>\n",
       "      <td>0.900496</td>\n",
       "      <td>0.840523</td>\n",
       "      <td>0.911336</td>\n",
       "      <td>0.879131</td>\n",
       "      <td>1.000000</td>\n",
       "      <td>0.447779</td>\n",
       "      <td>-0.018678</td>\n",
       "    </tr>\n",
       "    <tr>\n",
       "      <th>XLarge Bags</th>\n",
       "      <td>-0.048284</td>\n",
       "      <td>0.521717</td>\n",
       "      <td>0.474063</td>\n",
       "      <td>0.504718</td>\n",
       "      <td>0.646053</td>\n",
       "      <td>0.601856</td>\n",
       "      <td>0.611300</td>\n",
       "      <td>0.447779</td>\n",
       "      <td>1.000000</td>\n",
       "      <td>0.218342</td>\n",
       "    </tr>\n",
       "    <tr>\n",
       "      <th>year</th>\n",
       "      <td>0.178683</td>\n",
       "      <td>-0.004189</td>\n",
       "      <td>-0.040439</td>\n",
       "      <td>-0.007254</td>\n",
       "      <td>0.029222</td>\n",
       "      <td>0.090108</td>\n",
       "      <td>0.106382</td>\n",
       "      <td>-0.018678</td>\n",
       "      <td>0.218342</td>\n",
       "      <td>1.000000</td>\n",
       "    </tr>\n",
       "  </tbody>\n",
       "</table>\n",
       "</div>"
      ],
      "text/plain": [
       "                     AveragePrice  Total Avocados sold  PLU 4046 sold  \\\n",
       "AveragePrice             1.000000            -0.140470      -0.190096   \n",
       "Total Avocados sold     -0.140470             1.000000       0.985568   \n",
       "PLU 4046 sold           -0.190096             0.985568       1.000000   \n",
       "PLU 4225 sold           -0.092084             0.987154       0.951952   \n",
       "PLU 4770 sold           -0.100567             0.934347       0.898570   \n",
       "Total Bags              -0.111597             0.967689       0.930395   \n",
       "Small Bags              -0.097682             0.960642       0.922278   \n",
       "Large Bags              -0.177480             0.910226       0.884229   \n",
       "XLarge Bags             -0.048284             0.521717       0.474063   \n",
       "year                     0.178683            -0.004189      -0.040439   \n",
       "\n",
       "                     PLU 4225 sold  PLU 4770 sold  Total Bags  Small Bags  \\\n",
       "AveragePrice             -0.092084      -0.100567   -0.111597   -0.097682   \n",
       "Total Avocados sold       0.987154       0.934347    0.967689    0.960642   \n",
       "PLU 4046 sold             0.951952       0.898570    0.930395    0.922278   \n",
       "PLU 4225 sold             1.000000       0.927757    0.951779    0.943988   \n",
       "PLU 4770 sold             0.927757       1.000000    0.926405    0.923607   \n",
       "Total Bags                0.951779       0.926405    1.000000    0.997341   \n",
       "Small Bags                0.943988       0.923607    0.997341    1.000000   \n",
       "Large Bags                0.900496       0.840523    0.911336    0.879131   \n",
       "XLarge Bags               0.504718       0.646053    0.601856    0.611300   \n",
       "year                     -0.007254       0.029222    0.090108    0.106382   \n",
       "\n",
       "                     Large Bags  XLarge Bags      year  \n",
       "AveragePrice          -0.177480    -0.048284  0.178683  \n",
       "Total Avocados sold    0.910226     0.521717 -0.004189  \n",
       "PLU 4046 sold          0.884229     0.474063 -0.040439  \n",
       "PLU 4225 sold          0.900496     0.504718 -0.007254  \n",
       "PLU 4770 sold          0.840523     0.646053  0.029222  \n",
       "Total Bags             0.911336     0.601856  0.090108  \n",
       "Small Bags             0.879131     0.611300  0.106382  \n",
       "Large Bags             1.000000     0.447779 -0.018678  \n",
       "XLarge Bags            0.447779     1.000000  0.218342  \n",
       "year                  -0.018678     0.218342  1.000000  "
      ]
     },
     "execution_count": 23,
     "metadata": {},
     "output_type": "execute_result"
    }
   ],
   "source": [
    "#Checking correlation of the dataset\n",
    "corr=df.corr()  #corr() function provides the correlation value of each column\n",
    "corr"
   ]
  },
  {
   "cell_type": "code",
   "execution_count": 24,
   "metadata": {},
   "outputs": [
    {
     "data": {
      "image/png": "[encoded data removed]",
      "text/plain": [
       "<Figure size 1440x720 with 2 Axes>"
      ]
     },
     "metadata": {},
     "output_type": "display_data"
    }
   ],
   "source": [
    "#Plotting heatmap to understand the visualization of correlation\n",
    "plt.figure(figsize=(20,10))\n",
    "sns.heatmap(corr,linewidth=0.5,linecolor='black',annot=True)\n",
    "plt.show()"
   ]
  },
  {
   "cell_type": "markdown",
   "metadata": {},
   "source": [
    "Observations:\n",
    "\n",
    "1.Most of the columns are highly positive correlated with each other\n",
    "\n",
    "2.PLU 4046 sold, PLU 4225 sold and Total Avocados sold are the columns that are having a value of 99%.\n",
    "\n",
    "3.Year column is the most negatively correlated column among all but the values are very less.\n",
    "\n",
    "4.Positively correlated columns have high impact with the target variable, whereas negatively correlated columns have less or zero impact with the target variable."
   ]
  },
  {
   "cell_type": "markdown",
   "metadata": {},
   "source": [
    "# Converting categorical data into numerical data"
   ]
  },
  {
   "cell_type": "code",
   "execution_count": 25,
   "metadata": {},
   "outputs": [
    {
     "data": {
      "text/plain": [
       "month                   object\n",
       "day                     object\n",
       "AveragePrice           float64\n",
       "Total Avocados sold    float64\n",
       "PLU 4046 sold          float64\n",
       "PLU 4225 sold          float64\n",
       "PLU 4770 sold          float64\n",
       "Total Bags             float64\n",
       "Small Bags             float64\n",
       "Large Bags             float64\n",
       "XLarge Bags            float64\n",
       "year                     int64\n",
       "region                  object\n",
       "dtype: object"
      ]
     },
     "execution_count": 25,
     "metadata": {},
     "output_type": "execute_result"
    }
   ],
   "source": [
    "df.dtypes"
   ]
  },
  {
   "cell_type": "markdown",
   "metadata": {},
   "source": [
    "Month, day, type and region are the columns that are having categorical data. We need to convert them into numerical data and it can be done by using LabelEncoder."
   ]
  },
  {
   "cell_type": "code",
   "execution_count": 26,
   "metadata": {},
   "outputs": [],
   "source": [
    "#Importing LabelEncoder\n",
    "from sklearn.preprocessing import LabelEncoder\n",
    "le = LabelEncoder()\n",
    "\n",
    "#Taking the columns to be converted\n",
    "col=['month','day','region','year']\n",
    "for i in col:\n",
    "    df[i]=le.fit_transform(df[i])"
   ]
  },
  {
   "cell_type": "code",
   "execution_count": 27,
   "metadata": {},
   "outputs": [
    {
     "data": {
      "text/html": [
       "<div>\n",
       "<style scoped>\n",
       "    .dataframe tbody tr th:only-of-type {\n",
       "        vertical-align: middle;\n",
       "    }\n",
       "\n",
       "    .dataframe tbody tr th {\n",
       "        vertical-align: top;\n",
       "    }\n",
       "\n",
       "    .dataframe thead th {\n",
       "        text-align: right;\n",
       "    }\n",
       "</style>\n",
       "<table border=\"1\" class=\"dataframe\">\n",
       "  <thead>\n",
       "    <tr style=\"text-align: right;\">\n",
       "      <th></th>\n",
       "      <th>month</th>\n",
       "      <th>day</th>\n",
       "      <th>AveragePrice</th>\n",
       "      <th>Total Avocados sold</th>\n",
       "      <th>PLU 4046 sold</th>\n",
       "      <th>PLU 4225 sold</th>\n",
       "      <th>PLU 4770 sold</th>\n",
       "      <th>Total Bags</th>\n",
       "      <th>Small Bags</th>\n",
       "      <th>Large Bags</th>\n",
       "      <th>XLarge Bags</th>\n",
       "      <th>year</th>\n",
       "      <th>region</th>\n",
       "    </tr>\n",
       "  </thead>\n",
       "  <tbody>\n",
       "    <tr>\n",
       "      <th>0</th>\n",
       "      <td>2</td>\n",
       "      <td>3</td>\n",
       "      <td>1.33</td>\n",
       "      <td>64236.62</td>\n",
       "      <td>1036.74</td>\n",
       "      <td>54454.85</td>\n",
       "      <td>48.16</td>\n",
       "      <td>8696.87</td>\n",
       "      <td>8603.62</td>\n",
       "      <td>93.25</td>\n",
       "      <td>0.0</td>\n",
       "      <td>0</td>\n",
       "      <td>0</td>\n",
       "    </tr>\n",
       "    <tr>\n",
       "      <th>1</th>\n",
       "      <td>2</td>\n",
       "      <td>3</td>\n",
       "      <td>1.35</td>\n",
       "      <td>54876.98</td>\n",
       "      <td>674.28</td>\n",
       "      <td>44638.81</td>\n",
       "      <td>58.33</td>\n",
       "      <td>9505.56</td>\n",
       "      <td>9408.07</td>\n",
       "      <td>97.49</td>\n",
       "      <td>0.0</td>\n",
       "      <td>0</td>\n",
       "      <td>0</td>\n",
       "    </tr>\n",
       "    <tr>\n",
       "      <th>2</th>\n",
       "      <td>2</td>\n",
       "      <td>3</td>\n",
       "      <td>0.93</td>\n",
       "      <td>118220.22</td>\n",
       "      <td>794.70</td>\n",
       "      <td>109149.67</td>\n",
       "      <td>130.50</td>\n",
       "      <td>8145.35</td>\n",
       "      <td>8042.21</td>\n",
       "      <td>103.14</td>\n",
       "      <td>0.0</td>\n",
       "      <td>0</td>\n",
       "      <td>0</td>\n",
       "    </tr>\n",
       "    <tr>\n",
       "      <th>3</th>\n",
       "      <td>6</td>\n",
       "      <td>0</td>\n",
       "      <td>1.08</td>\n",
       "      <td>78992.15</td>\n",
       "      <td>1132.00</td>\n",
       "      <td>71976.41</td>\n",
       "      <td>72.58</td>\n",
       "      <td>5811.16</td>\n",
       "      <td>5677.40</td>\n",
       "      <td>133.76</td>\n",
       "      <td>0.0</td>\n",
       "      <td>0</td>\n",
       "      <td>0</td>\n",
       "    </tr>\n",
       "    <tr>\n",
       "      <th>4</th>\n",
       "      <td>9</td>\n",
       "      <td>3</td>\n",
       "      <td>1.28</td>\n",
       "      <td>51039.60</td>\n",
       "      <td>941.48</td>\n",
       "      <td>43838.39</td>\n",
       "      <td>75.78</td>\n",
       "      <td>6183.95</td>\n",
       "      <td>5986.26</td>\n",
       "      <td>197.69</td>\n",
       "      <td>0.0</td>\n",
       "      <td>0</td>\n",
       "      <td>0</td>\n",
       "    </tr>\n",
       "  </tbody>\n",
       "</table>\n",
       "</div>"
      ],
      "text/plain": [
       "   month  day  AveragePrice  Total Avocados sold  PLU 4046 sold  \\\n",
       "0      2    3          1.33             64236.62        1036.74   \n",
       "1      2    3          1.35             54876.98         674.28   \n",
       "2      2    3          0.93            118220.22         794.70   \n",
       "3      6    0          1.08             78992.15        1132.00   \n",
       "4      9    3          1.28             51039.60         941.48   \n",
       "\n",
       "   PLU 4225 sold  PLU 4770 sold  Total Bags  Small Bags  Large Bags  \\\n",
       "0       54454.85          48.16     8696.87     8603.62       93.25   \n",
       "1       44638.81          58.33     9505.56     9408.07       97.49   \n",
       "2      109149.67         130.50     8145.35     8042.21      103.14   \n",
       "3       71976.41          72.58     5811.16     5677.40      133.76   \n",
       "4       43838.39          75.78     6183.95     5986.26      197.69   \n",
       "\n",
       "   XLarge Bags  year  region  \n",
       "0          0.0     0       0  \n",
       "1          0.0     0       0  \n",
       "2          0.0     0       0  \n",
       "3          0.0     0       0  \n",
       "4          0.0     0       0  "
      ]
     },
     "execution_count": 27,
     "metadata": {},
     "output_type": "execute_result"
    }
   ],
   "source": [
    "df.head()  #Checking out the dataset after conversion"
   ]
  },
  {
   "cell_type": "code",
   "execution_count": 28,
   "metadata": {},
   "outputs": [
    {
     "data": {
      "text/plain": [
       "month                    int32\n",
       "day                      int32\n",
       "AveragePrice           float64\n",
       "Total Avocados sold    float64\n",
       "PLU 4046 sold          float64\n",
       "PLU 4225 sold          float64\n",
       "PLU 4770 sold          float64\n",
       "Total Bags             float64\n",
       "Small Bags             float64\n",
       "Large Bags             float64\n",
       "XLarge Bags            float64\n",
       "year                     int64\n",
       "region                   int32\n",
       "dtype: object"
      ]
     },
     "execution_count": 28,
     "metadata": {},
     "output_type": "execute_result"
    }
   ],
   "source": [
    "df.dtypes  #Checking out the datatypes after conversion"
   ]
  },
  {
   "cell_type": "markdown",
   "metadata": {},
   "source": [
    "We can see that the required categorical data has been converted into numerical data using LabelEnocding Technique."
   ]
  },
  {
   "cell_type": "markdown",
   "metadata": {},
   "source": [
    "# Checking skewness"
   ]
  },
  {
   "cell_type": "code",
   "execution_count": 29,
   "metadata": {},
   "outputs": [
    {
     "data": {
      "text/plain": [
       "month                 -0.017524\n",
       "day                   -0.396612\n",
       "AveragePrice          -0.109444\n",
       "Total Avocados sold    6.200138\n",
       "PLU 4046 sold          6.051830\n",
       "PLU 4225 sold          6.394926\n",
       "PLU 4770 sold          5.405164\n",
       "Total Bags             5.366378\n",
       "Small Bags             5.355185\n",
       "Large Bags             5.144495\n",
       "XLarge Bags            5.775077\n",
       "year                   1.828332\n",
       "region                 0.288146\n",
       "dtype: float64"
      ]
     },
     "execution_count": 29,
     "metadata": {},
     "output_type": "execute_result"
    }
   ],
   "source": [
    "df.skew()"
   ]
  },
  {
   "cell_type": "markdown",
   "metadata": {},
   "source": [
    "Bags column, PLU columns, Total Avocados sold and year columns have heavy skewness in their data."
   ]
  },
  {
   "cell_type": "code",
   "execution_count": 30,
   "metadata": {
    "scrolled": false
   },
   "outputs": [
    {
     "data": {
      "image/png": "[encoded data removed]",
      "text/plain": [
       "<Figure size 432x288 with 1 Axes>"
      ]
     },
     "metadata": {},
     "output_type": "display_data"
    },
    {
     "data": {
      "image/png": "[encoded data removed]",
      "text/plain": [
       "<Figure size 432x288 with 1 Axes>"
      ]
     },
     "metadata": {},
     "output_type": "display_data"
    },
    {
     "data": {
      "image/png": "[encoded data removed]",
      "text/plain": [
       "<Figure size 432x288 with 1 Axes>"
      ]
     },
     "metadata": {},
     "output_type": "display_data"
    },
    {
     "data": {
      "image/png": "[encoded data removed]",
      "text/plain": [
       "<Figure size 432x288 with 1 Axes>"
      ]
     },
     "metadata": {},
     "output_type": "display_data"
    },
    {
     "data": {
      "image/png": "[encoded data removed]",
      "text/plain": [
       "<Figure size 432x288 with 1 Axes>"
      ]
     },
     "metadata": {},
     "output_type": "display_data"
    },
    {
     "data": {
      "image/png": "[encoded data removed]",
      "text/plain": [
       "<Figure size 432x288 with 1 Axes>"
      ]
     },
     "metadata": {},
     "output_type": "display_data"
    },
    {
     "data": {
      "image/png": "[encoded data removed]",
      "text/plain": [
       "<Figure size 432x288 with 1 Axes>"
      ]
     },
     "metadata": {},
     "output_type": "display_data"
    },
    {
     "data": {
      "image/png": "[encoded data removed]",
      "text/plain": [
       "<Figure size 432x288 with 1 Axes>"
      ]
     },
     "metadata": {},
     "output_type": "display_data"
    },
    {
     "data": {
      "image/png": "[encoded data removed]",
      "text/plain": [
       "<Figure size 432x288 with 1 Axes>"
      ]
     },
     "metadata": {},
     "output_type": "display_data"
    },
    {
     "data": {
      "image/png": "[encoded data removed]",
      "text/plain": [
       "<Figure size 432x288 with 1 Axes>"
      ]
     },
     "metadata": {},
     "output_type": "display_data"
    },
    {
     "data": {
      "image/png": "[encoded data removed]",
      "text/plain": [
       "<Figure size 432x288 with 1 Axes>"
      ]
     },
     "metadata": {},
     "output_type": "display_data"
    },
    {
     "data": {
      "image/png": "[encoded data removed]",
      "text/plain": [
       "<Figure size 432x288 with 1 Axes>"
      ]
     },
     "metadata": {},
     "output_type": "display_data"
    },
    {
     "data": {
      "image/png": "[encoded data removed]",
      "text/plain": [
       "<Figure size 432x288 with 1 Axes>"
      ]
     },
     "metadata": {},
     "output_type": "display_data"
    }
   ],
   "source": [
    "#Checking distribution of data using distribution plot\n",
    "for i in df.columns:\n",
    "    sns.distplot(df[i])\n",
    "    plt.show()"
   ]
  },
  {
   "cell_type": "markdown",
   "metadata": {
    "scrolled": true
   },
   "source": [
    "We can see that the data is not normally distributed in most of the columns and it is skewed due to the presence of outliers."
   ]
  },
  {
   "cell_type": "markdown",
   "metadata": {},
   "source": [
    "# Checking outliers"
   ]
  },
  {
   "cell_type": "markdown",
   "metadata": {},
   "source": [
    "We can check the presence of outliers by plotting boxplot"
   ]
  },
  {
   "cell_type": "code",
   "execution_count": 31,
   "metadata": {},
   "outputs": [],
   "source": [
    "collist=df.columns.values \n",
    "ncol=10\n",
    "nrows=10"
   ]
  },
  {
   "cell_type": "code",
   "execution_count": 32,
   "metadata": {},
   "outputs": [
    {
     "data": {
      "image/png": "[encoded data removed]",
      "text/plain": [
       "<Figure size 720x3600 with 12 Axes>"
      ]
     },
     "metadata": {},
     "output_type": "display_data"
    }
   ],
   "source": [
    "#Lets visualize outliers through boxplots\n",
    "plt.figure(figsize=(ncol,5*ncol))\n",
    "for i in range (1,len(collist)):\n",
    "    plt.subplot(nrows,ncol,i+1)\n",
    "    sns.boxplot(df[collist[i]],color='orange',orient='v')\n",
    "    plt.tight_layout()"
   ]
  },
  {
   "cell_type": "markdown",
   "metadata": {},
   "source": [
    "As we can see, there are more number of outliers present in the dataset and we can remove them by using z-score method"
   ]
  },
  {
   "cell_type": "markdown",
   "metadata": {},
   "source": [
    "# Handling outliers using z-score method"
   ]
  },
  {
   "cell_type": "code",
   "execution_count": 33,
   "metadata": {},
   "outputs": [
    {
     "data": {
      "text/plain": [
       "(array([ 398,  401,  409,  412,  412,  760, 1016, 1017, 1059, 1182, 1182,\n",
       "        1182, 1182, 1182, 1182, 1182, 1182, 1183, 1183, 1183, 1183, 1183,\n",
       "        1183, 1183, 1184, 1184, 1184, 1184, 1184, 1184, 1184, 1184, 1185,\n",
       "        1185, 1185, 1185, 1185, 1185, 1185, 1186, 1186, 1186, 1186, 1186,\n",
       "        1186, 1186, 1187, 1187, 1187, 1187, 1187, 1187, 1187, 1187, 1188,\n",
       "        1188, 1188, 1188, 1188, 1188, 1188, 1189, 1189, 1189, 1189, 1189,\n",
       "        1189, 1189, 1189, 1190, 1190, 1190, 1190, 1190, 1190, 1190, 1190,\n",
       "        1191, 1191, 1191, 1191, 1191, 1191, 1191, 1191, 1192, 1192, 1192,\n",
       "        1192, 1192, 1192, 1192, 1193, 1193, 1193, 1193, 1193, 1193, 1193,\n",
       "        1194, 1194, 1194, 1194, 1194, 1194, 1194, 1195, 1195, 1195, 1195,\n",
       "        1195, 1195, 1195, 1195, 1196, 1196, 1196, 1196, 1196, 1196, 1196,\n",
       "        1197, 1197, 1197, 1197, 1197, 1197, 1197, 1198, 1198, 1198, 1198,\n",
       "        1198, 1198, 1198, 1198, 1199, 1199, 1199, 1199, 1199, 1199, 1199,\n",
       "        1200, 1200, 1200, 1200, 1200, 1200, 1200, 1201, 1201, 1201, 1201,\n",
       "        1201, 1201, 1201, 1202, 1202, 1202, 1202, 1202, 1202, 1202, 1202,\n",
       "        1203, 1203, 1203, 1203, 1203, 1203, 1203, 1204, 1204, 1204, 1204,\n",
       "        1204, 1204, 1204, 1205, 1205, 1205, 1205, 1205, 1205, 1205, 1206,\n",
       "        1206, 1206, 1206, 1206, 1206, 1206, 1207, 1208, 1209, 1210, 1212,\n",
       "        1213, 1215, 1216, 1217, 1218, 1222, 1411, 1450, 1451, 1452, 1453,\n",
       "        1454, 1455, 1456, 1457, 1457, 1458, 1459, 1460, 1461, 1462, 1463,\n",
       "        1464, 1465, 1466, 1467, 1468, 1469, 1470, 1471, 1472, 1473, 1474,\n",
       "        1475, 1476, 1477, 1478, 1479, 1480, 1481, 1483, 1483, 1484, 1495,\n",
       "        1496, 1496], dtype=int64),\n",
       " array([10, 10, 10,  6, 10,  2, 10, 10,  9,  3,  4,  5,  6,  7,  8,  9, 10,\n",
       "         3,  4,  5,  6,  7,  8,  9,  3,  4,  5,  6,  7,  8,  9, 10,  3,  4,\n",
       "         5,  6,  7,  8,  9,  3,  4,  5,  6,  7,  8,  9,  3,  4,  5,  6,  7,\n",
       "         8,  9, 10,  3,  4,  5,  6,  7,  8,  9,  3,  4,  5,  6,  7,  8,  9,\n",
       "        10,  3,  4,  5,  6,  7,  8,  9, 10,  3,  4,  5,  6,  7,  8,  9, 10,\n",
       "         3,  4,  5,  6,  7,  8,  9,  3,  4,  5,  6,  7,  8,  9,  3,  4,  5,\n",
       "         6,  7,  8,  9,  3,  4,  5,  6,  7,  8,  9, 10,  3,  4,  5,  6,  7,\n",
       "         8,  9,  3,  4,  5,  6,  7,  8,  9,  3,  4,  5,  6,  7,  8,  9, 10,\n",
       "         3,  4,  5,  6,  7,  8,  9,  3,  4,  5,  6,  7,  8,  9,  3,  4,  5,\n",
       "         6,  7,  8,  9,  3,  4,  5,  6,  7,  8,  9, 10,  3,  4,  5,  6,  7,\n",
       "         8,  9,  3,  4,  5,  6,  7,  8,  9,  3,  4,  5,  6,  7,  8,  9,  3,\n",
       "         4,  5,  6,  7,  8,  9,  9,  9,  9,  9,  9,  9,  9,  9,  9,  9,  9,\n",
       "         2, 10, 10, 10, 10, 10, 10, 10,  2, 10,  2, 10, 10, 10, 10, 10, 10,\n",
       "        10, 10, 10, 10, 10, 10, 10, 10, 10, 10, 10, 10, 10, 10, 10, 10, 10,\n",
       "         9, 10,  9,  8,  7,  8], dtype=int64))"
      ]
     },
     "execution_count": 33,
     "metadata": {},
     "output_type": "execute_result"
    }
   ],
   "source": [
    "from scipy.stats import zscore\n",
    "import numpy as np\n",
    "z=np.abs(zscore(df))   #converting all values into absolute values\n",
    "threshold=3    #setting up a threshold\n",
    "np.where(z>3)"
   ]
  },
  {
   "cell_type": "code",
   "execution_count": 34,
   "metadata": {},
   "outputs": [
    {
     "data": {
      "text/html": [
       "<div>\n",
       "<style scoped>\n",
       "    .dataframe tbody tr th:only-of-type {\n",
       "        vertical-align: middle;\n",
       "    }\n",
       "\n",
       "    .dataframe tbody tr th {\n",
       "        vertical-align: top;\n",
       "    }\n",
       "\n",
       "    .dataframe thead th {\n",
       "        text-align: right;\n",
       "    }\n",
       "</style>\n",
       "<table border=\"1\" class=\"dataframe\">\n",
       "  <thead>\n",
       "    <tr style=\"text-align: right;\">\n",
       "      <th></th>\n",
       "      <th>month</th>\n",
       "      <th>day</th>\n",
       "      <th>AveragePrice</th>\n",
       "      <th>Total Avocados sold</th>\n",
       "      <th>PLU 4046 sold</th>\n",
       "      <th>PLU 4225 sold</th>\n",
       "      <th>PLU 4770 sold</th>\n",
       "      <th>Total Bags</th>\n",
       "      <th>Small Bags</th>\n",
       "      <th>Large Bags</th>\n",
       "      <th>XLarge Bags</th>\n",
       "      <th>year</th>\n",
       "      <th>region</th>\n",
       "    </tr>\n",
       "  </thead>\n",
       "  <tbody>\n",
       "    <tr>\n",
       "      <th>0</th>\n",
       "      <td>2</td>\n",
       "      <td>3</td>\n",
       "      <td>1.33</td>\n",
       "      <td>64236.62</td>\n",
       "      <td>1036.74</td>\n",
       "      <td>54454.85</td>\n",
       "      <td>48.16</td>\n",
       "      <td>8696.87</td>\n",
       "      <td>8603.62</td>\n",
       "      <td>93.25</td>\n",
       "      <td>0.00</td>\n",
       "      <td>0</td>\n",
       "      <td>0</td>\n",
       "    </tr>\n",
       "    <tr>\n",
       "      <th>1</th>\n",
       "      <td>2</td>\n",
       "      <td>3</td>\n",
       "      <td>1.35</td>\n",
       "      <td>54876.98</td>\n",
       "      <td>674.28</td>\n",
       "      <td>44638.81</td>\n",
       "      <td>58.33</td>\n",
       "      <td>9505.56</td>\n",
       "      <td>9408.07</td>\n",
       "      <td>97.49</td>\n",
       "      <td>0.00</td>\n",
       "      <td>0</td>\n",
       "      <td>0</td>\n",
       "    </tr>\n",
       "    <tr>\n",
       "      <th>2</th>\n",
       "      <td>2</td>\n",
       "      <td>3</td>\n",
       "      <td>0.93</td>\n",
       "      <td>118220.22</td>\n",
       "      <td>794.70</td>\n",
       "      <td>109149.67</td>\n",
       "      <td>130.50</td>\n",
       "      <td>8145.35</td>\n",
       "      <td>8042.21</td>\n",
       "      <td>103.14</td>\n",
       "      <td>0.00</td>\n",
       "      <td>0</td>\n",
       "      <td>0</td>\n",
       "    </tr>\n",
       "    <tr>\n",
       "      <th>3</th>\n",
       "      <td>6</td>\n",
       "      <td>0</td>\n",
       "      <td>1.08</td>\n",
       "      <td>78992.15</td>\n",
       "      <td>1132.00</td>\n",
       "      <td>71976.41</td>\n",
       "      <td>72.58</td>\n",
       "      <td>5811.16</td>\n",
       "      <td>5677.40</td>\n",
       "      <td>133.76</td>\n",
       "      <td>0.00</td>\n",
       "      <td>0</td>\n",
       "      <td>0</td>\n",
       "    </tr>\n",
       "    <tr>\n",
       "      <th>4</th>\n",
       "      <td>9</td>\n",
       "      <td>3</td>\n",
       "      <td>1.28</td>\n",
       "      <td>51039.60</td>\n",
       "      <td>941.48</td>\n",
       "      <td>43838.39</td>\n",
       "      <td>75.78</td>\n",
       "      <td>6183.95</td>\n",
       "      <td>5986.26</td>\n",
       "      <td>197.69</td>\n",
       "      <td>0.00</td>\n",
       "      <td>0</td>\n",
       "      <td>0</td>\n",
       "    </tr>\n",
       "    <tr>\n",
       "      <th>...</th>\n",
       "      <td>...</td>\n",
       "      <td>...</td>\n",
       "      <td>...</td>\n",
       "      <td>...</td>\n",
       "      <td>...</td>\n",
       "      <td>...</td>\n",
       "      <td>...</td>\n",
       "      <td>...</td>\n",
       "      <td>...</td>\n",
       "      <td>...</td>\n",
       "      <td>...</td>\n",
       "      <td>...</td>\n",
       "      <td>...</td>\n",
       "    </tr>\n",
       "    <tr>\n",
       "      <th>1512</th>\n",
       "      <td>10</td>\n",
       "      <td>3</td>\n",
       "      <td>1.39</td>\n",
       "      <td>190846.01</td>\n",
       "      <td>57529.11</td>\n",
       "      <td>56366.66</td>\n",
       "      <td>17531.78</td>\n",
       "      <td>59418.46</td>\n",
       "      <td>48823.53</td>\n",
       "      <td>10354.65</td>\n",
       "      <td>240.28</td>\n",
       "      <td>1</td>\n",
       "      <td>7</td>\n",
       "    </tr>\n",
       "    <tr>\n",
       "      <th>1513</th>\n",
       "      <td>11</td>\n",
       "      <td>2</td>\n",
       "      <td>1.51</td>\n",
       "      <td>178235.75</td>\n",
       "      <td>43325.87</td>\n",
       "      <td>52189.61</td>\n",
       "      <td>19419.57</td>\n",
       "      <td>63300.70</td>\n",
       "      <td>54704.14</td>\n",
       "      <td>8596.56</td>\n",
       "      <td>0.00</td>\n",
       "      <td>1</td>\n",
       "      <td>7</td>\n",
       "    </tr>\n",
       "    <tr>\n",
       "      <th>1514</th>\n",
       "      <td>3</td>\n",
       "      <td>6</td>\n",
       "      <td>1.48</td>\n",
       "      <td>178410.82</td>\n",
       "      <td>46364.75</td>\n",
       "      <td>52893.38</td>\n",
       "      <td>16736.92</td>\n",
       "      <td>62415.77</td>\n",
       "      <td>53332.61</td>\n",
       "      <td>8258.16</td>\n",
       "      <td>825.00</td>\n",
       "      <td>1</td>\n",
       "      <td>7</td>\n",
       "    </tr>\n",
       "    <tr>\n",
       "      <th>1515</th>\n",
       "      <td>11</td>\n",
       "      <td>3</td>\n",
       "      <td>1.47</td>\n",
       "      <td>189131.52</td>\n",
       "      <td>54110.79</td>\n",
       "      <td>53593.58</td>\n",
       "      <td>17495.42</td>\n",
       "      <td>63931.73</td>\n",
       "      <td>55653.47</td>\n",
       "      <td>8278.26</td>\n",
       "      <td>0.00</td>\n",
       "      <td>1</td>\n",
       "      <td>7</td>\n",
       "    </tr>\n",
       "    <tr>\n",
       "      <th>1516</th>\n",
       "      <td>11</td>\n",
       "      <td>3</td>\n",
       "      <td>1.43</td>\n",
       "      <td>182978.30</td>\n",
       "      <td>43116.41</td>\n",
       "      <td>54193.42</td>\n",
       "      <td>16563.91</td>\n",
       "      <td>69104.56</td>\n",
       "      <td>57456.21</td>\n",
       "      <td>11648.35</td>\n",
       "      <td>0.00</td>\n",
       "      <td>1</td>\n",
       "      <td>7</td>\n",
       "    </tr>\n",
       "  </tbody>\n",
       "</table>\n",
       "<p>1436 rows × 13 columns</p>\n",
       "</div>"
      ],
      "text/plain": [
       "      month  day  AveragePrice  Total Avocados sold  PLU 4046 sold  \\\n",
       "0         2    3          1.33             64236.62        1036.74   \n",
       "1         2    3          1.35             54876.98         674.28   \n",
       "2         2    3          0.93            118220.22         794.70   \n",
       "3         6    0          1.08             78992.15        1132.00   \n",
       "4         9    3          1.28             51039.60         941.48   \n",
       "...     ...  ...           ...                  ...            ...   \n",
       "1512     10    3          1.39            190846.01       57529.11   \n",
       "1513     11    2          1.51            178235.75       43325.87   \n",
       "1514      3    6          1.48            178410.82       46364.75   \n",
       "1515     11    3          1.47            189131.52       54110.79   \n",
       "1516     11    3          1.43            182978.30       43116.41   \n",
       "\n",
       "      PLU 4225 sold  PLU 4770 sold  Total Bags  Small Bags  Large Bags  \\\n",
       "0          54454.85          48.16     8696.87     8603.62       93.25   \n",
       "1          44638.81          58.33     9505.56     9408.07       97.49   \n",
       "2         109149.67         130.50     8145.35     8042.21      103.14   \n",
       "3          71976.41          72.58     5811.16     5677.40      133.76   \n",
       "4          43838.39          75.78     6183.95     5986.26      197.69   \n",
       "...             ...            ...         ...         ...         ...   \n",
       "1512       56366.66       17531.78    59418.46    48823.53    10354.65   \n",
       "1513       52189.61       19419.57    63300.70    54704.14     8596.56   \n",
       "1514       52893.38       16736.92    62415.77    53332.61     8258.16   \n",
       "1515       53593.58       17495.42    63931.73    55653.47     8278.26   \n",
       "1516       54193.42       16563.91    69104.56    57456.21    11648.35   \n",
       "\n",
       "      XLarge Bags  year  region  \n",
       "0            0.00     0       0  \n",
       "1            0.00     0       0  \n",
       "2            0.00     0       0  \n",
       "3            0.00     0       0  \n",
       "4            0.00     0       0  \n",
       "...           ...   ...     ...  \n",
       "1512       240.28     1       7  \n",
       "1513         0.00     1       7  \n",
       "1514       825.00     1       7  \n",
       "1515         0.00     1       7  \n",
       "1516         0.00     1       7  \n",
       "\n",
       "[1436 rows x 13 columns]"
      ]
     },
     "execution_count": 34,
     "metadata": {},
     "output_type": "execute_result"
    }
   ],
   "source": [
    "#Removing outliers\n",
    "df_new=df[(z<3).all(axis=1)]\n",
    "df_new"
   ]
  },
  {
   "cell_type": "code",
   "execution_count": 35,
   "metadata": {},
   "outputs": [
    {
     "data": {
      "text/plain": [
       "(1517, 13)"
      ]
     },
     "execution_count": 35,
     "metadata": {},
     "output_type": "execute_result"
    }
   ],
   "source": [
    "df.shape   #Original dataset dimensions"
   ]
  },
  {
   "cell_type": "code",
   "execution_count": 36,
   "metadata": {},
   "outputs": [
    {
     "data": {
      "text/plain": [
       "(1436, 13)"
      ]
     },
     "execution_count": 36,
     "metadata": {},
     "output_type": "execute_result"
    }
   ],
   "source": [
    "df_new.shape   #New dataset dimensions"
   ]
  },
  {
   "cell_type": "markdown",
   "metadata": {},
   "source": [
    "Nearly 80 rows had outliers and they are removed by using z-score method"
   ]
  },
  {
   "cell_type": "markdown",
   "metadata": {},
   "source": [
    "# Percentage loss of data after removing outliers"
   ]
  },
  {
   "cell_type": "code",
   "execution_count": 37,
   "metadata": {},
   "outputs": [
    {
     "name": "stdout",
     "output_type": "stream",
     "text": [
      "5.339485827290705\n"
     ]
    }
   ],
   "source": [
    "percentage_loss=((81)/1517)*100   #81 = 1517-1436\n",
    "print(percentage_loss)"
   ]
  },
  {
   "cell_type": "markdown",
   "metadata": {},
   "source": [
    "Nearly 5% of the data has been lost due to the removal of the outliers"
   ]
  },
  {
   "cell_type": "markdown",
   "metadata": {},
   "source": [
    "# Further Analysis to do"
   ]
  },
  {
   "cell_type": "markdown",
   "metadata": {},
   "source": [
    "As per the agenda of this project, we need to do 2 types of prediction. They are:\n",
    "\n",
    "1.Predicting the city or region of the observation from the dataset and we need to approach by using Classification analysis.\n",
    "\n",
    "2.Predicting the AveragePrice of the avocados from the dataset and we need to approach by using Regression analysis."
   ]
  },
  {
   "cell_type": "markdown",
   "metadata": {},
   "source": [
    "# Classification Analysis"
   ]
  },
  {
   "cell_type": "markdown",
   "metadata": {},
   "source": [
    "# Preparing dataset for model training"
   ]
  },
  {
   "cell_type": "markdown",
   "metadata": {},
   "source": [
    "We need to split independent and dependent variables from the dataset in order to perform further analysis"
   ]
  },
  {
   "cell_type": "code",
   "execution_count": 38,
   "metadata": {},
   "outputs": [],
   "source": [
    "df_x=df_new.drop('region',axis=1)   #Independent variables\n",
    "y=df_new['region']    #Dependent or Target Variable"
   ]
  },
  {
   "cell_type": "code",
   "execution_count": 39,
   "metadata": {},
   "outputs": [
    {
     "data": {
      "text/html": [
       "<div>\n",
       "<style scoped>\n",
       "    .dataframe tbody tr th:only-of-type {\n",
       "        vertical-align: middle;\n",
       "    }\n",
       "\n",
       "    .dataframe tbody tr th {\n",
       "        vertical-align: top;\n",
       "    }\n",
       "\n",
       "    .dataframe thead th {\n",
       "        text-align: right;\n",
       "    }\n",
       "</style>\n",
       "<table border=\"1\" class=\"dataframe\">\n",
       "  <thead>\n",
       "    <tr style=\"text-align: right;\">\n",
       "      <th></th>\n",
       "      <th>month</th>\n",
       "      <th>day</th>\n",
       "      <th>AveragePrice</th>\n",
       "      <th>Total Avocados sold</th>\n",
       "      <th>PLU 4046 sold</th>\n",
       "      <th>PLU 4225 sold</th>\n",
       "      <th>PLU 4770 sold</th>\n",
       "      <th>Total Bags</th>\n",
       "      <th>Small Bags</th>\n",
       "      <th>Large Bags</th>\n",
       "      <th>XLarge Bags</th>\n",
       "      <th>year</th>\n",
       "    </tr>\n",
       "  </thead>\n",
       "  <tbody>\n",
       "    <tr>\n",
       "      <th>0</th>\n",
       "      <td>2</td>\n",
       "      <td>3</td>\n",
       "      <td>1.33</td>\n",
       "      <td>64236.62</td>\n",
       "      <td>1036.74</td>\n",
       "      <td>54454.85</td>\n",
       "      <td>48.16</td>\n",
       "      <td>8696.87</td>\n",
       "      <td>8603.62</td>\n",
       "      <td>93.25</td>\n",
       "      <td>0.0</td>\n",
       "      <td>0</td>\n",
       "    </tr>\n",
       "    <tr>\n",
       "      <th>1</th>\n",
       "      <td>2</td>\n",
       "      <td>3</td>\n",
       "      <td>1.35</td>\n",
       "      <td>54876.98</td>\n",
       "      <td>674.28</td>\n",
       "      <td>44638.81</td>\n",
       "      <td>58.33</td>\n",
       "      <td>9505.56</td>\n",
       "      <td>9408.07</td>\n",
       "      <td>97.49</td>\n",
       "      <td>0.0</td>\n",
       "      <td>0</td>\n",
       "    </tr>\n",
       "    <tr>\n",
       "      <th>2</th>\n",
       "      <td>2</td>\n",
       "      <td>3</td>\n",
       "      <td>0.93</td>\n",
       "      <td>118220.22</td>\n",
       "      <td>794.70</td>\n",
       "      <td>109149.67</td>\n",
       "      <td>130.50</td>\n",
       "      <td>8145.35</td>\n",
       "      <td>8042.21</td>\n",
       "      <td>103.14</td>\n",
       "      <td>0.0</td>\n",
       "      <td>0</td>\n",
       "    </tr>\n",
       "    <tr>\n",
       "      <th>3</th>\n",
       "      <td>6</td>\n",
       "      <td>0</td>\n",
       "      <td>1.08</td>\n",
       "      <td>78992.15</td>\n",
       "      <td>1132.00</td>\n",
       "      <td>71976.41</td>\n",
       "      <td>72.58</td>\n",
       "      <td>5811.16</td>\n",
       "      <td>5677.40</td>\n",
       "      <td>133.76</td>\n",
       "      <td>0.0</td>\n",
       "      <td>0</td>\n",
       "    </tr>\n",
       "    <tr>\n",
       "      <th>4</th>\n",
       "      <td>9</td>\n",
       "      <td>3</td>\n",
       "      <td>1.28</td>\n",
       "      <td>51039.60</td>\n",
       "      <td>941.48</td>\n",
       "      <td>43838.39</td>\n",
       "      <td>75.78</td>\n",
       "      <td>6183.95</td>\n",
       "      <td>5986.26</td>\n",
       "      <td>197.69</td>\n",
       "      <td>0.0</td>\n",
       "      <td>0</td>\n",
       "    </tr>\n",
       "  </tbody>\n",
       "</table>\n",
       "</div>"
      ],
      "text/plain": [
       "   month  day  AveragePrice  Total Avocados sold  PLU 4046 sold  \\\n",
       "0      2    3          1.33             64236.62        1036.74   \n",
       "1      2    3          1.35             54876.98         674.28   \n",
       "2      2    3          0.93            118220.22         794.70   \n",
       "3      6    0          1.08             78992.15        1132.00   \n",
       "4      9    3          1.28             51039.60         941.48   \n",
       "\n",
       "   PLU 4225 sold  PLU 4770 sold  Total Bags  Small Bags  Large Bags  \\\n",
       "0       54454.85          48.16     8696.87     8603.62       93.25   \n",
       "1       44638.81          58.33     9505.56     9408.07       97.49   \n",
       "2      109149.67         130.50     8145.35     8042.21      103.14   \n",
       "3       71976.41          72.58     5811.16     5677.40      133.76   \n",
       "4       43838.39          75.78     6183.95     5986.26      197.69   \n",
       "\n",
       "   XLarge Bags  year  \n",
       "0          0.0     0  \n",
       "1          0.0     0  \n",
       "2          0.0     0  \n",
       "3          0.0     0  \n",
       "4          0.0     0  "
      ]
     },
     "execution_count": 39,
     "metadata": {},
     "output_type": "execute_result"
    }
   ],
   "source": [
    "#Checking x data\n",
    "df_x.head()"
   ]
  },
  {
   "cell_type": "code",
   "execution_count": 40,
   "metadata": {},
   "outputs": [
    {
     "data": {
      "text/plain": [
       "0       0\n",
       "1       0\n",
       "2       0\n",
       "3       0\n",
       "4       0\n",
       "       ..\n",
       "1512    7\n",
       "1513    7\n",
       "1514    7\n",
       "1515    7\n",
       "1516    7\n",
       "Name: region, Length: 1436, dtype: int32"
      ]
     },
     "execution_count": 40,
     "metadata": {},
     "output_type": "execute_result"
    }
   ],
   "source": [
    "#Checking y data after splitting\n",
    "y"
   ]
  },
  {
   "cell_type": "markdown",
   "metadata": {},
   "source": [
    "# Treating skewness using log-transform"
   ]
  },
  {
   "cell_type": "code",
   "execution_count": 41,
   "metadata": {},
   "outputs": [],
   "source": [
    "#We are removing skewness from independent variables by using log-transform\n",
    "for col in df_x.columns:\n",
    "    if df_x.skew().loc[col]>0.55:\n",
    "        df_x[col]=np.log1p(df_x[col])\n",
    "        \n",
    "#The skewness has been treated and the data is ready for model training and testing        "
   ]
  },
  {
   "cell_type": "markdown",
   "metadata": {},
   "source": [
    "# Scaling the data"
   ]
  },
  {
   "cell_type": "markdown",
   "metadata": {},
   "source": [
    "Sometimes model can be biased to higher values in dataset, so it is better to scale the dataset so that we can bring all the columns in common range. We can use StandardScaler here."
   ]
  },
  {
   "cell_type": "code",
   "execution_count": 42,
   "metadata": {},
   "outputs": [
    {
     "data": {
      "text/html": [
       "<div>\n",
       "<style scoped>\n",
       "    .dataframe tbody tr th:only-of-type {\n",
       "        vertical-align: middle;\n",
       "    }\n",
       "\n",
       "    .dataframe tbody tr th {\n",
       "        vertical-align: top;\n",
       "    }\n",
       "\n",
       "    .dataframe thead th {\n",
       "        text-align: right;\n",
       "    }\n",
       "</style>\n",
       "<table border=\"1\" class=\"dataframe\">\n",
       "  <thead>\n",
       "    <tr style=\"text-align: right;\">\n",
       "      <th></th>\n",
       "      <th>month</th>\n",
       "      <th>day</th>\n",
       "      <th>AveragePrice</th>\n",
       "      <th>Total Avocados sold</th>\n",
       "      <th>PLU 4046 sold</th>\n",
       "      <th>PLU 4225 sold</th>\n",
       "      <th>PLU 4770 sold</th>\n",
       "      <th>Total Bags</th>\n",
       "      <th>Small Bags</th>\n",
       "      <th>Large Bags</th>\n",
       "      <th>XLarge Bags</th>\n",
       "      <th>year</th>\n",
       "    </tr>\n",
       "  </thead>\n",
       "  <tbody>\n",
       "    <tr>\n",
       "      <th>0</th>\n",
       "      <td>-0.983631</td>\n",
       "      <td>0.204723</td>\n",
       "      <td>1.344989</td>\n",
       "      <td>-1.410935</td>\n",
       "      <td>-1.847345</td>\n",
       "      <td>-0.507917</td>\n",
       "      <td>-1.815979</td>\n",
       "      <td>-1.822359</td>\n",
       "      <td>-1.648547</td>\n",
       "      <td>-0.917419</td>\n",
       "      <td>-0.775528</td>\n",
       "      <td>-0.413870</td>\n",
       "    </tr>\n",
       "    <tr>\n",
       "      <th>1</th>\n",
       "      <td>-0.983631</td>\n",
       "      <td>0.204723</td>\n",
       "      <td>1.451388</td>\n",
       "      <td>-1.535660</td>\n",
       "      <td>-2.042823</td>\n",
       "      <td>-0.635183</td>\n",
       "      <td>-1.739119</td>\n",
       "      <td>-1.746806</td>\n",
       "      <td>-1.573622</td>\n",
       "      <td>-0.904196</td>\n",
       "      <td>-0.775528</td>\n",
       "      <td>-0.413870</td>\n",
       "    </tr>\n",
       "    <tr>\n",
       "      <th>2</th>\n",
       "      <td>-0.983631</td>\n",
       "      <td>0.204723</td>\n",
       "      <td>-0.782987</td>\n",
       "      <td>-0.927830</td>\n",
       "      <td>-1.968169</td>\n",
       "      <td>-0.062698</td>\n",
       "      <td>-1.413794</td>\n",
       "      <td>-1.878029</td>\n",
       "      <td>-1.705109</td>\n",
       "      <td>-0.887434</td>\n",
       "      <td>-0.775528</td>\n",
       "      <td>-0.413870</td>\n",
       "    </tr>\n",
       "    <tr>\n",
       "      <th>3</th>\n",
       "      <td>0.202342</td>\n",
       "      <td>-2.178912</td>\n",
       "      <td>0.015004</td>\n",
       "      <td>-1.247168</td>\n",
       "      <td>-1.807390</td>\n",
       "      <td>-0.329300</td>\n",
       "      <td>-1.651131</td>\n",
       "      <td>-2.164946</td>\n",
       "      <td>-1.996977</td>\n",
       "      <td>-0.809976</td>\n",
       "      <td>-0.775528</td>\n",
       "      <td>-0.413870</td>\n",
       "    </tr>\n",
       "    <tr>\n",
       "      <th>4</th>\n",
       "      <td>1.091822</td>\n",
       "      <td>0.204723</td>\n",
       "      <td>1.078992</td>\n",
       "      <td>-1.593074</td>\n",
       "      <td>-1.891150</td>\n",
       "      <td>-0.646768</td>\n",
       "      <td>-1.633730</td>\n",
       "      <td>-2.112115</td>\n",
       "      <td>-1.952576</td>\n",
       "      <td>-0.693305</td>\n",
       "      <td>-0.775528</td>\n",
       "      <td>-0.413870</td>\n",
       "    </tr>\n",
       "    <tr>\n",
       "      <th>...</th>\n",
       "      <td>...</td>\n",
       "      <td>...</td>\n",
       "      <td>...</td>\n",
       "      <td>...</td>\n",
       "      <td>...</td>\n",
       "      <td>...</td>\n",
       "      <td>...</td>\n",
       "      <td>...</td>\n",
       "      <td>...</td>\n",
       "      <td>...</td>\n",
       "      <td>...</td>\n",
       "      <td>...</td>\n",
       "    </tr>\n",
       "    <tr>\n",
       "      <th>1431</th>\n",
       "      <td>1.388316</td>\n",
       "      <td>0.204723</td>\n",
       "      <td>1.664186</td>\n",
       "      <td>-0.548521</td>\n",
       "      <td>-0.020619</td>\n",
       "      <td>-0.485823</td>\n",
       "      <td>0.586167</td>\n",
       "      <td>-0.189379</td>\n",
       "      <td>-0.193283</td>\n",
       "      <td>0.494754</td>\n",
       "      <td>0.946229</td>\n",
       "      <td>2.416215</td>\n",
       "    </tr>\n",
       "    <tr>\n",
       "      <th>1432</th>\n",
       "      <td>1.684809</td>\n",
       "      <td>-0.589822</td>\n",
       "      <td>2.302579</td>\n",
       "      <td>-0.602663</td>\n",
       "      <td>-0.149612</td>\n",
       "      <td>-0.535121</td>\n",
       "      <td>0.627966</td>\n",
       "      <td>-0.135593</td>\n",
       "      <td>-0.097945</td>\n",
       "      <td>0.438844</td>\n",
       "      <td>-0.775528</td>\n",
       "      <td>2.416215</td>\n",
       "    </tr>\n",
       "    <tr>\n",
       "      <th>1433</th>\n",
       "      <td>-0.687138</td>\n",
       "      <td>2.588357</td>\n",
       "      <td>2.142980</td>\n",
       "      <td>-0.601885</td>\n",
       "      <td>-0.118772</td>\n",
       "      <td>-0.526545</td>\n",
       "      <td>0.567203</td>\n",
       "      <td>-0.147557</td>\n",
       "      <td>-0.119231</td>\n",
       "      <td>0.426777</td>\n",
       "      <td>1.332463</td>\n",
       "      <td>2.416215</td>\n",
       "    </tr>\n",
       "    <tr>\n",
       "      <th>1434</th>\n",
       "      <td>1.684809</td>\n",
       "      <td>0.204723</td>\n",
       "      <td>2.089781</td>\n",
       "      <td>-0.555668</td>\n",
       "      <td>-0.048487</td>\n",
       "      <td>-0.518124</td>\n",
       "      <td>0.585318</td>\n",
       "      <td>-0.127164</td>\n",
       "      <td>-0.083522</td>\n",
       "      <td>0.427507</td>\n",
       "      <td>-0.775528</td>\n",
       "      <td>2.416215</td>\n",
       "    </tr>\n",
       "    <tr>\n",
       "      <th>1435</th>\n",
       "      <td>1.684809</td>\n",
       "      <td>0.204723</td>\n",
       "      <td>1.876983</td>\n",
       "      <td>-0.581864</td>\n",
       "      <td>-0.151817</td>\n",
       "      <td>-0.510998</td>\n",
       "      <td>0.562955</td>\n",
       "      <td>-0.061044</td>\n",
       "      <td>-0.056798</td>\n",
       "      <td>0.530128</td>\n",
       "      <td>-0.775528</td>\n",
       "      <td>2.416215</td>\n",
       "    </tr>\n",
       "  </tbody>\n",
       "</table>\n",
       "<p>1436 rows × 12 columns</p>\n",
       "</div>"
      ],
      "text/plain": [
       "         month       day  AveragePrice  Total Avocados sold  PLU 4046 sold  \\\n",
       "0    -0.983631  0.204723      1.344989            -1.410935      -1.847345   \n",
       "1    -0.983631  0.204723      1.451388            -1.535660      -2.042823   \n",
       "2    -0.983631  0.204723     -0.782987            -0.927830      -1.968169   \n",
       "3     0.202342 -2.178912      0.015004            -1.247168      -1.807390   \n",
       "4     1.091822  0.204723      1.078992            -1.593074      -1.891150   \n",
       "...        ...       ...           ...                  ...            ...   \n",
       "1431  1.388316  0.204723      1.664186            -0.548521      -0.020619   \n",
       "1432  1.684809 -0.589822      2.302579            -0.602663      -0.149612   \n",
       "1433 -0.687138  2.588357      2.142980            -0.601885      -0.118772   \n",
       "1434  1.684809  0.204723      2.089781            -0.555668      -0.048487   \n",
       "1435  1.684809  0.204723      1.876983            -0.581864      -0.151817   \n",
       "\n",
       "      PLU 4225 sold  PLU 4770 sold  Total Bags  Small Bags  Large Bags  \\\n",
       "0         -0.507917      -1.815979   -1.822359   -1.648547   -0.917419   \n",
       "1         -0.635183      -1.739119   -1.746806   -1.573622   -0.904196   \n",
       "2         -0.062698      -1.413794   -1.878029   -1.705109   -0.887434   \n",
       "3         -0.329300      -1.651131   -2.164946   -1.996977   -0.809976   \n",
       "4         -0.646768      -1.633730   -2.112115   -1.952576   -0.693305   \n",
       "...             ...            ...         ...         ...         ...   \n",
       "1431      -0.485823       0.586167   -0.189379   -0.193283    0.494754   \n",
       "1432      -0.535121       0.627966   -0.135593   -0.097945    0.438844   \n",
       "1433      -0.526545       0.567203   -0.147557   -0.119231    0.426777   \n",
       "1434      -0.518124       0.585318   -0.127164   -0.083522    0.427507   \n",
       "1435      -0.510998       0.562955   -0.061044   -0.056798    0.530128   \n",
       "\n",
       "      XLarge Bags      year  \n",
       "0       -0.775528 -0.413870  \n",
       "1       -0.775528 -0.413870  \n",
       "2       -0.775528 -0.413870  \n",
       "3       -0.775528 -0.413870  \n",
       "4       -0.775528 -0.413870  \n",
       "...           ...       ...  \n",
       "1431     0.946229  2.416215  \n",
       "1432    -0.775528  2.416215  \n",
       "1433     1.332463  2.416215  \n",
       "1434    -0.775528  2.416215  \n",
       "1435    -0.775528  2.416215  \n",
       "\n",
       "[1436 rows x 12 columns]"
      ]
     },
     "execution_count": 42,
     "metadata": {},
     "output_type": "execute_result"
    }
   ],
   "source": [
    "#Scaling the dataset using StandardScaler\n",
    "from sklearn.preprocessing import StandardScaler\n",
    "sc=StandardScaler()\n",
    "x=sc.fit_transform(df_x)\n",
    "x=pd.DataFrame(x,columns=df_x.columns)\n",
    "x"
   ]
  },
  {
   "cell_type": "markdown",
   "metadata": {},
   "source": [
    "We can see that the data has been scaled and updated to a new DataFrame"
   ]
  },
  {
   "cell_type": "markdown",
   "metadata": {},
   "source": [
    "# Building the model"
   ]
  },
  {
   "cell_type": "code",
   "execution_count": 43,
   "metadata": {},
   "outputs": [],
   "source": [
    "#Importing train_test_split, Logistic Regression and accuracy_score\n",
    "from sklearn.model_selection import train_test_split\n",
    "from sklearn.linear_model import LogisticRegression\n",
    "LR=LogisticRegression()\n",
    "from sklearn.metrics import accuracy_score"
   ]
  },
  {
   "cell_type": "code",
   "execution_count": 44,
   "metadata": {},
   "outputs": [
    {
     "name": "stdout",
     "output_type": "stream",
     "text": [
      "At random state 648 ,the model performs well\n",
      "Training accuracy_score is:  95.1219512195122\n",
      "Testing accuracy_score is:  95.13888888888889\n"
     ]
    }
   ],
   "source": [
    "#Finding the best random state and accuracy\n",
    "for i in range(0,1000):\n",
    "    x_train,x_test,y_train,y_test=train_test_split(x,y,test_size=.20,random_state=i)\n",
    "    LR.fit(x_train,y_train)\n",
    "    pred_train=LR.predict(x_train)\n",
    "    pred_test=LR.predict(x_test)\n",
    "    if round(accuracy_score(y_train,pred_train)*100,1)==round(accuracy_score(y_test,pred_test)*100,1):\n",
    "        print('At random state',i,',the model performs well')\n",
    "        print('Training accuracy_score is: ',accuracy_score(y_train,pred_train)*100)\n",
    "        print('Testing accuracy_score is: ',accuracy_score(y_test,pred_test)*100)"
   ]
  },
  {
   "cell_type": "markdown",
   "metadata": {},
   "source": [
    "We can see that at random_state=648, the maximum accuracy score is obtained so that we can create our train_test_split with that value."
   ]
  },
  {
   "cell_type": "code",
   "execution_count": 45,
   "metadata": {},
   "outputs": [],
   "source": [
    "#Creating train_test_split using best random_state\n",
    "x_train,x_test,y_train,y_test=train_test_split(x,y,random_state=648,test_size=.25)"
   ]
  },
  {
   "cell_type": "markdown",
   "metadata": {},
   "source": [
    "# Finding out the best model"
   ]
  },
  {
   "cell_type": "markdown",
   "metadata": {},
   "source": [
    "We are going to use LogisticRegression, SVC, GaussianNB, DecisionTreeClassifier and KNeighborsClassifier algorithms for finding out the best model among those"
   ]
  },
  {
   "cell_type": "code",
   "execution_count": 46,
   "metadata": {},
   "outputs": [],
   "source": [
    "#Importing various classification models for testing\n",
    "from sklearn.linear_model import LogisticRegression\n",
    "from sklearn.svm import SVC\n",
    "from sklearn.naive_bayes import GaussianNB\n",
    "from sklearn.tree import DecisionTreeClassifier\n",
    "from sklearn.neighbors import KNeighborsClassifier"
   ]
  },
  {
   "cell_type": "code",
   "execution_count": 47,
   "metadata": {},
   "outputs": [],
   "source": [
    "#Initializing the instance of the model\n",
    "LR=LogisticRegression()\n",
    "svc=SVC()\n",
    "gnb=GaussianNB()\n",
    "dtc=DecisionTreeClassifier()\n",
    "knc=KNeighborsClassifier()"
   ]
  },
  {
   "cell_type": "code",
   "execution_count": 48,
   "metadata": {},
   "outputs": [],
   "source": [
    "models= []\n",
    "models.append(('Logistic Regression',LR))\n",
    "models.append(('SupportVectorClassifier',svc))\n",
    "models.append(('GaussianNB',gnb))\n",
    "models.append(('DecisionTreeClassifier',dtc))\n",
    "models.append(('KNeighborsClassifier',knc))"
   ]
  },
  {
   "cell_type": "code",
   "execution_count": 49,
   "metadata": {},
   "outputs": [],
   "source": [
    "#Importing required modules and metrices\n",
    "from sklearn.metrics import confusion_matrix,classification_report\n",
    "from sklearn.model_selection import cross_val_score"
   ]
  },
  {
   "cell_type": "code",
   "execution_count": 50,
   "metadata": {
    "scrolled": false
   },
   "outputs": [
    {
     "name": "stdout",
     "output_type": "stream",
     "text": [
      "****************************** Logistic Regression ***************************\n",
      "\n",
      "\n",
      "LogisticRegression()\n",
      "\n",
      "\n",
      "accuracy_score:  0.9275766016713092\n",
      "\n",
      "\n",
      "cross_val_score:  0.8621685056136276\n",
      "\n",
      "\n",
      "Classification report:\n",
      " \n",
      "              precision    recall  f1-score   support\n",
      "\n",
      "           0       0.95      1.00      0.97        19\n",
      "           1       0.80      0.92      0.86        13\n",
      "           2       1.00      1.00      1.00        19\n",
      "           3       1.00      1.00      1.00        15\n",
      "           4       1.00      1.00      1.00         9\n",
      "           5       1.00      0.92      0.96        13\n",
      "           6       1.00      1.00      1.00         7\n",
      "           7       0.67      1.00      0.80         4\n",
      "           8       0.83      1.00      0.91         5\n",
      "           9       0.92      1.00      0.96        12\n",
      "          10       1.00      0.83      0.91         6\n",
      "          11       1.00      1.00      1.00         5\n",
      "          12       1.00      1.00      1.00        11\n",
      "          13       1.00      1.00      1.00        10\n",
      "          14       1.00      0.80      0.89         5\n",
      "          15       1.00      0.78      0.88         9\n",
      "          16       0.67      0.40      0.50         5\n",
      "          17       0.83      1.00      0.91         5\n",
      "          18       1.00      0.50      0.67         2\n",
      "          19       0.85      1.00      0.92        11\n",
      "          20       1.00      1.00      1.00         1\n",
      "          21       0.00      0.00      0.00         1\n",
      "          22       0.92      1.00      0.96        11\n",
      "          23       1.00      1.00      1.00         3\n",
      "          24       0.75      1.00      0.86         3\n",
      "          25       1.00      0.89      0.94         9\n",
      "          26       1.00      1.00      1.00         7\n",
      "          27       1.00      1.00      1.00         2\n",
      "          28       0.79      1.00      0.88        11\n",
      "          29       0.50      0.14      0.22         7\n",
      "          31       0.92      0.85      0.88        13\n",
      "          32       0.75      0.75      0.75         4\n",
      "          33       0.67      1.00      0.80         2\n",
      "          34       1.00      0.83      0.91         6\n",
      "          35       1.00      0.40      0.57         5\n",
      "          36       1.00      1.00      1.00         4\n",
      "          37       1.00      1.00      1.00         5\n",
      "          38       1.00      1.00      1.00         9\n",
      "          39       0.67      0.67      0.67         3\n",
      "          40       0.67      1.00      0.80         2\n",
      "          41       0.89      1.00      0.94         8\n",
      "          42       1.00      1.00      1.00        15\n",
      "          44       1.00      1.00      1.00        12\n",
      "          45       1.00      1.00      1.00         7\n",
      "          46       1.00      1.00      1.00         4\n",
      "          47       0.78      1.00      0.88         7\n",
      "          49       1.00      1.00      1.00         8\n",
      "          50       1.00      1.00      1.00         5\n",
      "\n",
      "    accuracy                           0.93       359\n",
      "   macro avg       0.89      0.89      0.88       359\n",
      "weighted avg       0.93      0.93      0.92       359\n",
      "\n",
      "\n",
      "\n",
      "Confusion matrix: \n",
      "\n",
      "[[19  0  0 ...  0  0  0]\n",
      " [ 0 12  0 ...  0  0  0]\n",
      " [ 0  0 19 ...  0  0  0]\n",
      " ...\n",
      " [ 0  0  0 ...  7  0  0]\n",
      " [ 0  0  0 ...  0  8  0]\n",
      " [ 0  0  0 ...  0  0  5]]\n",
      "\n",
      "\n",
      "\n",
      "\n",
      "****************************** SupportVectorClassifier ***************************\n",
      "\n",
      "\n",
      "SVC()\n",
      "\n",
      "\n",
      "accuracy_score:  0.8523676880222841\n",
      "\n",
      "\n",
      "cross_val_score:  0.8266502129307007\n",
      "\n",
      "\n",
      "Classification report:\n",
      " \n",
      "              precision    recall  f1-score   support\n",
      "\n",
      "           0       0.90      1.00      0.95        19\n",
      "           1       0.75      0.92      0.83        13\n",
      "           2       0.95      1.00      0.97        19\n",
      "           3       1.00      0.93      0.97        15\n",
      "           4       0.90      1.00      0.95         9\n",
      "           5       1.00      0.85      0.92        13\n",
      "           6       0.58      1.00      0.74         7\n",
      "           7       0.50      1.00      0.67         4\n",
      "           8       0.83      1.00      0.91         5\n",
      "           9       0.86      1.00      0.92        12\n",
      "          10       0.75      0.50      0.60         6\n",
      "          11       1.00      1.00      1.00         5\n",
      "          12       1.00      1.00      1.00        11\n",
      "          13       1.00      0.80      0.89        10\n",
      "          14       0.00      0.00      0.00         5\n",
      "          15       1.00      0.89      0.94         9\n",
      "          16       0.50      0.20      0.29         5\n",
      "          17       0.50      1.00      0.67         5\n",
      "          18       0.33      0.50      0.40         2\n",
      "          19       1.00      1.00      1.00        11\n",
      "          20       0.00      0.00      0.00         1\n",
      "          21       0.00      0.00      0.00         1\n",
      "          22       0.92      1.00      0.96        11\n",
      "          23       0.00      0.00      0.00         3\n",
      "          24       0.50      1.00      0.67         3\n",
      "          25       0.88      0.78      0.82         9\n",
      "          26       1.00      1.00      1.00         7\n",
      "          27       1.00      1.00      1.00         2\n",
      "          28       0.79      1.00      0.88        11\n",
      "          29       1.00      0.14      0.25         7\n",
      "          31       0.92      0.85      0.88        13\n",
      "          32       0.75      0.75      0.75         4\n",
      "          33       1.00      1.00      1.00         2\n",
      "          34       0.71      0.83      0.77         6\n",
      "          35       0.00      0.00      0.00         5\n",
      "          36       1.00      1.00      1.00         4\n",
      "          37       0.83      1.00      0.91         5\n",
      "          38       0.82      1.00      0.90         9\n",
      "          39       0.50      0.33      0.40         3\n",
      "          40       0.00      0.00      0.00         2\n",
      "          41       0.88      0.88      0.88         8\n",
      "          42       1.00      1.00      1.00        15\n",
      "          44       1.00      1.00      1.00        12\n",
      "          45       1.00      0.86      0.92         7\n",
      "          46       1.00      1.00      1.00         4\n",
      "          47       0.50      0.86      0.63         7\n",
      "          49       1.00      0.75      0.86         8\n",
      "          50       1.00      0.60      0.75         5\n",
      "\n",
      "    accuracy                           0.85       359\n",
      "   macro avg       0.74      0.75      0.73       359\n",
      "weighted avg       0.84      0.85      0.83       359\n",
      "\n",
      "\n",
      "\n",
      "Confusion matrix: \n",
      "\n",
      "[[19  0  0 ...  0  0  0]\n",
      " [ 0 12  0 ...  1  0  0]\n",
      " [ 0  0 19 ...  0  0  0]\n",
      " ...\n",
      " [ 0  0  0 ...  6  0  0]\n",
      " [ 0  0  0 ...  0  6  0]\n",
      " [ 0  0  0 ...  0  0  3]]\n",
      "\n",
      "\n",
      "\n",
      "\n",
      "****************************** GaussianNB ***************************\n",
      "\n",
      "\n",
      "GaussianNB()\n",
      "\n",
      "\n",
      "accuracy_score:  0.8941504178272981\n",
      "\n",
      "\n",
      "cross_val_score:  0.8455115176151763\n",
      "\n",
      "\n",
      "Classification report:\n",
      " \n",
      "              precision    recall  f1-score   support\n",
      "\n",
      "           0       0.94      0.79      0.86        19\n",
      "           1       1.00      0.54      0.70        13\n",
      "           2       1.00      0.89      0.94        19\n",
      "           3       1.00      0.80      0.89        15\n",
      "           4       1.00      0.89      0.94         9\n",
      "           5       1.00      0.92      0.96        13\n",
      "           6       1.00      1.00      1.00         7\n",
      "           7       1.00      0.25      0.40         4\n",
      "           8       1.00      1.00      1.00         5\n",
      "           9       1.00      1.00      1.00        12\n",
      "          10       0.86      1.00      0.92         6\n",
      "          11       1.00      1.00      1.00         5\n",
      "          12       1.00      1.00      1.00        11\n",
      "          13       0.83      1.00      0.91        10\n",
      "          14       1.00      1.00      1.00         5\n",
      "          15       1.00      0.78      0.88         9\n",
      "          16       1.00      0.80      0.89         5\n",
      "          17       0.83      1.00      0.91         5\n",
      "          18       1.00      1.00      1.00         2\n",
      "          19       1.00      1.00      1.00        11\n",
      "          20       1.00      1.00      1.00         1\n",
      "          21       0.00      0.00      0.00         1\n",
      "          22       0.91      0.91      0.91        11\n",
      "          23       0.67      0.67      0.67         3\n",
      "          24       1.00      1.00      1.00         3\n",
      "          25       1.00      1.00      1.00         9\n",
      "          26       1.00      1.00      1.00         7\n",
      "          27       1.00      1.00      1.00         2\n",
      "          28       0.85      1.00      0.92        11\n",
      "          29       0.31      0.57      0.40         7\n",
      "          31       0.91      0.77      0.83        13\n",
      "          32       0.75      0.75      0.75         4\n",
      "          33       1.00      0.50      0.67         2\n",
      "          34       0.62      0.83      0.71         6\n",
      "          35       0.62      1.00      0.77         5\n",
      "          36       1.00      1.00      1.00         4\n",
      "          37       1.00      1.00      1.00         5\n",
      "          38       1.00      1.00      1.00         9\n",
      "          39       0.75      1.00      0.86         3\n",
      "          40       0.50      0.50      0.50         2\n",
      "          41       1.00      1.00      1.00         8\n",
      "          42       1.00      1.00      1.00        15\n",
      "          44       0.80      1.00      0.89        12\n",
      "          45       1.00      1.00      1.00         7\n",
      "          46       0.50      1.00      0.67         4\n",
      "          47       0.71      0.71      0.71         7\n",
      "          49       1.00      1.00      1.00         8\n",
      "          50       0.83      1.00      0.91         5\n",
      "\n",
      "    accuracy                           0.89       359\n",
      "   macro avg       0.88      0.87      0.86       359\n",
      "weighted avg       0.92      0.89      0.90       359\n"
     ]
    },
    {
     "name": "stdout",
     "output_type": "stream",
     "text": [
      "\n",
      "\n",
      "\n",
      "Confusion matrix: \n",
      "\n",
      "[[15  0  0 ...  0  0  0]\n",
      " [ 0  7  0 ...  0  0  0]\n",
      " [ 0  0 17 ...  0  0  0]\n",
      " ...\n",
      " [ 0  0  0 ...  5  0  0]\n",
      " [ 0  0  0 ...  0  8  0]\n",
      " [ 0  0  0 ...  0  0  5]]\n",
      "\n",
      "\n",
      "\n",
      "\n",
      "****************************** DecisionTreeClassifier ***************************\n",
      "\n",
      "\n",
      "DecisionTreeClassifier()\n",
      "\n",
      "\n",
      "accuracy_score:  0.9052924791086351\n",
      "\n",
      "\n",
      "cross_val_score:  0.8189871273712737\n",
      "\n",
      "\n",
      "Classification report:\n",
      " \n",
      "              precision    recall  f1-score   support\n",
      "\n",
      "           0       0.94      0.84      0.89        19\n",
      "           1       1.00      0.92      0.96        13\n",
      "           2       1.00      0.89      0.94        19\n",
      "           3       1.00      1.00      1.00        15\n",
      "           4       0.75      1.00      0.86         9\n",
      "           5       1.00      1.00      1.00        13\n",
      "           6       0.88      1.00      0.93         7\n",
      "           7       0.60      0.75      0.67         4\n",
      "           8       0.67      0.80      0.73         5\n",
      "           9       1.00      1.00      1.00        12\n",
      "          10       1.00      1.00      1.00         6\n",
      "          11       1.00      1.00      1.00         5\n",
      "          12       1.00      0.91      0.95        11\n",
      "          13       1.00      1.00      1.00        10\n",
      "          14       0.83      1.00      0.91         5\n",
      "          15       1.00      0.89      0.94         9\n",
      "          16       1.00      0.80      0.89         5\n",
      "          17       0.80      0.80      0.80         5\n",
      "          18       1.00      0.50      0.67         2\n",
      "          19       1.00      1.00      1.00        11\n",
      "          20       1.00      1.00      1.00         1\n",
      "          21       1.00      1.00      1.00         1\n",
      "          22       1.00      1.00      1.00        11\n",
      "          23       0.67      0.67      0.67         3\n",
      "          24       0.75      1.00      0.86         3\n",
      "          25       1.00      0.89      0.94         9\n",
      "          26       1.00      1.00      1.00         7\n",
      "          27       1.00      1.00      1.00         2\n",
      "          28       1.00      0.91      0.95        11\n",
      "          29       1.00      0.43      0.60         7\n",
      "          31       0.82      0.69      0.75        13\n",
      "          32       0.80      1.00      0.89         4\n",
      "          33       1.00      1.00      1.00         2\n",
      "          34       1.00      0.67      0.80         6\n",
      "          35       0.75      0.60      0.67         5\n",
      "          36       0.67      1.00      0.80         4\n",
      "          37       1.00      0.80      0.89         5\n",
      "          38       0.90      1.00      0.95         9\n",
      "          39       0.75      1.00      0.86         3\n",
      "          40       0.67      1.00      0.80         2\n",
      "          41       1.00      1.00      1.00         8\n",
      "          42       0.93      0.93      0.93        15\n",
      "          44       0.92      1.00      0.96        12\n",
      "          45       0.78      1.00      0.88         7\n",
      "          46       0.60      0.75      0.67         4\n",
      "          47       0.55      0.86      0.67         7\n",
      "          49       1.00      0.88      0.93         8\n",
      "          50       0.80      0.80      0.80         5\n",
      "\n",
      "    accuracy                           0.91       359\n",
      "   macro avg       0.89      0.90      0.88       359\n",
      "weighted avg       0.92      0.91      0.91       359\n",
      "\n",
      "\n",
      "\n",
      "Confusion matrix: \n",
      "\n",
      "[[16  0  0 ...  0  0  0]\n",
      " [ 0 12  0 ...  1  0  0]\n",
      " [ 0  0 17 ...  0  0  0]\n",
      " ...\n",
      " [ 0  0  0 ...  6  0  0]\n",
      " [ 0  0  0 ...  0  7  0]\n",
      " [ 0  0  0 ...  0  0  4]]\n",
      "\n",
      "\n",
      "\n",
      "\n",
      "****************************** KNeighborsClassifier ***************************\n",
      "\n",
      "\n",
      "KNeighborsClassifier()\n",
      "\n",
      "\n",
      "accuracy_score:  0.7883008356545961\n",
      "\n",
      "\n",
      "cross_val_score:  0.7423659504452187\n",
      "\n",
      "\n",
      "Classification report:\n",
      " \n",
      "              precision    recall  f1-score   support\n",
      "\n",
      "           0       0.86      1.00      0.93        19\n",
      "           1       0.73      0.85      0.79        13\n",
      "           2       0.78      0.74      0.76        19\n",
      "           3       1.00      1.00      1.00        15\n",
      "           4       0.64      1.00      0.78         9\n",
      "           5       0.91      0.77      0.83        13\n",
      "           6       0.50      1.00      0.67         7\n",
      "           7       0.43      0.75      0.55         4\n",
      "           8       0.80      0.80      0.80         5\n",
      "           9       0.79      0.92      0.85        12\n",
      "          10       0.62      0.83      0.71         6\n",
      "          11       1.00      0.80      0.89         5\n",
      "          12       1.00      1.00      1.00        11\n",
      "          13       0.83      0.50      0.62        10\n",
      "          14       0.50      0.20      0.29         5\n",
      "          15       0.78      0.78      0.78         9\n",
      "          16       0.33      0.20      0.25         5\n",
      "          17       0.44      0.80      0.57         5\n",
      "          18       0.25      0.50      0.33         2\n",
      "          19       0.79      1.00      0.88        11\n",
      "          20       0.00      0.00      0.00         1\n",
      "          21       1.00      1.00      1.00         1\n",
      "          22       0.91      0.91      0.91        11\n",
      "          23       0.00      0.00      0.00         3\n",
      "          24       1.00      0.33      0.50         3\n",
      "          25       1.00      0.78      0.88         9\n",
      "          26       1.00      1.00      1.00         7\n",
      "          27       1.00      1.00      1.00         2\n",
      "          28       0.75      0.82      0.78        11\n",
      "          29       0.67      0.57      0.62         7\n",
      "          31       1.00      0.69      0.82        13\n",
      "          32       0.75      0.75      0.75         4\n",
      "          33       1.00      0.50      0.67         2\n",
      "          34       0.80      0.67      0.73         6\n",
      "          35       0.67      0.40      0.50         5\n",
      "          36       1.00      0.75      0.86         4\n",
      "          37       0.60      0.60      0.60         5\n",
      "          38       0.80      0.89      0.84         9\n",
      "          39       0.50      0.33      0.40         3\n",
      "          40       0.50      0.50      0.50         2\n",
      "          41       1.00      0.88      0.93         8\n",
      "          42       1.00      0.87      0.93        15\n",
      "          44       1.00      1.00      1.00        12\n",
      "          45       1.00      0.71      0.83         7\n",
      "          46       0.80      1.00      0.89         4\n",
      "          47       0.71      0.71      0.71         7\n",
      "          49       0.75      0.75      0.75         8\n",
      "          50       0.50      0.40      0.44         5\n",
      "\n",
      "    accuracy                           0.79       359\n",
      "   macro avg       0.74      0.71      0.71       359\n",
      "weighted avg       0.81      0.79      0.78       359\n",
      "\n",
      "\n",
      "\n",
      "Confusion matrix: \n",
      "\n",
      "[[19  0  0 ...  0  0  0]\n",
      " [ 0 11  1 ...  1  0  0]\n",
      " [ 0  0 14 ...  0  0  0]\n",
      " ...\n",
      " [ 0  1  0 ...  5  0  0]\n",
      " [ 0  0  0 ...  0  6  0]\n",
      " [ 0  0  0 ...  0  0  2]]\n",
      "\n",
      "\n",
      "\n",
      "\n"
     ]
    }
   ],
   "source": [
    "#Making a for loop and calling the algorithm one by one and save data to respective model using append function\n",
    "Model=[]\n",
    "score=[]\n",
    "cvs=[]\n",
    "for name,model in models:\n",
    "    print('******************************',name,'***************************')\n",
    "    print('\\n')\n",
    "    Model.append(name)\n",
    "    model.fit(x_train,y_train)\n",
    "    print(model)\n",
    "    pre=model.predict(x_test)\n",
    "    print('\\n')\n",
    "    AS=accuracy_score(y_test,pre)\n",
    "    print('accuracy_score: ',AS)\n",
    "    score.append(AS*100)\n",
    "    print('\\n')\n",
    "    sc=cross_val_score(model,x,y,cv=5,scoring='accuracy').mean()\n",
    "    print('cross_val_score: ',sc)\n",
    "    cvs.append(sc*100)\n",
    "    print('\\n')\n",
    "    print('Classification report:\\n ')\n",
    "    print(classification_report(y_test,pre))\n",
    "    print('\\n')\n",
    "    print('Confusion matrix: \\n')\n",
    "    cm=confusion_matrix(y_test,pre)\n",
    "    print(cm)    \n",
    "    print('\\n\\n\\n')"
   ]
  },
  {
   "cell_type": "code",
   "execution_count": 51,
   "metadata": {},
   "outputs": [
    {
     "data": {
      "text/html": [
       "<div>\n",
       "<style scoped>\n",
       "    .dataframe tbody tr th:only-of-type {\n",
       "        vertical-align: middle;\n",
       "    }\n",
       "\n",
       "    .dataframe tbody tr th {\n",
       "        vertical-align: top;\n",
       "    }\n",
       "\n",
       "    .dataframe thead th {\n",
       "        text-align: right;\n",
       "    }\n",
       "</style>\n",
       "<table border=\"1\" class=\"dataframe\">\n",
       "  <thead>\n",
       "    <tr style=\"text-align: right;\">\n",
       "      <th></th>\n",
       "      <th>Model</th>\n",
       "      <th>Accuracy_score</th>\n",
       "      <th>Cross_val_score</th>\n",
       "    </tr>\n",
       "  </thead>\n",
       "  <tbody>\n",
       "    <tr>\n",
       "      <th>0</th>\n",
       "      <td>Logistic Regression</td>\n",
       "      <td>92.757660</td>\n",
       "      <td>86.216851</td>\n",
       "    </tr>\n",
       "    <tr>\n",
       "      <th>1</th>\n",
       "      <td>SupportVectorClassifier</td>\n",
       "      <td>85.236769</td>\n",
       "      <td>82.665021</td>\n",
       "    </tr>\n",
       "    <tr>\n",
       "      <th>2</th>\n",
       "      <td>GaussianNB</td>\n",
       "      <td>89.415042</td>\n",
       "      <td>84.551152</td>\n",
       "    </tr>\n",
       "    <tr>\n",
       "      <th>3</th>\n",
       "      <td>DecisionTreeClassifier</td>\n",
       "      <td>90.529248</td>\n",
       "      <td>81.898713</td>\n",
       "    </tr>\n",
       "    <tr>\n",
       "      <th>4</th>\n",
       "      <td>KNeighborsClassifier</td>\n",
       "      <td>78.830084</td>\n",
       "      <td>74.236595</td>\n",
       "    </tr>\n",
       "  </tbody>\n",
       "</table>\n",
       "</div>"
      ],
      "text/plain": [
       "                     Model  Accuracy_score  Cross_val_score\n",
       "0      Logistic Regression       92.757660        86.216851\n",
       "1  SupportVectorClassifier       85.236769        82.665021\n",
       "2               GaussianNB       89.415042        84.551152\n",
       "3   DecisionTreeClassifier       90.529248        81.898713\n",
       "4     KNeighborsClassifier       78.830084        74.236595"
      ]
     },
     "execution_count": 51,
     "metadata": {},
     "output_type": "execute_result"
    }
   ],
   "source": [
    "#Finalizing the result\n",
    "result=pd.DataFrame({'Model':Model, 'Accuracy_score': score,'Cross_val_score':cvs})\n",
    "result"
   ]
  },
  {
   "cell_type": "markdown",
   "metadata": {},
   "source": [
    "From the above algorithms used, we can say that LogisticRegression is working well by giving an accuracy score of 92.75 and cross validation score of 86.21. Now, we will perform HyperparameterTuning to improve the accuracy of the model."
   ]
  },
  {
   "cell_type": "markdown",
   "metadata": {},
   "source": [
    "# Hyperparameter Tuning "
   ]
  },
  {
   "cell_type": "code",
   "execution_count": 52,
   "metadata": {},
   "outputs": [],
   "source": [
    "#Creating parameter list to pass in GridSearchCV\n",
    "parameters={'penalty':['l1','l2','elasticnet'],'C':[10, 1, 0.1, 0.01,0.001,0.001],'solver':['newton-cg', 'lbfgs', 'liblinear']}"
   ]
  },
  {
   "cell_type": "code",
   "execution_count": 53,
   "metadata": {},
   "outputs": [
    {
     "name": "stdout",
     "output_type": "stream",
     "text": [
      "{'C': 10, 'penalty': 'l2', 'solver': 'newton-cg'}\n",
      "0.9322006890611542\n"
     ]
    }
   ],
   "source": [
    "#Using GridSearchCV to run the parameters and checking final accuracy\n",
    "from sklearn.model_selection import GridSearchCV\n",
    "LR=LogisticRegression()\n",
    "grid=GridSearchCV(LR,parameters,cv=5,scoring='accuracy')\n",
    "grid.fit(x_train,y_train)\n",
    "print(grid.best_params_)  #Printing the best parameters obtained\n",
    "print(grid.best_score_) #Mean cross-validated score of best_estimator"
   ]
  },
  {
   "cell_type": "code",
   "execution_count": 54,
   "metadata": {},
   "outputs": [
    {
     "name": "stdout",
     "output_type": "stream",
     "text": [
      "Final Accuracy after tuning is:  95.82172701949861\n",
      "Cross validation score:  91.02037359659312\n"
     ]
    }
   ],
   "source": [
    "#Using the best parameters\n",
    "LR=LogisticRegression(C=10,penalty='l2',solver='newton-cg')\n",
    "LR.fit(x_train,y_train)\n",
    "pred=LR.predict(x_test)\n",
    "print('Final Accuracy after tuning is: ',accuracy_score(y_test,pred)*100)\n",
    "print('Cross validation score: ',cross_val_score(LR,x,y,cv=5,scoring='accuracy').mean()*100)"
   ]
  },
  {
   "cell_type": "markdown",
   "metadata": {},
   "source": [
    "After Hyperparameter Tuning, we can see that our accuracy score has been increased from 92.75 to 95.82 and our cross validation score has been improved from 86.21 to 91.02. LogisticRegression is the best performing model and we are finalizing it."
   ]
  },
  {
   "cell_type": "markdown",
   "metadata": {},
   "source": [
    "# Finalizing the model"
   ]
  },
  {
   "cell_type": "code",
   "execution_count": 55,
   "metadata": {},
   "outputs": [
    {
     "name": "stdout",
     "output_type": "stream",
     "text": [
      "Predictions of LogisticRegression:  [0 0 0 ... 7 7 7]\n"
     ]
    }
   ],
   "source": [
    "LR_prediction=LR.predict(x)\n",
    "print('Predictions of LogisticRegression: ',LR_prediction)"
   ]
  },
  {
   "cell_type": "code",
   "execution_count": 56,
   "metadata": {},
   "outputs": [
    {
     "data": {
      "text/plain": [
       "['Avocado_Classification.obj']"
      ]
     },
     "execution_count": 56,
     "metadata": {},
     "output_type": "execute_result"
    }
   ],
   "source": [
    "#Saving the model\n",
    "import joblib\n",
    "joblib.dump(LR,'Avocado_Classification.obj')"
   ]
  },
  {
   "cell_type": "markdown",
   "metadata": {},
   "source": [
    "# Saving the predicted values"
   ]
  },
  {
   "cell_type": "code",
   "execution_count": 57,
   "metadata": {},
   "outputs": [],
   "source": [
    "results=pd.DataFrame(LR_prediction)\n",
    "results.to_csv('Avocado_Project_Classification_Results.csv')"
   ]
  },
  {
   "cell_type": "markdown",
   "metadata": {},
   "source": [
    "Therefore, the classification analysis of avocado project has been done and the LogisticRegression model has been finalized for production and the predicted results has been saved in a DataFrame."
   ]
  },
  {
   "cell_type": "markdown",
   "metadata": {},
   "source": [
    "# Regression Analysis"
   ]
  },
  {
   "cell_type": "markdown",
   "metadata": {},
   "source": [
    "# Preparing dataset for model training"
   ]
  },
  {
   "cell_type": "code",
   "execution_count": 58,
   "metadata": {},
   "outputs": [
    {
     "data": {
      "text/html": [
       "<div>\n",
       "<style scoped>\n",
       "    .dataframe tbody tr th:only-of-type {\n",
       "        vertical-align: middle;\n",
       "    }\n",
       "\n",
       "    .dataframe tbody tr th {\n",
       "        vertical-align: top;\n",
       "    }\n",
       "\n",
       "    .dataframe thead th {\n",
       "        text-align: right;\n",
       "    }\n",
       "</style>\n",
       "<table border=\"1\" class=\"dataframe\">\n",
       "  <thead>\n",
       "    <tr style=\"text-align: right;\">\n",
       "      <th></th>\n",
       "      <th>month</th>\n",
       "      <th>day</th>\n",
       "      <th>AveragePrice</th>\n",
       "      <th>Total Avocados sold</th>\n",
       "      <th>PLU 4046 sold</th>\n",
       "      <th>PLU 4225 sold</th>\n",
       "      <th>PLU 4770 sold</th>\n",
       "      <th>Total Bags</th>\n",
       "      <th>Small Bags</th>\n",
       "      <th>Large Bags</th>\n",
       "      <th>XLarge Bags</th>\n",
       "      <th>year</th>\n",
       "      <th>region</th>\n",
       "    </tr>\n",
       "  </thead>\n",
       "  <tbody>\n",
       "    <tr>\n",
       "      <th>0</th>\n",
       "      <td>2</td>\n",
       "      <td>3</td>\n",
       "      <td>1.33</td>\n",
       "      <td>64236.62</td>\n",
       "      <td>1036.74</td>\n",
       "      <td>54454.85</td>\n",
       "      <td>48.16</td>\n",
       "      <td>8696.87</td>\n",
       "      <td>8603.62</td>\n",
       "      <td>93.25</td>\n",
       "      <td>0.00</td>\n",
       "      <td>0</td>\n",
       "      <td>0</td>\n",
       "    </tr>\n",
       "    <tr>\n",
       "      <th>1</th>\n",
       "      <td>2</td>\n",
       "      <td>3</td>\n",
       "      <td>1.35</td>\n",
       "      <td>54876.98</td>\n",
       "      <td>674.28</td>\n",
       "      <td>44638.81</td>\n",
       "      <td>58.33</td>\n",
       "      <td>9505.56</td>\n",
       "      <td>9408.07</td>\n",
       "      <td>97.49</td>\n",
       "      <td>0.00</td>\n",
       "      <td>0</td>\n",
       "      <td>0</td>\n",
       "    </tr>\n",
       "    <tr>\n",
       "      <th>2</th>\n",
       "      <td>2</td>\n",
       "      <td>3</td>\n",
       "      <td>0.93</td>\n",
       "      <td>118220.22</td>\n",
       "      <td>794.70</td>\n",
       "      <td>109149.67</td>\n",
       "      <td>130.50</td>\n",
       "      <td>8145.35</td>\n",
       "      <td>8042.21</td>\n",
       "      <td>103.14</td>\n",
       "      <td>0.00</td>\n",
       "      <td>0</td>\n",
       "      <td>0</td>\n",
       "    </tr>\n",
       "    <tr>\n",
       "      <th>3</th>\n",
       "      <td>6</td>\n",
       "      <td>0</td>\n",
       "      <td>1.08</td>\n",
       "      <td>78992.15</td>\n",
       "      <td>1132.00</td>\n",
       "      <td>71976.41</td>\n",
       "      <td>72.58</td>\n",
       "      <td>5811.16</td>\n",
       "      <td>5677.40</td>\n",
       "      <td>133.76</td>\n",
       "      <td>0.00</td>\n",
       "      <td>0</td>\n",
       "      <td>0</td>\n",
       "    </tr>\n",
       "    <tr>\n",
       "      <th>4</th>\n",
       "      <td>9</td>\n",
       "      <td>3</td>\n",
       "      <td>1.28</td>\n",
       "      <td>51039.60</td>\n",
       "      <td>941.48</td>\n",
       "      <td>43838.39</td>\n",
       "      <td>75.78</td>\n",
       "      <td>6183.95</td>\n",
       "      <td>5986.26</td>\n",
       "      <td>197.69</td>\n",
       "      <td>0.00</td>\n",
       "      <td>0</td>\n",
       "      <td>0</td>\n",
       "    </tr>\n",
       "    <tr>\n",
       "      <th>...</th>\n",
       "      <td>...</td>\n",
       "      <td>...</td>\n",
       "      <td>...</td>\n",
       "      <td>...</td>\n",
       "      <td>...</td>\n",
       "      <td>...</td>\n",
       "      <td>...</td>\n",
       "      <td>...</td>\n",
       "      <td>...</td>\n",
       "      <td>...</td>\n",
       "      <td>...</td>\n",
       "      <td>...</td>\n",
       "      <td>...</td>\n",
       "    </tr>\n",
       "    <tr>\n",
       "      <th>1512</th>\n",
       "      <td>10</td>\n",
       "      <td>3</td>\n",
       "      <td>1.39</td>\n",
       "      <td>190846.01</td>\n",
       "      <td>57529.11</td>\n",
       "      <td>56366.66</td>\n",
       "      <td>17531.78</td>\n",
       "      <td>59418.46</td>\n",
       "      <td>48823.53</td>\n",
       "      <td>10354.65</td>\n",
       "      <td>240.28</td>\n",
       "      <td>1</td>\n",
       "      <td>7</td>\n",
       "    </tr>\n",
       "    <tr>\n",
       "      <th>1513</th>\n",
       "      <td>11</td>\n",
       "      <td>2</td>\n",
       "      <td>1.51</td>\n",
       "      <td>178235.75</td>\n",
       "      <td>43325.87</td>\n",
       "      <td>52189.61</td>\n",
       "      <td>19419.57</td>\n",
       "      <td>63300.70</td>\n",
       "      <td>54704.14</td>\n",
       "      <td>8596.56</td>\n",
       "      <td>0.00</td>\n",
       "      <td>1</td>\n",
       "      <td>7</td>\n",
       "    </tr>\n",
       "    <tr>\n",
       "      <th>1514</th>\n",
       "      <td>3</td>\n",
       "      <td>6</td>\n",
       "      <td>1.48</td>\n",
       "      <td>178410.82</td>\n",
       "      <td>46364.75</td>\n",
       "      <td>52893.38</td>\n",
       "      <td>16736.92</td>\n",
       "      <td>62415.77</td>\n",
       "      <td>53332.61</td>\n",
       "      <td>8258.16</td>\n",
       "      <td>825.00</td>\n",
       "      <td>1</td>\n",
       "      <td>7</td>\n",
       "    </tr>\n",
       "    <tr>\n",
       "      <th>1515</th>\n",
       "      <td>11</td>\n",
       "      <td>3</td>\n",
       "      <td>1.47</td>\n",
       "      <td>189131.52</td>\n",
       "      <td>54110.79</td>\n",
       "      <td>53593.58</td>\n",
       "      <td>17495.42</td>\n",
       "      <td>63931.73</td>\n",
       "      <td>55653.47</td>\n",
       "      <td>8278.26</td>\n",
       "      <td>0.00</td>\n",
       "      <td>1</td>\n",
       "      <td>7</td>\n",
       "    </tr>\n",
       "    <tr>\n",
       "      <th>1516</th>\n",
       "      <td>11</td>\n",
       "      <td>3</td>\n",
       "      <td>1.43</td>\n",
       "      <td>182978.30</td>\n",
       "      <td>43116.41</td>\n",
       "      <td>54193.42</td>\n",
       "      <td>16563.91</td>\n",
       "      <td>69104.56</td>\n",
       "      <td>57456.21</td>\n",
       "      <td>11648.35</td>\n",
       "      <td>0.00</td>\n",
       "      <td>1</td>\n",
       "      <td>7</td>\n",
       "    </tr>\n",
       "  </tbody>\n",
       "</table>\n",
       "<p>1436 rows × 13 columns</p>\n",
       "</div>"
      ],
      "text/plain": [
       "      month  day  AveragePrice  Total Avocados sold  PLU 4046 sold  \\\n",
       "0         2    3          1.33             64236.62        1036.74   \n",
       "1         2    3          1.35             54876.98         674.28   \n",
       "2         2    3          0.93            118220.22         794.70   \n",
       "3         6    0          1.08             78992.15        1132.00   \n",
       "4         9    3          1.28             51039.60         941.48   \n",
       "...     ...  ...           ...                  ...            ...   \n",
       "1512     10    3          1.39            190846.01       57529.11   \n",
       "1513     11    2          1.51            178235.75       43325.87   \n",
       "1514      3    6          1.48            178410.82       46364.75   \n",
       "1515     11    3          1.47            189131.52       54110.79   \n",
       "1516     11    3          1.43            182978.30       43116.41   \n",
       "\n",
       "      PLU 4225 sold  PLU 4770 sold  Total Bags  Small Bags  Large Bags  \\\n",
       "0          54454.85          48.16     8696.87     8603.62       93.25   \n",
       "1          44638.81          58.33     9505.56     9408.07       97.49   \n",
       "2         109149.67         130.50     8145.35     8042.21      103.14   \n",
       "3          71976.41          72.58     5811.16     5677.40      133.76   \n",
       "4          43838.39          75.78     6183.95     5986.26      197.69   \n",
       "...             ...            ...         ...         ...         ...   \n",
       "1512       56366.66       17531.78    59418.46    48823.53    10354.65   \n",
       "1513       52189.61       19419.57    63300.70    54704.14     8596.56   \n",
       "1514       52893.38       16736.92    62415.77    53332.61     8258.16   \n",
       "1515       53593.58       17495.42    63931.73    55653.47     8278.26   \n",
       "1516       54193.42       16563.91    69104.56    57456.21    11648.35   \n",
       "\n",
       "      XLarge Bags  year  region  \n",
       "0            0.00     0       0  \n",
       "1            0.00     0       0  \n",
       "2            0.00     0       0  \n",
       "3            0.00     0       0  \n",
       "4            0.00     0       0  \n",
       "...           ...   ...     ...  \n",
       "1512       240.28     1       7  \n",
       "1513         0.00     1       7  \n",
       "1514       825.00     1       7  \n",
       "1515         0.00     1       7  \n",
       "1516         0.00     1       7  \n",
       "\n",
       "[1436 rows x 13 columns]"
      ]
     },
     "execution_count": 58,
     "metadata": {},
     "output_type": "execute_result"
    }
   ],
   "source": [
    "df_new"
   ]
  },
  {
   "cell_type": "markdown",
   "metadata": {},
   "source": [
    "We need to split independent and dependent variables from the dataset in order to perform further analysis"
   ]
  },
  {
   "cell_type": "code",
   "execution_count": 59,
   "metadata": {},
   "outputs": [],
   "source": [
    "df_x=df_new.drop('AveragePrice',axis=1)   #Independent variables\n",
    "y=df_new['AveragePrice']    #Dependent or Target Variable"
   ]
  },
  {
   "cell_type": "code",
   "execution_count": 60,
   "metadata": {},
   "outputs": [
    {
     "data": {
      "text/html": [
       "<div>\n",
       "<style scoped>\n",
       "    .dataframe tbody tr th:only-of-type {\n",
       "        vertical-align: middle;\n",
       "    }\n",
       "\n",
       "    .dataframe tbody tr th {\n",
       "        vertical-align: top;\n",
       "    }\n",
       "\n",
       "    .dataframe thead th {\n",
       "        text-align: right;\n",
       "    }\n",
       "</style>\n",
       "<table border=\"1\" class=\"dataframe\">\n",
       "  <thead>\n",
       "    <tr style=\"text-align: right;\">\n",
       "      <th></th>\n",
       "      <th>month</th>\n",
       "      <th>day</th>\n",
       "      <th>Total Avocados sold</th>\n",
       "      <th>PLU 4046 sold</th>\n",
       "      <th>PLU 4225 sold</th>\n",
       "      <th>PLU 4770 sold</th>\n",
       "      <th>Total Bags</th>\n",
       "      <th>Small Bags</th>\n",
       "      <th>Large Bags</th>\n",
       "      <th>XLarge Bags</th>\n",
       "      <th>year</th>\n",
       "      <th>region</th>\n",
       "    </tr>\n",
       "  </thead>\n",
       "  <tbody>\n",
       "    <tr>\n",
       "      <th>0</th>\n",
       "      <td>2</td>\n",
       "      <td>3</td>\n",
       "      <td>64236.62</td>\n",
       "      <td>1036.74</td>\n",
       "      <td>54454.85</td>\n",
       "      <td>48.16</td>\n",
       "      <td>8696.87</td>\n",
       "      <td>8603.62</td>\n",
       "      <td>93.25</td>\n",
       "      <td>0.0</td>\n",
       "      <td>0</td>\n",
       "      <td>0</td>\n",
       "    </tr>\n",
       "    <tr>\n",
       "      <th>1</th>\n",
       "      <td>2</td>\n",
       "      <td>3</td>\n",
       "      <td>54876.98</td>\n",
       "      <td>674.28</td>\n",
       "      <td>44638.81</td>\n",
       "      <td>58.33</td>\n",
       "      <td>9505.56</td>\n",
       "      <td>9408.07</td>\n",
       "      <td>97.49</td>\n",
       "      <td>0.0</td>\n",
       "      <td>0</td>\n",
       "      <td>0</td>\n",
       "    </tr>\n",
       "    <tr>\n",
       "      <th>2</th>\n",
       "      <td>2</td>\n",
       "      <td>3</td>\n",
       "      <td>118220.22</td>\n",
       "      <td>794.70</td>\n",
       "      <td>109149.67</td>\n",
       "      <td>130.50</td>\n",
       "      <td>8145.35</td>\n",
       "      <td>8042.21</td>\n",
       "      <td>103.14</td>\n",
       "      <td>0.0</td>\n",
       "      <td>0</td>\n",
       "      <td>0</td>\n",
       "    </tr>\n",
       "    <tr>\n",
       "      <th>3</th>\n",
       "      <td>6</td>\n",
       "      <td>0</td>\n",
       "      <td>78992.15</td>\n",
       "      <td>1132.00</td>\n",
       "      <td>71976.41</td>\n",
       "      <td>72.58</td>\n",
       "      <td>5811.16</td>\n",
       "      <td>5677.40</td>\n",
       "      <td>133.76</td>\n",
       "      <td>0.0</td>\n",
       "      <td>0</td>\n",
       "      <td>0</td>\n",
       "    </tr>\n",
       "    <tr>\n",
       "      <th>4</th>\n",
       "      <td>9</td>\n",
       "      <td>3</td>\n",
       "      <td>51039.60</td>\n",
       "      <td>941.48</td>\n",
       "      <td>43838.39</td>\n",
       "      <td>75.78</td>\n",
       "      <td>6183.95</td>\n",
       "      <td>5986.26</td>\n",
       "      <td>197.69</td>\n",
       "      <td>0.0</td>\n",
       "      <td>0</td>\n",
       "      <td>0</td>\n",
       "    </tr>\n",
       "  </tbody>\n",
       "</table>\n",
       "</div>"
      ],
      "text/plain": [
       "   month  day  Total Avocados sold  PLU 4046 sold  PLU 4225 sold  \\\n",
       "0      2    3             64236.62        1036.74       54454.85   \n",
       "1      2    3             54876.98         674.28       44638.81   \n",
       "2      2    3            118220.22         794.70      109149.67   \n",
       "3      6    0             78992.15        1132.00       71976.41   \n",
       "4      9    3             51039.60         941.48       43838.39   \n",
       "\n",
       "   PLU 4770 sold  Total Bags  Small Bags  Large Bags  XLarge Bags  year  \\\n",
       "0          48.16     8696.87     8603.62       93.25          0.0     0   \n",
       "1          58.33     9505.56     9408.07       97.49          0.0     0   \n",
       "2         130.50     8145.35     8042.21      103.14          0.0     0   \n",
       "3          72.58     5811.16     5677.40      133.76          0.0     0   \n",
       "4          75.78     6183.95     5986.26      197.69          0.0     0   \n",
       "\n",
       "   region  \n",
       "0       0  \n",
       "1       0  \n",
       "2       0  \n",
       "3       0  \n",
       "4       0  "
      ]
     },
     "execution_count": 60,
     "metadata": {},
     "output_type": "execute_result"
    }
   ],
   "source": [
    "#Checking x data\n",
    "df_x.head()"
   ]
  },
  {
   "cell_type": "code",
   "execution_count": 61,
   "metadata": {},
   "outputs": [
    {
     "data": {
      "text/plain": [
       "0       1.33\n",
       "1       1.35\n",
       "2       0.93\n",
       "3       1.08\n",
       "4       1.28\n",
       "        ... \n",
       "1512    1.39\n",
       "1513    1.51\n",
       "1514    1.48\n",
       "1515    1.47\n",
       "1516    1.43\n",
       "Name: AveragePrice, Length: 1436, dtype: float64"
      ]
     },
     "execution_count": 61,
     "metadata": {},
     "output_type": "execute_result"
    }
   ],
   "source": [
    "#Checking y data after splitting\n",
    "y"
   ]
  },
  {
   "cell_type": "markdown",
   "metadata": {},
   "source": [
    "# Treating skewness using log-transform"
   ]
  },
  {
   "cell_type": "code",
   "execution_count": 62,
   "metadata": {},
   "outputs": [],
   "source": [
    "#We are removing skewness from independent variables by using log-transform\n",
    "for col in df_x.columns:\n",
    "    if df_x.skew().loc[col]>0.55:\n",
    "        df_x[col]=np.log1p(df_x[col])\n",
    "        \n",
    "#The skewness has been treated and the data is ready for model training and testing        "
   ]
  },
  {
   "cell_type": "markdown",
   "metadata": {},
   "source": [
    "# Scaling the data"
   ]
  },
  {
   "cell_type": "markdown",
   "metadata": {},
   "source": [
    "Sometimes model can be biased to higher values in dataset, so it is better to scale the dataset so that we can bring all the columns in common range. We can use StandardScaler here."
   ]
  },
  {
   "cell_type": "code",
   "execution_count": 63,
   "metadata": {},
   "outputs": [
    {
     "data": {
      "text/html": [
       "<div>\n",
       "<style scoped>\n",
       "    .dataframe tbody tr th:only-of-type {\n",
       "        vertical-align: middle;\n",
       "    }\n",
       "\n",
       "    .dataframe tbody tr th {\n",
       "        vertical-align: top;\n",
       "    }\n",
       "\n",
       "    .dataframe thead th {\n",
       "        text-align: right;\n",
       "    }\n",
       "</style>\n",
       "<table border=\"1\" class=\"dataframe\">\n",
       "  <thead>\n",
       "    <tr style=\"text-align: right;\">\n",
       "      <th></th>\n",
       "      <th>month</th>\n",
       "      <th>day</th>\n",
       "      <th>Total Avocados sold</th>\n",
       "      <th>PLU 4046 sold</th>\n",
       "      <th>PLU 4225 sold</th>\n",
       "      <th>PLU 4770 sold</th>\n",
       "      <th>Total Bags</th>\n",
       "      <th>Small Bags</th>\n",
       "      <th>Large Bags</th>\n",
       "      <th>XLarge Bags</th>\n",
       "      <th>year</th>\n",
       "      <th>region</th>\n",
       "    </tr>\n",
       "  </thead>\n",
       "  <tbody>\n",
       "    <tr>\n",
       "      <th>0</th>\n",
       "      <td>-0.983631</td>\n",
       "      <td>0.204723</td>\n",
       "      <td>-1.410935</td>\n",
       "      <td>-1.847345</td>\n",
       "      <td>-0.507917</td>\n",
       "      <td>-1.815979</td>\n",
       "      <td>-1.822359</td>\n",
       "      <td>-1.648547</td>\n",
       "      <td>-0.917419</td>\n",
       "      <td>-0.775528</td>\n",
       "      <td>-0.413870</td>\n",
       "      <td>-1.322817</td>\n",
       "    </tr>\n",
       "    <tr>\n",
       "      <th>1</th>\n",
       "      <td>-0.983631</td>\n",
       "      <td>0.204723</td>\n",
       "      <td>-1.535660</td>\n",
       "      <td>-2.042823</td>\n",
       "      <td>-0.635183</td>\n",
       "      <td>-1.739119</td>\n",
       "      <td>-1.746806</td>\n",
       "      <td>-1.573622</td>\n",
       "      <td>-0.904196</td>\n",
       "      <td>-0.775528</td>\n",
       "      <td>-0.413870</td>\n",
       "      <td>-1.322817</td>\n",
       "    </tr>\n",
       "    <tr>\n",
       "      <th>2</th>\n",
       "      <td>-0.983631</td>\n",
       "      <td>0.204723</td>\n",
       "      <td>-0.927830</td>\n",
       "      <td>-1.968169</td>\n",
       "      <td>-0.062698</td>\n",
       "      <td>-1.413794</td>\n",
       "      <td>-1.878029</td>\n",
       "      <td>-1.705109</td>\n",
       "      <td>-0.887434</td>\n",
       "      <td>-0.775528</td>\n",
       "      <td>-0.413870</td>\n",
       "      <td>-1.322817</td>\n",
       "    </tr>\n",
       "    <tr>\n",
       "      <th>3</th>\n",
       "      <td>0.202342</td>\n",
       "      <td>-2.178912</td>\n",
       "      <td>-1.247168</td>\n",
       "      <td>-1.807390</td>\n",
       "      <td>-0.329300</td>\n",
       "      <td>-1.651131</td>\n",
       "      <td>-2.164946</td>\n",
       "      <td>-1.996977</td>\n",
       "      <td>-0.809976</td>\n",
       "      <td>-0.775528</td>\n",
       "      <td>-0.413870</td>\n",
       "      <td>-1.322817</td>\n",
       "    </tr>\n",
       "    <tr>\n",
       "      <th>4</th>\n",
       "      <td>1.091822</td>\n",
       "      <td>0.204723</td>\n",
       "      <td>-1.593074</td>\n",
       "      <td>-1.891150</td>\n",
       "      <td>-0.646768</td>\n",
       "      <td>-1.633730</td>\n",
       "      <td>-2.112115</td>\n",
       "      <td>-1.952576</td>\n",
       "      <td>-0.693305</td>\n",
       "      <td>-0.775528</td>\n",
       "      <td>-0.413870</td>\n",
       "      <td>-1.322817</td>\n",
       "    </tr>\n",
       "    <tr>\n",
       "      <th>...</th>\n",
       "      <td>...</td>\n",
       "      <td>...</td>\n",
       "      <td>...</td>\n",
       "      <td>...</td>\n",
       "      <td>...</td>\n",
       "      <td>...</td>\n",
       "      <td>...</td>\n",
       "      <td>...</td>\n",
       "      <td>...</td>\n",
       "      <td>...</td>\n",
       "      <td>...</td>\n",
       "      <td>...</td>\n",
       "    </tr>\n",
       "    <tr>\n",
       "      <th>1431</th>\n",
       "      <td>1.388316</td>\n",
       "      <td>0.204723</td>\n",
       "      <td>-0.548521</td>\n",
       "      <td>-0.020619</td>\n",
       "      <td>-0.485823</td>\n",
       "      <td>0.586167</td>\n",
       "      <td>-0.189379</td>\n",
       "      <td>-0.193283</td>\n",
       "      <td>0.494754</td>\n",
       "      <td>0.946229</td>\n",
       "      <td>2.416215</td>\n",
       "      <td>-0.879305</td>\n",
       "    </tr>\n",
       "    <tr>\n",
       "      <th>1432</th>\n",
       "      <td>1.684809</td>\n",
       "      <td>-0.589822</td>\n",
       "      <td>-0.602663</td>\n",
       "      <td>-0.149612</td>\n",
       "      <td>-0.535121</td>\n",
       "      <td>0.627966</td>\n",
       "      <td>-0.135593</td>\n",
       "      <td>-0.097945</td>\n",
       "      <td>0.438844</td>\n",
       "      <td>-0.775528</td>\n",
       "      <td>2.416215</td>\n",
       "      <td>-0.879305</td>\n",
       "    </tr>\n",
       "    <tr>\n",
       "      <th>1433</th>\n",
       "      <td>-0.687138</td>\n",
       "      <td>2.588357</td>\n",
       "      <td>-0.601885</td>\n",
       "      <td>-0.118772</td>\n",
       "      <td>-0.526545</td>\n",
       "      <td>0.567203</td>\n",
       "      <td>-0.147557</td>\n",
       "      <td>-0.119231</td>\n",
       "      <td>0.426777</td>\n",
       "      <td>1.332463</td>\n",
       "      <td>2.416215</td>\n",
       "      <td>-0.879305</td>\n",
       "    </tr>\n",
       "    <tr>\n",
       "      <th>1434</th>\n",
       "      <td>1.684809</td>\n",
       "      <td>0.204723</td>\n",
       "      <td>-0.555668</td>\n",
       "      <td>-0.048487</td>\n",
       "      <td>-0.518124</td>\n",
       "      <td>0.585318</td>\n",
       "      <td>-0.127164</td>\n",
       "      <td>-0.083522</td>\n",
       "      <td>0.427507</td>\n",
       "      <td>-0.775528</td>\n",
       "      <td>2.416215</td>\n",
       "      <td>-0.879305</td>\n",
       "    </tr>\n",
       "    <tr>\n",
       "      <th>1435</th>\n",
       "      <td>1.684809</td>\n",
       "      <td>0.204723</td>\n",
       "      <td>-0.581864</td>\n",
       "      <td>-0.151817</td>\n",
       "      <td>-0.510998</td>\n",
       "      <td>0.562955</td>\n",
       "      <td>-0.061044</td>\n",
       "      <td>-0.056798</td>\n",
       "      <td>0.530128</td>\n",
       "      <td>-0.775528</td>\n",
       "      <td>2.416215</td>\n",
       "      <td>-0.879305</td>\n",
       "    </tr>\n",
       "  </tbody>\n",
       "</table>\n",
       "<p>1436 rows × 12 columns</p>\n",
       "</div>"
      ],
      "text/plain": [
       "         month       day  Total Avocados sold  PLU 4046 sold  PLU 4225 sold  \\\n",
       "0    -0.983631  0.204723            -1.410935      -1.847345      -0.507917   \n",
       "1    -0.983631  0.204723            -1.535660      -2.042823      -0.635183   \n",
       "2    -0.983631  0.204723            -0.927830      -1.968169      -0.062698   \n",
       "3     0.202342 -2.178912            -1.247168      -1.807390      -0.329300   \n",
       "4     1.091822  0.204723            -1.593074      -1.891150      -0.646768   \n",
       "...        ...       ...                  ...            ...            ...   \n",
       "1431  1.388316  0.204723            -0.548521      -0.020619      -0.485823   \n",
       "1432  1.684809 -0.589822            -0.602663      -0.149612      -0.535121   \n",
       "1433 -0.687138  2.588357            -0.601885      -0.118772      -0.526545   \n",
       "1434  1.684809  0.204723            -0.555668      -0.048487      -0.518124   \n",
       "1435  1.684809  0.204723            -0.581864      -0.151817      -0.510998   \n",
       "\n",
       "      PLU 4770 sold  Total Bags  Small Bags  Large Bags  XLarge Bags  \\\n",
       "0         -1.815979   -1.822359   -1.648547   -0.917419    -0.775528   \n",
       "1         -1.739119   -1.746806   -1.573622   -0.904196    -0.775528   \n",
       "2         -1.413794   -1.878029   -1.705109   -0.887434    -0.775528   \n",
       "3         -1.651131   -2.164946   -1.996977   -0.809976    -0.775528   \n",
       "4         -1.633730   -2.112115   -1.952576   -0.693305    -0.775528   \n",
       "...             ...         ...         ...         ...          ...   \n",
       "1431       0.586167   -0.189379   -0.193283    0.494754     0.946229   \n",
       "1432       0.627966   -0.135593   -0.097945    0.438844    -0.775528   \n",
       "1433       0.567203   -0.147557   -0.119231    0.426777     1.332463   \n",
       "1434       0.585318   -0.127164   -0.083522    0.427507    -0.775528   \n",
       "1435       0.562955   -0.061044   -0.056798    0.530128    -0.775528   \n",
       "\n",
       "          year    region  \n",
       "0    -0.413870 -1.322817  \n",
       "1    -0.413870 -1.322817  \n",
       "2    -0.413870 -1.322817  \n",
       "3    -0.413870 -1.322817  \n",
       "4    -0.413870 -1.322817  \n",
       "...        ...       ...  \n",
       "1431  2.416215 -0.879305  \n",
       "1432  2.416215 -0.879305  \n",
       "1433  2.416215 -0.879305  \n",
       "1434  2.416215 -0.879305  \n",
       "1435  2.416215 -0.879305  \n",
       "\n",
       "[1436 rows x 12 columns]"
      ]
     },
     "execution_count": 63,
     "metadata": {},
     "output_type": "execute_result"
    }
   ],
   "source": [
    "#Scaling the dataset using StandardScaler\n",
    "from sklearn.preprocessing import StandardScaler\n",
    "sc=StandardScaler()\n",
    "x=sc.fit_transform(df_x)\n",
    "x=pd.DataFrame(x,columns=df_x.columns)\n",
    "x"
   ]
  },
  {
   "cell_type": "markdown",
   "metadata": {},
   "source": [
    "We can see that the data has been scaled and updated to a new DataFrame"
   ]
  },
  {
   "cell_type": "markdown",
   "metadata": {},
   "source": [
    "# Building the model"
   ]
  },
  {
   "cell_type": "code",
   "execution_count": 64,
   "metadata": {},
   "outputs": [],
   "source": [
    "#Importing required metrices and model for the dataset\n",
    "from sklearn.model_selection import train_test_split\n",
    "from sklearn.linear_model import LinearRegression\n",
    "from sklearn.model_selection import cross_val_score\n",
    "from sklearn.metrics import r2_score"
   ]
  },
  {
   "cell_type": "code",
   "execution_count": 65,
   "metadata": {},
   "outputs": [
    {
     "name": "stdout",
     "output_type": "stream",
     "text": [
      "At random state 171 ,the model performs well\n",
      "Training r2_score is:  39.76973665723187\n",
      "Testing r2_score is:  39.83080147724576\n",
      "At random state 322 ,the model performs well\n",
      "Training r2_score is:  39.786705284392355\n",
      "Testing r2_score is:  39.754713413028774\n",
      "At random state 348 ,the model performs well\n",
      "Training r2_score is:  39.873413357365216\n",
      "Testing r2_score is:  39.91829205263324\n",
      "At random state 699 ,the model performs well\n",
      "Training r2_score is:  39.7564979137652\n",
      "Testing r2_score is:  39.7945668231689\n",
      "At random state 962 ,the model performs well\n",
      "Training r2_score is:  39.800751859777506\n",
      "Testing r2_score is:  39.82031636813114\n"
     ]
    }
   ],
   "source": [
    "#Finding the best random state and accuracy\n",
    "for i in range(0,1000):\n",
    "    x_train,x_test,y_train,y_test=train_test_split(x,y,test_size=.20,random_state=i)\n",
    "    lr=LinearRegression()\n",
    "    lr.fit(x_train,y_train)\n",
    "    pred_train=lr.predict(x_train)\n",
    "    pred_test=lr.predict(x_test)\n",
    "    if round(r2_score(y_train,pred_train)*100,1)==round(r2_score(y_test,pred_test)*100,1):\n",
    "        print('At random state',i,',the model performs well')\n",
    "        print('Training r2_score is: ',r2_score(y_train,pred_train)*100)\n",
    "        print('Testing r2_score is: ',r2_score(y_test,pred_test)*100)"
   ]
  },
  {
   "cell_type": "markdown",
   "metadata": {},
   "source": [
    "We can see that at random_state=348 it is giving good r2_score so that we can create train_test_split with this random state"
   ]
  },
  {
   "cell_type": "code",
   "execution_count": 66,
   "metadata": {},
   "outputs": [],
   "source": [
    "#Creating train_test_split using best random_state\n",
    "x_train,x_test,y_train,y_test=train_test_split(x,y,random_state=348,test_size=.25)"
   ]
  },
  {
   "cell_type": "markdown",
   "metadata": {},
   "source": [
    "# Finding the best model"
   ]
  },
  {
   "cell_type": "markdown",
   "metadata": {},
   "source": [
    "We are going to use LinearRegression, SVR, DecisionTreeRegressor and KNeighborsRegressor algorithms for finding out the best model among those"
   ]
  },
  {
   "cell_type": "code",
   "execution_count": 67,
   "metadata": {},
   "outputs": [],
   "source": [
    "#Importing the models we are going to use\n",
    "from sklearn.linear_model import LinearRegression\n",
    "from sklearn.svm import SVR\n",
    "from sklearn.tree import DecisionTreeRegressor\n",
    "from sklearn.neighbors import KNeighborsRegressor"
   ]
  },
  {
   "cell_type": "code",
   "execution_count": 68,
   "metadata": {},
   "outputs": [],
   "source": [
    "LR=LinearRegression()\n",
    "svr=SVR()\n",
    "dtr=DecisionTreeRegressor()\n",
    "knr=KNeighborsRegressor()"
   ]
  },
  {
   "cell_type": "code",
   "execution_count": 69,
   "metadata": {},
   "outputs": [],
   "source": [
    "models= []\n",
    "models.append(('Linear Regression',LR))\n",
    "models.append(('Support Vector Regressor',svr))\n",
    "models.append(('Decision Tree Regressor',dtr))\n",
    "models.append(('KNeighbors Regressor',knr))"
   ]
  },
  {
   "cell_type": "code",
   "execution_count": 70,
   "metadata": {},
   "outputs": [],
   "source": [
    "#Importing required metrics\n",
    "from sklearn.metrics import mean_absolute_error,mean_squared_error,r2_score\n",
    "from sklearn.model_selection import cross_val_score\n",
    "import numpy as np"
   ]
  },
  {
   "cell_type": "code",
   "execution_count": 71,
   "metadata": {},
   "outputs": [
    {
     "name": "stdout",
     "output_type": "stream",
     "text": [
      "****************************** Linear Regression ***************************\n",
      "\n",
      "\n",
      "LinearRegression()\n",
      "\n",
      "\n",
      "accuracy_score:  0.39895547144153554\n",
      "\n",
      "\n",
      "cross_val_score:  0.03379280363613544\n",
      "\n",
      "\n",
      "Mean Absolute Error:  0.11770189161531522\n",
      "\n",
      "\n",
      "Mean Squared Error:  0.02227032620032355\n",
      "\n",
      "\n",
      "Root Mean Squared Error:  0.14923245692651296\n",
      "\n",
      "\n",
      "\n",
      "****************************** Support Vector Regressor ***************************\n",
      "\n",
      "\n",
      "SVR()\n",
      "\n",
      "\n",
      "accuracy_score:  0.740011337292824\n",
      "\n",
      "\n",
      "cross_val_score:  0.16085874239139578\n",
      "\n",
      "\n",
      "Mean Absolute Error:  0.0782950032665745\n",
      "\n",
      "\n",
      "Mean Squared Error:  0.009633283478615844\n",
      "\n",
      "\n",
      "Root Mean Squared Error:  0.09814929178866165\n",
      "\n",
      "\n",
      "\n",
      "****************************** Decision Tree Regressor ***************************\n",
      "\n",
      "\n",
      "DecisionTreeRegressor()\n",
      "\n",
      "\n",
      "accuracy_score:  0.7085007594563275\n",
      "\n",
      "\n",
      "cross_val_score:  -0.4042827679206221\n",
      "\n",
      "\n",
      "Mean Absolute Error:  0.07194986072423398\n",
      "\n",
      "\n",
      "Mean Squared Error:  0.0108008356545961\n",
      "\n",
      "\n",
      "Root Mean Squared Error:  0.10392706892141286\n",
      "\n",
      "\n",
      "\n",
      "****************************** KNeighbors Regressor ***************************\n",
      "\n",
      "\n",
      "KNeighborsRegressor()\n",
      "\n",
      "\n",
      "accuracy_score:  0.6688189734794006\n",
      "\n",
      "\n",
      "cross_val_score:  -0.15976389117570505\n",
      "\n",
      "\n",
      "Mean Absolute Error:  0.08053481894150417\n",
      "\n",
      "\n",
      "Mean Squared Error:  0.012271153203342619\n",
      "\n",
      "\n",
      "Root Mean Squared Error:  0.1107752373201819\n",
      "\n",
      "\n",
      "\n"
     ]
    }
   ],
   "source": [
    "#Finding the required metrices for all models together using a for loop\n",
    "Model=[]\n",
    "score=[]\n",
    "cvs=[]\n",
    "mae=[]\n",
    "mse=[]\n",
    "rmse=[]\n",
    "for name,model in models:\n",
    "    print('******************************',name,'***************************')\n",
    "    print('\\n')\n",
    "    Model.append(name)\n",
    "    model.fit(x_train,y_train)\n",
    "    print(model)\n",
    "    pre=model.predict(x_test)\n",
    "    print('\\n')\n",
    "    AS=r2_score(y_test,pre)\n",
    "    print('accuracy_score: ',AS)\n",
    "    score.append(AS*100)\n",
    "    print('\\n')\n",
    "    sc=cross_val_score(model,x,y,cv=5,scoring='r2').mean()\n",
    "    print('cross_val_score: ',sc)\n",
    "    cvs.append(sc*100)\n",
    "    print('\\n')\n",
    "    MAE=mean_absolute_error(y_test,pre)\n",
    "    print('Mean Absolute Error: ',MAE)\n",
    "    mae.append(MAE)\n",
    "    print('\\n')\n",
    "    MSE=mean_squared_error(y_test,pre)\n",
    "    print('Mean Squared Error: ',MSE)\n",
    "    mse.append(MSE)\n",
    "    print('\\n')\n",
    "    RMSE=np.sqrt(mean_squared_error(y_test,pre))\n",
    "    print('Root Mean Squared Error: ',RMSE)\n",
    "    rmse.append(RMSE)\n",
    "    print('\\n\\n')"
   ]
  },
  {
   "cell_type": "code",
   "execution_count": 72,
   "metadata": {},
   "outputs": [
    {
     "data": {
      "text/html": [
       "<div>\n",
       "<style scoped>\n",
       "    .dataframe tbody tr th:only-of-type {\n",
       "        vertical-align: middle;\n",
       "    }\n",
       "\n",
       "    .dataframe tbody tr th {\n",
       "        vertical-align: top;\n",
       "    }\n",
       "\n",
       "    .dataframe thead th {\n",
       "        text-align: right;\n",
       "    }\n",
       "</style>\n",
       "<table border=\"1\" class=\"dataframe\">\n",
       "  <thead>\n",
       "    <tr style=\"text-align: right;\">\n",
       "      <th></th>\n",
       "      <th>Model</th>\n",
       "      <th>Accuracy_score</th>\n",
       "      <th>Cross_val_score</th>\n",
       "      <th>Mean_absolute_error</th>\n",
       "      <th>Mean_squared_error</th>\n",
       "      <th>Root_Mean_Squared_error</th>\n",
       "    </tr>\n",
       "  </thead>\n",
       "  <tbody>\n",
       "    <tr>\n",
       "      <th>0</th>\n",
       "      <td>Linear Regression</td>\n",
       "      <td>39.895547</td>\n",
       "      <td>3.379280</td>\n",
       "      <td>0.117702</td>\n",
       "      <td>0.022270</td>\n",
       "      <td>0.149232</td>\n",
       "    </tr>\n",
       "    <tr>\n",
       "      <th>1</th>\n",
       "      <td>Support Vector Regressor</td>\n",
       "      <td>74.001134</td>\n",
       "      <td>16.085874</td>\n",
       "      <td>0.078295</td>\n",
       "      <td>0.009633</td>\n",
       "      <td>0.098149</td>\n",
       "    </tr>\n",
       "    <tr>\n",
       "      <th>2</th>\n",
       "      <td>Decision Tree Regressor</td>\n",
       "      <td>70.850076</td>\n",
       "      <td>-40.428277</td>\n",
       "      <td>0.071950</td>\n",
       "      <td>0.010801</td>\n",
       "      <td>0.103927</td>\n",
       "    </tr>\n",
       "    <tr>\n",
       "      <th>3</th>\n",
       "      <td>KNeighbors Regressor</td>\n",
       "      <td>66.881897</td>\n",
       "      <td>-15.976389</td>\n",
       "      <td>0.080535</td>\n",
       "      <td>0.012271</td>\n",
       "      <td>0.110775</td>\n",
       "    </tr>\n",
       "  </tbody>\n",
       "</table>\n",
       "</div>"
      ],
      "text/plain": [
       "                      Model  Accuracy_score  Cross_val_score  \\\n",
       "0         Linear Regression       39.895547         3.379280   \n",
       "1  Support Vector Regressor       74.001134        16.085874   \n",
       "2   Decision Tree Regressor       70.850076       -40.428277   \n",
       "3      KNeighbors Regressor       66.881897       -15.976389   \n",
       "\n",
       "   Mean_absolute_error  Mean_squared_error  Root_Mean_Squared_error  \n",
       "0             0.117702            0.022270                 0.149232  \n",
       "1             0.078295            0.009633                 0.098149  \n",
       "2             0.071950            0.010801                 0.103927  \n",
       "3             0.080535            0.012271                 0.110775  "
      ]
     },
     "execution_count": 72,
     "metadata": {},
     "output_type": "execute_result"
    }
   ],
   "source": [
    "#Finalizing the result\n",
    "result=pd.DataFrame({'Model':Model, 'Accuracy_score': score,'Cross_val_score':cvs,'Mean_absolute_error':mae,\n",
    "                     'Mean_squared_error':mse,'Root_Mean_Squared_error':rmse})\n",
    "result"
   ]
  },
  {
   "cell_type": "markdown",
   "metadata": {},
   "source": [
    "The best model from the above algorithms is Support Vector Regressor which is giving an accuracy score of 74 and cross validation score of 16.08 and its RMSE score is also less. Lesser the RMSE score, the better model we can build.\n",
    "Now we will try to find the best parameters and increase the accuracy score of the model by using Hyperparameter Tuning."
   ]
  },
  {
   "cell_type": "markdown",
   "metadata": {},
   "source": [
    "# Hyperparameter Tuning"
   ]
  },
  {
   "cell_type": "code",
   "execution_count": 73,
   "metadata": {},
   "outputs": [],
   "source": [
    "#Creating parameter list to pass in GridSearchCV\n",
    "parameters={'kernel':['linear','poly','rbf','sigmoid'],'gamma':['scale','auto'],'C':[10, 1, 0.1, 0.01,0.001,0.001]}"
   ]
  },
  {
   "cell_type": "code",
   "execution_count": 74,
   "metadata": {},
   "outputs": [
    {
     "name": "stdout",
     "output_type": "stream",
     "text": [
      "{'C': 1, 'gamma': 'scale', 'kernel': 'rbf'}\n",
      "0.6466591427587786\n"
     ]
    }
   ],
   "source": [
    "#Using GridSearchCV to run the parameters and checking final accuracy\n",
    "from sklearn.model_selection import GridSearchCV\n",
    "svr=SVR()\n",
    "grid=GridSearchCV(svr,parameters,cv=5,scoring='r2')\n",
    "grid.fit(x_train,y_train)\n",
    "print(grid.best_params_)  #Printing the best parameters obtained\n",
    "print(grid.best_score_) #Mean cross-validated score of best_estimator"
   ]
  },
  {
   "cell_type": "code",
   "execution_count": 75,
   "metadata": {},
   "outputs": [
    {
     "name": "stdout",
     "output_type": "stream",
     "text": [
      "Final Accuracy after tuning is:  74.0011337292824\n",
      "Cross validation score:  16.085874239139578\n"
     ]
    }
   ],
   "source": [
    "#Using the best parameters\n",
    "svr=SVR(C=1,gamma='scale',kernel='rbf')\n",
    "svr.fit(x_train,y_train)\n",
    "pred=svr.predict(x_test)\n",
    "print('Final Accuracy after tuning is: ',r2_score(y_test,pred)*100)\n",
    "print('Cross validation score: ',cross_val_score(svr,x,y,cv=5,scoring='r2').mean()*100)"
   ]
  },
  {
   "cell_type": "markdown",
   "metadata": {},
   "source": [
    "We can see that the accuracy and cross validation score could not be increased after finding out the best parameters to use for increasing. Now, we will try Ensemble Techniques to boost up our scores"
   ]
  },
  {
   "cell_type": "markdown",
   "metadata": {},
   "source": [
    "# Ensemble Techniques for boosting the score"
   ]
  },
  {
   "cell_type": "code",
   "execution_count": 76,
   "metadata": {},
   "outputs": [
    {
     "name": "stdout",
     "output_type": "stream",
     "text": [
      "{'criterion': 'mse', 'n_estimators': 1200}\n",
      "0.7670540520727585\n"
     ]
    }
   ],
   "source": [
    "#RandomForestRegressor\n",
    "from sklearn.ensemble import RandomForestRegressor\n",
    "rfr=RandomForestRegressor(random_state=348)   #Using the best random state we obtained\n",
    "parameters={'n_estimators':[10,50,100,500,1000,1200],'criterion' :['mse', 'mae']}\n",
    "grid=GridSearchCV(rfr,parameters,cv=5,scoring='r2')\n",
    "grid.fit(x_train,y_train)\n",
    "print(grid.best_params_)  #Printing the best parameters obtained\n",
    "print(grid.best_score_) #Mean cross-validated score of best_estimator"
   ]
  },
  {
   "cell_type": "code",
   "execution_count": 77,
   "metadata": {},
   "outputs": [
    {
     "name": "stdout",
     "output_type": "stream",
     "text": [
      "Accuracy score:  85.53528651160501\n",
      "Cross validation score:  15.46641727373268\n",
      "Mean absolute error:  0.05490835654596138\n",
      "Mean squared error:  0.005359567760368389\n",
      "Root Mean squared error:  0.07320906883964848\n"
     ]
    }
   ],
   "source": [
    "#Using the best parameters obtained\n",
    "rfr=RandomForestRegressor(random_state=348,criterion='mse',n_estimators=1200)\n",
    "rfr.fit(x_train,y_train)\n",
    "rfr_pred=rfr.predict(x_test)\n",
    "print('Accuracy score: ',r2_score(y_test,rfr_pred)*100)\n",
    "print('Cross validation score: ',cross_val_score(rfr,x,y,cv=5,scoring='r2').mean()*100)\n",
    "print('Mean absolute error: ',mean_absolute_error(y_test,rfr_pred))\n",
    "print('Mean squared error: ',mean_squared_error(y_test,rfr_pred))\n",
    "print('Root Mean squared error: ',np.sqrt(mean_squared_error(y_test,rfr_pred)))"
   ]
  },
  {
   "cell_type": "code",
   "execution_count": 78,
   "metadata": {},
   "outputs": [
    {
     "name": "stdout",
     "output_type": "stream",
     "text": [
      "{'learning_rate': 1, 'loss': 'square', 'n_estimators': 1000}\n",
      "0.6241561277721062\n"
     ]
    }
   ],
   "source": [
    "#AdaBoostRegressor\n",
    "from sklearn.ensemble import AdaBoostRegressor\n",
    "adr=AdaBoostRegressor(random_state=348)   #Using the best random state we obtained\n",
    "parameters={'n_estimators':[50,100,500,1000],'learning_rate':[0.001,0.01,0.1,1],'loss':['linear','square','exponential']}\n",
    "grid=GridSearchCV(adr,parameters,cv=5,scoring='r2')\n",
    "grid.fit(x_train,y_train)\n",
    "print(grid.best_params_)  #Printing the best parameters obtained\n",
    "print(grid.best_score_) #Mean cross-validated score of best_estimator"
   ]
  },
  {
   "cell_type": "code",
   "execution_count": 79,
   "metadata": {},
   "outputs": [
    {
     "name": "stdout",
     "output_type": "stream",
     "text": [
      "Accuracy score:  64.2426519487394\n",
      "Cross validation score:  8.808399450458593\n",
      "Mean absolute error:  0.09583991784596319\n",
      "Mean squared error:  0.013249065041320271\n",
      "Root Mean squared error:  0.11510458305958225\n"
     ]
    }
   ],
   "source": [
    "#Using the best parameters obtained\n",
    "adr=AdaBoostRegressor(random_state=348,n_estimators=1000,learning_rate=1,loss='square')\n",
    "adr.fit(x_train,y_train)\n",
    "adr_pred=adr.predict(x_test)\n",
    "print(\"Accuracy score: \",r2_score(y_test,adr_pred)*100)\n",
    "print('Cross validation score: ',cross_val_score(adr,x,y,cv=5,scoring='r2').mean()*100)\n",
    "print('Mean absolute error: ',mean_absolute_error(y_test,adr_pred))\n",
    "print('Mean squared error: ',mean_squared_error(y_test,adr_pred))\n",
    "print('Root Mean squared error: ',np.sqrt(mean_squared_error(y_test,adr_pred)))"
   ]
  },
  {
   "cell_type": "markdown",
   "metadata": {},
   "source": [
    "After applying Ensemble Techniques, we can see that both the models are not good as the difference between the accuracy score and cross validation score is huge, eventhough we obtained good accuracy score. RandomForestRegressor algorithm is performing well on the basis of highest accuracy score, which is 85.53, and low RMSE score, which is 0.073. Now, we will try Regularization Techniques for improving the scores and getting a good fit model."
   ]
  },
  {
   "cell_type": "markdown",
   "metadata": {},
   "source": [
    "# Regularization Techniques"
   ]
  },
  {
   "cell_type": "markdown",
   "metadata": {},
   "source": [
    "# Lasso(L1)"
   ]
  },
  {
   "cell_type": "code",
   "execution_count": 80,
   "metadata": {},
   "outputs": [
    {
     "name": "stdout",
     "output_type": "stream",
     "text": [
      "{'alpha': 0.0001, 'random_state': 0}\n"
     ]
    }
   ],
   "source": [
    "from sklearn.linear_model import Lasso\n",
    "parameters={'alpha':[.0001,.001,.01,.1,1,10],'random_state':list(range(0,10))}\n",
    "ls=Lasso()\n",
    "clf=GridSearchCV(ls,parameters)\n",
    "clf.fit(x_train,y_train)\n",
    "print(clf.best_params_)  #Finding out the best parameters"
   ]
  },
  {
   "cell_type": "code",
   "execution_count": 81,
   "metadata": {},
   "outputs": [],
   "source": [
    "#Initializing train_test_split\n",
    "x_train,x_test,y_train,y_test=train_test_split(x,y,random_state=45,test_size=.20)"
   ]
  },
  {
   "cell_type": "code",
   "execution_count": 82,
   "metadata": {},
   "outputs": [
    {
     "name": "stdout",
     "output_type": "stream",
     "text": [
      "At cv:  2\n",
      "Cross validation score is:  -23.24200186520792\n",
      "r2_score is:  40.32167513597715\n",
      "\n",
      "\n",
      "At cv:  3\n",
      "Cross validation score is:  11.833848415198817\n",
      "r2_score is:  40.32167513597715\n",
      "\n",
      "\n",
      "At cv:  4\n",
      "Cross validation score is:  8.773708406154185\n",
      "r2_score is:  40.32167513597715\n",
      "\n",
      "\n",
      "At cv:  5\n",
      "Cross validation score is:  3.2848485524602884\n",
      "r2_score is:  40.32167513597715\n",
      "\n",
      "\n",
      "At cv:  6\n",
      "Cross validation score is:  -4.577136761297116\n",
      "r2_score is:  40.32167513597715\n",
      "\n",
      "\n",
      "At cv:  7\n",
      "Cross validation score is:  -32.33585288872659\n",
      "r2_score is:  40.32167513597715\n",
      "\n",
      "\n",
      "At cv:  8\n",
      "Cross validation score is:  1.7360409751627865\n",
      "r2_score is:  40.32167513597715\n",
      "\n",
      "\n",
      "At cv:  9\n",
      "Cross validation score is:  5.793757809016986\n",
      "r2_score is:  40.32167513597715\n",
      "\n",
      "\n"
     ]
    }
   ],
   "source": [
    "ls=Lasso(alpha=0.0001,random_state=0)   #Using best alpha and best random state value\n",
    "ls.fit(x_train,y_train)\n",
    "ls.score(x_train,y_train)\n",
    "pred_ls=ls.predict(x_test)\n",
    "\n",
    "lss=r2_score(y_test,pred_ls)\n",
    "for j in range(2,10):\n",
    "    lsscore=cross_val_score(ls,x,y,cv=j)\n",
    "    lsc=lsscore.mean()\n",
    "    print('At cv: ',j)\n",
    "    print('Cross validation score is: ',lsc*100)\n",
    "    print('r2_score is: ',lss*100)\n",
    "    print('\\n')"
   ]
  },
  {
   "cell_type": "markdown",
   "metadata": {},
   "source": [
    "We are getting the best values at cv=3"
   ]
  },
  {
   "cell_type": "code",
   "execution_count": 83,
   "metadata": {},
   "outputs": [
    {
     "data": {
      "image/png": "[encoded data removed]",
      "text/plain": [
       "<Figure size 576x432 with 1 Axes>"
      ]
     },
     "metadata": {},
     "output_type": "display_data"
    }
   ],
   "source": [
    "#Plotting for Lasso\n",
    "plt.figure(figsize=(8,6))\n",
    "plt.scatter(x=y_test,y=pred_ls,color='r')\n",
    "plt.plot(y_test,y_test,color='b')\n",
    "plt.title('Lasso Regression',fontsize=18)\n",
    "plt.xlabel('Actual Compressive strength',fontsize=14)\n",
    "plt.ylabel('Predicted Compressive strength',fontsize=14)\n",
    "plt.show()"
   ]
  },
  {
   "cell_type": "markdown",
   "metadata": {},
   "source": [
    "We can see from the graph that some data points are either on the best fit line or near to the line while other data points are either above the  best fit line or below the best fit line. Very few data points are very far away from the line, which is bad and because of this the scores are getting affected."
   ]
  },
  {
   "cell_type": "code",
   "execution_count": 84,
   "metadata": {},
   "outputs": [
    {
     "name": "stdout",
     "output_type": "stream",
     "text": [
      "Mean Absolute Error:  0.11092728533571379\n",
      "Mean Squared Error:  0.02090177782853629\n",
      "Root Mean Squared Error:  0.14457447156582068\n"
     ]
    }
   ],
   "source": [
    "#Calculating the MAE, MSE and RMSE\n",
    "print('Mean Absolute Error: ',mean_absolute_error(y_test,pred_ls))\n",
    "print('Mean Squared Error: ',mean_squared_error(y_test,pred_ls))\n",
    "print('Root Mean Squared Error: ',np.sqrt(mean_squared_error(y_test,pred_ls)))"
   ]
  },
  {
   "cell_type": "markdown",
   "metadata": {},
   "source": [
    "# Ridge(L2)"
   ]
  },
  {
   "cell_type": "code",
   "execution_count": 85,
   "metadata": {},
   "outputs": [
    {
     "name": "stdout",
     "output_type": "stream",
     "text": [
      "{'alpha': 0.001, 'copy_X': True, 'fit_intercept': True, 'normalize': True, 'random_state': 0, 'tol': 0.0001}\n"
     ]
    }
   ],
   "source": [
    "from sklearn.linear_model import Ridge\n",
    "parameters={'alpha':[.0001,.001,.01,.1,1],'fit_intercept':[True,False],'normalize':[True,False],'copy_X':[True,False],'tol':[.0001,.001,.01,.1,1],'random_state':list(range(0,10))}\n",
    "rd=Ridge()\n",
    "clf=GridSearchCV(rd,parameters)\n",
    "clf.fit(x_train,y_train)\n",
    "print(clf.best_params_)"
   ]
  },
  {
   "cell_type": "code",
   "execution_count": 86,
   "metadata": {},
   "outputs": [
    {
     "name": "stdout",
     "output_type": "stream",
     "text": [
      "r2_score:  40.287691918270326\n",
      "Cross val score:  -124.26097679716558\n"
     ]
    }
   ],
   "source": [
    "#Using the best parameters in rd\n",
    "rd=Ridge(alpha=0.001,copy_X=True,fit_intercept=True,normalize=True,random_state=0,tol=0.0001)\n",
    "rd.fit(x_train,y_train)\n",
    "rd.score(x_train,y_train)\n",
    "pred_rd=rd.predict(x_test)\n",
    "\n",
    "rds=r2_score(y_test,pred_rd)\n",
    "print('r2_score: ',rds*100)\n",
    "\n",
    "rdscore=cross_val_score(rd,x,y,cv=3)\n",
    "rdc=rdscore.mean()\n",
    "print('Cross val score: ',rdc)"
   ]
  },
  {
   "cell_type": "code",
   "execution_count": 87,
   "metadata": {},
   "outputs": [
    {
     "data": {
      "image/png": "[encoded data removed]",
      "text/plain": [
       "<Figure size 576x432 with 1 Axes>"
      ]
     },
     "metadata": {},
     "output_type": "display_data"
    }
   ],
   "source": [
    "#Plotting for Ridge\n",
    "plt.figure(figsize=(8,6))\n",
    "plt.scatter(x=y_test,y=pred_rd,color='r')\n",
    "plt.plot(y_test,y_test,color='b')\n",
    "plt.title('Ridge Regression',fontsize=18)\n",
    "plt.xlabel('Actual Compressive strength',fontsize=14)\n",
    "plt.ylabel('Predicted Compressive strength',fontsize=14)\n",
    "plt.show()"
   ]
  },
  {
   "cell_type": "markdown",
   "metadata": {},
   "source": [
    "We can see from the graph that some data points are either on the best fit line or near to the line while other data points are either above the  best fit line or below the best fit line. Very few data points are very far away from the line, which is bad and because of this the scores are getting affected. More affect of data points are in Ridge regression and it can be seen through the errors we obtain."
   ]
  },
  {
   "cell_type": "code",
   "execution_count": 88,
   "metadata": {},
   "outputs": [
    {
     "name": "stdout",
     "output_type": "stream",
     "text": [
      "Mean Absolute Error:  0.11093644378980498\n",
      "Mean Squared Error:  0.02091368013423983\n",
      "Root Mean Squared Error:  0.14461562894182575\n"
     ]
    }
   ],
   "source": [
    "#Calculating the MAE, MSE and RMSE\n",
    "print('Mean Absolute Error: ',mean_absolute_error(y_test,pred_rd))\n",
    "print('Mean Squared Error: ',mean_squared_error(y_test,pred_rd))\n",
    "print('Root Mean Squared Error: ',np.sqrt(mean_squared_error(y_test,pred_rd)))"
   ]
  },
  {
   "cell_type": "markdown",
   "metadata": {},
   "source": [
    "Even after using Hyperparameter Tuning, Ensemble Techniques and Regularization, the model seems to be underfit for Regression Analysis as the difference between the r2_score and cross validation score is high. The best performing algorithm is the Random Forest Regressor model which is giving an accuracy score of 85.53 and RMSE score of 0.073, which is less among all. In Regularization techniques we used, we can see that there are more errors obtained which is bad for the model and it affects the performance."
   ]
  },
  {
   "cell_type": "markdown",
   "metadata": {},
   "source": [
    "# Finalizing the model"
   ]
  },
  {
   "cell_type": "code",
   "execution_count": 89,
   "metadata": {},
   "outputs": [
    {
     "name": "stdout",
     "output_type": "stream",
     "text": [
      "Predictions of Random Forest Regressor:  [1.31114167 1.32258333 0.990925   ... 1.282825   1.43326667 1.42574167]\n"
     ]
    }
   ],
   "source": [
    "rfr_prediction=rfr.predict(x)\n",
    "print('Predictions of Random Forest Regressor: ',rfr_prediction)"
   ]
  },
  {
   "cell_type": "code",
   "execution_count": 90,
   "metadata": {},
   "outputs": [
    {
     "data": {
      "text/plain": [
       "['Avocado_Regression.obj']"
      ]
     },
     "execution_count": 90,
     "metadata": {},
     "output_type": "execute_result"
    }
   ],
   "source": [
    "#Saving the model\n",
    "import joblib\n",
    "joblib.dump(rfr,'Avocado_Regression.obj')"
   ]
  },
  {
   "cell_type": "markdown",
   "metadata": {},
   "source": [
    "# Saving the predicted values"
   ]
  },
  {
   "cell_type": "code",
   "execution_count": 91,
   "metadata": {},
   "outputs": [],
   "source": [
    "reg_result=pd.DataFrame(rfr_prediction)\n",
    "reg_result.to_csv('Avocado_Project_Regression_Results.csv')"
   ]
  },
  {
   "cell_type": "markdown",
   "metadata": {},
   "source": [
    "Therefore, the regression analysis of the Avocado project has been done and the RandomForestRegressor model has been finalized for production and the predicted results has been saved in a DataFrame."
   ]
  },
  {
   "cell_type": "markdown",
   "metadata": {},
   "source": [
    "# Conclusion"
   ]
  },
  {
   "cell_type": "markdown",
   "metadata": {},
   "source": [
    "-> After getting the insight of avocados dataset, we came to various conclusions that how much avocados has been sold in US        every year.\n",
    "\n",
    "-> We had applied lots of techniques to visulalize the entire dataset and got more indepth information about the avocados .\n",
    "\n",
    "-> This dataset was used to predict 2 datas: One was to predict the average price of avocados and the other was to predict the      city or region of the avocados sold.\n",
    "\n",
    "-> We had forecasted the yearly, monthly and day basis sales of avocados in different US regions, and we had also observed that    how the columns are correlated with each other using heatmap.\n",
    "\n",
    "-> We did complete EDA process in the dataset to analyze the data and we also recorded our observations after each process. \n",
    "\n",
    "-> We applied various algorithms and saved the best model on the basis of accuracy score, cross validation score and RMSE score,    as we know that lower the RMSE score, better the model will perform. \n",
    "\n",
    "-> We applied various regression algorithms to predict the Average price of Avocados, and we found that RandomForest Regressor     is working well, on the basis of r2_score and less RMSE score.\n",
    "\n",
    "-> Eventhough we applied techniques like Hyperparameter Tuning, Ensemble techniques and Regularization techniques we could not     increase the score as there were insufficient and bad data in the dataset.\n",
    "\n",
    "-> We selected RandomForest Regressor as the final model because the RMSE score was very less and the accuracy score was the        highest among all.\n",
    "\n",
    "-> The model was considered to be underfit during Regression analysis as the difference between r2_score and cross validation     score was high in all the techniques we used and because of this we can conclude that more data is required for achieving good   scores as some of the cross validation scores were negative, which is bad. Even in the regularization graph, we can see that     all the datapoints are not in the same place and they are spread everywhere. This dataset can be improved for Regression         analysis by adding more data, using less outliers, giving more accurate information to the target variable, having less         skewness, etc.\n",
    "\n",
    "-> After we finalised the model, we saved it in an obj file and also we tested the model and saved the predicted result to a csv    file.\n",
    "\n",
    "-> We applied classification algorithms to predict the city or region and we found that LogisticRegression algorithm was working    well as it obtained maximum Accuracy score and cross validation score and the difference between them was very less. \n",
    "\n",
    "-> We got a best fit model during Classification analysis as the difference between the accuracy score and cross validation       score was very less and we also tried to increase the accuracy by finding the best parameter during Hyperparameter Tuning       technique.\n",
    "\n",
    "-> After tuning the model, it gave an excellent increase in the accuracy score from 92.75 to 95.82 and also it gave a very good   cross validation score. We concluded that this is the best model and we finalized the model.\n",
    "\n",
    "-> We saved that model, tested the predicted values and saved it to a csv file and dumped the file in obj format.\n",
    "\n",
    "-> Therefore, we can conclude that this dataset is good for predicting the city or region using classification analysis whereas    for predicting the average price using Regression analysis, the dataset must be improved by adding more good data with less      skewness, less missing values, less number of errors in the data and with less number of outliers."
   ]
  }
 ],
 "metadata": {
  "kernelspec": {
   "display_name": "Python 3",
   "language": "python",
   "name": "python3"
  },
  "language_info": {
   "codemirror_mode": {
    "name": "ipython",
    "version": 3
   },
   "file_extension": ".py",
   "mimetype": "text/x-python",
   "name": "python",
   "nbconvert_exporter": "python",
   "pygments_lexer": "ipython3",
   "version": "3.8.3"
  }
 },
 "nbformat": 4,
 "nbformat_minor": 4
}
