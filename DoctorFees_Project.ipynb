{
 "cells": [
  {
   "cell_type": "code",
   "execution_count": 1,
   "metadata": {},
   "outputs": [],
   "source": [
    "#Importing warning library to avoid any warnings\n",
    "import warnings\n",
    "warnings.filterwarnings('ignore')"
   ]
  },
  {
   "cell_type": "markdown",
   "metadata": {},
   "source": [
    "# Loading the train dataset"
   ]
  },
  {
   "cell_type": "code",
   "execution_count": 2,
   "metadata": {},
   "outputs": [
    {
     "data": {
      "text/html": [
       "<div>\n",
       "<style scoped>\n",
       "    .dataframe tbody tr th:only-of-type {\n",
       "        vertical-align: middle;\n",
       "    }\n",
       "\n",
       "    .dataframe tbody tr th {\n",
       "        vertical-align: top;\n",
       "    }\n",
       "\n",
       "    .dataframe thead th {\n",
       "        text-align: right;\n",
       "    }\n",
       "</style>\n",
       "<table border=\"1\" class=\"dataframe\">\n",
       "  <thead>\n",
       "    <tr style=\"text-align: right;\">\n",
       "      <th></th>\n",
       "      <th>Qualification</th>\n",
       "      <th>Experience</th>\n",
       "      <th>Rating</th>\n",
       "      <th>Place</th>\n",
       "      <th>Profile</th>\n",
       "      <th>Miscellaneous_Info</th>\n",
       "      <th>Fees</th>\n",
       "    </tr>\n",
       "  </thead>\n",
       "  <tbody>\n",
       "    <tr>\n",
       "      <th>0</th>\n",
       "      <td>BHMS, MD - Homeopathy</td>\n",
       "      <td>24 years experience</td>\n",
       "      <td>100%</td>\n",
       "      <td>Kakkanad, Ernakulam</td>\n",
       "      <td>Homeopath</td>\n",
       "      <td>100% 16 Feedback Kakkanad, Ernakulam</td>\n",
       "      <td>100</td>\n",
       "    </tr>\n",
       "    <tr>\n",
       "      <th>1</th>\n",
       "      <td>BAMS, MD - Ayurveda Medicine</td>\n",
       "      <td>12 years experience</td>\n",
       "      <td>98%</td>\n",
       "      <td>Whitefield, Bangalore</td>\n",
       "      <td>Ayurveda</td>\n",
       "      <td>98% 76 Feedback Whitefield, Bangalore</td>\n",
       "      <td>350</td>\n",
       "    </tr>\n",
       "    <tr>\n",
       "      <th>2</th>\n",
       "      <td>MBBS, MS - Otorhinolaryngology</td>\n",
       "      <td>9 years experience</td>\n",
       "      <td>NaN</td>\n",
       "      <td>Mathikere - BEL, Bangalore</td>\n",
       "      <td>ENT Specialist</td>\n",
       "      <td>NaN</td>\n",
       "      <td>300</td>\n",
       "    </tr>\n",
       "    <tr>\n",
       "      <th>3</th>\n",
       "      <td>BSc - Zoology, BAMS</td>\n",
       "      <td>12 years experience</td>\n",
       "      <td>NaN</td>\n",
       "      <td>Bannerghatta Road, Bangalore</td>\n",
       "      <td>Ayurveda</td>\n",
       "      <td>Bannerghatta Road, Bangalore ₹250 Available on...</td>\n",
       "      <td>250</td>\n",
       "    </tr>\n",
       "    <tr>\n",
       "      <th>4</th>\n",
       "      <td>BAMS</td>\n",
       "      <td>20 years experience</td>\n",
       "      <td>100%</td>\n",
       "      <td>Keelkattalai, Chennai</td>\n",
       "      <td>Ayurveda</td>\n",
       "      <td>100% 4 Feedback Keelkattalai, Chennai</td>\n",
       "      <td>250</td>\n",
       "    </tr>\n",
       "  </tbody>\n",
       "</table>\n",
       "</div>"
      ],
      "text/plain": [
       "                    Qualification           Experience Rating  \\\n",
       "0           BHMS, MD - Homeopathy  24 years experience   100%   \n",
       "1    BAMS, MD - Ayurveda Medicine  12 years experience    98%   \n",
       "2  MBBS, MS - Otorhinolaryngology   9 years experience    NaN   \n",
       "3             BSc - Zoology, BAMS  12 years experience    NaN   \n",
       "4                            BAMS  20 years experience   100%   \n",
       "\n",
       "                          Place         Profile  \\\n",
       "0           Kakkanad, Ernakulam       Homeopath   \n",
       "1         Whitefield, Bangalore        Ayurveda   \n",
       "2    Mathikere - BEL, Bangalore  ENT Specialist   \n",
       "3  Bannerghatta Road, Bangalore        Ayurveda   \n",
       "4         Keelkattalai, Chennai        Ayurveda   \n",
       "\n",
       "                                  Miscellaneous_Info  Fees  \n",
       "0               100% 16 Feedback Kakkanad, Ernakulam   100  \n",
       "1              98% 76 Feedback Whitefield, Bangalore   350  \n",
       "2                                                NaN   300  \n",
       "3  Bannerghatta Road, Bangalore ₹250 Available on...   250  \n",
       "4              100% 4 Feedback Keelkattalai, Chennai   250  "
      ]
     },
     "execution_count": 2,
     "metadata": {},
     "output_type": "execute_result"
    }
   ],
   "source": [
    "import pandas as pd\n",
    "df_train=pd.read_csv('D:/Python file/Project Datasets/FinalEval/Doctor/Final_Train.csv')  #Path location of the dataset\n",
    "df_train.head()  #Checking out the top 5 rows of the dataset"
   ]
  },
  {
   "cell_type": "code",
   "execution_count": 3,
   "metadata": {},
   "outputs": [
    {
     "data": {
      "text/plain": [
       "(5961, 7)"
      ]
     },
     "execution_count": 3,
     "metadata": {},
     "output_type": "execute_result"
    }
   ],
   "source": [
    "df_train.shape    #Checking the dimensions of the dataset"
   ]
  },
  {
   "cell_type": "code",
   "execution_count": 4,
   "metadata": {},
   "outputs": [
    {
     "data": {
      "text/plain": [
       "Index(['Qualification', 'Experience', 'Rating', 'Place', 'Profile',\n",
       "       'Miscellaneous_Info', 'Fees'],\n",
       "      dtype='object')"
      ]
     },
     "execution_count": 4,
     "metadata": {},
     "output_type": "execute_result"
    }
   ],
   "source": [
    "df_train.columns   #Checking out the columns of the dataset"
   ]
  },
  {
   "cell_type": "markdown",
   "metadata": {},
   "source": [
    "# Dataset Description"
   ]
  },
  {
   "cell_type": "markdown",
   "metadata": {},
   "source": [
    "Introduction:\n",
    "\n",
    "    We have all been in situation where we go to a doctor in emergency and find that the consultation fees are too high. As a data scientist we all should do better. What if you have data that records important details about a doctor and you get to build a model to predict the doctor’s consulting fee.? This is the problem statement we need to work on.\n",
    "    \n",
    "Features Description:\n",
    "\n",
    "-> There are totally 5961 rows and 7 columns in the training dataset and the details of the columns are given below:\n",
    "\n",
    "    1.Qualification: Qualification and degrees held by the doctor\n",
    "\n",
    "    2.Experience: Experience of the doctor in number of years\n",
    "\n",
    "    3.Rating: Rating given by patients\n",
    "\n",
    "    4.Place: Area and the city where the doctor is located.\n",
    "\n",
    "    5.Profile: Type of the doctor\n",
    "\n",
    "    6.Miscellaeous_Info: Extra information about the doctor\n",
    "\n",
    "    7.Fees: Fees charged by the doctor"
   ]
  },
  {
   "cell_type": "markdown",
   "metadata": {},
   "source": [
    "# Our agenda in this project "
   ]
  },
  {
   "cell_type": "markdown",
   "metadata": {},
   "source": [
    "-> We need to predict the doctor's consulting fees with the given data and we need to approach by using regression analysis.\n",
    "\n",
    "-> First, use the train dataset and do the EDA process, fitting the best model and saving the model.\n",
    "\n",
    "-> Then, use the test dataset and do the EDA process, load the saved model and predict the values over the test data."
   ]
  },
  {
   "cell_type": "code",
   "execution_count": 5,
   "metadata": {},
   "outputs": [
    {
     "name": "stdout",
     "output_type": "stream",
     "text": [
      "<class 'pandas.core.frame.DataFrame'>\n",
      "RangeIndex: 5961 entries, 0 to 5960\n",
      "Data columns (total 7 columns):\n",
      " #   Column              Non-Null Count  Dtype \n",
      "---  ------              --------------  ----- \n",
      " 0   Qualification       5961 non-null   object\n",
      " 1   Experience          5961 non-null   object\n",
      " 2   Rating              2659 non-null   object\n",
      " 3   Place               5936 non-null   object\n",
      " 4   Profile             5961 non-null   object\n",
      " 5   Miscellaneous_Info  3341 non-null   object\n",
      " 6   Fees                5961 non-null   int64 \n",
      "dtypes: int64(1), object(6)\n",
      "memory usage: 326.1+ KB\n"
     ]
    }
   ],
   "source": [
    "df_train.info()    #Checking the info of all the columns present"
   ]
  },
  {
   "cell_type": "markdown",
   "metadata": {},
   "source": [
    "Except fees column, all other columns have categorical data"
   ]
  },
  {
   "cell_type": "code",
   "execution_count": 6,
   "metadata": {},
   "outputs": [
    {
     "data": {
      "text/plain": [
       "Qualification            0\n",
       "Experience               0\n",
       "Rating                3302\n",
       "Place                   25\n",
       "Profile                  0\n",
       "Miscellaneous_Info    2620\n",
       "Fees                     0\n",
       "dtype: int64"
      ]
     },
     "execution_count": 6,
     "metadata": {},
     "output_type": "execute_result"
    }
   ],
   "source": [
    "df_train.isnull().sum()   #Checking for null values in the dataset"
   ]
  },
  {
   "cell_type": "markdown",
   "metadata": {},
   "source": [
    "We can see that Rating, Place and Miscellaneous_Info have null values and we need to handle them."
   ]
  },
  {
   "cell_type": "markdown",
   "metadata": {},
   "source": [
    "# Data Pre-processing"
   ]
  },
  {
   "cell_type": "markdown",
   "metadata": {},
   "source": [
    "In Experience column, we can see that years is present and it is in object type. We need to take the number from Experience and it can be done by using type conversion and replace()"
   ]
  },
  {
   "cell_type": "code",
   "execution_count": 7,
   "metadata": {},
   "outputs": [],
   "source": [
    "df_train['Experience'] = df_train['Experience'].str.replace(\"years experience\",'').astype('int') #Converting to int datatype\n",
    "#We are also replacing years experience word with blank"
   ]
  },
  {
   "cell_type": "code",
   "execution_count": 8,
   "metadata": {},
   "outputs": [
    {
     "data": {
      "text/plain": [
       "0    24\n",
       "1    12\n",
       "2     9\n",
       "3    12\n",
       "4    20\n",
       "Name: Experience, dtype: int32"
      ]
     },
     "execution_count": 8,
     "metadata": {},
     "output_type": "execute_result"
    }
   ],
   "source": [
    "#Now checking the column after replacing\n",
    "df_train['Experience'].head()   #Top 5 rows"
   ]
  },
  {
   "cell_type": "markdown",
   "metadata": {},
   "source": [
    "We can see that the years have been taken and replaced in the column"
   ]
  },
  {
   "cell_type": "markdown",
   "metadata": {},
   "source": [
    "In the Rating column, we can see that it is given in percentage and it is in object type. We will take only the number and it can be done by using type conversion and replace(). Before that, we need to fill the missing data with the most frequent data used and it can be done by using Simple Imputer library."
   ]
  },
  {
   "cell_type": "code",
   "execution_count": 9,
   "metadata": {},
   "outputs": [],
   "source": [
    "#Importing SimpleImputer\n",
    "from sklearn.impute import SimpleImputer\n",
    "SI=SimpleImputer(strategy='most_frequent')  #Replacing null values with most frequently used values\n",
    "df_train['Rating']=SI.fit_transform(df_train['Rating'].values.reshape(-1,1))"
   ]
  },
  {
   "cell_type": "code",
   "execution_count": 10,
   "metadata": {},
   "outputs": [
    {
     "data": {
      "text/plain": [
       "Qualification            0\n",
       "Experience               0\n",
       "Rating                   0\n",
       "Place                   25\n",
       "Profile                  0\n",
       "Miscellaneous_Info    2620\n",
       "Fees                     0\n",
       "dtype: int64"
      ]
     },
     "execution_count": 10,
     "metadata": {},
     "output_type": "execute_result"
    }
   ],
   "source": [
    "df_train.isnull().sum()"
   ]
  },
  {
   "cell_type": "markdown",
   "metadata": {},
   "source": [
    "We can see that Rating missing values has been replaced with most frequently used values"
   ]
  },
  {
   "cell_type": "code",
   "execution_count": 11,
   "metadata": {},
   "outputs": [],
   "source": [
    "df_train['Rating'] = df_train['Rating'].str.replace(\"%\",'').astype('int')  #Converting to int datatype\n",
    "#We are also replacing % with blank"
   ]
  },
  {
   "cell_type": "code",
   "execution_count": 12,
   "metadata": {},
   "outputs": [
    {
     "data": {
      "text/plain": [
       "0    100\n",
       "1     98\n",
       "2    100\n",
       "3    100\n",
       "4    100\n",
       "Name: Rating, dtype: int32"
      ]
     },
     "execution_count": 12,
     "metadata": {},
     "output_type": "execute_result"
    }
   ],
   "source": [
    "#We are checking the column after replacing\n",
    "df_train['Rating'].head()   #Top 5 rows"
   ]
  },
  {
   "cell_type": "markdown",
   "metadata": {},
   "source": [
    "Rating column has been converted into int by replacing missing data and % "
   ]
  },
  {
   "cell_type": "markdown",
   "metadata": {},
   "source": [
    "Let us look into Place column. There are missing values and also the City and Area has been present together. We can split them into 2 separate columns and also before that we will handle missing data using SimpleImputer"
   ]
  },
  {
   "cell_type": "code",
   "execution_count": 13,
   "metadata": {},
   "outputs": [],
   "source": [
    "SI=SimpleImputer(strategy='most_frequent')  #Replacing null values with most frequently used values\n",
    "df_train['Place']=SI.fit_transform(df_train['Place'].values.reshape(-1,1))"
   ]
  },
  {
   "cell_type": "code",
   "execution_count": 14,
   "metadata": {},
   "outputs": [
    {
     "data": {
      "text/plain": [
       "Qualification            0\n",
       "Experience               0\n",
       "Rating                   0\n",
       "Place                    0\n",
       "Profile                  0\n",
       "Miscellaneous_Info    2620\n",
       "Fees                     0\n",
       "dtype: int64"
      ]
     },
     "execution_count": 14,
     "metadata": {},
     "output_type": "execute_result"
    }
   ],
   "source": [
    "df_train.isnull().sum()"
   ]
  },
  {
   "cell_type": "markdown",
   "metadata": {},
   "source": [
    "After handling missing data, we can see that there are no missing values in the column. Now we will split City and Area separately"
   ]
  },
  {
   "cell_type": "code",
   "execution_count": 15,
   "metadata": {},
   "outputs": [],
   "source": [
    "#Extracting City and Area from Place Column\n",
    "df_train['City'] = df_train['Place'].str.split(',',1).str.get(1)  #City given after area and they are separated by comma\n",
    "df_train['Area'] = df_train['Place'].str.split(',',1).str.get(0)  #First is Area given in Place column"
   ]
  },
  {
   "cell_type": "code",
   "execution_count": 16,
   "metadata": {},
   "outputs": [],
   "source": [
    "#As we extracted City and Area from the Place column, there is no need of Place and we can drop it\n",
    "df_train.drop(columns='Place',axis=1,inplace=True)"
   ]
  },
  {
   "cell_type": "code",
   "execution_count": 17,
   "metadata": {},
   "outputs": [
    {
     "data": {
      "text/html": [
       "<div>\n",
       "<style scoped>\n",
       "    .dataframe tbody tr th:only-of-type {\n",
       "        vertical-align: middle;\n",
       "    }\n",
       "\n",
       "    .dataframe tbody tr th {\n",
       "        vertical-align: top;\n",
       "    }\n",
       "\n",
       "    .dataframe thead th {\n",
       "        text-align: right;\n",
       "    }\n",
       "</style>\n",
       "<table border=\"1\" class=\"dataframe\">\n",
       "  <thead>\n",
       "    <tr style=\"text-align: right;\">\n",
       "      <th></th>\n",
       "      <th>Qualification</th>\n",
       "      <th>Experience</th>\n",
       "      <th>Rating</th>\n",
       "      <th>Profile</th>\n",
       "      <th>Miscellaneous_Info</th>\n",
       "      <th>Fees</th>\n",
       "      <th>City</th>\n",
       "      <th>Area</th>\n",
       "    </tr>\n",
       "  </thead>\n",
       "  <tbody>\n",
       "    <tr>\n",
       "      <th>0</th>\n",
       "      <td>BHMS, MD - Homeopathy</td>\n",
       "      <td>24</td>\n",
       "      <td>100</td>\n",
       "      <td>Homeopath</td>\n",
       "      <td>100% 16 Feedback Kakkanad, Ernakulam</td>\n",
       "      <td>100</td>\n",
       "      <td>Ernakulam</td>\n",
       "      <td>Kakkanad</td>\n",
       "    </tr>\n",
       "    <tr>\n",
       "      <th>1</th>\n",
       "      <td>BAMS, MD - Ayurveda Medicine</td>\n",
       "      <td>12</td>\n",
       "      <td>98</td>\n",
       "      <td>Ayurveda</td>\n",
       "      <td>98% 76 Feedback Whitefield, Bangalore</td>\n",
       "      <td>350</td>\n",
       "      <td>Bangalore</td>\n",
       "      <td>Whitefield</td>\n",
       "    </tr>\n",
       "    <tr>\n",
       "      <th>2</th>\n",
       "      <td>MBBS, MS - Otorhinolaryngology</td>\n",
       "      <td>9</td>\n",
       "      <td>100</td>\n",
       "      <td>ENT Specialist</td>\n",
       "      <td>NaN</td>\n",
       "      <td>300</td>\n",
       "      <td>Bangalore</td>\n",
       "      <td>Mathikere - BEL</td>\n",
       "    </tr>\n",
       "    <tr>\n",
       "      <th>3</th>\n",
       "      <td>BSc - Zoology, BAMS</td>\n",
       "      <td>12</td>\n",
       "      <td>100</td>\n",
       "      <td>Ayurveda</td>\n",
       "      <td>Bannerghatta Road, Bangalore ₹250 Available on...</td>\n",
       "      <td>250</td>\n",
       "      <td>Bangalore</td>\n",
       "      <td>Bannerghatta Road</td>\n",
       "    </tr>\n",
       "    <tr>\n",
       "      <th>4</th>\n",
       "      <td>BAMS</td>\n",
       "      <td>20</td>\n",
       "      <td>100</td>\n",
       "      <td>Ayurveda</td>\n",
       "      <td>100% 4 Feedback Keelkattalai, Chennai</td>\n",
       "      <td>250</td>\n",
       "      <td>Chennai</td>\n",
       "      <td>Keelkattalai</td>\n",
       "    </tr>\n",
       "  </tbody>\n",
       "</table>\n",
       "</div>"
      ],
      "text/plain": [
       "                    Qualification  Experience  Rating         Profile  \\\n",
       "0           BHMS, MD - Homeopathy          24     100       Homeopath   \n",
       "1    BAMS, MD - Ayurveda Medicine          12      98        Ayurveda   \n",
       "2  MBBS, MS - Otorhinolaryngology           9     100  ENT Specialist   \n",
       "3             BSc - Zoology, BAMS          12     100        Ayurveda   \n",
       "4                            BAMS          20     100        Ayurveda   \n",
       "\n",
       "                                  Miscellaneous_Info  Fees        City  \\\n",
       "0               100% 16 Feedback Kakkanad, Ernakulam   100   Ernakulam   \n",
       "1              98% 76 Feedback Whitefield, Bangalore   350   Bangalore   \n",
       "2                                                NaN   300   Bangalore   \n",
       "3  Bannerghatta Road, Bangalore ₹250 Available on...   250   Bangalore   \n",
       "4              100% 4 Feedback Keelkattalai, Chennai   250     Chennai   \n",
       "\n",
       "                Area  \n",
       "0           Kakkanad  \n",
       "1         Whitefield  \n",
       "2    Mathikere - BEL  \n",
       "3  Bannerghatta Road  \n",
       "4       Keelkattalai  "
      ]
     },
     "execution_count": 17,
     "metadata": {},
     "output_type": "execute_result"
    }
   ],
   "source": [
    "#Checking the dataset after extraction\n",
    "df_train.head()"
   ]
  },
  {
   "cell_type": "code",
   "execution_count": 18,
   "metadata": {},
   "outputs": [
    {
     "data": {
      "text/plain": [
       "1"
      ]
     },
     "execution_count": 18,
     "metadata": {},
     "output_type": "execute_result"
    }
   ],
   "source": [
    "df_train['City'].isnull().sum()   #Checking City column for missing data"
   ]
  },
  {
   "cell_type": "code",
   "execution_count": 19,
   "metadata": {},
   "outputs": [],
   "source": [
    "#As we don't know the exact city of the one missing data, we will replace with unknown\n",
    "df_train['City'].fillna('unknown',inplace=True)"
   ]
  },
  {
   "cell_type": "markdown",
   "metadata": {},
   "source": [
    "Now we will look into Miscellaneous_Info column. We can see that most of the data has fees and place details and also there are missing data present. We can now create a new column to show the data which has Miscellaneous_Info or not"
   ]
  },
  {
   "cell_type": "code",
   "execution_count": 20,
   "metadata": {},
   "outputs": [],
   "source": [
    "df_train['Has_Miscellaneous_Info'] = (~df_train['Miscellaneous_Info'].isnull())\n",
    "df_train['Has_Miscellaneous_Info'] = df_train['Has_Miscellaneous_Info'].astype(int)  #Converting into int type"
   ]
  },
  {
   "cell_type": "code",
   "execution_count": 21,
   "metadata": {},
   "outputs": [
    {
     "data": {
      "text/plain": [
       "1    3341\n",
       "0    2620\n",
       "Name: Has_Miscellaneous_Info, dtype: int64"
      ]
     },
     "execution_count": 21,
     "metadata": {},
     "output_type": "execute_result"
    }
   ],
   "source": [
    "#After creating the new column, now checking the value counts\n",
    "df_train['Has_Miscellaneous_Info'].value_counts()"
   ]
  },
  {
   "cell_type": "markdown",
   "metadata": {},
   "source": [
    "Here 0 means there is no info and 1 means there is info. 3341 records have miscellaneous info whereas 2620 records don't have any miscellaneous info"
   ]
  },
  {
   "cell_type": "code",
   "execution_count": 22,
   "metadata": {},
   "outputs": [],
   "source": [
    "#Dropping Miscellaneous_Info column\n",
    "df_train.drop(columns='Miscellaneous_Info',axis=1,inplace=True)"
   ]
  },
  {
   "cell_type": "code",
   "execution_count": 23,
   "metadata": {},
   "outputs": [
    {
     "name": "stdout",
     "output_type": "stream",
     "text": [
      "Qualification             0\n",
      "Experience                0\n",
      "Rating                    0\n",
      "Profile                   0\n",
      "Fees                      0\n",
      "City                      0\n",
      "Area                      0\n",
      "Has_Miscellaneous_Info    0\n",
      "dtype: int64\n"
     ]
    }
   ],
   "source": [
    "#Final Checking for null values\n",
    "print(df_train.isnull().sum())"
   ]
  },
  {
   "cell_type": "markdown",
   "metadata": {},
   "source": [
    "There are no missing values in the dataset and now we can proceed further with EDA process"
   ]
  },
  {
   "cell_type": "code",
   "execution_count": 24,
   "metadata": {},
   "outputs": [
    {
     "data": {
      "text/html": [
       "<div>\n",
       "<style scoped>\n",
       "    .dataframe tbody tr th:only-of-type {\n",
       "        vertical-align: middle;\n",
       "    }\n",
       "\n",
       "    .dataframe tbody tr th {\n",
       "        vertical-align: top;\n",
       "    }\n",
       "\n",
       "    .dataframe thead th {\n",
       "        text-align: right;\n",
       "    }\n",
       "</style>\n",
       "<table border=\"1\" class=\"dataframe\">\n",
       "  <thead>\n",
       "    <tr style=\"text-align: right;\">\n",
       "      <th></th>\n",
       "      <th>Qualification</th>\n",
       "      <th>Experience</th>\n",
       "      <th>Rating</th>\n",
       "      <th>Profile</th>\n",
       "      <th>Fees</th>\n",
       "      <th>City</th>\n",
       "      <th>Area</th>\n",
       "      <th>Has_Miscellaneous_Info</th>\n",
       "    </tr>\n",
       "  </thead>\n",
       "  <tbody>\n",
       "    <tr>\n",
       "      <th>0</th>\n",
       "      <td>BHMS, MD - Homeopathy</td>\n",
       "      <td>24</td>\n",
       "      <td>100</td>\n",
       "      <td>Homeopath</td>\n",
       "      <td>100</td>\n",
       "      <td>Ernakulam</td>\n",
       "      <td>Kakkanad</td>\n",
       "      <td>1</td>\n",
       "    </tr>\n",
       "    <tr>\n",
       "      <th>1</th>\n",
       "      <td>BAMS, MD - Ayurveda Medicine</td>\n",
       "      <td>12</td>\n",
       "      <td>98</td>\n",
       "      <td>Ayurveda</td>\n",
       "      <td>350</td>\n",
       "      <td>Bangalore</td>\n",
       "      <td>Whitefield</td>\n",
       "      <td>1</td>\n",
       "    </tr>\n",
       "    <tr>\n",
       "      <th>2</th>\n",
       "      <td>MBBS, MS - Otorhinolaryngology</td>\n",
       "      <td>9</td>\n",
       "      <td>100</td>\n",
       "      <td>ENT Specialist</td>\n",
       "      <td>300</td>\n",
       "      <td>Bangalore</td>\n",
       "      <td>Mathikere - BEL</td>\n",
       "      <td>0</td>\n",
       "    </tr>\n",
       "    <tr>\n",
       "      <th>3</th>\n",
       "      <td>BSc - Zoology, BAMS</td>\n",
       "      <td>12</td>\n",
       "      <td>100</td>\n",
       "      <td>Ayurveda</td>\n",
       "      <td>250</td>\n",
       "      <td>Bangalore</td>\n",
       "      <td>Bannerghatta Road</td>\n",
       "      <td>1</td>\n",
       "    </tr>\n",
       "    <tr>\n",
       "      <th>4</th>\n",
       "      <td>BAMS</td>\n",
       "      <td>20</td>\n",
       "      <td>100</td>\n",
       "      <td>Ayurveda</td>\n",
       "      <td>250</td>\n",
       "      <td>Chennai</td>\n",
       "      <td>Keelkattalai</td>\n",
       "      <td>1</td>\n",
       "    </tr>\n",
       "  </tbody>\n",
       "</table>\n",
       "</div>"
      ],
      "text/plain": [
       "                    Qualification  Experience  Rating         Profile  Fees  \\\n",
       "0           BHMS, MD - Homeopathy          24     100       Homeopath   100   \n",
       "1    BAMS, MD - Ayurveda Medicine          12      98        Ayurveda   350   \n",
       "2  MBBS, MS - Otorhinolaryngology           9     100  ENT Specialist   300   \n",
       "3             BSc - Zoology, BAMS          12     100        Ayurveda   250   \n",
       "4                            BAMS          20     100        Ayurveda   250   \n",
       "\n",
       "         City               Area  Has_Miscellaneous_Info  \n",
       "0   Ernakulam           Kakkanad                       1  \n",
       "1   Bangalore         Whitefield                       1  \n",
       "2   Bangalore    Mathikere - BEL                       0  \n",
       "3   Bangalore  Bannerghatta Road                       1  \n",
       "4     Chennai       Keelkattalai                       1  "
      ]
     },
     "execution_count": 24,
     "metadata": {},
     "output_type": "execute_result"
    }
   ],
   "source": [
    "df_train.head()  #Checking dataset after pre-processing"
   ]
  },
  {
   "cell_type": "markdown",
   "metadata": {},
   "source": [
    "# Exploratory Data Analysis"
   ]
  },
  {
   "cell_type": "code",
   "execution_count": 25,
   "metadata": {},
   "outputs": [],
   "source": [
    "#Importing Matplotlib and Seaborn\n",
    "import seaborn as sns\n",
    "import matplotlib.pyplot as plt"
   ]
  },
  {
   "cell_type": "markdown",
   "metadata": {},
   "source": [
    "# Univariate Analysis"
   ]
  },
  {
   "cell_type": "code",
   "execution_count": 26,
   "metadata": {},
   "outputs": [
    {
     "name": "stdout",
     "output_type": "stream",
     "text": [
      "100    1306\n",
      "500     938\n",
      "200     904\n",
      "300     864\n",
      "400     424\n",
      "250     307\n",
      "150     253\n",
      "600     215\n",
      "700     153\n",
      "800     143\n",
      "350     143\n",
      "50       81\n",
      "450      65\n",
      "750      34\n",
      "550      22\n",
      "650      21\n",
      "900      18\n",
      "70       18\n",
      "80       12\n",
      "60       11\n",
      "30        4\n",
      "10        2\n",
      "260       2\n",
      "130       2\n",
      "180       2\n",
      "40        2\n",
      "380       2\n",
      "220       1\n",
      "280       1\n",
      "499       1\n",
      "5         1\n",
      "920       1\n",
      "299       1\n",
      "125       1\n",
      "230       1\n",
      "430       1\n",
      "630       1\n",
      "850       1\n",
      "950       1\n",
      "20        1\n",
      "Name: Fees, dtype: int64\n"
     ]
    },
    {
     "data": {
      "text/plain": [
       "Text(0.5, 1.0, 'Count of Fees')"
      ]
     },
     "execution_count": 26,
     "metadata": {},
     "output_type": "execute_result"
    },
    {
     "data": {
      "image/png": "[encoded data removed]",
      "text/plain": [
       "<Figure size 720x360 with 1 Axes>"
      ]
     },
     "metadata": {
      "needs_background": "light"
     },
     "output_type": "display_data"
    }
   ],
   "source": [
    "#Checking Fees count details using countplot\n",
    "print(df_train['Fees'].value_counts())\n",
    "plt.figure(figsize=(10,5))\n",
    "plt.xticks(rotation=90)\n",
    "sns.countplot(df_train['Fees'].sort_values())\n",
    "plt.title('Count of Fees')"
   ]
  },
  {
   "cell_type": "markdown",
   "metadata": {},
   "source": [
    "Observations:\n",
    "\n",
    "-> We can see that 1306 doctors are collecting 100 rupees as the fees and it is the maximum number.\n",
    "\n",
    "-> Highest fees collected is Rs.950 and only one doctor is collecting it.\n",
    "\n",
    "-> Lowest amount of fees is Rs.5 which is the minimum value in this dataset and only one doctor is collecting it.\n",
    "\n",
    "-> Mostly one doctor has been collecting various value of fees like 20, 230, 499, 850, etc."
   ]
  },
  {
   "cell_type": "code",
   "execution_count": 27,
   "metadata": {},
   "outputs": [
    {
     "name": "stdout",
     "output_type": "stream",
     "text": [
      "100    3986\n",
      "98      290\n",
      "99      259\n",
      "97      241\n",
      "96      220\n",
      "95      178\n",
      "94      115\n",
      "93      109\n",
      "92       66\n",
      "90       66\n",
      "91       60\n",
      "89       42\n",
      "88       41\n",
      "85       27\n",
      "82       23\n",
      "83       21\n",
      "86       21\n",
      "80       19\n",
      "77       16\n",
      "87       14\n",
      "84       13\n",
      "79       13\n",
      "67       12\n",
      "81       12\n",
      "71        9\n",
      "76        9\n",
      "75        8\n",
      "73        8\n",
      "74        7\n",
      "60        7\n",
      "78        6\n",
      "56        5\n",
      "68        5\n",
      "69        4\n",
      "70        4\n",
      "57        3\n",
      "72        3\n",
      "33        2\n",
      "64        2\n",
      "62        2\n",
      "63        2\n",
      "55        2\n",
      "48        1\n",
      "40        1\n",
      "7         1\n",
      "65        1\n",
      "45        1\n",
      "53        1\n",
      "47        1\n",
      "58        1\n",
      "36        1\n",
      "Name: Rating, dtype: int64\n"
     ]
    },
    {
     "data": {
      "image/png": "[encoded data removed]",
      "text/plain": [
       "<Figure size 1296x288 with 1 Axes>"
      ]
     },
     "metadata": {
      "needs_background": "light"
     },
     "output_type": "display_data"
    }
   ],
   "source": [
    "#Checking the Rating given to doctors from patients using countplot\n",
    "print(df_train['Rating'].value_counts())\n",
    "plt.subplots(figsize=(18,4))\n",
    "sns.countplot(x='Rating',data=df_train)\n",
    "plt.title('Rating percentage of Doctors')\n",
    "plt.xlabel('Rating in percentage')\n",
    "plt.ylabel('Count of Doctors')\n",
    "plt.show()"
   ]
  },
  {
   "cell_type": "markdown",
   "metadata": {},
   "source": [
    "Observations:\n",
    "\n",
    "-> Nearly 4000 doctors got 100% rating and it is the maximum value and the exact value is 3986.\n",
    "\n",
    "-> Minimum rating value given for a doctor is 7%, which has been given by 1 patient and it is the lowest among all.\n",
    "\n",
    "-> Many number of patients have given rating in the range 81-98 to most of the doctors for their consultations."
   ]
  },
  {
   "cell_type": "code",
   "execution_count": 28,
   "metadata": {},
   "outputs": [
    {
     "name": "stdout",
     "output_type": "stream",
     "text": [
      "9     323\n",
      "10    294\n",
      "11    288\n",
      "8     282\n",
      "12    279\n",
      "     ... \n",
      "64      1\n",
      "65      1\n",
      "58      1\n",
      "66      1\n",
      "61      1\n",
      "Name: Experience, Length: 64, dtype: int64\n"
     ]
    },
    {
     "data": {
      "image/png": "[encoded data removed]",
      "text/plain": [
       "<Figure size 1296x288 with 1 Axes>"
      ]
     },
     "metadata": {
      "needs_background": "light"
     },
     "output_type": "display_data"
    }
   ],
   "source": [
    "#Checking the experience of doctors using countplot\n",
    "print(df_train['Experience'].value_counts())\n",
    "plt.subplots(figsize=(18,4))\n",
    "sns.countplot(x='Experience',data=df_train,palette='terrain_r')\n",
    "plt.title('Experience of Doctors in years')\n",
    "plt.xlabel('Experience in years')\n",
    "plt.ylabel('Count of Doctors')\n",
    "plt.show()"
   ]
  },
  {
   "cell_type": "markdown",
   "metadata": {},
   "source": [
    "Observations:\n",
    "\n",
    "-> 9 years of experience is the maximum value here and 323 doctors are having it.\n",
    "\n",
    "-> Minimum years of experience is between 58-64 years and only one doctor is having that kind of experience for every year in      that range."
   ]
  },
  {
   "cell_type": "code",
   "execution_count": 29,
   "metadata": {},
   "outputs": [
    {
     "name": "stdout",
     "output_type": "stream",
     "text": [
      "Dentist             1397\n",
      "General Medicine    1173\n",
      "Dermatologists      1034\n",
      "Homeopath            843\n",
      "Ayurveda             786\n",
      "ENT Specialist       728\n",
      "Name: Profile, dtype: int64\n"
     ]
    },
    {
     "data": {
      "image/png": "[encoded data removed]",
      "text/plain": [
       "<Figure size 1296x288 with 1 Axes>"
      ]
     },
     "metadata": {
      "needs_background": "light"
     },
     "output_type": "display_data"
    }
   ],
   "source": [
    "#Checking out the count of profile of doctors using countplot\n",
    "print(df_train['Profile'].value_counts())\n",
    "plt.subplots(figsize=(18,4))\n",
    "sns.countplot(x='Profile',data=df_train)\n",
    "plt.title('Profiles of Doctors')\n",
    "plt.xlabel('Specialization of Doctors')\n",
    "plt.ylabel('Count of Doctors')\n",
    "plt.show()"
   ]
  },
  {
   "cell_type": "markdown",
   "metadata": {},
   "source": [
    "Observations:\n",
    "\n",
    "-> We can see that maximum number of doctors are dentists and there are 1397 records of doctors.\n",
    "\n",
    "-> Minimum number of doctors are ENT Specialists and there are 728 records of doctors."
   ]
  },
  {
   "cell_type": "code",
   "execution_count": 30,
   "metadata": {},
   "outputs": [
    {
     "data": {
      "image/png": "[encoded data removed]",
      "text/plain": [
       "<Figure size 720x360 with 1 Axes>"
      ]
     },
     "metadata": {
      "needs_background": "light"
     },
     "output_type": "display_data"
    }
   ],
   "source": [
    "#Checking out the count of city using countplot\n",
    "plt.figure(figsize=(10,5))\n",
    "plt.xticks(rotation=90)\n",
    "ax=sns.countplot(df_train['City'])\n",
    "plt.title('Count of City')\n",
    "for p in ax.patches:\n",
    "       ax.annotate(int(p.get_height()), (p.get_x()+0.25, p.get_height()+1), va='bottom',color= 'black')"
   ]
  },
  {
   "cell_type": "markdown",
   "metadata": {},
   "source": [
    "As we can see, there are more number of doctors in Bangalore with 1283 doctors residing there and minumum number of doctors are residing in Thiruvananthapuram with 86 doctors. One doctor is staying in Delhi and another doctor's location is unknown."
   ]
  },
  {
   "cell_type": "code",
   "execution_count": 31,
   "metadata": {},
   "outputs": [
    {
     "name": "stdout",
     "output_type": "stream",
     "text": [
      "1    3341\n",
      "0    2620\n",
      "Name: Has_Miscellaneous_Info, dtype: int64\n"
     ]
    },
    {
     "data": {
      "image/png": "[encoded data removed]",
      "text/plain": [
       "<Figure size 432x288 with 1 Axes>"
      ]
     },
     "metadata": {
      "needs_background": "light"
     },
     "output_type": "display_data"
    }
   ],
   "source": [
    "#Checking the doctors who are having Miscellaneous_Info\n",
    "print(df_train['Has_Miscellaneous_Info'].value_counts())\n",
    "sns.countplot(x='Has_Miscellaneous_Info',data=df_train)\n",
    "plt.title('Number of Miscellaneous Info of Doctors')\n",
    "plt.ylabel('Count of Doctors')\n",
    "plt.show()"
   ]
  },
  {
   "cell_type": "markdown",
   "metadata": {},
   "source": [
    "3341 doctors have miscellaneous information whereas 2620 doctors don't have any miscellaneous information"
   ]
  },
  {
   "cell_type": "markdown",
   "metadata": {},
   "source": [
    "# Bivariate Analysis"
   ]
  },
  {
   "cell_type": "code",
   "execution_count": 32,
   "metadata": {},
   "outputs": [
    {
     "data": {
      "image/png": "[encoded data removed]",
      "text/plain": [
       "<Figure size 1080x360 with 1 Axes>"
      ]
     },
     "metadata": {
      "needs_background": "light"
     },
     "output_type": "display_data"
    }
   ],
   "source": [
    "#Checking the rating of doctors on the basis of their Specialization using Barplot\n",
    "plt.subplots(figsize=(18,4))\n",
    "df_train.groupby('Profile')['Rating'].sum().sort_values(ascending=False).plot(kind=\"bar\",figsize=(15,5))\n",
    "plt.title('Rating of Doctors on the basis of their Specialization')\n",
    "plt.xlabel('Doctor Specialization')\n",
    "plt.ylabel('Ratings')\n",
    "plt.show()"
   ]
  },
  {
   "cell_type": "markdown",
   "metadata": {},
   "source": [
    "Dentists have more number of ratings whereas ENT Specialists have the less number of Ratings"
   ]
  },
  {
   "cell_type": "code",
   "execution_count": 33,
   "metadata": {},
   "outputs": [
    {
     "data": {
      "image/png": "[encoded data removed]",
      "text/plain": [
       "<Figure size 1296x288 with 1 Axes>"
      ]
     },
     "metadata": {
      "needs_background": "light"
     },
     "output_type": "display_data"
    }
   ],
   "source": [
    "#Checking the Fees charged by doctors on basis of experience\n",
    "plt.subplots(figsize=(18,4))\n",
    "sns.barplot(x='Fees',y='Experience',data=df_train)\n",
    "plt.title('Fees Charged by Doctors based on Experience')\n",
    "plt.xlabel('Fees')\n",
    "plt.ylabel('Doctor Experience')\n",
    "plt.show()"
   ]
  },
  {
   "cell_type": "markdown",
   "metadata": {},
   "source": [
    "We can see that maximum number of fees is collected by doctors who are having experience above 20 years"
   ]
  },
  {
   "cell_type": "code",
   "execution_count": 34,
   "metadata": {},
   "outputs": [
    {
     "data": {
      "image/png": "[encoded data removed]",
      "text/plain": [
       "<Figure size 1296x288 with 1 Axes>"
      ]
     },
     "metadata": {
      "needs_background": "light"
     },
     "output_type": "display_data"
    }
   ],
   "source": [
    "#Checking Fees vs Rating relationship\n",
    "plt.subplots(figsize=(18,4))\n",
    "sns.barplot(x='Rating',y='Fees',data=df_train)\n",
    "plt.title('Fees vs Rating')\n",
    "plt.xlabel('Rating')\n",
    "plt.ylabel('Fees')\n",
    "plt.show()"
   ]
  },
  {
   "cell_type": "markdown",
   "metadata": {},
   "source": [
    "Doctors who go ratings from the range 80-100 are collecting fees within Rs.400 and the doctors who got less ratings are collecting large amount of fees."
   ]
  },
  {
   "cell_type": "code",
   "execution_count": 35,
   "metadata": {},
   "outputs": [
    {
     "data": {
      "image/png": "[encoded data removed]",
      "text/plain": [
       "<Figure size 1296x504 with 1 Axes>"
      ]
     },
     "metadata": {
      "needs_background": "light"
     },
     "output_type": "display_data"
    }
   ],
   "source": [
    "#Checking the fees vs Profile relationship\n",
    "plt.subplots(figsize=(18,7))\n",
    "sns.barplot(x='Profile',y='Fees',data=df_train,palette='rainbow')\n",
    "plt.title('Fees Charged by Doctors based on their Specialization')\n",
    "plt.xlabel('Doctor Specialization')\n",
    "plt.ylabel('Fees')\n",
    "plt.show()"
   ]
  },
  {
   "cell_type": "markdown",
   "metadata": {},
   "source": [
    "ENT specialists and Dermatologists are charging high amount of fees whereas Ayurvedic doctors and Dentists are charging the lesser amount of fees among all"
   ]
  },
  {
   "cell_type": "code",
   "execution_count": 36,
   "metadata": {},
   "outputs": [
    {
     "data": {
      "image/png": "[encoded data removed]",
      "text/plain": [
       "<Figure size 1080x360 with 1 Axes>"
      ]
     },
     "metadata": {
      "needs_background": "light"
     },
     "output_type": "display_data"
    }
   ],
   "source": [
    "#Checking doctor's profile based on experience\n",
    "plt.subplots(figsize=(18,4))\n",
    "df_train.groupby('Profile')['Experience'].sum().sort_values(ascending=False).plot(kind=\"barh\",figsize=(15,5))\n",
    "plt.title('Experience of doctors on the basis of there Specialization')\n",
    "plt.xlabel('Experience')\n",
    "plt.ylabel('Doctor Specialization')\n",
    "plt.show()"
   ]
  },
  {
   "cell_type": "markdown",
   "metadata": {},
   "source": [
    "General Medicine doctors have the maximum number of experience in their field whereas Ayurvedic doctors have the less number of experience"
   ]
  },
  {
   "cell_type": "markdown",
   "metadata": {},
   "source": [
    "# Converting categorical data into numeric data"
   ]
  },
  {
   "cell_type": "code",
   "execution_count": 37,
   "metadata": {},
   "outputs": [
    {
     "data": {
      "text/plain": [
       "Qualification             object\n",
       "Experience                 int32\n",
       "Rating                     int32\n",
       "Profile                   object\n",
       "Fees                       int64\n",
       "City                      object\n",
       "Area                      object\n",
       "Has_Miscellaneous_Info     int32\n",
       "dtype: object"
      ]
     },
     "execution_count": 37,
     "metadata": {},
     "output_type": "execute_result"
    }
   ],
   "source": [
    "df_train.dtypes"
   ]
  },
  {
   "cell_type": "markdown",
   "metadata": {},
   "source": [
    "There are 4 columns having categorical data and as the value counts in each feature is large, we can do Label Encoding by using Label Encoder"
   ]
  },
  {
   "cell_type": "code",
   "execution_count": 38,
   "metadata": {},
   "outputs": [],
   "source": [
    "from sklearn.preprocessing import LabelEncoder\n",
    "le=LabelEncoder()\n",
    "col=['Qualification','Profile','City','Area']\n",
    "for i in col:\n",
    "    df_train[i]=le.fit_transform(df_train[i])   #Conversion"
   ]
  },
  {
   "cell_type": "code",
   "execution_count": 39,
   "metadata": {},
   "outputs": [
    {
     "data": {
      "text/html": [
       "<div>\n",
       "<style scoped>\n",
       "    .dataframe tbody tr th:only-of-type {\n",
       "        vertical-align: middle;\n",
       "    }\n",
       "\n",
       "    .dataframe tbody tr th {\n",
       "        vertical-align: top;\n",
       "    }\n",
       "\n",
       "    .dataframe thead th {\n",
       "        text-align: right;\n",
       "    }\n",
       "</style>\n",
       "<table border=\"1\" class=\"dataframe\">\n",
       "  <thead>\n",
       "    <tr style=\"text-align: right;\">\n",
       "      <th></th>\n",
       "      <th>Qualification</th>\n",
       "      <th>Experience</th>\n",
       "      <th>Rating</th>\n",
       "      <th>Profile</th>\n",
       "      <th>Fees</th>\n",
       "      <th>City</th>\n",
       "      <th>Area</th>\n",
       "      <th>Has_Miscellaneous_Info</th>\n",
       "    </tr>\n",
       "  </thead>\n",
       "  <tbody>\n",
       "    <tr>\n",
       "      <th>0</th>\n",
       "      <td>401</td>\n",
       "      <td>24</td>\n",
       "      <td>100</td>\n",
       "      <td>5</td>\n",
       "      <td>100</td>\n",
       "      <td>4</td>\n",
       "      <td>296</td>\n",
       "      <td>1</td>\n",
       "    </tr>\n",
       "    <tr>\n",
       "      <th>1</th>\n",
       "      <td>73</td>\n",
       "      <td>12</td>\n",
       "      <td>98</td>\n",
       "      <td>0</td>\n",
       "      <td>350</td>\n",
       "      <td>0</td>\n",
       "      <td>855</td>\n",
       "      <td>1</td>\n",
       "    </tr>\n",
       "    <tr>\n",
       "      <th>2</th>\n",
       "      <td>1135</td>\n",
       "      <td>9</td>\n",
       "      <td>100</td>\n",
       "      <td>3</td>\n",
       "      <td>300</td>\n",
       "      <td>0</td>\n",
       "      <td>452</td>\n",
       "      <td>0</td>\n",
       "    </tr>\n",
       "    <tr>\n",
       "      <th>3</th>\n",
       "      <td>464</td>\n",
       "      <td>12</td>\n",
       "      <td>100</td>\n",
       "      <td>0</td>\n",
       "      <td>250</td>\n",
       "      <td>0</td>\n",
       "      <td>68</td>\n",
       "      <td>1</td>\n",
       "    </tr>\n",
       "    <tr>\n",
       "      <th>4</th>\n",
       "      <td>10</td>\n",
       "      <td>20</td>\n",
       "      <td>100</td>\n",
       "      <td>0</td>\n",
       "      <td>250</td>\n",
       "      <td>1</td>\n",
       "      <td>335</td>\n",
       "      <td>1</td>\n",
       "    </tr>\n",
       "  </tbody>\n",
       "</table>\n",
       "</div>"
      ],
      "text/plain": [
       "   Qualification  Experience  Rating  Profile  Fees  City  Area  \\\n",
       "0            401          24     100        5   100     4   296   \n",
       "1             73          12      98        0   350     0   855   \n",
       "2           1135           9     100        3   300     0   452   \n",
       "3            464          12     100        0   250     0    68   \n",
       "4             10          20     100        0   250     1   335   \n",
       "\n",
       "   Has_Miscellaneous_Info  \n",
       "0                       1  \n",
       "1                       1  \n",
       "2                       0  \n",
       "3                       1  \n",
       "4                       1  "
      ]
     },
     "execution_count": 39,
     "metadata": {},
     "output_type": "execute_result"
    }
   ],
   "source": [
    "df_train.head()   #Checking the dataset after conversion"
   ]
  },
  {
   "cell_type": "code",
   "execution_count": 40,
   "metadata": {},
   "outputs": [],
   "source": [
    "#Dropping Has_Miscellaneous_Info column as it is not of much importance\n",
    "df_train.drop(columns='Has_Miscellaneous_Info',axis=1,inplace=True)"
   ]
  },
  {
   "cell_type": "markdown",
   "metadata": {},
   "source": [
    "Now all the columns are having numeric data and we can proceed further with analysis"
   ]
  },
  {
   "cell_type": "markdown",
   "metadata": {},
   "source": [
    "# Multivariate Analysis"
   ]
  },
  {
   "cell_type": "code",
   "execution_count": 41,
   "metadata": {},
   "outputs": [
    {
     "data": {
      "text/html": [
       "<div>\n",
       "<style scoped>\n",
       "    .dataframe tbody tr th:only-of-type {\n",
       "        vertical-align: middle;\n",
       "    }\n",
       "\n",
       "    .dataframe tbody tr th {\n",
       "        vertical-align: top;\n",
       "    }\n",
       "\n",
       "    .dataframe thead th {\n",
       "        text-align: right;\n",
       "    }\n",
       "</style>\n",
       "<table border=\"1\" class=\"dataframe\">\n",
       "  <thead>\n",
       "    <tr style=\"text-align: right;\">\n",
       "      <th></th>\n",
       "      <th>Qualification</th>\n",
       "      <th>Experience</th>\n",
       "      <th>Rating</th>\n",
       "      <th>Profile</th>\n",
       "      <th>Fees</th>\n",
       "      <th>City</th>\n",
       "      <th>Area</th>\n",
       "    </tr>\n",
       "  </thead>\n",
       "  <tbody>\n",
       "    <tr>\n",
       "      <th>count</th>\n",
       "      <td>5961.000000</td>\n",
       "      <td>5961.000000</td>\n",
       "      <td>5961.000000</td>\n",
       "      <td>5961.000000</td>\n",
       "      <td>5961.000000</td>\n",
       "      <td>5961.000000</td>\n",
       "      <td>5961.000000</td>\n",
       "    </tr>\n",
       "    <tr>\n",
       "      <th>mean</th>\n",
       "      <td>596.857574</td>\n",
       "      <td>17.303976</td>\n",
       "      <td>97.610636</td>\n",
       "      <td>2.441872</td>\n",
       "      <td>307.944640</td>\n",
       "      <td>3.061231</td>\n",
       "      <td>410.120282</td>\n",
       "    </tr>\n",
       "    <tr>\n",
       "      <th>std</th>\n",
       "      <td>413.842446</td>\n",
       "      <td>11.142798</td>\n",
       "      <td>5.881539</td>\n",
       "      <td>1.658014</td>\n",
       "      <td>190.920373</td>\n",
       "      <td>2.328070</td>\n",
       "      <td>255.174855</td>\n",
       "    </tr>\n",
       "    <tr>\n",
       "      <th>min</th>\n",
       "      <td>0.000000</td>\n",
       "      <td>0.000000</td>\n",
       "      <td>7.000000</td>\n",
       "      <td>0.000000</td>\n",
       "      <td>5.000000</td>\n",
       "      <td>0.000000</td>\n",
       "      <td>0.000000</td>\n",
       "    </tr>\n",
       "    <tr>\n",
       "      <th>25%</th>\n",
       "      <td>219.000000</td>\n",
       "      <td>9.000000</td>\n",
       "      <td>98.000000</td>\n",
       "      <td>1.000000</td>\n",
       "      <td>150.000000</td>\n",
       "      <td>1.000000</td>\n",
       "      <td>195.000000</td>\n",
       "    </tr>\n",
       "    <tr>\n",
       "      <th>50%</th>\n",
       "      <td>596.000000</td>\n",
       "      <td>14.000000</td>\n",
       "      <td>100.000000</td>\n",
       "      <td>2.000000</td>\n",
       "      <td>300.000000</td>\n",
       "      <td>3.000000</td>\n",
       "      <td>404.000000</td>\n",
       "    </tr>\n",
       "    <tr>\n",
       "      <th>75%</th>\n",
       "      <td>943.000000</td>\n",
       "      <td>23.000000</td>\n",
       "      <td>100.000000</td>\n",
       "      <td>4.000000</td>\n",
       "      <td>500.000000</td>\n",
       "      <td>5.000000</td>\n",
       "      <td>622.000000</td>\n",
       "    </tr>\n",
       "    <tr>\n",
       "      <th>max</th>\n",
       "      <td>1419.000000</td>\n",
       "      <td>66.000000</td>\n",
       "      <td>100.000000</td>\n",
       "      <td>5.000000</td>\n",
       "      <td>950.000000</td>\n",
       "      <td>9.000000</td>\n",
       "      <td>865.000000</td>\n",
       "    </tr>\n",
       "  </tbody>\n",
       "</table>\n",
       "</div>"
      ],
      "text/plain": [
       "       Qualification   Experience       Rating      Profile         Fees  \\\n",
       "count    5961.000000  5961.000000  5961.000000  5961.000000  5961.000000   \n",
       "mean      596.857574    17.303976    97.610636     2.441872   307.944640   \n",
       "std       413.842446    11.142798     5.881539     1.658014   190.920373   \n",
       "min         0.000000     0.000000     7.000000     0.000000     5.000000   \n",
       "25%       219.000000     9.000000    98.000000     1.000000   150.000000   \n",
       "50%       596.000000    14.000000   100.000000     2.000000   300.000000   \n",
       "75%       943.000000    23.000000   100.000000     4.000000   500.000000   \n",
       "max      1419.000000    66.000000   100.000000     5.000000   950.000000   \n",
       "\n",
       "              City         Area  \n",
       "count  5961.000000  5961.000000  \n",
       "mean      3.061231   410.120282  \n",
       "std       2.328070   255.174855  \n",
       "min       0.000000     0.000000  \n",
       "25%       1.000000   195.000000  \n",
       "50%       3.000000   404.000000  \n",
       "75%       5.000000   622.000000  \n",
       "max       9.000000   865.000000  "
      ]
     },
     "execution_count": 41,
     "metadata": {},
     "output_type": "execute_result"
    }
   ],
   "source": [
    "df_train.describe()    #Statistical summary of the dataset"
   ]
  },
  {
   "cell_type": "markdown",
   "metadata": {},
   "source": [
    "Observations:\n",
    "\n",
    "1.There is not much difference between the mean and the median\n",
    "\n",
    "2.The minimum value is 0 for all columns except Rating.\n",
    "\n",
    "3.The 75th percentile and max value difference for Qualification and Fees columns are high and it is due to the presence of       outliers."
   ]
  },
  {
   "cell_type": "code",
   "execution_count": 42,
   "metadata": {},
   "outputs": [
    {
     "data": {
      "text/html": [
       "<div>\n",
       "<style scoped>\n",
       "    .dataframe tbody tr th:only-of-type {\n",
       "        vertical-align: middle;\n",
       "    }\n",
       "\n",
       "    .dataframe tbody tr th {\n",
       "        vertical-align: top;\n",
       "    }\n",
       "\n",
       "    .dataframe thead th {\n",
       "        text-align: right;\n",
       "    }\n",
       "</style>\n",
       "<table border=\"1\" class=\"dataframe\">\n",
       "  <thead>\n",
       "    <tr style=\"text-align: right;\">\n",
       "      <th></th>\n",
       "      <th>Qualification</th>\n",
       "      <th>Experience</th>\n",
       "      <th>Rating</th>\n",
       "      <th>Profile</th>\n",
       "      <th>Fees</th>\n",
       "      <th>City</th>\n",
       "      <th>Area</th>\n",
       "    </tr>\n",
       "  </thead>\n",
       "  <tbody>\n",
       "    <tr>\n",
       "      <th>Qualification</th>\n",
       "      <td>1.000000</td>\n",
       "      <td>0.134697</td>\n",
       "      <td>-0.163692</td>\n",
       "      <td>0.393123</td>\n",
       "      <td>0.263214</td>\n",
       "      <td>-0.030607</td>\n",
       "      <td>0.006612</td>\n",
       "    </tr>\n",
       "    <tr>\n",
       "      <th>Experience</th>\n",
       "      <td>0.134697</td>\n",
       "      <td>1.000000</td>\n",
       "      <td>-0.149594</td>\n",
       "      <td>0.202073</td>\n",
       "      <td>0.002117</td>\n",
       "      <td>0.037863</td>\n",
       "      <td>0.015970</td>\n",
       "    </tr>\n",
       "    <tr>\n",
       "      <th>Rating</th>\n",
       "      <td>-0.163692</td>\n",
       "      <td>-0.149594</td>\n",
       "      <td>1.000000</td>\n",
       "      <td>-0.047013</td>\n",
       "      <td>-0.154713</td>\n",
       "      <td>0.065975</td>\n",
       "      <td>0.031431</td>\n",
       "    </tr>\n",
       "    <tr>\n",
       "      <th>Profile</th>\n",
       "      <td>0.393123</td>\n",
       "      <td>0.202073</td>\n",
       "      <td>-0.047013</td>\n",
       "      <td>1.000000</td>\n",
       "      <td>0.145226</td>\n",
       "      <td>-0.013748</td>\n",
       "      <td>0.019533</td>\n",
       "    </tr>\n",
       "    <tr>\n",
       "      <th>Fees</th>\n",
       "      <td>0.263214</td>\n",
       "      <td>0.002117</td>\n",
       "      <td>-0.154713</td>\n",
       "      <td>0.145226</td>\n",
       "      <td>1.000000</td>\n",
       "      <td>-0.024793</td>\n",
       "      <td>-0.052750</td>\n",
       "    </tr>\n",
       "    <tr>\n",
       "      <th>City</th>\n",
       "      <td>-0.030607</td>\n",
       "      <td>0.037863</td>\n",
       "      <td>0.065975</td>\n",
       "      <td>-0.013748</td>\n",
       "      <td>-0.024793</td>\n",
       "      <td>1.000000</td>\n",
       "      <td>-0.081273</td>\n",
       "    </tr>\n",
       "    <tr>\n",
       "      <th>Area</th>\n",
       "      <td>0.006612</td>\n",
       "      <td>0.015970</td>\n",
       "      <td>0.031431</td>\n",
       "      <td>0.019533</td>\n",
       "      <td>-0.052750</td>\n",
       "      <td>-0.081273</td>\n",
       "      <td>1.000000</td>\n",
       "    </tr>\n",
       "  </tbody>\n",
       "</table>\n",
       "</div>"
      ],
      "text/plain": [
       "               Qualification  Experience    Rating   Profile      Fees  \\\n",
       "Qualification       1.000000    0.134697 -0.163692  0.393123  0.263214   \n",
       "Experience          0.134697    1.000000 -0.149594  0.202073  0.002117   \n",
       "Rating             -0.163692   -0.149594  1.000000 -0.047013 -0.154713   \n",
       "Profile             0.393123    0.202073 -0.047013  1.000000  0.145226   \n",
       "Fees                0.263214    0.002117 -0.154713  0.145226  1.000000   \n",
       "City               -0.030607    0.037863  0.065975 -0.013748 -0.024793   \n",
       "Area                0.006612    0.015970  0.031431  0.019533 -0.052750   \n",
       "\n",
       "                   City      Area  \n",
       "Qualification -0.030607  0.006612  \n",
       "Experience     0.037863  0.015970  \n",
       "Rating         0.065975  0.031431  \n",
       "Profile       -0.013748  0.019533  \n",
       "Fees          -0.024793 -0.052750  \n",
       "City           1.000000 -0.081273  \n",
       "Area          -0.081273  1.000000  "
      ]
     },
     "execution_count": 42,
     "metadata": {},
     "output_type": "execute_result"
    }
   ],
   "source": [
    "#Checking correlation of the dataset\n",
    "corr=df_train.corr()  #corr() function provides the correlation value of each column\n",
    "corr"
   ]
  },
  {
   "cell_type": "code",
   "execution_count": 43,
   "metadata": {},
   "outputs": [
    {
     "data": {
      "image/png": "[encoded data removed]",
      "text/plain": [
       "<Figure size 720x576 with 2 Axes>"
      ]
     },
     "metadata": {
      "needs_background": "light"
     },
     "output_type": "display_data"
    }
   ],
   "source": [
    "#Plotting heatmap for visualizing the correlation\n",
    "plt.figure(figsize=(10,8))\n",
    "sns.heatmap(corr,linewidth=0.5,linecolor='black',fmt='.0%',cmap='rainbow',annot=True)\n",
    "plt.show()"
   ]
  },
  {
   "cell_type": "markdown",
   "metadata": {},
   "source": [
    "Observations:\n",
    "\n",
    "1.There are more postive correlations present in the dataset\n",
    "\n",
    "2.Highest positive correlated column is Profile with Qualification and has a value of 39%.\n",
    "\n",
    "3.Highest negatively correlated column is Qualification with Rating and it has a value of -16%\n",
    "\n",
    "4.Positively correlated columns have a high impact with the target variable whereas negatively correlated columns have less or     zero impact with the target variable."
   ]
  },
  {
   "cell_type": "markdown",
   "metadata": {},
   "source": [
    "# Checking skewness"
   ]
  },
  {
   "cell_type": "code",
   "execution_count": 44,
   "metadata": {},
   "outputs": [
    {
     "data": {
      "text/plain": [
       "Qualification    0.239720\n",
       "Experience       0.991089\n",
       "Rating          -4.701646\n",
       "Profile          0.108803\n",
       "Fees             0.751870\n",
       "City             0.054003\n",
       "Area             0.121186\n",
       "dtype: float64"
      ]
     },
     "execution_count": 44,
     "metadata": {},
     "output_type": "execute_result"
    }
   ],
   "source": [
    "df_train.skew()"
   ]
  },
  {
   "cell_type": "markdown",
   "metadata": {},
   "source": [
    "Experience, Rating and Fees column have skewness and it can be due to the presence of outliers"
   ]
  },
  {
   "cell_type": "code",
   "execution_count": 45,
   "metadata": {
    "scrolled": false
   },
   "outputs": [
    {
     "data": {
      "image/png": "[encoded data removed]",
      "text/plain": [
       "<Figure size 432x288 with 1 Axes>"
      ]
     },
     "metadata": {
      "needs_background": "light"
     },
     "output_type": "display_data"
    },
    {
     "data": {
      "image/png": "[encoded data removed]",
      "text/plain": [
       "<Figure size 432x288 with 1 Axes>"
      ]
     },
     "metadata": {
      "needs_background": "light"
     },
     "output_type": "display_data"
    },
    {
     "data": {
      "image/png": "[encoded data removed]",
      "text/plain": [
       "<Figure size 432x288 with 1 Axes>"
      ]
     },
     "metadata": {
      "needs_background": "light"
     },
     "output_type": "display_data"
    },
    {
     "data": {
      "image/png": "[encoded data removed]",
      "text/plain": [
       "<Figure size 432x288 with 1 Axes>"
      ]
     },
     "metadata": {
      "needs_background": "light"
     },
     "output_type": "display_data"
    },
    {
     "data": {
      "image/png": "[encoded data removed]",
      "text/plain": [
       "<Figure size 432x288 with 1 Axes>"
      ]
     },
     "metadata": {
      "needs_background": "light"
     },
     "output_type": "display_data"
    },
    {
     "data": {
      "image/png": "[encoded data removed]",
      "text/plain": [
       "<Figure size 432x288 with 1 Axes>"
      ]
     },
     "metadata": {
      "needs_background": "light"
     },
     "output_type": "display_data"
    },
    {
     "data": {
      "image/png": "[encoded data removed]",
      "text/plain": [
       "<Figure size 432x288 with 1 Axes>"
      ]
     },
     "metadata": {
      "needs_background": "light"
     },
     "output_type": "display_data"
    }
   ],
   "source": [
    "#Plotting distplot for checking the distribution of skewness\n",
    "for col in df_train.describe().columns:\n",
    "    sns.distplot(df_train[col])\n",
    "    plt.show()"
   ]
  },
  {
   "cell_type": "markdown",
   "metadata": {},
   "source": [
    "All the features data are not normally distributed and it is due to the presence of outliers"
   ]
  },
  {
   "cell_type": "markdown",
   "metadata": {},
   "source": [
    "# Checking outliers"
   ]
  },
  {
   "cell_type": "markdown",
   "metadata": {},
   "source": [
    "We can check outliers by plotting boxplot"
   ]
  },
  {
   "cell_type": "code",
   "execution_count": 46,
   "metadata": {},
   "outputs": [],
   "source": [
    "collist=df_train.columns.values \n",
    "ncol=10\n",
    "nrows=10"
   ]
  },
  {
   "cell_type": "code",
   "execution_count": 47,
   "metadata": {},
   "outputs": [
    {
     "data": {
      "image/png": "[encoded data removed]",
      "text/plain": [
       "<Figure size 720x3600 with 6 Axes>"
      ]
     },
     "metadata": {
      "needs_background": "light"
     },
     "output_type": "display_data"
    }
   ],
   "source": [
    "#Lets visualize outliers through boxplots\n",
    "plt.figure(figsize=(ncol,5*ncol))\n",
    "for i in range (1,len(collist)):\n",
    "    plt.subplot(nrows,ncol,i+1)\n",
    "    sns.boxplot(df_train[collist[i]],color='green',orient='v')\n",
    "    plt.tight_layout()"
   ]
  },
  {
   "cell_type": "markdown",
   "metadata": {},
   "source": [
    "As there are outliers present in this dataset, we can handle them by using z-score"
   ]
  },
  {
   "cell_type": "markdown",
   "metadata": {},
   "source": [
    "# Handling outliers by using z-score method"
   ]
  },
  {
   "cell_type": "code",
   "execution_count": 48,
   "metadata": {},
   "outputs": [
    {
     "data": {
      "text/plain": [
       "(array([  18,   55,   67,  105,  110,  140,  178,  183,  209,  275,  293,\n",
       "         309,  325,  333,  372,  377,  458,  465,  585,  590,  632,  692,\n",
       "         731,  787,  788,  810,  815,  851,  901,  911,  918,  968,  979,\n",
       "         987,  990,  998, 1009, 1016, 1018, 1111, 1170, 1240, 1303, 1314,\n",
       "        1392, 1425, 1433, 1437, 1444, 1475, 1592, 1594, 1614, 1631, 1635,\n",
       "        1648, 1717, 1741, 1743, 1747, 1778, 1796, 1852, 1860, 1877, 1937,\n",
       "        1981, 2023, 2062, 2089, 2161, 2165, 2202, 2252, 2262, 2277, 2281,\n",
       "        2309, 2323, 2391, 2393, 2428, 2478, 2500, 2522, 2548, 2585, 2623,\n",
       "        2631, 2646, 2670, 2708, 2715, 2726, 2738, 2758, 2829, 2833, 2962,\n",
       "        2991, 3093, 3120, 3126, 3144, 3180, 3222, 3254, 3270, 3295, 3333,\n",
       "        3365, 3367, 3463, 3478, 3493, 3526, 3537, 3593, 3604, 3608, 3615,\n",
       "        3627, 3661, 3676, 3690, 3766, 3783, 3820, 3861, 3942, 3960, 4040,\n",
       "        4052, 4055, 4058, 4135, 4167, 4174, 4212, 4212, 4219, 4257, 4344,\n",
       "        4459, 4474, 4478, 4509, 4581, 4608, 4609, 4612, 4730, 4763, 4775,\n",
       "        4808, 4825, 4835, 4843, 4851, 4880, 4971, 5028, 5127, 5195, 5244,\n",
       "        5249, 5250, 5262, 5265, 5277, 5298, 5311, 5316, 5351, 5410, 5422,\n",
       "        5422, 5461, 5502, 5523, 5531, 5587, 5612, 5615, 5636, 5637, 5647,\n",
       "        5663, 5664, 5720, 5807, 5840, 5862, 5892, 5929, 5942], dtype=int64),\n",
       " array([2, 2, 2, 1, 1, 2, 2, 1, 2, 4, 4, 2, 1, 2, 1, 2, 2, 2, 2, 2, 2, 2,\n",
       "        2, 2, 2, 2, 2, 2, 1, 2, 2, 2, 2, 4, 2, 2, 1, 2, 2, 1, 2, 2, 2, 4,\n",
       "        2, 2, 2, 2, 2, 2, 2, 2, 2, 4, 2, 2, 2, 2, 2, 2, 2, 2, 2, 1, 2, 2,\n",
       "        1, 1, 1, 2, 2, 4, 1, 4, 1, 2, 1, 2, 2, 2, 4, 4, 2, 2, 4, 2, 2, 4,\n",
       "        1, 2, 2, 4, 2, 2, 2, 2, 2, 2, 2, 2, 2, 2, 2, 2, 1, 2, 2, 2, 2, 2,\n",
       "        4, 2, 2, 1, 1, 2, 2, 2, 2, 1, 2, 2, 2, 2, 2, 2, 2, 2, 2, 1, 1, 4,\n",
       "        2, 2, 2, 2, 1, 2, 1, 2, 2, 1, 1, 2, 2, 2, 2, 4, 2, 2, 2, 4, 1, 1,\n",
       "        2, 2, 4, 2, 2, 2, 2, 2, 2, 4, 2, 2, 4, 2, 1, 1, 2, 4, 2, 2, 1, 1,\n",
       "        2, 2, 2, 2, 2, 1, 2, 2, 2, 1, 2, 2, 1, 1, 1, 2, 2, 2, 2, 1],\n",
       "       dtype=int64))"
      ]
     },
     "execution_count": 48,
     "metadata": {},
     "output_type": "execute_result"
    }
   ],
   "source": [
    "from scipy.stats import zscore\n",
    "import numpy as np\n",
    "z=np.abs(zscore(df_train))   #converting all values into absolute values\n",
    "threshold=3    #setting up a threshold\n",
    "np.where(z>3)"
   ]
  },
  {
   "cell_type": "code",
   "execution_count": 49,
   "metadata": {},
   "outputs": [
    {
     "data": {
      "text/html": [
       "<div>\n",
       "<style scoped>\n",
       "    .dataframe tbody tr th:only-of-type {\n",
       "        vertical-align: middle;\n",
       "    }\n",
       "\n",
       "    .dataframe tbody tr th {\n",
       "        vertical-align: top;\n",
       "    }\n",
       "\n",
       "    .dataframe thead th {\n",
       "        text-align: right;\n",
       "    }\n",
       "</style>\n",
       "<table border=\"1\" class=\"dataframe\">\n",
       "  <thead>\n",
       "    <tr style=\"text-align: right;\">\n",
       "      <th></th>\n",
       "      <th>Qualification</th>\n",
       "      <th>Experience</th>\n",
       "      <th>Rating</th>\n",
       "      <th>Profile</th>\n",
       "      <th>Fees</th>\n",
       "      <th>City</th>\n",
       "      <th>Area</th>\n",
       "    </tr>\n",
       "  </thead>\n",
       "  <tbody>\n",
       "    <tr>\n",
       "      <th>0</th>\n",
       "      <td>401</td>\n",
       "      <td>24</td>\n",
       "      <td>100</td>\n",
       "      <td>5</td>\n",
       "      <td>100</td>\n",
       "      <td>4</td>\n",
       "      <td>296</td>\n",
       "    </tr>\n",
       "    <tr>\n",
       "      <th>1</th>\n",
       "      <td>73</td>\n",
       "      <td>12</td>\n",
       "      <td>98</td>\n",
       "      <td>0</td>\n",
       "      <td>350</td>\n",
       "      <td>0</td>\n",
       "      <td>855</td>\n",
       "    </tr>\n",
       "    <tr>\n",
       "      <th>2</th>\n",
       "      <td>1135</td>\n",
       "      <td>9</td>\n",
       "      <td>100</td>\n",
       "      <td>3</td>\n",
       "      <td>300</td>\n",
       "      <td>0</td>\n",
       "      <td>452</td>\n",
       "    </tr>\n",
       "    <tr>\n",
       "      <th>3</th>\n",
       "      <td>464</td>\n",
       "      <td>12</td>\n",
       "      <td>100</td>\n",
       "      <td>0</td>\n",
       "      <td>250</td>\n",
       "      <td>0</td>\n",
       "      <td>68</td>\n",
       "    </tr>\n",
       "    <tr>\n",
       "      <th>4</th>\n",
       "      <td>10</td>\n",
       "      <td>20</td>\n",
       "      <td>100</td>\n",
       "      <td>0</td>\n",
       "      <td>250</td>\n",
       "      <td>1</td>\n",
       "      <td>335</td>\n",
       "    </tr>\n",
       "    <tr>\n",
       "      <th>...</th>\n",
       "      <td>...</td>\n",
       "      <td>...</td>\n",
       "      <td>...</td>\n",
       "      <td>...</td>\n",
       "      <td>...</td>\n",
       "      <td>...</td>\n",
       "      <td>...</td>\n",
       "    </tr>\n",
       "    <tr>\n",
       "      <th>5956</th>\n",
       "      <td>1075</td>\n",
       "      <td>19</td>\n",
       "      <td>98</td>\n",
       "      <td>3</td>\n",
       "      <td>300</td>\n",
       "      <td>0</td>\n",
       "      <td>70</td>\n",
       "    </tr>\n",
       "    <tr>\n",
       "      <th>5957</th>\n",
       "      <td>596</td>\n",
       "      <td>33</td>\n",
       "      <td>100</td>\n",
       "      <td>4</td>\n",
       "      <td>100</td>\n",
       "      <td>1</td>\n",
       "      <td>535</td>\n",
       "    </tr>\n",
       "    <tr>\n",
       "      <th>5958</th>\n",
       "      <td>596</td>\n",
       "      <td>41</td>\n",
       "      <td>97</td>\n",
       "      <td>4</td>\n",
       "      <td>600</td>\n",
       "      <td>3</td>\n",
       "      <td>215</td>\n",
       "    </tr>\n",
       "    <tr>\n",
       "      <th>5959</th>\n",
       "      <td>943</td>\n",
       "      <td>15</td>\n",
       "      <td>90</td>\n",
       "      <td>4</td>\n",
       "      <td>100</td>\n",
       "      <td>6</td>\n",
       "      <td>840</td>\n",
       "    </tr>\n",
       "    <tr>\n",
       "      <th>5960</th>\n",
       "      <td>243</td>\n",
       "      <td>17</td>\n",
       "      <td>100</td>\n",
       "      <td>1</td>\n",
       "      <td>200</td>\n",
       "      <td>3</td>\n",
       "      <td>597</td>\n",
       "    </tr>\n",
       "  </tbody>\n",
       "</table>\n",
       "<p>5767 rows × 7 columns</p>\n",
       "</div>"
      ],
      "text/plain": [
       "      Qualification  Experience  Rating  Profile  Fees  City  Area\n",
       "0               401          24     100        5   100     4   296\n",
       "1                73          12      98        0   350     0   855\n",
       "2              1135           9     100        3   300     0   452\n",
       "3               464          12     100        0   250     0    68\n",
       "4                10          20     100        0   250     1   335\n",
       "...             ...         ...     ...      ...   ...   ...   ...\n",
       "5956           1075          19      98        3   300     0    70\n",
       "5957            596          33     100        4   100     1   535\n",
       "5958            596          41      97        4   600     3   215\n",
       "5959            943          15      90        4   100     6   840\n",
       "5960            243          17     100        1   200     3   597\n",
       "\n",
       "[5767 rows x 7 columns]"
      ]
     },
     "execution_count": 49,
     "metadata": {},
     "output_type": "execute_result"
    }
   ],
   "source": [
    "#Removing outliers\n",
    "df_newtrain=df_train[(z<3).all(axis=1)]\n",
    "df_newtrain"
   ]
  },
  {
   "cell_type": "code",
   "execution_count": 50,
   "metadata": {},
   "outputs": [
    {
     "data": {
      "text/plain": [
       "(5961, 7)"
      ]
     },
     "execution_count": 50,
     "metadata": {},
     "output_type": "execute_result"
    }
   ],
   "source": [
    "df_train.shape   #Original dataset dimensions"
   ]
  },
  {
   "cell_type": "code",
   "execution_count": 51,
   "metadata": {},
   "outputs": [
    {
     "data": {
      "text/plain": [
       "(5767, 7)"
      ]
     },
     "execution_count": 51,
     "metadata": {},
     "output_type": "execute_result"
    }
   ],
   "source": [
    "df_newtrain.shape    #New dataset dimensions"
   ]
  },
  {
   "cell_type": "markdown",
   "metadata": {},
   "source": [
    "Nearly 150+ rows had outliers and they have been removed by using z-score method"
   ]
  },
  {
   "cell_type": "markdown",
   "metadata": {},
   "source": [
    "# Percentage loss of data after removing outliers"
   ]
  },
  {
   "cell_type": "code",
   "execution_count": 52,
   "metadata": {},
   "outputs": [
    {
     "name": "stdout",
     "output_type": "stream",
     "text": [
      "3.2544875020969637\n"
     ]
    }
   ],
   "source": [
    "percentage_loss=((194)/5961)*100   #194 = 5961-5767\n",
    "print(percentage_loss)"
   ]
  },
  {
   "cell_type": "markdown",
   "metadata": {},
   "source": [
    "Only 3.2% of the data has been lost and it is not a big loss"
   ]
  },
  {
   "cell_type": "markdown",
   "metadata": {},
   "source": [
    "# Preparing dataset for model training"
   ]
  },
  {
   "cell_type": "markdown",
   "metadata": {},
   "source": [
    "We need to split independent and dependent variables from the dataset in order to perform further analysis"
   ]
  },
  {
   "cell_type": "code",
   "execution_count": 53,
   "metadata": {},
   "outputs": [],
   "source": [
    "df_x=df_newtrain.drop('Fees',axis=1)   #Independent variables\n",
    "y=df_newtrain['Fees']    #Dependent or Target Variable"
   ]
  },
  {
   "cell_type": "code",
   "execution_count": 54,
   "metadata": {},
   "outputs": [
    {
     "data": {
      "text/html": [
       "<div>\n",
       "<style scoped>\n",
       "    .dataframe tbody tr th:only-of-type {\n",
       "        vertical-align: middle;\n",
       "    }\n",
       "\n",
       "    .dataframe tbody tr th {\n",
       "        vertical-align: top;\n",
       "    }\n",
       "\n",
       "    .dataframe thead th {\n",
       "        text-align: right;\n",
       "    }\n",
       "</style>\n",
       "<table border=\"1\" class=\"dataframe\">\n",
       "  <thead>\n",
       "    <tr style=\"text-align: right;\">\n",
       "      <th></th>\n",
       "      <th>Qualification</th>\n",
       "      <th>Experience</th>\n",
       "      <th>Rating</th>\n",
       "      <th>Profile</th>\n",
       "      <th>City</th>\n",
       "      <th>Area</th>\n",
       "    </tr>\n",
       "  </thead>\n",
       "  <tbody>\n",
       "    <tr>\n",
       "      <th>0</th>\n",
       "      <td>401</td>\n",
       "      <td>24</td>\n",
       "      <td>100</td>\n",
       "      <td>5</td>\n",
       "      <td>4</td>\n",
       "      <td>296</td>\n",
       "    </tr>\n",
       "    <tr>\n",
       "      <th>1</th>\n",
       "      <td>73</td>\n",
       "      <td>12</td>\n",
       "      <td>98</td>\n",
       "      <td>0</td>\n",
       "      <td>0</td>\n",
       "      <td>855</td>\n",
       "    </tr>\n",
       "    <tr>\n",
       "      <th>2</th>\n",
       "      <td>1135</td>\n",
       "      <td>9</td>\n",
       "      <td>100</td>\n",
       "      <td>3</td>\n",
       "      <td>0</td>\n",
       "      <td>452</td>\n",
       "    </tr>\n",
       "    <tr>\n",
       "      <th>3</th>\n",
       "      <td>464</td>\n",
       "      <td>12</td>\n",
       "      <td>100</td>\n",
       "      <td>0</td>\n",
       "      <td>0</td>\n",
       "      <td>68</td>\n",
       "    </tr>\n",
       "    <tr>\n",
       "      <th>4</th>\n",
       "      <td>10</td>\n",
       "      <td>20</td>\n",
       "      <td>100</td>\n",
       "      <td>0</td>\n",
       "      <td>1</td>\n",
       "      <td>335</td>\n",
       "    </tr>\n",
       "  </tbody>\n",
       "</table>\n",
       "</div>"
      ],
      "text/plain": [
       "   Qualification  Experience  Rating  Profile  City  Area\n",
       "0            401          24     100        5     4   296\n",
       "1             73          12      98        0     0   855\n",
       "2           1135           9     100        3     0   452\n",
       "3            464          12     100        0     0    68\n",
       "4             10          20     100        0     1   335"
      ]
     },
     "execution_count": 54,
     "metadata": {},
     "output_type": "execute_result"
    }
   ],
   "source": [
    "#Checking x data\n",
    "df_x.head()"
   ]
  },
  {
   "cell_type": "code",
   "execution_count": 55,
   "metadata": {},
   "outputs": [
    {
     "data": {
      "text/plain": [
       "0    100\n",
       "1    350\n",
       "2    300\n",
       "3    250\n",
       "4    250\n",
       "Name: Fees, dtype: int64"
      ]
     },
     "execution_count": 55,
     "metadata": {},
     "output_type": "execute_result"
    }
   ],
   "source": [
    "#Checking y data after splitting\n",
    "y.head()"
   ]
  },
  {
   "cell_type": "markdown",
   "metadata": {},
   "source": [
    "# Treating skewness"
   ]
  },
  {
   "cell_type": "code",
   "execution_count": 56,
   "metadata": {},
   "outputs": [],
   "source": [
    "#We are treating skewness by using square root transform\n",
    "for col in df_x.skew().index:\n",
    "    if col in df_x.describe().columns:\n",
    "        if df_x[col].skew()>0.55:\n",
    "            df_x[col]=np.sqrt(df_x[col])\n",
    "        if df_x[col].skew()<-0.55:\n",
    "            df_x[col]=np.cbrt(df_x[col])"
   ]
  },
  {
   "cell_type": "code",
   "execution_count": 57,
   "metadata": {},
   "outputs": [
    {
     "data": {
      "text/plain": [
       "Qualification    0.278898\n",
       "Experience       0.033997\n",
       "Rating          -2.794696\n",
       "Profile          0.138511\n",
       "City             0.052546\n",
       "Area             0.118220\n",
       "dtype: float64"
      ]
     },
     "execution_count": 57,
     "metadata": {},
     "output_type": "execute_result"
    }
   ],
   "source": [
    "df_x.skew()   #Checking skewness after treating it"
   ]
  },
  {
   "cell_type": "markdown",
   "metadata": {},
   "source": [
    "We can see that skewness has been treated and we can proceed further analysis"
   ]
  },
  {
   "cell_type": "markdown",
   "metadata": {},
   "source": [
    "# Scaling the data"
   ]
  },
  {
   "cell_type": "markdown",
   "metadata": {},
   "source": [
    "Sometimes model can be biased to higher values in dataset, so it is better to scale the dataset so that we can bring all the columns in common range. We can use StandardScaler here."
   ]
  },
  {
   "cell_type": "code",
   "execution_count": 58,
   "metadata": {},
   "outputs": [
    {
     "data": {
      "text/html": [
       "<div>\n",
       "<style scoped>\n",
       "    .dataframe tbody tr th:only-of-type {\n",
       "        vertical-align: middle;\n",
       "    }\n",
       "\n",
       "    .dataframe tbody tr th {\n",
       "        vertical-align: top;\n",
       "    }\n",
       "\n",
       "    .dataframe thead th {\n",
       "        text-align: right;\n",
       "    }\n",
       "</style>\n",
       "<table border=\"1\" class=\"dataframe\">\n",
       "  <thead>\n",
       "    <tr style=\"text-align: right;\">\n",
       "      <th></th>\n",
       "      <th>Qualification</th>\n",
       "      <th>Experience</th>\n",
       "      <th>Rating</th>\n",
       "      <th>Profile</th>\n",
       "      <th>City</th>\n",
       "      <th>Area</th>\n",
       "    </tr>\n",
       "  </thead>\n",
       "  <tbody>\n",
       "    <tr>\n",
       "      <th>0</th>\n",
       "      <td>-0.451294</td>\n",
       "      <td>0.763439</td>\n",
       "      <td>0.478622</td>\n",
       "      <td>1.545935</td>\n",
       "      <td>0.399964</td>\n",
       "      <td>-0.448766</td>\n",
       "    </tr>\n",
       "    <tr>\n",
       "      <th>1</th>\n",
       "      <td>-1.241049</td>\n",
       "      <td>-0.318413</td>\n",
       "      <td>-0.066760</td>\n",
       "      <td>-1.448626</td>\n",
       "      <td>-1.316890</td>\n",
       "      <td>1.735829</td>\n",
       "    </tr>\n",
       "    <tr>\n",
       "      <th>2</th>\n",
       "      <td>1.316024</td>\n",
       "      <td>-0.668330</td>\n",
       "      <td>0.478622</td>\n",
       "      <td>0.348111</td>\n",
       "      <td>-1.316890</td>\n",
       "      <td>0.160888</td>\n",
       "    </tr>\n",
       "    <tr>\n",
       "      <th>3</th>\n",
       "      <td>-0.299603</td>\n",
       "      <td>-0.318413</td>\n",
       "      <td>0.478622</td>\n",
       "      <td>-1.448626</td>\n",
       "      <td>-1.316890</td>\n",
       "      <td>-1.339800</td>\n",
       "    </tr>\n",
       "    <tr>\n",
       "      <th>4</th>\n",
       "      <td>-1.392740</td>\n",
       "      <td>0.441612</td>\n",
       "      <td>0.478622</td>\n",
       "      <td>-1.448626</td>\n",
       "      <td>-0.887677</td>\n",
       "      <td>-0.296352</td>\n",
       "    </tr>\n",
       "    <tr>\n",
       "      <th>...</th>\n",
       "      <td>...</td>\n",
       "      <td>...</td>\n",
       "      <td>...</td>\n",
       "      <td>...</td>\n",
       "      <td>...</td>\n",
       "      <td>...</td>\n",
       "    </tr>\n",
       "    <tr>\n",
       "      <th>5762</th>\n",
       "      <td>1.171557</td>\n",
       "      <td>0.356235</td>\n",
       "      <td>-0.066760</td>\n",
       "      <td>0.348111</td>\n",
       "      <td>-1.316890</td>\n",
       "      <td>-1.331983</td>\n",
       "    </tr>\n",
       "    <tr>\n",
       "      <th>5763</th>\n",
       "      <td>0.018225</td>\n",
       "      <td>1.400981</td>\n",
       "      <td>0.478622</td>\n",
       "      <td>0.947023</td>\n",
       "      <td>-0.887677</td>\n",
       "      <td>0.485256</td>\n",
       "    </tr>\n",
       "    <tr>\n",
       "      <th>5764</th>\n",
       "      <td>0.018225</td>\n",
       "      <td>1.897515</td>\n",
       "      <td>-0.342237</td>\n",
       "      <td>0.947023</td>\n",
       "      <td>-0.029249</td>\n",
       "      <td>-0.765317</td>\n",
       "    </tr>\n",
       "    <tr>\n",
       "      <th>5765</th>\n",
       "      <td>0.853728</td>\n",
       "      <td>-0.010129</td>\n",
       "      <td>-2.325691</td>\n",
       "      <td>0.947023</td>\n",
       "      <td>1.258392</td>\n",
       "      <td>1.677208</td>\n",
       "    </tr>\n",
       "    <tr>\n",
       "      <th>5766</th>\n",
       "      <td>-0.831725</td>\n",
       "      <td>0.178455</td>\n",
       "      <td>0.478622</td>\n",
       "      <td>-0.849714</td>\n",
       "      <td>-0.029249</td>\n",
       "      <td>0.727554</td>\n",
       "    </tr>\n",
       "  </tbody>\n",
       "</table>\n",
       "<p>5767 rows × 6 columns</p>\n",
       "</div>"
      ],
      "text/plain": [
       "      Qualification  Experience    Rating   Profile      City      Area\n",
       "0         -0.451294    0.763439  0.478622  1.545935  0.399964 -0.448766\n",
       "1         -1.241049   -0.318413 -0.066760 -1.448626 -1.316890  1.735829\n",
       "2          1.316024   -0.668330  0.478622  0.348111 -1.316890  0.160888\n",
       "3         -0.299603   -0.318413  0.478622 -1.448626 -1.316890 -1.339800\n",
       "4         -1.392740    0.441612  0.478622 -1.448626 -0.887677 -0.296352\n",
       "...             ...         ...       ...       ...       ...       ...\n",
       "5762       1.171557    0.356235 -0.066760  0.348111 -1.316890 -1.331983\n",
       "5763       0.018225    1.400981  0.478622  0.947023 -0.887677  0.485256\n",
       "5764       0.018225    1.897515 -0.342237  0.947023 -0.029249 -0.765317\n",
       "5765       0.853728   -0.010129 -2.325691  0.947023  1.258392  1.677208\n",
       "5766      -0.831725    0.178455  0.478622 -0.849714 -0.029249  0.727554\n",
       "\n",
       "[5767 rows x 6 columns]"
      ]
     },
     "execution_count": 58,
     "metadata": {},
     "output_type": "execute_result"
    }
   ],
   "source": [
    "#Scaling the dataset using StandardScaler\n",
    "from sklearn.preprocessing import StandardScaler\n",
    "sc=StandardScaler()\n",
    "x=sc.fit_transform(df_x)\n",
    "x=pd.DataFrame(x,columns=df_x.columns)\n",
    "x"
   ]
  },
  {
   "cell_type": "markdown",
   "metadata": {},
   "source": [
    "# Building the model"
   ]
  },
  {
   "cell_type": "code",
   "execution_count": 59,
   "metadata": {},
   "outputs": [],
   "source": [
    "#Importing required metrices and model for the dataset\n",
    "from sklearn.model_selection import train_test_split\n",
    "from sklearn.linear_model import LinearRegression\n",
    "from sklearn.metrics import r2_score"
   ]
  },
  {
   "cell_type": "code",
   "execution_count": 60,
   "metadata": {},
   "outputs": [],
   "source": [
    "#Checking the best random state for finalising the train and test data\n",
    "def max_r2_score(reg,x,y):\n",
    "    max_r2score=0\n",
    "    for r_state in range(42,1000):\n",
    "        x_train,x_test,y_train,y_test=train_test_split(x,y,random_state=r_state,test_size=0.20)\n",
    "        reg.fit(x_train,y_train)\n",
    "        pred=reg.predict(x_test)\n",
    "        r2score=r2_score(y_test,pred)\n",
    "        if r2score>max_r2score:\n",
    "            max_r2score=r2score\n",
    "            final_r_state=r_state\n",
    "    print(\"The maximum r2 score\", max_r2score, \"is achieved at random state\", final_r_state)"
   ]
  },
  {
   "cell_type": "code",
   "execution_count": 61,
   "metadata": {},
   "outputs": [
    {
     "name": "stdout",
     "output_type": "stream",
     "text": [
      "The maximum r2 score 0.12405739473609712 is achieved at random state 523\n"
     ]
    }
   ],
   "source": [
    "lr=LinearRegression()\n",
    "max_r2_score(lr,x,y)"
   ]
  },
  {
   "cell_type": "markdown",
   "metadata": {},
   "source": [
    "We can see that at random_state=523, we are getting the best scores so that we can create train_test_split with that"
   ]
  },
  {
   "cell_type": "code",
   "execution_count": 62,
   "metadata": {},
   "outputs": [],
   "source": [
    "#Creating train_test_split using best random_state\n",
    "x_train,x_test,y_train,y_test=train_test_split(x,y,random_state=523,test_size=.20)"
   ]
  },
  {
   "cell_type": "markdown",
   "metadata": {},
   "source": [
    "# Finding out the best model"
   ]
  },
  {
   "cell_type": "markdown",
   "metadata": {},
   "source": [
    "We are going to use LinearRegression, Lasso, ElasticNet, Ridge, SVR and KNeighborsRegressor algorithms for finding out the best model among those"
   ]
  },
  {
   "cell_type": "code",
   "execution_count": 63,
   "metadata": {},
   "outputs": [],
   "source": [
    "#Importing required metrices and model for the dataset\n",
    "from sklearn.linear_model import LinearRegression,Lasso,ElasticNet,Ridge\n",
    "from sklearn.svm import SVR\n",
    "from sklearn.neighbors import KNeighborsRegressor"
   ]
  },
  {
   "cell_type": "code",
   "execution_count": 64,
   "metadata": {},
   "outputs": [],
   "source": [
    "LR=LinearRegression()\n",
    "l=Lasso()\n",
    "en=ElasticNet()\n",
    "rd=Ridge()\n",
    "svr=SVR()\n",
    "knr=KNeighborsRegressor()"
   ]
  },
  {
   "cell_type": "code",
   "execution_count": 65,
   "metadata": {},
   "outputs": [],
   "source": [
    "models= []\n",
    "models.append(('Linear Regression',LR))\n",
    "models.append(('Lasso Regression',l))\n",
    "models.append(('Elastic Net Regression',en))\n",
    "models.append(('Ridge Regression',rd))\n",
    "models.append(('Support Vector Regressor',svr))\n",
    "models.append(('KNeighbors Regressor',knr))"
   ]
  },
  {
   "cell_type": "code",
   "execution_count": 66,
   "metadata": {},
   "outputs": [],
   "source": [
    "#Importing required metrics\n",
    "from sklearn.metrics import mean_absolute_error,mean_squared_error,r2_score\n",
    "from sklearn.model_selection import cross_val_score\n",
    "import numpy as np"
   ]
  },
  {
   "cell_type": "code",
   "execution_count": 67,
   "metadata": {
    "scrolled": false
   },
   "outputs": [
    {
     "name": "stdout",
     "output_type": "stream",
     "text": [
      "****************************** Linear Regression ***************************\n",
      "\n",
      "\n",
      "LinearRegression()\n",
      "\n",
      "\n",
      "r2_score:  0.12405739473609712\n",
      "\n",
      "\n",
      "cross_val_score:  0.08477100471913664\n",
      "\n",
      "\n",
      "Standard Deviation:  0.0049041536330231604\n",
      "\n",
      "\n",
      "Mean Absolute Error:  144.4948288917265\n",
      "\n",
      "\n",
      "Mean Squared Error:  31120.22890354259\n",
      "\n",
      "\n",
      "Root Mean Squared Error:  176.4092653562805\n",
      "\n",
      "\n",
      "\n",
      "****************************** Lasso Regression ***************************\n",
      "\n",
      "\n",
      "Lasso()\n",
      "\n",
      "\n",
      "r2_score:  0.12265743261157935\n",
      "\n",
      "\n",
      "cross_val_score:  0.0847329991346856\n",
      "\n",
      "\n",
      "Standard Deviation:  0.005064713604936576\n",
      "\n",
      "\n",
      "Mean Absolute Error:  144.77458376537794\n",
      "\n",
      "\n",
      "Mean Squared Error:  31169.966342399282\n",
      "\n",
      "\n",
      "Root Mean Squared Error:  176.55018080534293\n",
      "\n",
      "\n",
      "\n",
      "****************************** Elastic Net Regression ***************************\n",
      "\n",
      "\n",
      "ElasticNet()\n",
      "\n",
      "\n",
      "r2_score:  0.10404503584422298\n",
      "\n",
      "\n",
      "cross_val_score:  0.07782499415434951\n",
      "\n",
      "\n",
      "Standard Deviation:  0.004159426442065133\n",
      "\n",
      "\n",
      "Mean Absolute Error:  146.60083447423295\n",
      "\n",
      "\n",
      "Mean Squared Error:  31831.222050664757\n",
      "\n",
      "\n",
      "Root Mean Squared Error:  178.4130658070332\n",
      "\n",
      "\n",
      "\n",
      "****************************** Ridge Regression ***************************\n",
      "\n",
      "\n",
      "Ridge()\n",
      "\n",
      "\n",
      "r2_score:  0.12405026686804088\n",
      "\n",
      "\n",
      "cross_val_score:  0.08477170538452942\n",
      "\n",
      "\n",
      "Standard Deviation:  0.004903844212723576\n",
      "\n",
      "\n",
      "Mean Absolute Error:  144.4957666773043\n",
      "\n",
      "\n",
      "Mean Squared Error:  31120.48214032337\n",
      "\n",
      "\n",
      "Root Mean Squared Error:  176.4099831084493\n",
      "\n",
      "\n",
      "\n",
      "****************************** Support Vector Regressor ***************************\n",
      "\n",
      "\n",
      "SVR()\n",
      "\n",
      "\n",
      "r2_score:  0.0796815911514479\n",
      "\n",
      "\n",
      "cross_val_score:  0.04973225676759783\n",
      "\n",
      "\n",
      "Standard Deviation:  0.01810380400538337\n",
      "\n",
      "\n",
      "Mean Absolute Error:  140.70504997610573\n",
      "\n",
      "\n",
      "Mean Squared Error:  32696.799282736403\n",
      "\n",
      "\n",
      "Root Mean Squared Error:  180.82256298022213\n",
      "\n",
      "\n",
      "\n",
      "****************************** KNeighbors Regressor ***************************\n",
      "\n",
      "\n",
      "KNeighborsRegressor()\n",
      "\n",
      "\n",
      "r2_score:  0.08550840229344414\n",
      "\n",
      "\n",
      "cross_val_score:  0.03619610100057504\n",
      "\n",
      "\n",
      "Standard Deviation:  0.02430165706817126\n",
      "\n",
      "\n",
      "Mean Absolute Error:  140.30779896013865\n",
      "\n",
      "\n",
      "Mean Squared Error:  32489.786065857883\n",
      "\n",
      "\n",
      "Root Mean Squared Error:  180.2492331907625\n",
      "\n",
      "\n",
      "\n"
     ]
    }
   ],
   "source": [
    "#Finding the required metrices for all models together using a for loop\n",
    "Model=[]\n",
    "score=[]\n",
    "cvs=[]\n",
    "sd=[]\n",
    "mae=[]\n",
    "mse=[]\n",
    "rmse=[]\n",
    "for name,model in models:\n",
    "    print('******************************',name,'***************************')\n",
    "    print('\\n')\n",
    "    Model.append(name)\n",
    "    model.fit(x_train,y_train)\n",
    "    print(model)\n",
    "    pre=model.predict(x_test)\n",
    "    print('\\n')\n",
    "    AS=r2_score(y_test,pre)\n",
    "    print('r2_score: ',AS)\n",
    "    score.append(AS*100)\n",
    "    print('\\n')\n",
    "    sc=cross_val_score(model,x,y,cv=5,scoring='r2').mean()\n",
    "    print('cross_val_score: ',sc)\n",
    "    cvs.append(sc*100)\n",
    "    print('\\n')\n",
    "    std=cross_val_score(model,x,y,cv=5,scoring='r2').std()\n",
    "    print('Standard Deviation: ',std)\n",
    "    sd.append(std)\n",
    "    print('\\n')\n",
    "    MAE=mean_absolute_error(y_test,pre)\n",
    "    print('Mean Absolute Error: ',MAE)\n",
    "    mae.append(MAE)\n",
    "    print('\\n')\n",
    "    MSE=mean_squared_error(y_test,pre)\n",
    "    print('Mean Squared Error: ',MSE)\n",
    "    mse.append(MSE)\n",
    "    print('\\n')\n",
    "    RMSE=np.sqrt(mean_squared_error(y_test,pre))\n",
    "    print('Root Mean Squared Error: ',RMSE)\n",
    "    rmse.append(RMSE)\n",
    "    print('\\n\\n')"
   ]
  },
  {
   "cell_type": "code",
   "execution_count": 68,
   "metadata": {},
   "outputs": [
    {
     "data": {
      "text/html": [
       "<div>\n",
       "<style scoped>\n",
       "    .dataframe tbody tr th:only-of-type {\n",
       "        vertical-align: middle;\n",
       "    }\n",
       "\n",
       "    .dataframe tbody tr th {\n",
       "        vertical-align: top;\n",
       "    }\n",
       "\n",
       "    .dataframe thead th {\n",
       "        text-align: right;\n",
       "    }\n",
       "</style>\n",
       "<table border=\"1\" class=\"dataframe\">\n",
       "  <thead>\n",
       "    <tr style=\"text-align: right;\">\n",
       "      <th></th>\n",
       "      <th>Model</th>\n",
       "      <th>r2_score</th>\n",
       "      <th>Cross_val_score</th>\n",
       "      <th>Standard_deviation</th>\n",
       "      <th>Mean_absolute_error</th>\n",
       "      <th>Mean_squared_error</th>\n",
       "      <th>Root_Mean_Squared_error</th>\n",
       "    </tr>\n",
       "  </thead>\n",
       "  <tbody>\n",
       "    <tr>\n",
       "      <th>0</th>\n",
       "      <td>Linear Regression</td>\n",
       "      <td>12.405739</td>\n",
       "      <td>8.477100</td>\n",
       "      <td>0.004904</td>\n",
       "      <td>144.494829</td>\n",
       "      <td>31120.228904</td>\n",
       "      <td>176.409265</td>\n",
       "    </tr>\n",
       "    <tr>\n",
       "      <th>1</th>\n",
       "      <td>Lasso Regression</td>\n",
       "      <td>12.265743</td>\n",
       "      <td>8.473300</td>\n",
       "      <td>0.005065</td>\n",
       "      <td>144.774584</td>\n",
       "      <td>31169.966342</td>\n",
       "      <td>176.550181</td>\n",
       "    </tr>\n",
       "    <tr>\n",
       "      <th>2</th>\n",
       "      <td>Elastic Net Regression</td>\n",
       "      <td>10.404504</td>\n",
       "      <td>7.782499</td>\n",
       "      <td>0.004159</td>\n",
       "      <td>146.600834</td>\n",
       "      <td>31831.222051</td>\n",
       "      <td>178.413066</td>\n",
       "    </tr>\n",
       "    <tr>\n",
       "      <th>3</th>\n",
       "      <td>Ridge Regression</td>\n",
       "      <td>12.405027</td>\n",
       "      <td>8.477171</td>\n",
       "      <td>0.004904</td>\n",
       "      <td>144.495767</td>\n",
       "      <td>31120.482140</td>\n",
       "      <td>176.409983</td>\n",
       "    </tr>\n",
       "    <tr>\n",
       "      <th>4</th>\n",
       "      <td>Support Vector Regressor</td>\n",
       "      <td>7.968159</td>\n",
       "      <td>4.973226</td>\n",
       "      <td>0.018104</td>\n",
       "      <td>140.705050</td>\n",
       "      <td>32696.799283</td>\n",
       "      <td>180.822563</td>\n",
       "    </tr>\n",
       "    <tr>\n",
       "      <th>5</th>\n",
       "      <td>KNeighbors Regressor</td>\n",
       "      <td>8.550840</td>\n",
       "      <td>3.619610</td>\n",
       "      <td>0.024302</td>\n",
       "      <td>140.307799</td>\n",
       "      <td>32489.786066</td>\n",
       "      <td>180.249233</td>\n",
       "    </tr>\n",
       "  </tbody>\n",
       "</table>\n",
       "</div>"
      ],
      "text/plain": [
       "                      Model   r2_score  Cross_val_score  Standard_deviation  \\\n",
       "0         Linear Regression  12.405739         8.477100            0.004904   \n",
       "1          Lasso Regression  12.265743         8.473300            0.005065   \n",
       "2    Elastic Net Regression  10.404504         7.782499            0.004159   \n",
       "3          Ridge Regression  12.405027         8.477171            0.004904   \n",
       "4  Support Vector Regressor   7.968159         4.973226            0.018104   \n",
       "5      KNeighbors Regressor   8.550840         3.619610            0.024302   \n",
       "\n",
       "   Mean_absolute_error  Mean_squared_error  Root_Mean_Squared_error  \n",
       "0           144.494829        31120.228904               176.409265  \n",
       "1           144.774584        31169.966342               176.550181  \n",
       "2           146.600834        31831.222051               178.413066  \n",
       "3           144.495767        31120.482140               176.409983  \n",
       "4           140.705050        32696.799283               180.822563  \n",
       "5           140.307799        32489.786066               180.249233  "
      ]
     },
     "execution_count": 68,
     "metadata": {},
     "output_type": "execute_result"
    }
   ],
   "source": [
    "#Finalizing the result\n",
    "result=pd.DataFrame({'Model':Model, 'r2_score': score, 'Cross_val_score':cvs, 'Standard_deviation':sd,\n",
    "                     'Mean_absolute_error':mae, 'Mean_squared_error':mse, 'Root_Mean_Squared_error':rmse})\n",
    "result"
   ]
  },
  {
   "cell_type": "markdown",
   "metadata": {},
   "source": [
    "We can see that LinearRegression and Ridge are giving the best r2_scores and cross_val_score. Now we will perform Hyperparameter Tuning to find out the best parameters and try to increase our scores."
   ]
  },
  {
   "cell_type": "markdown",
   "metadata": {},
   "source": [
    "# Hyperparameter Tuning"
   ]
  },
  {
   "cell_type": "markdown",
   "metadata": {},
   "source": [
    "Linear Regression"
   ]
  },
  {
   "cell_type": "code",
   "execution_count": 69,
   "metadata": {},
   "outputs": [],
   "source": [
    "#Creating parameter list to pass in GridSearchCV\n",
    "parameters={'fit_intercept':[True,False],'copy_X':[True,False],'normalize':[True,False]}"
   ]
  },
  {
   "cell_type": "code",
   "execution_count": 70,
   "metadata": {},
   "outputs": [
    {
     "name": "stdout",
     "output_type": "stream",
     "text": [
      "{'copy_X': True, 'fit_intercept': True, 'normalize': False}\n",
      "0.0754046955645743\n"
     ]
    }
   ],
   "source": [
    "#Using GridSearchCV to run the parameters and checking final r2_score\n",
    "from sklearn.model_selection import GridSearchCV\n",
    "LR=LinearRegression()\n",
    "grid=GridSearchCV(LR,parameters,cv=5,scoring='r2')\n",
    "grid.fit(x_train,y_train)\n",
    "print(grid.best_params_)  #Printing the best parameters obtained\n",
    "print(grid.best_score_) #Mean cross-validated score of best_estimator"
   ]
  },
  {
   "cell_type": "code",
   "execution_count": 71,
   "metadata": {},
   "outputs": [
    {
     "name": "stdout",
     "output_type": "stream",
     "text": [
      "Final r2_score after tuning is:  12.405739473609712\n",
      "Cross validation score:  8.477100471913664\n",
      "Standard deviation:  0.0049041536330231604\n",
      "\n",
      "\n",
      "Mean absolute error:  144.4948288917265\n",
      "Mean squared error:  31120.22890354259\n",
      "Root Mean squared error:  176.4092653562805\n"
     ]
    }
   ],
   "source": [
    "#Using the best parameters obtained\n",
    "LR=LinearRegression(copy_X=True, fit_intercept=True, normalize=False)\n",
    "LR.fit(x_train,y_train)\n",
    "pred=LR.predict(x_test)\n",
    "print('Final r2_score after tuning is: ',r2_score(y_test,pred)*100)\n",
    "print('Cross validation score: ',cross_val_score(LR,x,y,cv=5,scoring='r2').mean()*100)\n",
    "print('Standard deviation: ',cross_val_score(LR,x,y,cv=5,scoring='r2').std())\n",
    "print('\\n')\n",
    "print('Mean absolute error: ',mean_absolute_error(y_test,pred))\n",
    "print('Mean squared error: ',mean_squared_error(y_test,pred))\n",
    "print('Root Mean squared error: ',np.sqrt(mean_squared_error(y_test,pred)))"
   ]
  },
  {
   "cell_type": "markdown",
   "metadata": {},
   "source": [
    "Ridge"
   ]
  },
  {
   "cell_type": "code",
   "execution_count": 72,
   "metadata": {},
   "outputs": [],
   "source": [
    "#Creating parameter list to pass in GridSearchCV\n",
    "parameters={'alpha':[0.001,0.01,0.1,1,10],'solver':['auto','lsqr','svd','sag']}"
   ]
  },
  {
   "cell_type": "code",
   "execution_count": 73,
   "metadata": {},
   "outputs": [
    {
     "name": "stdout",
     "output_type": "stream",
     "text": [
      "{'alpha': 10, 'solver': 'auto'}\n",
      "0.07541044580381635\n"
     ]
    }
   ],
   "source": [
    "#Using GridSearchCV to run the parameters and checking final r2_score\n",
    "from sklearn.model_selection import GridSearchCV\n",
    "rd=Ridge()\n",
    "grid=GridSearchCV(rd,parameters,cv=5,scoring='r2')\n",
    "grid.fit(x_train,y_train)\n",
    "print(grid.best_params_)  #Printing the best parameters obtained\n",
    "print(grid.best_score_) #Mean cross-validated score of best_estimator"
   ]
  },
  {
   "cell_type": "code",
   "execution_count": 74,
   "metadata": {},
   "outputs": [
    {
     "name": "stdout",
     "output_type": "stream",
     "text": [
      "The maximum r2 score 0.12398595853577943 is achieved at random state 523\n"
     ]
    }
   ],
   "source": [
    "#Using the best parameters obtained to find r2_score\n",
    "rd=Ridge(alpha=10, solver='auto')\n",
    "max_r2_score(rd,x,y)"
   ]
  },
  {
   "cell_type": "code",
   "execution_count": 75,
   "metadata": {},
   "outputs": [
    {
     "name": "stdout",
     "output_type": "stream",
     "text": [
      "Cross validation score:  8.477772141897011\n",
      "Standard deviation:  0.004901066282969633\n",
      "\n",
      "\n",
      "Mean absolute error:  144.4948288917265\n",
      "Mean squared error:  31120.22890354259\n",
      "Root Mean squared error:  176.4092653562805\n"
     ]
    }
   ],
   "source": [
    "#Finding other metrices\n",
    "print('Cross validation score: ',cross_val_score(rd,x,y,cv=5,scoring='r2').mean()*100)\n",
    "print('Standard deviation: ',cross_val_score(rd,x,y,cv=5,scoring='r2').std())\n",
    "print('\\n')\n",
    "print('Mean absolute error: ',mean_absolute_error(y_test,pred))\n",
    "print('Mean squared error: ',mean_squared_error(y_test,pred))\n",
    "print('Root Mean squared error: ',np.sqrt(mean_squared_error(y_test,pred)))"
   ]
  },
  {
   "cell_type": "markdown",
   "metadata": {},
   "source": [
    "We can see that evenafter applying Hyperparameter Tuning, our scores were not increased. Now we will try Ensemble Techniques like RandomForestRegressor, AdaBoostRegressor and GradientBoostingRegressor to boost up our scores."
   ]
  },
  {
   "cell_type": "markdown",
   "metadata": {},
   "source": [
    "# Ensemble Techniques for boosting our scores"
   ]
  },
  {
   "cell_type": "code",
   "execution_count": 76,
   "metadata": {},
   "outputs": [
    {
     "name": "stdout",
     "output_type": "stream",
     "text": [
      "{'criterion': 'mae', 'max_features': 'sqrt', 'n_estimators': 500}\n",
      "0.17576252152802174\n"
     ]
    }
   ],
   "source": [
    "#RandomForestRegressor\n",
    "from sklearn.ensemble import RandomForestRegressor\n",
    "rfr=RandomForestRegressor(random_state=523)   #Using the best random state we obtained\n",
    "parameters={'criterion':['mse','mae'],'n_estimators':[10,50,100,500],'max_features':['auto','sqrt','log2']}\n",
    "grid=GridSearchCV(rfr,parameters,cv=5,scoring='r2')\n",
    "grid.fit(x_train,y_train)\n",
    "print(grid.best_params_)  #Printing the best parameters obtained\n",
    "print(grid.best_score_) #Mean cross-validated score of best_estimator"
   ]
  },
  {
   "cell_type": "code",
   "execution_count": 77,
   "metadata": {},
   "outputs": [
    {
     "name": "stdout",
     "output_type": "stream",
     "text": [
      "r2_score:  22.140896327503878\n",
      "Cross validation score:  19.113265647861837\n",
      "Standard deviation:  0.013682218751773308\n",
      "\n",
      "\n",
      "Mean absolute error:  128.70542980935875\n",
      "Mean squared error:  27661.551270048527\n",
      "Root Mean squared error:  166.31762164619997\n"
     ]
    }
   ],
   "source": [
    "#Using the best parameters obtained\n",
    "RF=RandomForestRegressor(random_state=523, criterion='mae', n_estimators=500, max_features='sqrt')\n",
    "RF.fit(x_train,y_train)\n",
    "pred=RF.predict(x_test)\n",
    "print('r2_score: ',r2_score(y_test,pred)*100)\n",
    "print('Cross validation score: ',cross_val_score(RF,x,y,cv=5,scoring='r2').mean()*100)\n",
    "print('Standard deviation: ',cross_val_score(RF,x,y,cv=5,scoring='r2').std())\n",
    "print('\\n')\n",
    "print('Mean absolute error: ',mean_absolute_error(y_test,pred))\n",
    "print('Mean squared error: ',mean_squared_error(y_test,pred))\n",
    "print('Root Mean squared error: ',np.sqrt(mean_squared_error(y_test,pred)))"
   ]
  },
  {
   "cell_type": "code",
   "execution_count": 78,
   "metadata": {},
   "outputs": [
    {
     "name": "stdout",
     "output_type": "stream",
     "text": [
      "{'learning_rate': 0.1, 'loss': 'linear', 'n_estimators': 10}\n",
      "0.13387961416500632\n"
     ]
    }
   ],
   "source": [
    "#AdaBoostRegressor\n",
    "from sklearn.ensemble import AdaBoostRegressor\n",
    "adr=AdaBoostRegressor(random_state=523)   #Using the best random state we obtained\n",
    "parameters={'n_estimators':[10,50,100,500],'learning_rate':[0.001,0.01,0.1,1],'loss':['linear','square']}\n",
    "grid=GridSearchCV(adr,parameters,cv=5,scoring='r2')\n",
    "grid.fit(x_train,y_train)\n",
    "print(grid.best_params_)  #Printing the best parameters obtained\n",
    "print(grid.best_score_) #Mean cross-validated score of best_estimator"
   ]
  },
  {
   "cell_type": "code",
   "execution_count": 79,
   "metadata": {},
   "outputs": [
    {
     "name": "stdout",
     "output_type": "stream",
     "text": [
      "r2_score:  14.116711202755305\n",
      "Cross validation score:  13.014972529076415\n",
      "Standard deviation:  0.01217211519674466\n",
      "\n",
      "\n",
      "Mean absolute error:  141.5542437055597\n",
      "Mean squared error:  30512.35994570763\n",
      "Root Mean squared error:  174.67787480304318\n"
     ]
    }
   ],
   "source": [
    "#Using the best parameters obtained\n",
    "adr=AdaBoostRegressor(random_state=523, n_estimators=10, learning_rate=0.1, loss='linear')\n",
    "adr.fit(x_train,y_train)\n",
    "pred=adr.predict(x_test)\n",
    "print(\"r2_score: \",r2_score(y_test,pred)*100)\n",
    "print('Cross validation score: ',cross_val_score(adr,x,y,cv=5,scoring='r2').mean()*100)\n",
    "print('Standard deviation: ',cross_val_score(adr,x,y,cv=5,scoring='r2').std())\n",
    "print('\\n')\n",
    "print('Mean absolute error: ',mean_absolute_error(y_test,pred))\n",
    "print('Mean squared error: ',mean_squared_error(y_test,pred))\n",
    "print('Root Mean squared error: ',np.sqrt(mean_squared_error(y_test,pred)))"
   ]
  },
  {
   "cell_type": "code",
   "execution_count": 80,
   "metadata": {},
   "outputs": [
    {
     "name": "stdout",
     "output_type": "stream",
     "text": [
      "{'learning_rate': 0.1, 'loss': 'ls', 'n_estimators': 100}\n",
      "0.2022800948911526\n"
     ]
    }
   ],
   "source": [
    "#GradientBoostingRegressor\n",
    "from sklearn.ensemble import GradientBoostingRegressor\n",
    "gbr=GradientBoostingRegressor(random_state=523)   #Using the best random state we obtained\n",
    "parameters={'n_estimators':[10,50,100,500,1000],'learning_rate':[0.001,0.01,0.1,1],'loss':['ls','lad','huber']}\n",
    "grid=GridSearchCV(gbr,parameters,cv=5,scoring='r2')\n",
    "grid.fit(x_train,y_train)\n",
    "print(grid.best_params_)  #Printing the best parameters obtained\n",
    "print(grid.best_score_) #Mean cross-validated score of best_estimator"
   ]
  },
  {
   "cell_type": "code",
   "execution_count": 81,
   "metadata": {},
   "outputs": [
    {
     "name": "stdout",
     "output_type": "stream",
     "text": [
      "r2_score:  21.36158655566527\n",
      "Cross validation score:  20.375412971072908\n",
      "Standard deviation:  0.01393805033482761\n",
      "\n",
      "\n",
      "Mean absolute error:  132.0697938449043\n",
      "Mean squared error:  27938.42213282701\n",
      "Root Mean squared error:  167.14790496092678\n"
     ]
    }
   ],
   "source": [
    "#Using the best parameters obtained\n",
    "gbr=GradientBoostingRegressor(random_state=523, n_estimators=100, learning_rate=0.1, loss='ls')\n",
    "gbr.fit(x_train,y_train)\n",
    "pred=gbr.predict(x_test)\n",
    "print(\"r2_score: \",r2_score(y_test,pred)*100)\n",
    "print('Cross validation score: ',cross_val_score(gbr,x,y,cv=5,scoring='r2').mean()*100)\n",
    "print('Standard deviation: ',cross_val_score(gbr,x,y,cv=5,scoring='r2').std())\n",
    "print('\\n')\n",
    "print('Mean absolute error: ',mean_absolute_error(y_test,pred))\n",
    "print('Mean squared error: ',mean_squared_error(y_test,pred))\n",
    "print('Root Mean squared error: ',np.sqrt(mean_squared_error(y_test,pred)))"
   ]
  },
  {
   "cell_type": "markdown",
   "metadata": {},
   "source": [
    "After applying Ensemble Techniques, we can see that RandomForestRegressor is the best performing algorithm among all other algorithms as it is giving a r2_score of 22.14 and cross validation score of 19.11. It has also the less amount of error values obtained. Lesser the RMSE score, the better the model. Now we will finalize the model."
   ]
  },
  {
   "cell_type": "markdown",
   "metadata": {},
   "source": [
    "# Finalizing the model"
   ]
  },
  {
   "cell_type": "code",
   "execution_count": 82,
   "metadata": {},
   "outputs": [
    {
     "name": "stdout",
     "output_type": "stream",
     "text": [
      "Predictions of RandomForest Regressor:  [190.68 314.55 357.61 ... 439.1  174.05 218.1 ]\n"
     ]
    }
   ],
   "source": [
    "rf_prediction=RF.predict(x)\n",
    "print('Predictions of RandomForest Regressor: ',rf_prediction)   #Printing the predicted values"
   ]
  },
  {
   "cell_type": "code",
   "execution_count": 83,
   "metadata": {},
   "outputs": [],
   "source": [
    "#Saving the model\n",
    "import pickle\n",
    "filename='DoctorFees_Project.pkl'   #Specifying the filename\n",
    "pickle.dump(RF,open(filename,'wb'))   "
   ]
  },
  {
   "cell_type": "markdown",
   "metadata": {},
   "source": [
    "# Saving the predicted values"
   ]
  },
  {
   "cell_type": "code",
   "execution_count": 84,
   "metadata": {},
   "outputs": [],
   "source": [
    "train_results=pd.DataFrame(rf_prediction)\n",
    "train_results.to_csv('DoctorFees_Project_TrainDataResults.csv')"
   ]
  },
  {
   "cell_type": "markdown",
   "metadata": {},
   "source": [
    "Now, we have saved the model which has the predictions of the training data we had used. Next, we will use the test data and find the predictions using the trained data we have"
   ]
  },
  {
   "cell_type": "markdown",
   "metadata": {},
   "source": [
    "# Using the test dataset "
   ]
  },
  {
   "cell_type": "code",
   "execution_count": 85,
   "metadata": {},
   "outputs": [
    {
     "data": {
      "text/html": [
       "<div>\n",
       "<style scoped>\n",
       "    .dataframe tbody tr th:only-of-type {\n",
       "        vertical-align: middle;\n",
       "    }\n",
       "\n",
       "    .dataframe tbody tr th {\n",
       "        vertical-align: top;\n",
       "    }\n",
       "\n",
       "    .dataframe thead th {\n",
       "        text-align: right;\n",
       "    }\n",
       "</style>\n",
       "<table border=\"1\" class=\"dataframe\">\n",
       "  <thead>\n",
       "    <tr style=\"text-align: right;\">\n",
       "      <th></th>\n",
       "      <th>Qualification</th>\n",
       "      <th>Experience</th>\n",
       "      <th>Rating</th>\n",
       "      <th>Place</th>\n",
       "      <th>Profile</th>\n",
       "      <th>Miscellaneous_Info</th>\n",
       "    </tr>\n",
       "  </thead>\n",
       "  <tbody>\n",
       "    <tr>\n",
       "      <th>0</th>\n",
       "      <td>MBBS</td>\n",
       "      <td>35 years experience</td>\n",
       "      <td>NaN</td>\n",
       "      <td>Ghatkopar East, Mumbai</td>\n",
       "      <td>General Medicine</td>\n",
       "      <td>NaN</td>\n",
       "    </tr>\n",
       "    <tr>\n",
       "      <th>1</th>\n",
       "      <td>MBBS, Diploma in Otorhinolaryngology (DLO)</td>\n",
       "      <td>31 years experience</td>\n",
       "      <td>NaN</td>\n",
       "      <td>West Marredpally, Hyderabad</td>\n",
       "      <td>ENT Specialist</td>\n",
       "      <td>NaN</td>\n",
       "    </tr>\n",
       "    <tr>\n",
       "      <th>2</th>\n",
       "      <td>MBBS, DDVL</td>\n",
       "      <td>40 years experience</td>\n",
       "      <td>70%</td>\n",
       "      <td>KK Nagar, Chennai</td>\n",
       "      <td>Dermatologists</td>\n",
       "      <td>70% 4 Feedback KK Nagar, Chennai</td>\n",
       "    </tr>\n",
       "    <tr>\n",
       "      <th>3</th>\n",
       "      <td>BAMS</td>\n",
       "      <td>0 years experience</td>\n",
       "      <td>NaN</td>\n",
       "      <td>New Ashok Nagar, Delhi</td>\n",
       "      <td>Ayurveda</td>\n",
       "      <td>NaN</td>\n",
       "    </tr>\n",
       "    <tr>\n",
       "      <th>4</th>\n",
       "      <td>BDS, MDS - Conservative Dentistry &amp; Endodontics</td>\n",
       "      <td>16 years experience</td>\n",
       "      <td>100%</td>\n",
       "      <td>Kanakpura Road, Bangalore</td>\n",
       "      <td>Dentist</td>\n",
       "      <td>General Dentistry Conservative Dentistry Cosme...</td>\n",
       "    </tr>\n",
       "  </tbody>\n",
       "</table>\n",
       "</div>"
      ],
      "text/plain": [
       "                                     Qualification           Experience  \\\n",
       "0                                             MBBS  35 years experience   \n",
       "1       MBBS, Diploma in Otorhinolaryngology (DLO)  31 years experience   \n",
       "2                                       MBBS, DDVL  40 years experience   \n",
       "3                                             BAMS   0 years experience   \n",
       "4  BDS, MDS - Conservative Dentistry & Endodontics  16 years experience   \n",
       "\n",
       "  Rating                        Place           Profile  \\\n",
       "0    NaN       Ghatkopar East, Mumbai  General Medicine   \n",
       "1    NaN  West Marredpally, Hyderabad    ENT Specialist   \n",
       "2    70%            KK Nagar, Chennai    Dermatologists   \n",
       "3    NaN       New Ashok Nagar, Delhi          Ayurveda   \n",
       "4   100%    Kanakpura Road, Bangalore           Dentist   \n",
       "\n",
       "                                  Miscellaneous_Info  \n",
       "0                                                NaN  \n",
       "1                                                NaN  \n",
       "2                   70% 4 Feedback KK Nagar, Chennai  \n",
       "3                                                NaN  \n",
       "4  General Dentistry Conservative Dentistry Cosme...  "
      ]
     },
     "execution_count": 85,
     "metadata": {},
     "output_type": "execute_result"
    }
   ],
   "source": [
    "df_test=pd.read_csv('D:/Python file/Project Datasets/FinalEval/Doctor/Final_Test.csv')  #Path location of the dataset\n",
    "df_test.head()  #Checking out the top 5 rows of the dataset"
   ]
  },
  {
   "cell_type": "code",
   "execution_count": 86,
   "metadata": {},
   "outputs": [
    {
     "data": {
      "text/plain": [
       "(1987, 6)"
      ]
     },
     "execution_count": 86,
     "metadata": {},
     "output_type": "execute_result"
    }
   ],
   "source": [
    "df_test.shape   #Checking out the dimensions of the dataset"
   ]
  },
  {
   "cell_type": "markdown",
   "metadata": {},
   "source": [
    "There are 1987 records of doctor and 6 columns"
   ]
  },
  {
   "cell_type": "code",
   "execution_count": 87,
   "metadata": {},
   "outputs": [
    {
     "data": {
      "text/plain": [
       "Qualification            0\n",
       "Experience               0\n",
       "Rating                1090\n",
       "Place                    6\n",
       "Profile                  0\n",
       "Miscellaneous_Info     834\n",
       "dtype: int64"
      ]
     },
     "execution_count": 87,
     "metadata": {},
     "output_type": "execute_result"
    }
   ],
   "source": [
    "df_test.isnull().sum()    #Checking for missing values"
   ]
  },
  {
   "cell_type": "markdown",
   "metadata": {},
   "source": [
    "We can see that Rating, Place and Miscellaneous_Info have missing data and we need to handle it."
   ]
  },
  {
   "cell_type": "markdown",
   "metadata": {},
   "source": [
    "# Data pre-processing"
   ]
  },
  {
   "cell_type": "markdown",
   "metadata": {},
   "source": [
    "In Experience column, we can see that years is present and it is in object type. We need to take the number from Experience and it can be done by using type conversion and replace()"
   ]
  },
  {
   "cell_type": "code",
   "execution_count": 88,
   "metadata": {},
   "outputs": [],
   "source": [
    "df_test['Experience'] = df_test['Experience'].str.replace(\"years experience\",'').astype('int') #Converting to int datatype\n",
    "#We are also replacing years experience word with blank"
   ]
  },
  {
   "cell_type": "code",
   "execution_count": 89,
   "metadata": {},
   "outputs": [
    {
     "data": {
      "text/plain": [
       "0    35\n",
       "1    31\n",
       "2    40\n",
       "3     0\n",
       "4    16\n",
       "Name: Experience, dtype: int32"
      ]
     },
     "execution_count": 89,
     "metadata": {},
     "output_type": "execute_result"
    }
   ],
   "source": [
    "#Now checking the column after replacing\n",
    "df_test['Experience'].head()   #Top 5 rows"
   ]
  },
  {
   "cell_type": "markdown",
   "metadata": {},
   "source": [
    "We can see that the years have been taken and replaced in the column"
   ]
  },
  {
   "cell_type": "markdown",
   "metadata": {},
   "source": [
    "In the Rating column, we can see that it is given in percentage and it is in object type. We will take only the number and it can be done by using type conversion and replace(). Before that, we need to fill the missing data with the most frequent data used and it can be done by using Simple Imputer library."
   ]
  },
  {
   "cell_type": "code",
   "execution_count": 90,
   "metadata": {},
   "outputs": [],
   "source": [
    "#Importing SimpleImputer\n",
    "from sklearn.impute import SimpleImputer\n",
    "SI=SimpleImputer(strategy='most_frequent')  #Replacing null values with most frequently used values\n",
    "df_test['Rating']=SI.fit_transform(df_test['Rating'].values.reshape(-1,1))"
   ]
  },
  {
   "cell_type": "code",
   "execution_count": 91,
   "metadata": {},
   "outputs": [
    {
     "data": {
      "text/plain": [
       "Qualification           0\n",
       "Experience              0\n",
       "Rating                  0\n",
       "Place                   6\n",
       "Profile                 0\n",
       "Miscellaneous_Info    834\n",
       "dtype: int64"
      ]
     },
     "execution_count": 91,
     "metadata": {},
     "output_type": "execute_result"
    }
   ],
   "source": [
    "df_test.isnull().sum()"
   ]
  },
  {
   "cell_type": "markdown",
   "metadata": {},
   "source": [
    "We can see that Rating missing values has been replaced with most frequently used values"
   ]
  },
  {
   "cell_type": "code",
   "execution_count": 92,
   "metadata": {},
   "outputs": [],
   "source": [
    "df_test['Rating'] = df_test['Rating'].str.replace(\"%\",'').astype('int')  #Converting to int datatype\n",
    "#We are also replacing % with blank"
   ]
  },
  {
   "cell_type": "code",
   "execution_count": 93,
   "metadata": {},
   "outputs": [
    {
     "data": {
      "text/plain": [
       "0    100\n",
       "1    100\n",
       "2     70\n",
       "3    100\n",
       "4    100\n",
       "Name: Rating, dtype: int32"
      ]
     },
     "execution_count": 93,
     "metadata": {},
     "output_type": "execute_result"
    }
   ],
   "source": [
    "#We are checking the column after replacing\n",
    "df_test['Rating'].head()   #Top 5 rows"
   ]
  },
  {
   "cell_type": "markdown",
   "metadata": {},
   "source": [
    "Rating column has been converted into int by replacing missing data and %"
   ]
  },
  {
   "cell_type": "markdown",
   "metadata": {},
   "source": [
    "Let us look into Place column. There are missing values and also the City and Area has been present together. We can split them into 2 separate columns and also before that we will handle missing data using SimpleImputer."
   ]
  },
  {
   "cell_type": "code",
   "execution_count": 94,
   "metadata": {},
   "outputs": [],
   "source": [
    "SI=SimpleImputer(strategy='most_frequent')  #Replacing null values with most frequently used values\n",
    "df_test['Place']=SI.fit_transform(df_test['Place'].values.reshape(-1,1))"
   ]
  },
  {
   "cell_type": "code",
   "execution_count": 95,
   "metadata": {},
   "outputs": [
    {
     "data": {
      "text/plain": [
       "Qualification           0\n",
       "Experience              0\n",
       "Rating                  0\n",
       "Place                   0\n",
       "Profile                 0\n",
       "Miscellaneous_Info    834\n",
       "dtype: int64"
      ]
     },
     "execution_count": 95,
     "metadata": {},
     "output_type": "execute_result"
    }
   ],
   "source": [
    "df_test.isnull().sum()"
   ]
  },
  {
   "cell_type": "markdown",
   "metadata": {},
   "source": [
    "After handling missing data, we can see that there are no missing values in the column. Now we will split City and Area separately."
   ]
  },
  {
   "cell_type": "code",
   "execution_count": 96,
   "metadata": {},
   "outputs": [],
   "source": [
    "#Extracting City and Area from Place Column\n",
    "df_test['City'] = df_test['Place'].str.split(',',1).str.get(1)  #City given after area and they are separated by comma\n",
    "df_test['Area'] = df_test['Place'].str.split(',',1).str.get(0)  #First is Area given in Place column"
   ]
  },
  {
   "cell_type": "code",
   "execution_count": 97,
   "metadata": {},
   "outputs": [],
   "source": [
    "#As we extracted City and Area from the Place column, there is no need of Place and we can drop it\n",
    "df_test.drop(columns='Place',axis=1,inplace=True)"
   ]
  },
  {
   "cell_type": "code",
   "execution_count": 98,
   "metadata": {},
   "outputs": [
    {
     "data": {
      "text/html": [
       "<div>\n",
       "<style scoped>\n",
       "    .dataframe tbody tr th:only-of-type {\n",
       "        vertical-align: middle;\n",
       "    }\n",
       "\n",
       "    .dataframe tbody tr th {\n",
       "        vertical-align: top;\n",
       "    }\n",
       "\n",
       "    .dataframe thead th {\n",
       "        text-align: right;\n",
       "    }\n",
       "</style>\n",
       "<table border=\"1\" class=\"dataframe\">\n",
       "  <thead>\n",
       "    <tr style=\"text-align: right;\">\n",
       "      <th></th>\n",
       "      <th>Qualification</th>\n",
       "      <th>Experience</th>\n",
       "      <th>Rating</th>\n",
       "      <th>Profile</th>\n",
       "      <th>Miscellaneous_Info</th>\n",
       "      <th>City</th>\n",
       "      <th>Area</th>\n",
       "    </tr>\n",
       "  </thead>\n",
       "  <tbody>\n",
       "    <tr>\n",
       "      <th>0</th>\n",
       "      <td>MBBS</td>\n",
       "      <td>35</td>\n",
       "      <td>100</td>\n",
       "      <td>General Medicine</td>\n",
       "      <td>NaN</td>\n",
       "      <td>Mumbai</td>\n",
       "      <td>Ghatkopar East</td>\n",
       "    </tr>\n",
       "    <tr>\n",
       "      <th>1</th>\n",
       "      <td>MBBS, Diploma in Otorhinolaryngology (DLO)</td>\n",
       "      <td>31</td>\n",
       "      <td>100</td>\n",
       "      <td>ENT Specialist</td>\n",
       "      <td>NaN</td>\n",
       "      <td>Hyderabad</td>\n",
       "      <td>West Marredpally</td>\n",
       "    </tr>\n",
       "    <tr>\n",
       "      <th>2</th>\n",
       "      <td>MBBS, DDVL</td>\n",
       "      <td>40</td>\n",
       "      <td>70</td>\n",
       "      <td>Dermatologists</td>\n",
       "      <td>70% 4 Feedback KK Nagar, Chennai</td>\n",
       "      <td>Chennai</td>\n",
       "      <td>KK Nagar</td>\n",
       "    </tr>\n",
       "    <tr>\n",
       "      <th>3</th>\n",
       "      <td>BAMS</td>\n",
       "      <td>0</td>\n",
       "      <td>100</td>\n",
       "      <td>Ayurveda</td>\n",
       "      <td>NaN</td>\n",
       "      <td>Delhi</td>\n",
       "      <td>New Ashok Nagar</td>\n",
       "    </tr>\n",
       "    <tr>\n",
       "      <th>4</th>\n",
       "      <td>BDS, MDS - Conservative Dentistry &amp; Endodontics</td>\n",
       "      <td>16</td>\n",
       "      <td>100</td>\n",
       "      <td>Dentist</td>\n",
       "      <td>General Dentistry Conservative Dentistry Cosme...</td>\n",
       "      <td>Bangalore</td>\n",
       "      <td>Kanakpura Road</td>\n",
       "    </tr>\n",
       "  </tbody>\n",
       "</table>\n",
       "</div>"
      ],
      "text/plain": [
       "                                     Qualification  Experience  Rating  \\\n",
       "0                                             MBBS          35     100   \n",
       "1       MBBS, Diploma in Otorhinolaryngology (DLO)          31     100   \n",
       "2                                       MBBS, DDVL          40      70   \n",
       "3                                             BAMS           0     100   \n",
       "4  BDS, MDS - Conservative Dentistry & Endodontics          16     100   \n",
       "\n",
       "            Profile                                 Miscellaneous_Info  \\\n",
       "0  General Medicine                                                NaN   \n",
       "1    ENT Specialist                                                NaN   \n",
       "2    Dermatologists                   70% 4 Feedback KK Nagar, Chennai   \n",
       "3          Ayurveda                                                NaN   \n",
       "4           Dentist  General Dentistry Conservative Dentistry Cosme...   \n",
       "\n",
       "         City              Area  \n",
       "0      Mumbai    Ghatkopar East  \n",
       "1   Hyderabad  West Marredpally  \n",
       "2     Chennai          KK Nagar  \n",
       "3       Delhi   New Ashok Nagar  \n",
       "4   Bangalore    Kanakpura Road  "
      ]
     },
     "execution_count": 98,
     "metadata": {},
     "output_type": "execute_result"
    }
   ],
   "source": [
    "#Checking the dataset after extraction\n",
    "df_test.head()"
   ]
  },
  {
   "cell_type": "code",
   "execution_count": 99,
   "metadata": {},
   "outputs": [
    {
     "data": {
      "text/plain": [
       "Qualification           0\n",
       "Experience              0\n",
       "Rating                  0\n",
       "Profile                 0\n",
       "Miscellaneous_Info    834\n",
       "City                    0\n",
       "Area                    0\n",
       "dtype: int64"
      ]
     },
     "execution_count": 99,
     "metadata": {},
     "output_type": "execute_result"
    }
   ],
   "source": [
    "#Checking for any missing data\n",
    "df_test.isnull().sum()"
   ]
  },
  {
   "cell_type": "markdown",
   "metadata": {},
   "source": [
    "Now we will look into Miscellaneous_Info column. We can see that most of the data has fees and place details and also there are missing data present. We can now create a new column to show the data which has Miscellaneous_Info or not."
   ]
  },
  {
   "cell_type": "code",
   "execution_count": 100,
   "metadata": {},
   "outputs": [],
   "source": [
    "df_test['Has_Miscellaneous_Info'] = (~df_test['Miscellaneous_Info'].isnull())\n",
    "df_test['Has_Miscellaneous_Info'] = df_test['Has_Miscellaneous_Info'].astype(int)  #Converting into int type"
   ]
  },
  {
   "cell_type": "code",
   "execution_count": 101,
   "metadata": {},
   "outputs": [
    {
     "data": {
      "text/plain": [
       "1    1153\n",
       "0     834\n",
       "Name: Has_Miscellaneous_Info, dtype: int64"
      ]
     },
     "execution_count": 101,
     "metadata": {},
     "output_type": "execute_result"
    }
   ],
   "source": [
    "#After creating the new column, now checking the value counts\n",
    "df_test['Has_Miscellaneous_Info'].value_counts()"
   ]
  },
  {
   "cell_type": "markdown",
   "metadata": {},
   "source": [
    "Here 0 means there is no info and 1 means there is info. 1153 records have miscellaneous info whereas 834 records don't have any miscellaneous info"
   ]
  },
  {
   "cell_type": "code",
   "execution_count": 102,
   "metadata": {},
   "outputs": [],
   "source": [
    "#Dropping Miscellaneous_Info column\n",
    "df_test.drop(columns='Miscellaneous_Info',axis=1,inplace=True)"
   ]
  },
  {
   "cell_type": "code",
   "execution_count": 103,
   "metadata": {},
   "outputs": [
    {
     "name": "stdout",
     "output_type": "stream",
     "text": [
      "Qualification             0\n",
      "Experience                0\n",
      "Rating                    0\n",
      "Profile                   0\n",
      "City                      0\n",
      "Area                      0\n",
      "Has_Miscellaneous_Info    0\n",
      "dtype: int64\n"
     ]
    }
   ],
   "source": [
    "#Final Checking for null values\n",
    "print(df_test.isnull().sum())"
   ]
  },
  {
   "cell_type": "markdown",
   "metadata": {},
   "source": [
    "There are no missing values in the dataset and now we can proceed further with EDA process"
   ]
  },
  {
   "cell_type": "code",
   "execution_count": 104,
   "metadata": {},
   "outputs": [
    {
     "data": {
      "text/html": [
       "<div>\n",
       "<style scoped>\n",
       "    .dataframe tbody tr th:only-of-type {\n",
       "        vertical-align: middle;\n",
       "    }\n",
       "\n",
       "    .dataframe tbody tr th {\n",
       "        vertical-align: top;\n",
       "    }\n",
       "\n",
       "    .dataframe thead th {\n",
       "        text-align: right;\n",
       "    }\n",
       "</style>\n",
       "<table border=\"1\" class=\"dataframe\">\n",
       "  <thead>\n",
       "    <tr style=\"text-align: right;\">\n",
       "      <th></th>\n",
       "      <th>Qualification</th>\n",
       "      <th>Experience</th>\n",
       "      <th>Rating</th>\n",
       "      <th>Profile</th>\n",
       "      <th>City</th>\n",
       "      <th>Area</th>\n",
       "      <th>Has_Miscellaneous_Info</th>\n",
       "    </tr>\n",
       "  </thead>\n",
       "  <tbody>\n",
       "    <tr>\n",
       "      <th>0</th>\n",
       "      <td>MBBS</td>\n",
       "      <td>35</td>\n",
       "      <td>100</td>\n",
       "      <td>General Medicine</td>\n",
       "      <td>Mumbai</td>\n",
       "      <td>Ghatkopar East</td>\n",
       "      <td>0</td>\n",
       "    </tr>\n",
       "    <tr>\n",
       "      <th>1</th>\n",
       "      <td>MBBS, Diploma in Otorhinolaryngology (DLO)</td>\n",
       "      <td>31</td>\n",
       "      <td>100</td>\n",
       "      <td>ENT Specialist</td>\n",
       "      <td>Hyderabad</td>\n",
       "      <td>West Marredpally</td>\n",
       "      <td>0</td>\n",
       "    </tr>\n",
       "    <tr>\n",
       "      <th>2</th>\n",
       "      <td>MBBS, DDVL</td>\n",
       "      <td>40</td>\n",
       "      <td>70</td>\n",
       "      <td>Dermatologists</td>\n",
       "      <td>Chennai</td>\n",
       "      <td>KK Nagar</td>\n",
       "      <td>1</td>\n",
       "    </tr>\n",
       "    <tr>\n",
       "      <th>3</th>\n",
       "      <td>BAMS</td>\n",
       "      <td>0</td>\n",
       "      <td>100</td>\n",
       "      <td>Ayurveda</td>\n",
       "      <td>Delhi</td>\n",
       "      <td>New Ashok Nagar</td>\n",
       "      <td>0</td>\n",
       "    </tr>\n",
       "    <tr>\n",
       "      <th>4</th>\n",
       "      <td>BDS, MDS - Conservative Dentistry &amp; Endodontics</td>\n",
       "      <td>16</td>\n",
       "      <td>100</td>\n",
       "      <td>Dentist</td>\n",
       "      <td>Bangalore</td>\n",
       "      <td>Kanakpura Road</td>\n",
       "      <td>1</td>\n",
       "    </tr>\n",
       "  </tbody>\n",
       "</table>\n",
       "</div>"
      ],
      "text/plain": [
       "                                     Qualification  Experience  Rating  \\\n",
       "0                                             MBBS          35     100   \n",
       "1       MBBS, Diploma in Otorhinolaryngology (DLO)          31     100   \n",
       "2                                       MBBS, DDVL          40      70   \n",
       "3                                             BAMS           0     100   \n",
       "4  BDS, MDS - Conservative Dentistry & Endodontics          16     100   \n",
       "\n",
       "            Profile        City              Area  Has_Miscellaneous_Info  \n",
       "0  General Medicine      Mumbai    Ghatkopar East                       0  \n",
       "1    ENT Specialist   Hyderabad  West Marredpally                       0  \n",
       "2    Dermatologists     Chennai          KK Nagar                       1  \n",
       "3          Ayurveda       Delhi   New Ashok Nagar                       0  \n",
       "4           Dentist   Bangalore    Kanakpura Road                       1  "
      ]
     },
     "execution_count": 104,
     "metadata": {},
     "output_type": "execute_result"
    }
   ],
   "source": [
    "df_test.head()  #Checking dataset after pre-processing"
   ]
  },
  {
   "cell_type": "markdown",
   "metadata": {},
   "source": [
    "# Exploratory Data Analysis"
   ]
  },
  {
   "cell_type": "markdown",
   "metadata": {},
   "source": [
    "# Univariate Analysis"
   ]
  },
  {
   "cell_type": "code",
   "execution_count": 105,
   "metadata": {},
   "outputs": [
    {
     "name": "stdout",
     "output_type": "stream",
     "text": [
      "100    1313\n",
      "98      112\n",
      "97       84\n",
      "99       68\n",
      "96       65\n",
      "94       51\n",
      "95       47\n",
      "93       34\n",
      "92       29\n",
      "90       29\n",
      "91       26\n",
      "88       13\n",
      "83       11\n",
      "89       11\n",
      "87       11\n",
      "82        9\n",
      "85        8\n",
      "84        7\n",
      "80        7\n",
      "71        7\n",
      "86        6\n",
      "73        5\n",
      "67        5\n",
      "76        4\n",
      "70        4\n",
      "60        4\n",
      "81        3\n",
      "55        3\n",
      "79        2\n",
      "69        2\n",
      "64        2\n",
      "78        1\n",
      "77        1\n",
      "65        1\n",
      "53        1\n",
      "52        1\n",
      "Name: Rating, dtype: int64\n"
     ]
    },
    {
     "data": {
      "image/png": "[encoded data removed]",
      "text/plain": [
       "<Figure size 1296x288 with 1 Axes>"
      ]
     },
     "metadata": {
      "needs_background": "light"
     },
     "output_type": "display_data"
    }
   ],
   "source": [
    "#Checking the Rating given to doctors from patients using countplot\n",
    "print(df_test['Rating'].value_counts())\n",
    "plt.subplots(figsize=(18,4))\n",
    "sns.countplot(x='Rating',data=df_test)\n",
    "plt.title('Rating percentage of Doctors')\n",
    "plt.xlabel('Rating in percentage')\n",
    "plt.ylabel('Count of Doctors')\n",
    "plt.show()"
   ]
  },
  {
   "cell_type": "markdown",
   "metadata": {},
   "source": [
    "Observations:\n",
    "\n",
    "-> Nearly 1000 doctors got 100% rating and it is the maximum value and the exact value is 1313.\n",
    "\n",
    "-> Minimum rating value given for a doctor is 52%, which has been given by 1 patient and it is the lowest among all.\n",
    "\n",
    "-> Many number of patients have given rating in the range 85-100 to most of the doctors for their consultations."
   ]
  },
  {
   "cell_type": "code",
   "execution_count": 106,
   "metadata": {},
   "outputs": [
    {
     "name": "stdout",
     "output_type": "stream",
     "text": [
      "10    110\n",
      "8      98\n",
      "9      96\n",
      "19     92\n",
      "7      89\n",
      "11     86\n",
      "13     83\n",
      "14     81\n",
      "12     79\n",
      "17     72\n",
      "18     70\n",
      "6      62\n",
      "15     57\n",
      "16     51\n",
      "5      50\n",
      "23     49\n",
      "21     48\n",
      "20     48\n",
      "29     46\n",
      "4      44\n",
      "22     37\n",
      "24     34\n",
      "3      33\n",
      "25     33\n",
      "26     32\n",
      "0      31\n",
      "28     29\n",
      "27     27\n",
      "34     27\n",
      "36     27\n",
      "31     26\n",
      "38     23\n",
      "30     18\n",
      "32     16\n",
      "44     16\n",
      "40     15\n",
      "37     14\n",
      "39     13\n",
      "35     13\n",
      "41     12\n",
      "33     11\n",
      "2      11\n",
      "46     11\n",
      "42     10\n",
      "43     10\n",
      "47      9\n",
      "49      8\n",
      "45      7\n",
      "48      6\n",
      "59      4\n",
      "50      3\n",
      "51      3\n",
      "52      2\n",
      "54      2\n",
      "53      1\n",
      "56      1\n",
      "65      1\n",
      "Name: Experience, dtype: int64\n"
     ]
    },
    {
     "data": {
      "image/png": "[encoded data removed]",
      "text/plain": [
       "<Figure size 1296x288 with 1 Axes>"
      ]
     },
     "metadata": {
      "needs_background": "light"
     },
     "output_type": "display_data"
    }
   ],
   "source": [
    "#Checking the experience of doctors using countplot\n",
    "print(df_test['Experience'].value_counts())\n",
    "plt.subplots(figsize=(18,4))\n",
    "sns.countplot(x='Experience',data=df_test,palette='terrain_r')\n",
    "plt.title('Experience of Doctors in years')\n",
    "plt.xlabel('Experience in years')\n",
    "plt.ylabel('Count of Doctors')\n",
    "plt.show()"
   ]
  },
  {
   "cell_type": "markdown",
   "metadata": {},
   "source": [
    "Observations:\n",
    "\n",
    "-> 10 years of experience is the maximum value here and 110 doctors are having it.\n",
    "\n",
    "-> Minimum years of experience is between 50-65 years and only few doctors are having that kind of experience for every year in    that range."
   ]
  },
  {
   "cell_type": "code",
   "execution_count": 107,
   "metadata": {},
   "outputs": [
    {
     "name": "stdout",
     "output_type": "stream",
     "text": [
      "General Medicine    444\n",
      "Dentist             441\n",
      "Dermatologists      339\n",
      "Homeopath           277\n",
      "Ayurveda            251\n",
      "ENT Specialist      235\n",
      "Name: Profile, dtype: int64\n"
     ]
    },
    {
     "data": {
      "image/png": "[encoded data removed]",
      "text/plain": [
       "<Figure size 1296x288 with 1 Axes>"
      ]
     },
     "metadata": {
      "needs_background": "light"
     },
     "output_type": "display_data"
    }
   ],
   "source": [
    "#Checking out the count of profile of doctors using countplot\n",
    "print(df_test['Profile'].value_counts())\n",
    "plt.subplots(figsize=(18,4))\n",
    "sns.countplot(x='Profile',data=df_test)\n",
    "plt.title('Profiles of Doctors')\n",
    "plt.xlabel('Specialization of Doctors')\n",
    "plt.ylabel('Count of Doctors')\n",
    "plt.show()"
   ]
  },
  {
   "cell_type": "markdown",
   "metadata": {},
   "source": [
    "Observations:\n",
    "\n",
    "-> We can see that maximum number of doctors are in General Medicine and Dentists, where there are 444 records of General          Medicine doctors and 441 records of Dentist.\n",
    "\n",
    "-> Minimum number of doctors are ENT Specialists and there are 235 records of doctors."
   ]
  },
  {
   "cell_type": "code",
   "execution_count": 108,
   "metadata": {},
   "outputs": [
    {
     "data": {
      "image/png": "[encoded data removed]",
      "text/plain": [
       "<Figure size 720x360 with 1 Axes>"
      ]
     },
     "metadata": {
      "needs_background": "light"
     },
     "output_type": "display_data"
    }
   ],
   "source": [
    "#Checking out the count of city using countplot\n",
    "plt.figure(figsize=(10,5))\n",
    "plt.xticks(rotation=90)\n",
    "ax=sns.countplot(df_test['City'])\n",
    "plt.title('Count of City')\n",
    "for p in ax.patches:\n",
    "       ax.annotate(int(p.get_height()), (p.get_x()+0.25, p.get_height()+1), va='bottom',color= 'black')"
   ]
  },
  {
   "cell_type": "markdown",
   "metadata": {},
   "source": [
    "As we can see, there are more number of doctors in Bangalore with 420 doctors residing there and minumum number of doctors are residing in Thiruvananthapuram with 17 doctors."
   ]
  },
  {
   "cell_type": "code",
   "execution_count": 109,
   "metadata": {},
   "outputs": [
    {
     "name": "stdout",
     "output_type": "stream",
     "text": [
      "1    1153\n",
      "0     834\n",
      "Name: Has_Miscellaneous_Info, dtype: int64\n"
     ]
    },
    {
     "data": {
      "image/png": "[encoded data removed]",
      "text/plain": [
       "<Figure size 432x288 with 1 Axes>"
      ]
     },
     "metadata": {
      "needs_background": "light"
     },
     "output_type": "display_data"
    }
   ],
   "source": [
    "#Checking the doctors who are having Miscellaneous_Info\n",
    "print(df_test['Has_Miscellaneous_Info'].value_counts())\n",
    "sns.countplot(x='Has_Miscellaneous_Info',data=df_test)\n",
    "plt.title('Number of Miscellaneous Info of Doctors')\n",
    "plt.ylabel('Count of Doctors')\n",
    "plt.show()"
   ]
  },
  {
   "cell_type": "markdown",
   "metadata": {},
   "source": [
    "1153 doctors have miscellaneous information whereas 834 doctors don't have any miscellaneous information"
   ]
  },
  {
   "cell_type": "markdown",
   "metadata": {},
   "source": [
    "# Bivariate Analysis "
   ]
  },
  {
   "cell_type": "code",
   "execution_count": 110,
   "metadata": {},
   "outputs": [
    {
     "data": {
      "image/png": "[encoded data removed]",
      "text/plain": [
       "<Figure size 1080x360 with 1 Axes>"
      ]
     },
     "metadata": {
      "needs_background": "light"
     },
     "output_type": "display_data"
    }
   ],
   "source": [
    "#Checking the rating of doctors on the basis of their Specialization using Barplot\n",
    "plt.subplots(figsize=(18,4))\n",
    "df_test.groupby('Profile')['Rating'].sum().sort_values(ascending=False).plot(kind=\"bar\",figsize=(15,5))\n",
    "plt.title('Rating of Doctors on the basis of their Specialization')\n",
    "plt.xlabel('Doctor Specialization')\n",
    "plt.ylabel('Ratings')\n",
    "plt.show()"
   ]
  },
  {
   "cell_type": "markdown",
   "metadata": {},
   "source": [
    "Dentists and General Medicine doctors have more number of ratings whereas ENT Specialists have the less number of Ratings"
   ]
  },
  {
   "cell_type": "code",
   "execution_count": 111,
   "metadata": {},
   "outputs": [
    {
     "data": {
      "image/png": "[encoded data removed]",
      "text/plain": [
       "<Figure size 1080x360 with 1 Axes>"
      ]
     },
     "metadata": {
      "needs_background": "light"
     },
     "output_type": "display_data"
    }
   ],
   "source": [
    "#Checking doctor's profile based on experience\n",
    "plt.subplots(figsize=(18,4))\n",
    "df_test.groupby('Profile')['Experience'].sum().sort_values(ascending=False).plot(kind=\"barh\",figsize=(15,5))\n",
    "plt.title('Experience of doctors on the basis of there Specialization')\n",
    "plt.xlabel('Experience')\n",
    "plt.ylabel('Doctor Specialization')\n",
    "plt.show()"
   ]
  },
  {
   "cell_type": "markdown",
   "metadata": {},
   "source": [
    "General Medicine doctors have the maximum number of experience in their field whereas Homeopath doctors have the less number of experience"
   ]
  },
  {
   "cell_type": "code",
   "execution_count": 112,
   "metadata": {},
   "outputs": [
    {
     "data": {
      "text/plain": [
       "<matplotlib.axes._subplots.AxesSubplot at 0x16ad44c8cd0>"
      ]
     },
     "execution_count": 112,
     "metadata": {},
     "output_type": "execute_result"
    },
    {
     "data": {
      "image/png": "[encoded data removed]",
      "text/plain": [
       "<Figure size 432x288 with 1 Axes>"
      ]
     },
     "metadata": {
      "needs_background": "light"
     },
     "output_type": "display_data"
    }
   ],
   "source": [
    "#Scatter plot between 2 variables\n",
    "sns.scatterplot(x='Experience',y='Rating',data=df_test)"
   ]
  },
  {
   "cell_type": "markdown",
   "metadata": {},
   "source": [
    "# Converting categorical data into numeric data"
   ]
  },
  {
   "cell_type": "code",
   "execution_count": 113,
   "metadata": {},
   "outputs": [
    {
     "data": {
      "text/plain": [
       "Qualification             object\n",
       "Experience                 int32\n",
       "Rating                     int32\n",
       "Profile                   object\n",
       "City                      object\n",
       "Area                      object\n",
       "Has_Miscellaneous_Info     int32\n",
       "dtype: object"
      ]
     },
     "execution_count": 113,
     "metadata": {},
     "output_type": "execute_result"
    }
   ],
   "source": [
    "df_test.dtypes"
   ]
  },
  {
   "cell_type": "markdown",
   "metadata": {},
   "source": [
    "There are 4 columns having categorical data and as the value counts in each feature is large, we can do Label Encoding by using Label Encoder"
   ]
  },
  {
   "cell_type": "code",
   "execution_count": 114,
   "metadata": {},
   "outputs": [],
   "source": [
    "from sklearn.preprocessing import LabelEncoder\n",
    "le=LabelEncoder()\n",
    "col=['Qualification','Profile','City','Area']\n",
    "for i in col:\n",
    "    df_test[i]=le.fit_transform(df_test[i])   #Conversion"
   ]
  },
  {
   "cell_type": "code",
   "execution_count": 115,
   "metadata": {},
   "outputs": [
    {
     "data": {
      "text/html": [
       "<div>\n",
       "<style scoped>\n",
       "    .dataframe tbody tr th:only-of-type {\n",
       "        vertical-align: middle;\n",
       "    }\n",
       "\n",
       "    .dataframe tbody tr th {\n",
       "        vertical-align: top;\n",
       "    }\n",
       "\n",
       "    .dataframe thead th {\n",
       "        text-align: right;\n",
       "    }\n",
       "</style>\n",
       "<table border=\"1\" class=\"dataframe\">\n",
       "  <thead>\n",
       "    <tr style=\"text-align: right;\">\n",
       "      <th></th>\n",
       "      <th>Qualification</th>\n",
       "      <th>Experience</th>\n",
       "      <th>Rating</th>\n",
       "      <th>Profile</th>\n",
       "      <th>City</th>\n",
       "      <th>Area</th>\n",
       "      <th>Has_Miscellaneous_Info</th>\n",
       "    </tr>\n",
       "  </thead>\n",
       "  <tbody>\n",
       "    <tr>\n",
       "      <th>0</th>\n",
       "      <td>241</td>\n",
       "      <td>35</td>\n",
       "      <td>100</td>\n",
       "      <td>4</td>\n",
       "      <td>6</td>\n",
       "      <td>142</td>\n",
       "      <td>0</td>\n",
       "    </tr>\n",
       "    <tr>\n",
       "      <th>1</th>\n",
       "      <td>340</td>\n",
       "      <td>31</td>\n",
       "      <td>100</td>\n",
       "      <td>3</td>\n",
       "      <td>5</td>\n",
       "      <td>577</td>\n",
       "      <td>0</td>\n",
       "    </tr>\n",
       "    <tr>\n",
       "      <th>2</th>\n",
       "      <td>258</td>\n",
       "      <td>40</td>\n",
       "      <td>70</td>\n",
       "      <td>2</td>\n",
       "      <td>1</td>\n",
       "      <td>212</td>\n",
       "      <td>1</td>\n",
       "    </tr>\n",
       "    <tr>\n",
       "      <th>3</th>\n",
       "      <td>6</td>\n",
       "      <td>0</td>\n",
       "      <td>100</td>\n",
       "      <td>0</td>\n",
       "      <td>3</td>\n",
       "      <td>373</td>\n",
       "      <td>0</td>\n",
       "    </tr>\n",
       "    <tr>\n",
       "      <th>4</th>\n",
       "      <td>79</td>\n",
       "      <td>16</td>\n",
       "      <td>100</td>\n",
       "      <td>1</td>\n",
       "      <td>0</td>\n",
       "      <td>231</td>\n",
       "      <td>1</td>\n",
       "    </tr>\n",
       "  </tbody>\n",
       "</table>\n",
       "</div>"
      ],
      "text/plain": [
       "   Qualification  Experience  Rating  Profile  City  Area  \\\n",
       "0            241          35     100        4     6   142   \n",
       "1            340          31     100        3     5   577   \n",
       "2            258          40      70        2     1   212   \n",
       "3              6           0     100        0     3   373   \n",
       "4             79          16     100        1     0   231   \n",
       "\n",
       "   Has_Miscellaneous_Info  \n",
       "0                       0  \n",
       "1                       0  \n",
       "2                       1  \n",
       "3                       0  \n",
       "4                       1  "
      ]
     },
     "execution_count": 115,
     "metadata": {},
     "output_type": "execute_result"
    }
   ],
   "source": [
    "df_test.head()   #Checking the dataset after conversion"
   ]
  },
  {
   "cell_type": "code",
   "execution_count": 116,
   "metadata": {},
   "outputs": [],
   "source": [
    "#Dropping Has_Miscellaneous_Info column as it is not of much importance\n",
    "df_test.drop(columns='Has_Miscellaneous_Info',axis=1,inplace=True)"
   ]
  },
  {
   "cell_type": "markdown",
   "metadata": {},
   "source": [
    "Now all the columns are having numeric data and we can proceed further with analysis"
   ]
  },
  {
   "cell_type": "markdown",
   "metadata": {},
   "source": [
    "# Multivariate Analysis"
   ]
  },
  {
   "cell_type": "code",
   "execution_count": 117,
   "metadata": {},
   "outputs": [
    {
     "data": {
      "text/html": [
       "<div>\n",
       "<style scoped>\n",
       "    .dataframe tbody tr th:only-of-type {\n",
       "        vertical-align: middle;\n",
       "    }\n",
       "\n",
       "    .dataframe tbody tr th {\n",
       "        vertical-align: top;\n",
       "    }\n",
       "\n",
       "    .dataframe thead th {\n",
       "        text-align: right;\n",
       "    }\n",
       "</style>\n",
       "<table border=\"1\" class=\"dataframe\">\n",
       "  <thead>\n",
       "    <tr style=\"text-align: right;\">\n",
       "      <th></th>\n",
       "      <th>Qualification</th>\n",
       "      <th>Experience</th>\n",
       "      <th>Rating</th>\n",
       "      <th>Profile</th>\n",
       "      <th>City</th>\n",
       "      <th>Area</th>\n",
       "    </tr>\n",
       "  </thead>\n",
       "  <tbody>\n",
       "    <tr>\n",
       "      <th>count</th>\n",
       "      <td>1987.000000</td>\n",
       "      <td>1987.000000</td>\n",
       "      <td>1987.000000</td>\n",
       "      <td>1987.000000</td>\n",
       "      <td>1987.000000</td>\n",
       "      <td>1987.000000</td>\n",
       "    </tr>\n",
       "    <tr>\n",
       "      <th>mean</th>\n",
       "      <td>259.979869</td>\n",
       "      <td>17.874685</td>\n",
       "      <td>97.490689</td>\n",
       "      <td>2.508807</td>\n",
       "      <td>3.031706</td>\n",
       "      <td>288.216910</td>\n",
       "    </tr>\n",
       "    <tr>\n",
       "      <th>std</th>\n",
       "      <td>185.961177</td>\n",
       "      <td>11.366764</td>\n",
       "      <td>5.793117</td>\n",
       "      <td>1.654223</td>\n",
       "      <td>2.266597</td>\n",
       "      <td>173.420859</td>\n",
       "    </tr>\n",
       "    <tr>\n",
       "      <th>min</th>\n",
       "      <td>0.000000</td>\n",
       "      <td>0.000000</td>\n",
       "      <td>52.000000</td>\n",
       "      <td>0.000000</td>\n",
       "      <td>0.000000</td>\n",
       "      <td>0.000000</td>\n",
       "    </tr>\n",
       "    <tr>\n",
       "      <th>25%</th>\n",
       "      <td>93.000000</td>\n",
       "      <td>9.000000</td>\n",
       "      <td>98.000000</td>\n",
       "      <td>1.000000</td>\n",
       "      <td>1.000000</td>\n",
       "      <td>137.000000</td>\n",
       "    </tr>\n",
       "    <tr>\n",
       "      <th>50%</th>\n",
       "      <td>241.000000</td>\n",
       "      <td>15.000000</td>\n",
       "      <td>100.000000</td>\n",
       "      <td>2.000000</td>\n",
       "      <td>3.000000</td>\n",
       "      <td>289.000000</td>\n",
       "    </tr>\n",
       "    <tr>\n",
       "      <th>75%</th>\n",
       "      <td>417.000000</td>\n",
       "      <td>24.000000</td>\n",
       "      <td>100.000000</td>\n",
       "      <td>4.000000</td>\n",
       "      <td>5.000000</td>\n",
       "      <td>438.000000</td>\n",
       "    </tr>\n",
       "    <tr>\n",
       "      <th>max</th>\n",
       "      <td>629.000000</td>\n",
       "      <td>65.000000</td>\n",
       "      <td>100.000000</td>\n",
       "      <td>5.000000</td>\n",
       "      <td>7.000000</td>\n",
       "      <td>588.000000</td>\n",
       "    </tr>\n",
       "  </tbody>\n",
       "</table>\n",
       "</div>"
      ],
      "text/plain": [
       "       Qualification   Experience       Rating      Profile         City  \\\n",
       "count    1987.000000  1987.000000  1987.000000  1987.000000  1987.000000   \n",
       "mean      259.979869    17.874685    97.490689     2.508807     3.031706   \n",
       "std       185.961177    11.366764     5.793117     1.654223     2.266597   \n",
       "min         0.000000     0.000000    52.000000     0.000000     0.000000   \n",
       "25%        93.000000     9.000000    98.000000     1.000000     1.000000   \n",
       "50%       241.000000    15.000000   100.000000     2.000000     3.000000   \n",
       "75%       417.000000    24.000000   100.000000     4.000000     5.000000   \n",
       "max       629.000000    65.000000   100.000000     5.000000     7.000000   \n",
       "\n",
       "              Area  \n",
       "count  1987.000000  \n",
       "mean    288.216910  \n",
       "std     173.420859  \n",
       "min       0.000000  \n",
       "25%     137.000000  \n",
       "50%     289.000000  \n",
       "75%     438.000000  \n",
       "max     588.000000  "
      ]
     },
     "execution_count": 117,
     "metadata": {},
     "output_type": "execute_result"
    }
   ],
   "source": [
    "df_test.describe()    #Statistical summary of the dataset"
   ]
  },
  {
   "cell_type": "markdown",
   "metadata": {},
   "source": [
    "Observations:\n",
    "\n",
    "1.There is not much difference between the mean and the median\n",
    "\n",
    "2.The minimum value is 0 for all columns except Rating.\n",
    "\n",
    "3.The 75th percentile and max value difference for Qualification and Area columns are high and it is due to the presence of outliers."
   ]
  },
  {
   "cell_type": "code",
   "execution_count": 118,
   "metadata": {},
   "outputs": [
    {
     "data": {
      "text/html": [
       "<div>\n",
       "<style scoped>\n",
       "    .dataframe tbody tr th:only-of-type {\n",
       "        vertical-align: middle;\n",
       "    }\n",
       "\n",
       "    .dataframe tbody tr th {\n",
       "        vertical-align: top;\n",
       "    }\n",
       "\n",
       "    .dataframe thead th {\n",
       "        text-align: right;\n",
       "    }\n",
       "</style>\n",
       "<table border=\"1\" class=\"dataframe\">\n",
       "  <thead>\n",
       "    <tr style=\"text-align: right;\">\n",
       "      <th></th>\n",
       "      <th>Qualification</th>\n",
       "      <th>Experience</th>\n",
       "      <th>Rating</th>\n",
       "      <th>Profile</th>\n",
       "      <th>City</th>\n",
       "      <th>Area</th>\n",
       "    </tr>\n",
       "  </thead>\n",
       "  <tbody>\n",
       "    <tr>\n",
       "      <th>Qualification</th>\n",
       "      <td>1.000000</td>\n",
       "      <td>0.112672</td>\n",
       "      <td>-0.154947</td>\n",
       "      <td>0.372002</td>\n",
       "      <td>-0.036445</td>\n",
       "      <td>0.021960</td>\n",
       "    </tr>\n",
       "    <tr>\n",
       "      <th>Experience</th>\n",
       "      <td>0.112672</td>\n",
       "      <td>1.000000</td>\n",
       "      <td>-0.135230</td>\n",
       "      <td>0.154077</td>\n",
       "      <td>-0.003969</td>\n",
       "      <td>0.041298</td>\n",
       "    </tr>\n",
       "    <tr>\n",
       "      <th>Rating</th>\n",
       "      <td>-0.154947</td>\n",
       "      <td>-0.135230</td>\n",
       "      <td>1.000000</td>\n",
       "      <td>-0.037941</td>\n",
       "      <td>0.049778</td>\n",
       "      <td>0.015984</td>\n",
       "    </tr>\n",
       "    <tr>\n",
       "      <th>Profile</th>\n",
       "      <td>0.372002</td>\n",
       "      <td>0.154077</td>\n",
       "      <td>-0.037941</td>\n",
       "      <td>1.000000</td>\n",
       "      <td>0.030208</td>\n",
       "      <td>-0.002698</td>\n",
       "    </tr>\n",
       "    <tr>\n",
       "      <th>City</th>\n",
       "      <td>-0.036445</td>\n",
       "      <td>-0.003969</td>\n",
       "      <td>0.049778</td>\n",
       "      <td>0.030208</td>\n",
       "      <td>1.000000</td>\n",
       "      <td>-0.107065</td>\n",
       "    </tr>\n",
       "    <tr>\n",
       "      <th>Area</th>\n",
       "      <td>0.021960</td>\n",
       "      <td>0.041298</td>\n",
       "      <td>0.015984</td>\n",
       "      <td>-0.002698</td>\n",
       "      <td>-0.107065</td>\n",
       "      <td>1.000000</td>\n",
       "    </tr>\n",
       "  </tbody>\n",
       "</table>\n",
       "</div>"
      ],
      "text/plain": [
       "               Qualification  Experience    Rating   Profile      City  \\\n",
       "Qualification       1.000000    0.112672 -0.154947  0.372002 -0.036445   \n",
       "Experience          0.112672    1.000000 -0.135230  0.154077 -0.003969   \n",
       "Rating             -0.154947   -0.135230  1.000000 -0.037941  0.049778   \n",
       "Profile             0.372002    0.154077 -0.037941  1.000000  0.030208   \n",
       "City               -0.036445   -0.003969  0.049778  0.030208  1.000000   \n",
       "Area                0.021960    0.041298  0.015984 -0.002698 -0.107065   \n",
       "\n",
       "                   Area  \n",
       "Qualification  0.021960  \n",
       "Experience     0.041298  \n",
       "Rating         0.015984  \n",
       "Profile       -0.002698  \n",
       "City          -0.107065  \n",
       "Area           1.000000  "
      ]
     },
     "execution_count": 118,
     "metadata": {},
     "output_type": "execute_result"
    }
   ],
   "source": [
    "#Checking correlation of the dataset\n",
    "corr=df_test.corr()  #corr() function provides the correlation value of each column\n",
    "corr"
   ]
  },
  {
   "cell_type": "code",
   "execution_count": 119,
   "metadata": {},
   "outputs": [
    {
     "data": {
      "image/png": "[encoded data removed]",
      "text/plain": [
       "<Figure size 720x576 with 2 Axes>"
      ]
     },
     "metadata": {
      "needs_background": "light"
     },
     "output_type": "display_data"
    }
   ],
   "source": [
    "#Plotting heatmap for visualizing the correlation\n",
    "plt.figure(figsize=(10,8))\n",
    "sns.heatmap(corr,linewidth=0.5,linecolor='black',fmt='.0%',cmap='rainbow',annot=True)\n",
    "plt.show()"
   ]
  },
  {
   "cell_type": "markdown",
   "metadata": {},
   "source": [
    "Observations:\n",
    "\n",
    "1.There are more postive correlations present in the dataset\n",
    "\n",
    "2.Highest positive correlated column is Profile with Qualification and has a value of 37%.\n",
    "\n",
    "3.Highest negatively correlated column is Qualification with Rating and it has a value of -15%\n",
    "\n",
    "4.Positively correlated columns have a high impact with the target variable whereas negatively correlated columns have less or zero impact with the target variable."
   ]
  },
  {
   "cell_type": "markdown",
   "metadata": {},
   "source": [
    "# Checking skewness"
   ]
  },
  {
   "cell_type": "code",
   "execution_count": 120,
   "metadata": {},
   "outputs": [
    {
     "data": {
      "text/plain": [
       "Qualification    0.280822\n",
       "Experience       0.963447\n",
       "Rating          -3.824326\n",
       "Profile          0.028926\n",
       "City            -0.009157\n",
       "Area             0.041189\n",
       "dtype: float64"
      ]
     },
     "execution_count": 120,
     "metadata": {},
     "output_type": "execute_result"
    }
   ],
   "source": [
    "df_test.skew()"
   ]
  },
  {
   "cell_type": "markdown",
   "metadata": {},
   "source": [
    "Experience and Rating column have high skewness and it can be due to the presence of outliers"
   ]
  },
  {
   "cell_type": "code",
   "execution_count": 121,
   "metadata": {},
   "outputs": [
    {
     "data": {
      "image/png": "[encoded data removed]",
      "text/plain": [
       "<Figure size 432x288 with 1 Axes>"
      ]
     },
     "metadata": {
      "needs_background": "light"
     },
     "output_type": "display_data"
    },
    {
     "data": {
      "image/png": "[encoded data removed]",
      "text/plain": [
       "<Figure size 432x288 with 1 Axes>"
      ]
     },
     "metadata": {
      "needs_background": "light"
     },
     "output_type": "display_data"
    },
    {
     "data": {
      "image/png": "[encoded data removed]",
      "text/plain": [
       "<Figure size 432x288 with 1 Axes>"
      ]
     },
     "metadata": {
      "needs_background": "light"
     },
     "output_type": "display_data"
    },
    {
     "data": {
      "image/png": "[encoded data removed]",
      "text/plain": [
       "<Figure size 432x288 with 1 Axes>"
      ]
     },
     "metadata": {
      "needs_background": "light"
     },
     "output_type": "display_data"
    },
    {
     "data": {
      "image/png": "[encoded data removed]",
      "text/plain": [
       "<Figure size 432x288 with 1 Axes>"
      ]
     },
     "metadata": {
      "needs_background": "light"
     },
     "output_type": "display_data"
    },
    {
     "data": {
      "image/png": "[encoded data removed]",
      "text/plain": [
       "<Figure size 432x288 with 1 Axes>"
      ]
     },
     "metadata": {
      "needs_background": "light"
     },
     "output_type": "display_data"
    }
   ],
   "source": [
    "#Plotting distplot for checking the distribution of skewness\n",
    "for col in df_test.describe().columns:\n",
    "    sns.distplot(df_test[col])\n",
    "    plt.show()"
   ]
  },
  {
   "cell_type": "markdown",
   "metadata": {},
   "source": [
    "All the features data are not normally distributed and it is due to the presence of outliers"
   ]
  },
  {
   "cell_type": "markdown",
   "metadata": {},
   "source": [
    "# Checking outliers"
   ]
  },
  {
   "cell_type": "markdown",
   "metadata": {},
   "source": [
    "We can check outliers by plotting boxplot"
   ]
  },
  {
   "cell_type": "code",
   "execution_count": 122,
   "metadata": {},
   "outputs": [],
   "source": [
    "collist=df_test.columns.values\n",
    "nrows=10\n",
    "ncol=10"
   ]
  },
  {
   "cell_type": "code",
   "execution_count": 123,
   "metadata": {},
   "outputs": [
    {
     "data": {
      "image/png": "[encoded data removed]",
      "text/plain": [
       "<Figure size 720x3600 with 5 Axes>"
      ]
     },
     "metadata": {
      "needs_background": "light"
     },
     "output_type": "display_data"
    }
   ],
   "source": [
    "#Lets visualize outliers through boxplots\n",
    "plt.figure(figsize=(ncol,5*ncol))\n",
    "for i in range (1,len(collist)):\n",
    "    plt.subplot(nrows,ncol,i+1)\n",
    "    sns.boxplot(df_train[collist[i]],color='green',orient='v')\n",
    "    plt.tight_layout()"
   ]
  },
  {
   "cell_type": "markdown",
   "metadata": {},
   "source": [
    "As there are outliers present in this dataset, we can handle them by using z-score"
   ]
  },
  {
   "cell_type": "markdown",
   "metadata": {},
   "source": [
    "# Handling outliers by using z-score method "
   ]
  },
  {
   "cell_type": "code",
   "execution_count": 124,
   "metadata": {},
   "outputs": [
    {
     "data": {
      "text/plain": [
       "(array([   2,   17,   65,   72,  104,  139,  168,  195,  214,  258,  264,\n",
       "         362,  398,  412,  436,  449,  454,  564,  617,  622,  641,  652,\n",
       "         671,  676,  772,  773,  964,  976,  992,  992,  996, 1001, 1061,\n",
       "        1094, 1099, 1121, 1201, 1233, 1246, 1284, 1288, 1294, 1297, 1337,\n",
       "        1394, 1405, 1425, 1451, 1501, 1530, 1566, 1640, 1657, 1724, 1776,\n",
       "        1790, 1825, 1830, 1856, 1875, 1958], dtype=int64),\n",
       " array([2, 2, 2, 2, 1, 2, 2, 2, 2, 1, 1, 2, 1, 2, 2, 2, 2, 2, 1, 2, 1, 2,\n",
       "        2, 2, 2, 2, 2, 2, 1, 2, 2, 2, 2, 2, 2, 2, 2, 2, 1, 1, 2, 2, 1, 1,\n",
       "        2, 2, 2, 2, 2, 2, 2, 2, 2, 2, 2, 2, 2, 2, 2, 2, 2], dtype=int64))"
      ]
     },
     "execution_count": 124,
     "metadata": {},
     "output_type": "execute_result"
    }
   ],
   "source": [
    "from scipy.stats import zscore\n",
    "import numpy as np\n",
    "z=np.abs(zscore(df_test))   #converting all values into absolute values\n",
    "threshold=3    #setting up a threshold\n",
    "np.where(z>3)"
   ]
  },
  {
   "cell_type": "code",
   "execution_count": 125,
   "metadata": {},
   "outputs": [
    {
     "data": {
      "text/html": [
       "<div>\n",
       "<style scoped>\n",
       "    .dataframe tbody tr th:only-of-type {\n",
       "        vertical-align: middle;\n",
       "    }\n",
       "\n",
       "    .dataframe tbody tr th {\n",
       "        vertical-align: top;\n",
       "    }\n",
       "\n",
       "    .dataframe thead th {\n",
       "        text-align: right;\n",
       "    }\n",
       "</style>\n",
       "<table border=\"1\" class=\"dataframe\">\n",
       "  <thead>\n",
       "    <tr style=\"text-align: right;\">\n",
       "      <th></th>\n",
       "      <th>Qualification</th>\n",
       "      <th>Experience</th>\n",
       "      <th>Rating</th>\n",
       "      <th>Profile</th>\n",
       "      <th>City</th>\n",
       "      <th>Area</th>\n",
       "    </tr>\n",
       "  </thead>\n",
       "  <tbody>\n",
       "    <tr>\n",
       "      <th>0</th>\n",
       "      <td>241</td>\n",
       "      <td>35</td>\n",
       "      <td>100</td>\n",
       "      <td>4</td>\n",
       "      <td>6</td>\n",
       "      <td>142</td>\n",
       "    </tr>\n",
       "    <tr>\n",
       "      <th>1</th>\n",
       "      <td>340</td>\n",
       "      <td>31</td>\n",
       "      <td>100</td>\n",
       "      <td>3</td>\n",
       "      <td>5</td>\n",
       "      <td>577</td>\n",
       "    </tr>\n",
       "    <tr>\n",
       "      <th>3</th>\n",
       "      <td>6</td>\n",
       "      <td>0</td>\n",
       "      <td>100</td>\n",
       "      <td>0</td>\n",
       "      <td>3</td>\n",
       "      <td>373</td>\n",
       "    </tr>\n",
       "    <tr>\n",
       "      <th>4</th>\n",
       "      <td>79</td>\n",
       "      <td>16</td>\n",
       "      <td>100</td>\n",
       "      <td>1</td>\n",
       "      <td>0</td>\n",
       "      <td>231</td>\n",
       "    </tr>\n",
       "    <tr>\n",
       "      <th>5</th>\n",
       "      <td>78</td>\n",
       "      <td>14</td>\n",
       "      <td>90</td>\n",
       "      <td>1</td>\n",
       "      <td>1</td>\n",
       "      <td>552</td>\n",
       "    </tr>\n",
       "    <tr>\n",
       "      <th>...</th>\n",
       "      <td>...</td>\n",
       "      <td>...</td>\n",
       "      <td>...</td>\n",
       "      <td>...</td>\n",
       "      <td>...</td>\n",
       "      <td>...</td>\n",
       "    </tr>\n",
       "    <tr>\n",
       "      <th>1982</th>\n",
       "      <td>17</td>\n",
       "      <td>10</td>\n",
       "      <td>100</td>\n",
       "      <td>0</td>\n",
       "      <td>0</td>\n",
       "      <td>58</td>\n",
       "    </tr>\n",
       "    <tr>\n",
       "      <th>1983</th>\n",
       "      <td>548</td>\n",
       "      <td>4</td>\n",
       "      <td>100</td>\n",
       "      <td>2</td>\n",
       "      <td>1</td>\n",
       "      <td>96</td>\n",
       "    </tr>\n",
       "    <tr>\n",
       "      <th>1984</th>\n",
       "      <td>474</td>\n",
       "      <td>9</td>\n",
       "      <td>100</td>\n",
       "      <td>4</td>\n",
       "      <td>1</td>\n",
       "      <td>423</td>\n",
       "    </tr>\n",
       "    <tr>\n",
       "      <th>1985</th>\n",
       "      <td>51</td>\n",
       "      <td>12</td>\n",
       "      <td>98</td>\n",
       "      <td>1</td>\n",
       "      <td>0</td>\n",
       "      <td>26</td>\n",
       "    </tr>\n",
       "    <tr>\n",
       "      <th>1986</th>\n",
       "      <td>384</td>\n",
       "      <td>8</td>\n",
       "      <td>100</td>\n",
       "      <td>2</td>\n",
       "      <td>1</td>\n",
       "      <td>393</td>\n",
       "    </tr>\n",
       "  </tbody>\n",
       "</table>\n",
       "<p>1927 rows × 6 columns</p>\n",
       "</div>"
      ],
      "text/plain": [
       "      Qualification  Experience  Rating  Profile  City  Area\n",
       "0               241          35     100        4     6   142\n",
       "1               340          31     100        3     5   577\n",
       "3                 6           0     100        0     3   373\n",
       "4                79          16     100        1     0   231\n",
       "5                78          14      90        1     1   552\n",
       "...             ...         ...     ...      ...   ...   ...\n",
       "1982             17          10     100        0     0    58\n",
       "1983            548           4     100        2     1    96\n",
       "1984            474           9     100        4     1   423\n",
       "1985             51          12      98        1     0    26\n",
       "1986            384           8     100        2     1   393\n",
       "\n",
       "[1927 rows x 6 columns]"
      ]
     },
     "execution_count": 125,
     "metadata": {},
     "output_type": "execute_result"
    }
   ],
   "source": [
    "#Removing outliers\n",
    "df_newtest=df_test[(z<3).all(axis=1)]\n",
    "df_newtest"
   ]
  },
  {
   "cell_type": "code",
   "execution_count": 126,
   "metadata": {},
   "outputs": [
    {
     "data": {
      "text/plain": [
       "(1987, 6)"
      ]
     },
     "execution_count": 126,
     "metadata": {},
     "output_type": "execute_result"
    }
   ],
   "source": [
    "df_test.shape   #Original dataset dimensions"
   ]
  },
  {
   "cell_type": "code",
   "execution_count": 127,
   "metadata": {},
   "outputs": [
    {
     "data": {
      "text/plain": [
       "(1927, 6)"
      ]
     },
     "execution_count": 127,
     "metadata": {},
     "output_type": "execute_result"
    }
   ],
   "source": [
    "df_newtest.shape  #New dataset dimensions"
   ]
  },
  {
   "cell_type": "markdown",
   "metadata": {},
   "source": [
    "60 rows of data had outliers and it has been removed by using z-score method"
   ]
  },
  {
   "cell_type": "markdown",
   "metadata": {},
   "source": [
    "# Percentage loss of data after removal of outliers"
   ]
  },
  {
   "cell_type": "code",
   "execution_count": 128,
   "metadata": {},
   "outputs": [
    {
     "name": "stdout",
     "output_type": "stream",
     "text": [
      "3.019627579265224\n"
     ]
    }
   ],
   "source": [
    "percentage_loss=((60)/1987)*100   #60 = 1987-1927\n",
    "print(percentage_loss)"
   ]
  },
  {
   "cell_type": "markdown",
   "metadata": {},
   "source": [
    "Nearly 3% of data has been lost due to the removal of outliers"
   ]
  },
  {
   "cell_type": "markdown",
   "metadata": {},
   "source": [
    "# Treating skewness"
   ]
  },
  {
   "cell_type": "code",
   "execution_count": 129,
   "metadata": {},
   "outputs": [],
   "source": [
    "#We are treating skewness by using square root transform\n",
    "for col in df_newtest.skew().index:\n",
    "    if col in df_newtest.describe().columns:\n",
    "        if df_newtest[col].skew()>0.55:\n",
    "            df_newtest[col]=np.sqrt(df_newtest[col])\n",
    "        if df_newtest[col].skew()<-0.55:\n",
    "            df_newtest[col]=np.cbrt(df_newtest[col])"
   ]
  },
  {
   "cell_type": "code",
   "execution_count": 130,
   "metadata": {},
   "outputs": [
    {
     "data": {
      "text/plain": [
       "Qualification    0.318413\n",
       "Experience      -0.003140\n",
       "Rating          -2.540236\n",
       "Profile          0.050704\n",
       "City            -0.007042\n",
       "Area             0.044755\n",
       "dtype: float64"
      ]
     },
     "execution_count": 130,
     "metadata": {},
     "output_type": "execute_result"
    }
   ],
   "source": [
    "df_newtest.skew()   #Checking skewness after treating it"
   ]
  },
  {
   "cell_type": "markdown",
   "metadata": {},
   "source": [
    "The skewness present in the data has been treated and now we can proceed further with the predictions of test data we have"
   ]
  },
  {
   "cell_type": "markdown",
   "metadata": {},
   "source": [
    "# Loading the saved best model"
   ]
  },
  {
   "cell_type": "code",
   "execution_count": 131,
   "metadata": {},
   "outputs": [],
   "source": [
    "fitted_model=pickle.load(open('DoctorFees_Project.pkl','rb'))"
   ]
  },
  {
   "cell_type": "code",
   "execution_count": 132,
   "metadata": {},
   "outputs": [
    {
     "data": {
      "text/plain": [
       "RandomForestRegressor(criterion='mae', max_features='sqrt', n_estimators=500,\n",
       "                      random_state=523)"
      ]
     },
     "execution_count": 132,
     "metadata": {},
     "output_type": "execute_result"
    }
   ],
   "source": [
    "fitted_model   #Checking the model we have saved"
   ]
  },
  {
   "cell_type": "markdown",
   "metadata": {},
   "source": [
    "We can see that RandomForestRegressor algorithm, which was finalized and saved after we found that it was the best model performing, is loaded and it is also showing the best parameters we obtained while doing Hyperparameter Tuning."
   ]
  },
  {
   "cell_type": "markdown",
   "metadata": {},
   "source": [
    "# Predictions over test data "
   ]
  },
  {
   "cell_type": "code",
   "execution_count": 133,
   "metadata": {},
   "outputs": [],
   "source": [
    "test_predictions=fitted_model.predict(df_newtest)   #Predicting the values"
   ]
  },
  {
   "cell_type": "code",
   "execution_count": 134,
   "metadata": {},
   "outputs": [
    {
     "data": {
      "text/plain": [
       "array([396.01, 396.01, 348.99, ..., 391.81, 375.2 , 391.81])"
      ]
     },
     "execution_count": 134,
     "metadata": {},
     "output_type": "execute_result"
    }
   ],
   "source": [
    "#Checking the predictions\n",
    "test_predictions"
   ]
  },
  {
   "cell_type": "markdown",
   "metadata": {},
   "source": [
    "We have predicted the values over the test data and now we will save the predicted values separately"
   ]
  },
  {
   "cell_type": "markdown",
   "metadata": {},
   "source": [
    "# Saving the predicted values"
   ]
  },
  {
   "cell_type": "code",
   "execution_count": 135,
   "metadata": {},
   "outputs": [],
   "source": [
    "test_results=pd.DataFrame(test_predictions)\n",
    "test_results.to_csv('DoctorFees_Project_TestDataResults.csv')"
   ]
  },
  {
   "cell_type": "markdown",
   "metadata": {},
   "source": [
    "# Conclusion"
   ]
  },
  {
   "cell_type": "markdown",
   "metadata": {},
   "source": [
    "-> After getting an insight of this dataset, we were able to understand that doctor's fees are given on basis of different          features.\n",
    "\n",
    "-> First we loaded the train dataset and did the EDA process and other pre-processing techniques like skewness check and            removal, handling the outliers present, filling the missing data, visualizing the distribution of data,etc.\n",
    "\n",
    "-> Then we did the model training, building the model and finding out the best model on the basis of different metrices scores      we got like Mean Absolute Error, Mean squared Error, Root Mean Squared Error, etc.\n",
    "\n",
    "-> We got LinearRegression and Ridge Regression Algorithm as the best algorithms among all as it gave more r2_score and            cross_val_score. Then for finding out the best parameter and improving the scores, we performed Hyperparameter Tuning.\n",
    "\n",
    "-> As the scores were not increased, we also tried using Ensemble Techniques like RandomForestRegressor, AdaBoostRegressor and      GradientBoostingRegressor algorithms for boosting up our scores. Finally we concluded that RandomForestRegressor was the best    performing algorithm, although there were more errors in it and it had less RMSE compared to other algorithms. \n",
    "\n",
    "-> We saved the model in a pickle with a filename inorder to use wheneven we require.\n",
    "\n",
    "-> We predicted the values obtained and saved it separately in a csv file.\n",
    "\n",
    "-> Then we used the test dataset and performed all the pre-processing pipeline methods to it.\n",
    "\n",
    "-> After handling outliers and treating skewness, we loaded the saved model that we obtained and did the predictions over the      test data and then saving the predictions separately in a csv file.\n",
    "\n",
    "-> From this project, we learnt that how to handle train and test data separately and how to predict the values from them. This    will be useful while we are working in a real-time case study as we can get any new data from the client we work on and we      can proceed our analysis by loading the best model we obtained and start working on the analysis of the new data we have.\n",
    "\n",
    "-> The final result will be the predictions we get from the new data and saving it separately.\n",
    "\n",
    "-> Overall, we can say that this dataset is not upto the mark for predicting the doctor's consulting fees using regression          analysis and RandomForestRegressor is the best working algorithm model we obtained.\n",
    "\n",
    "-> We can improve the data by adding more features that are positively correlated with the target variable, having less            outliers, normally distributed values, etc."
   ]
  }
 ],
 "metadata": {
  "kernelspec": {
   "display_name": "Python 3",
   "language": "python",
   "name": "python3"
  },
  "language_info": {
   "codemirror_mode": {
    "name": "ipython",
    "version": 3
   },
   "file_extension": ".py",
   "mimetype": "text/x-python",
   "name": "python",
   "nbconvert_exporter": "python",
   "pygments_lexer": "ipython3",
   "version": "3.8.3"
  }
 },
 "nbformat": 4,
 "nbformat_minor": 4
}
