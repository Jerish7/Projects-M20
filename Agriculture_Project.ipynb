{
 "cells": [
  {
   "cell_type": "code",
   "execution_count": 1,
   "metadata": {},
   "outputs": [],
   "source": [
    "#Importing warning library to avoid any warnings\n",
    "import warnings\n",
    "warnings.filterwarnings('ignore')"
   ]
  },
  {
   "cell_type": "markdown",
   "metadata": {},
   "source": [
    "# Loading the train dataset"
   ]
  },
  {
   "cell_type": "code",
   "execution_count": 2,
   "metadata": {},
   "outputs": [
    {
     "data": {
      "text/html": [
       "<div>\n",
       "<style scoped>\n",
       "    .dataframe tbody tr th:only-of-type {\n",
       "        vertical-align: middle;\n",
       "    }\n",
       "\n",
       "    .dataframe tbody tr th {\n",
       "        vertical-align: top;\n",
       "    }\n",
       "\n",
       "    .dataframe thead th {\n",
       "        text-align: right;\n",
       "    }\n",
       "</style>\n",
       "<table border=\"1\" class=\"dataframe\">\n",
       "  <thead>\n",
       "    <tr style=\"text-align: right;\">\n",
       "      <th></th>\n",
       "      <th>ID</th>\n",
       "      <th>Estimated_Insects_Count</th>\n",
       "      <th>Crop_Type</th>\n",
       "      <th>Soil_Type</th>\n",
       "      <th>Pesticide_Use_Category</th>\n",
       "      <th>Number_Doses_Week</th>\n",
       "      <th>Number_Weeks_Used</th>\n",
       "      <th>Number_Weeks_Quit</th>\n",
       "      <th>Season</th>\n",
       "      <th>Crop_Damage</th>\n",
       "    </tr>\n",
       "  </thead>\n",
       "  <tbody>\n",
       "    <tr>\n",
       "      <th>0</th>\n",
       "      <td>F00000001</td>\n",
       "      <td>188</td>\n",
       "      <td>1</td>\n",
       "      <td>0</td>\n",
       "      <td>1</td>\n",
       "      <td>0</td>\n",
       "      <td>0.0</td>\n",
       "      <td>0</td>\n",
       "      <td>1</td>\n",
       "      <td>0</td>\n",
       "    </tr>\n",
       "    <tr>\n",
       "      <th>1</th>\n",
       "      <td>F00000003</td>\n",
       "      <td>209</td>\n",
       "      <td>1</td>\n",
       "      <td>0</td>\n",
       "      <td>1</td>\n",
       "      <td>0</td>\n",
       "      <td>0.0</td>\n",
       "      <td>0</td>\n",
       "      <td>2</td>\n",
       "      <td>1</td>\n",
       "    </tr>\n",
       "    <tr>\n",
       "      <th>2</th>\n",
       "      <td>F00000004</td>\n",
       "      <td>257</td>\n",
       "      <td>1</td>\n",
       "      <td>0</td>\n",
       "      <td>1</td>\n",
       "      <td>0</td>\n",
       "      <td>0.0</td>\n",
       "      <td>0</td>\n",
       "      <td>2</td>\n",
       "      <td>1</td>\n",
       "    </tr>\n",
       "    <tr>\n",
       "      <th>3</th>\n",
       "      <td>F00000005</td>\n",
       "      <td>257</td>\n",
       "      <td>1</td>\n",
       "      <td>1</td>\n",
       "      <td>1</td>\n",
       "      <td>0</td>\n",
       "      <td>0.0</td>\n",
       "      <td>0</td>\n",
       "      <td>2</td>\n",
       "      <td>1</td>\n",
       "    </tr>\n",
       "    <tr>\n",
       "      <th>4</th>\n",
       "      <td>F00000006</td>\n",
       "      <td>342</td>\n",
       "      <td>1</td>\n",
       "      <td>0</td>\n",
       "      <td>1</td>\n",
       "      <td>0</td>\n",
       "      <td>0.0</td>\n",
       "      <td>0</td>\n",
       "      <td>2</td>\n",
       "      <td>1</td>\n",
       "    </tr>\n",
       "  </tbody>\n",
       "</table>\n",
       "</div>"
      ],
      "text/plain": [
       "          ID  Estimated_Insects_Count  Crop_Type  Soil_Type  \\\n",
       "0  F00000001                      188          1          0   \n",
       "1  F00000003                      209          1          0   \n",
       "2  F00000004                      257          1          0   \n",
       "3  F00000005                      257          1          1   \n",
       "4  F00000006                      342          1          0   \n",
       "\n",
       "   Pesticide_Use_Category  Number_Doses_Week  Number_Weeks_Used  \\\n",
       "0                       1                  0                0.0   \n",
       "1                       1                  0                0.0   \n",
       "2                       1                  0                0.0   \n",
       "3                       1                  0                0.0   \n",
       "4                       1                  0                0.0   \n",
       "\n",
       "   Number_Weeks_Quit  Season  Crop_Damage  \n",
       "0                  0       1            0  \n",
       "1                  0       2            1  \n",
       "2                  0       2            1  \n",
       "3                  0       2            1  \n",
       "4                  0       2            1  "
      ]
     },
     "execution_count": 2,
     "metadata": {},
     "output_type": "execute_result"
    }
   ],
   "source": [
    "import pandas as pd\n",
    "df_train=pd.read_csv('D:/Python file/Project Datasets/FinalEval/train_agriculture.csv')  #Path location of the dataset\n",
    "df_train.head()  #Checking out the top 5 rows of the dataset"
   ]
  },
  {
   "cell_type": "code",
   "execution_count": 3,
   "metadata": {},
   "outputs": [
    {
     "data": {
      "text/plain": [
       "(4599, 10)"
      ]
     },
     "execution_count": 3,
     "metadata": {},
     "output_type": "execute_result"
    }
   ],
   "source": [
    "df_train.shape    #Checking the dimensions of the dataset"
   ]
  },
  {
   "cell_type": "code",
   "execution_count": 4,
   "metadata": {},
   "outputs": [
    {
     "data": {
      "text/plain": [
       "Index(['ID', 'Estimated_Insects_Count', 'Crop_Type', 'Soil_Type',\n",
       "       'Pesticide_Use_Category', 'Number_Doses_Week', 'Number_Weeks_Used',\n",
       "       'Number_Weeks_Quit', 'Season', 'Crop_Damage'],\n",
       "      dtype='object')"
      ]
     },
     "execution_count": 4,
     "metadata": {},
     "output_type": "execute_result"
    }
   ],
   "source": [
    "df_train.columns   #Checking out the columns of the dataset"
   ]
  },
  {
   "cell_type": "markdown",
   "metadata": {},
   "source": [
    "# Dataset Description"
   ]
  },
  {
   "cell_type": "markdown",
   "metadata": {},
   "source": [
    "Machine Learning in Agriculture:\n",
    "\n",
    "    Recently we have observed the emerging concept of smart farming that makes agriculture more efficient and effective with the help of high-precision algorithms. The mechanism that drives it is Machine Learning — the scientific field that     gives machines the ability to learn without being strictly programmed. It has emerged together with big data            technologies and high-performance computing to create new opportunities to unravel, quantify, and understand data       intensive processes in agricultural operational environments.\n",
    "\n",
    "     Machine learning is everywhere throughout the whole growing and harvesting cycle. It begins with a seed being planted  in the soil — from the soil preparation, seeds breeding and water feed measurement — and it ends when neural networks   pick up the harvest determining the ripeness with the help of computer vision.\n",
    "     \n",
    "Description of the Dataset:\n",
    "\n",
    "    Though, many of us don't appreciate much, but a farmer's job is real test of endurance and determination. Once the seeds are sown, he works days and nights to make sure that he cultivates a good harvest at the end of season. A good harvest  is ensured by several factors such as availability of water, soil fertility, protecting crops from rodents, timely use  of pesticides & other useful chemicals and nature. While a lot of these factors are difficult to control for, the amount and frequency of pesticides is something the farmer can control.\n",
    "\n",
    "    Pesticides are also special, because while they protect the crop with the right dosage. But, if you add more than        required, they may spoil the entire harvest. A high level of pesticide can deem the crop dead / unsuitable for          consumption among many outcomes. This data is based on crops harvested by various farmers at the end of harvest season. To simplify the problem, you can assume that all other factors like variations in farming techniques have been          controlled for.\n",
    "    \n",
    "-> This dataset has nearly 4500+ rows and 10 columns and the description of the columns are given below:\n",
    "\n",
    "1.ID - Unique ID\n",
    "\n",
    "2.Estimated_Insects_Count - Estimated insects count per square meter\n",
    "\n",
    "3.Crop_Type - Category of Crop (0 and 1) \n",
    "\n",
    "4.Soil_Type - Category of Soil (0 and 1)\n",
    "\n",
    "5.Pesticide_Use_Category - Type of pesticides used (1- Never, 2-Previously Used, 3-Currently Using) \n",
    "\n",
    "6.Number_Doses_Week - Number of doses per week\n",
    "\n",
    "7.Number_Weeks_Used - Number of weeks used\n",
    "\n",
    "8.Number_Weeks_Quit - Number of weeks quit\n",
    "\n",
    "9.Season - Season category (1,2,3) \n",
    "\n",
    "10.Crop_Damage - Crop damage category (0-alive, 1-damage due to other causes, 2-damage due to pesticides)"
   ]
  },
  {
   "cell_type": "markdown",
   "metadata": {},
   "source": [
    "# Our agenda in this project"
   ]
  },
  {
   "cell_type": "markdown",
   "metadata": {},
   "source": [
    "->We need to determine the outcome of the harvest season, i.e. whether the crop would be healthy (alive), damaged by pesticides   or damaged by other reasons and we need to approach by using classification analysis.\n",
    "\n",
    "->First, use the train dataset and do the EDA process, fitting the best model and saving the model.\n",
    "\n",
    "->Then, use the test dataset and do the EDA process, load the saved model aand predict the values over the test data."
   ]
  },
  {
   "cell_type": "code",
   "execution_count": 5,
   "metadata": {},
   "outputs": [
    {
     "name": "stdout",
     "output_type": "stream",
     "text": [
      "<class 'pandas.core.frame.DataFrame'>\n",
      "RangeIndex: 4599 entries, 0 to 4598\n",
      "Data columns (total 10 columns):\n",
      " #   Column                   Non-Null Count  Dtype  \n",
      "---  ------                   --------------  -----  \n",
      " 0   ID                       4599 non-null   object \n",
      " 1   Estimated_Insects_Count  4599 non-null   int64  \n",
      " 2   Crop_Type                4599 non-null   int64  \n",
      " 3   Soil_Type                4599 non-null   int64  \n",
      " 4   Pesticide_Use_Category   4599 non-null   int64  \n",
      " 5   Number_Doses_Week        4599 non-null   int64  \n",
      " 6   Number_Weeks_Used        4157 non-null   float64\n",
      " 7   Number_Weeks_Quit        4599 non-null   int64  \n",
      " 8   Season                   4599 non-null   int64  \n",
      " 9   Crop_Damage              4599 non-null   int64  \n",
      "dtypes: float64(1), int64(8), object(1)\n",
      "memory usage: 359.4+ KB\n"
     ]
    }
   ],
   "source": [
    "df_train.info()    #Checking the datatype of all the columns present"
   ]
  },
  {
   "cell_type": "code",
   "execution_count": 6,
   "metadata": {},
   "outputs": [
    {
     "data": {
      "text/plain": [
       "ID                           0\n",
       "Estimated_Insects_Count      0\n",
       "Crop_Type                    0\n",
       "Soil_Type                    0\n",
       "Pesticide_Use_Category       0\n",
       "Number_Doses_Week            0\n",
       "Number_Weeks_Used          442\n",
       "Number_Weeks_Quit            0\n",
       "Season                       0\n",
       "Crop_Damage                  0\n",
       "dtype: int64"
      ]
     },
     "execution_count": 6,
     "metadata": {},
     "output_type": "execute_result"
    }
   ],
   "source": [
    "df_train.isnull().sum()   #Checking for null values in the dataset"
   ]
  },
  {
   "cell_type": "markdown",
   "metadata": {},
   "source": [
    "There are missing values in Number_Weeks_Used column and we need to fill it."
   ]
  },
  {
   "cell_type": "markdown",
   "metadata": {},
   "source": [
    "# Exploratory Data Analysis"
   ]
  },
  {
   "cell_type": "code",
   "execution_count": 7,
   "metadata": {},
   "outputs": [],
   "source": [
    "#Importing Matplotlib and Seaborn\n",
    "import seaborn as sns\n",
    "import matplotlib.pyplot as plt"
   ]
  },
  {
   "cell_type": "markdown",
   "metadata": {},
   "source": [
    "# Univariate Analysis"
   ]
  },
  {
   "cell_type": "code",
   "execution_count": 8,
   "metadata": {},
   "outputs": [
    {
     "name": "stdout",
     "output_type": "stream",
     "text": [
      "0    3820\n",
      "1     664\n",
      "2     115\n",
      "Name: Crop_Damage, dtype: int64\n",
      "\n",
      "0 for alive \t 1 for damage due to other causes \t 2 for damage due to Pesticides\n"
     ]
    },
    {
     "data": {
      "image/png": "[encoded data removed]",
      "text/plain": [
       "<Figure size 432x288 with 1 Axes>"
      ]
     },
     "metadata": {
      "needs_background": "light"
     },
     "output_type": "display_data"
    }
   ],
   "source": [
    "#Plotting countplot for Crop Damage \n",
    "print(df_train['Crop_Damage'].value_counts())\n",
    "print()\n",
    "print('0 for alive','\\t','1 for damage due to other causes','\\t','2 for damage due to Pesticides')\n",
    "plt.subplots(figsize=(6,4))\n",
    "sns.countplot(x='Crop_Damage',data=df_train)\n",
    "plt.xlabel('Crop Damage Category')\n",
    "plt.ylabel('Count of crop damage')\n",
    "plt.show()"
   ]
  },
  {
   "cell_type": "markdown",
   "metadata": {},
   "source": [
    "We can see that 3820 crops are alive, 664 crops are damaged due to other causes and 115 crops are damaged due to pesticides"
   ]
  },
  {
   "cell_type": "code",
   "execution_count": 9,
   "metadata": {},
   "outputs": [
    {
     "name": "stdout",
     "output_type": "stream",
     "text": [
      "0    3565\n",
      "1    1034\n",
      "Name: Crop_Type, dtype: int64\n"
     ]
    },
    {
     "data": {
      "image/png": "[encoded data removed]",
      "text/plain": [
       "<Figure size 720x288 with 1 Axes>"
      ]
     },
     "metadata": {
      "needs_background": "light"
     },
     "output_type": "display_data"
    }
   ],
   "source": [
    "#Plotting for Crop_Types\n",
    "print(df_train['Crop_Type'].value_counts())\n",
    "plt.subplots(figsize=(10,4))\n",
    "sns.countplot(x='Crop_Type',data=df_train)\n",
    "plt.title('Number of Crop types present')\n",
    "plt.xlabel('Crop_Type')\n",
    "plt.ylabel('Count of Crop_Type')\n",
    "plt.show()"
   ]
  },
  {
   "cell_type": "markdown",
   "metadata": {},
   "source": [
    "There are 3565 crops of 0th type and 1034 crops of 1st type respectively."
   ]
  },
  {
   "cell_type": "code",
   "execution_count": 10,
   "metadata": {},
   "outputs": [
    {
     "name": "stdout",
     "output_type": "stream",
     "text": [
      "0    2407\n",
      "1    2192\n",
      "Name: Soil_Type, dtype: int64\n"
     ]
    },
    {
     "data": {
      "image/png": "[encoded data removed]",
      "text/plain": [
       "<Figure size 720x288 with 1 Axes>"
      ]
     },
     "metadata": {
      "needs_background": "light"
     },
     "output_type": "display_data"
    }
   ],
   "source": [
    "#Plotting for Soil Type\n",
    "print(df_train['Soil_Type'].value_counts())\n",
    "plt.subplots(figsize=(10,4))\n",
    "sns.countplot(x='Soil_Type',data=df_train)\n",
    "plt.title('Number of Soil Types')\n",
    "plt.xlabel('Soil_Type')\n",
    "plt.ylabel('Count of Soil_Type')\n",
    "plt.show()"
   ]
  },
  {
   "cell_type": "markdown",
   "metadata": {},
   "source": [
    "There are 2407 soils of 0th type and 2192 soils of 1st type respectively"
   ]
  },
  {
   "cell_type": "code",
   "execution_count": 11,
   "metadata": {},
   "outputs": [
    {
     "name": "stdout",
     "output_type": "stream",
     "text": [
      "2    3205\n",
      "3    1349\n",
      "1      45\n",
      "Name: Pesticide_Use_Category, dtype: int64\n",
      "\n",
      "1 for Never \t 2 for previously used \t 3 for currently using\n"
     ]
    },
    {
     "data": {
      "text/plain": [
       "Text(0, 0.5, 'Count of Pesticide_Use_Category')"
      ]
     },
     "execution_count": 11,
     "metadata": {},
     "output_type": "execute_result"
    },
    {
     "data": {
      "image/png": "[encoded data removed]",
      "text/plain": [
       "<Figure size 720x288 with 1 Axes>"
      ]
     },
     "metadata": {
      "needs_background": "light"
     },
     "output_type": "display_data"
    }
   ],
   "source": [
    "#Plotting for Pesticide use category\n",
    "print(df_train['Pesticide_Use_Category'].value_counts())\n",
    "print()\n",
    "print('1 for Never','\\t','2 for previously used','\\t','3 for currently using')\n",
    "plt.subplots(figsize=(10,4))\n",
    "sns.countplot(x='Pesticide_Use_Category',data=df_train)\n",
    "plt.title('Number of Pesticide_Use_Category')\n",
    "plt.xlabel('Pesticide_Use_Category')\n",
    "plt.ylabel('Count of Pesticide_Use_Category')"
   ]
  },
  {
   "cell_type": "markdown",
   "metadata": {},
   "source": [
    "There are 45 pesticides which has never been used, 3205 pesticides which are previously used and 1349 pesticides which are currently used"
   ]
  },
  {
   "cell_type": "code",
   "execution_count": 12,
   "metadata": {},
   "outputs": [
    {
     "data": {
      "image/png": "[encoded data removed]",
      "text/plain": [
       "<Figure size 432x288 with 1 Axes>"
      ]
     },
     "metadata": {
      "needs_background": "light"
     },
     "output_type": "display_data"
    }
   ],
   "source": [
    "#Checking the distribution of Estimated insects count using violin plot\n",
    "sns.violinplot(df_train['Estimated_Insects_Count'])\n",
    "plt.show()"
   ]
  },
  {
   "cell_type": "markdown",
   "metadata": {},
   "source": [
    "Mostly the range of estimated insects count fall between 1000-2000"
   ]
  },
  {
   "cell_type": "code",
   "execution_count": 13,
   "metadata": {},
   "outputs": [
    {
     "name": "stdout",
     "output_type": "stream",
     "text": [
      "1132    193\n",
      "1212    187\n",
      "1385    182\n",
      "1056    180\n",
      "1478    177\n",
      "       ... \n",
      "3515      7\n",
      "151       7\n",
      "169       4\n",
      "231       4\n",
      "4097      2\n",
      "Name: Estimated_Insects_Count, Length: 71, dtype: int64\n",
      "\n"
     ]
    },
    {
     "data": {
      "image/png": "[encoded data removed]",
      "text/plain": [
       "<Figure size 1152x288 with 1 Axes>"
      ]
     },
     "metadata": {
      "needs_background": "light"
     },
     "output_type": "display_data"
    }
   ],
   "source": [
    "#Checking the number of insects count \n",
    "print(df_train['Estimated_Insects_Count'].value_counts())\n",
    "print()\n",
    "plt.subplots(figsize=(16,4))\n",
    "sns.countplot(x='Estimated_Insects_Count',data=df_train)\n",
    "plt.title('Number of Estimated_Insects_Count')\n",
    "plt.xlabel('Estimated_Insects_Count')\n",
    "plt.ylabel('Count')\n",
    "plt.xticks(rotation=90)\n",
    "plt.show()"
   ]
  },
  {
   "cell_type": "markdown",
   "metadata": {},
   "source": [
    "We can see that 1132 is the maximum insects count whereas 2 is the minimum insects count "
   ]
  },
  {
   "cell_type": "markdown",
   "metadata": {},
   "source": [
    "# Bivariate Analysis"
   ]
  },
  {
   "cell_type": "code",
   "execution_count": 14,
   "metadata": {},
   "outputs": [
    {
     "name": "stdout",
     "output_type": "stream",
     "text": [
      "Season  Crop_Damage\n",
      "1       0              1150\n",
      "        1               192\n",
      "        2                37\n",
      "2       0              1908\n",
      "        1               358\n",
      "        2                61\n",
      "3       0               762\n",
      "        1               114\n",
      "        2                17\n",
      "Name: Crop_Damage, dtype: int64 \n",
      "\n"
     ]
    },
    {
     "data": {
      "image/png": "[encoded data removed]",
      "text/plain": [
       "<Figure size 432x288 with 1 Axes>"
      ]
     },
     "metadata": {
      "needs_background": "light"
     },
     "output_type": "display_data"
    }
   ],
   "source": [
    "#Countplot for checking crop damage based on season\n",
    "print(df_train.groupby('Season')['Crop_Damage'].value_counts(),\"\\n\")\n",
    "sns.countplot(x='Season',hue='Crop_Damage',data=df_train)\n",
    "plt.title('Crop damage based on Season')\n",
    "plt.xlabel('Season Category')\n",
    "plt.ylabel('Count of crop')\n",
    "plt.show()"
   ]
  },
  {
   "cell_type": "markdown",
   "metadata": {},
   "source": [
    "-> Season 2 has the less damage among all seasons as pesticides were not used on 1908 crops and less number of crops that were      damaged due to pesticides are on 3rd season with 17 crops damaged.\n",
    "\n",
    "-> More damage on crops due to other reasons are in Season 2 with 358 crops."
   ]
  },
  {
   "cell_type": "code",
   "execution_count": 15,
   "metadata": {},
   "outputs": [
    {
     "name": "stdout",
     "output_type": "stream",
     "text": [
      "Soil_Type  Crop_Damage\n",
      "0          0              1947\n",
      "           1               390\n",
      "           2                70\n",
      "1          0              1873\n",
      "           1               274\n",
      "           2                45\n",
      "Name: Crop_Damage, dtype: int64 \n",
      "\n"
     ]
    },
    {
     "data": {
      "image/png": "[encoded data removed]",
      "text/plain": [
       "<Figure size 432x288 with 1 Axes>"
      ]
     },
     "metadata": {
      "needs_background": "light"
     },
     "output_type": "display_data"
    }
   ],
   "source": [
    "#Checking soil type based on crop damage\n",
    "print(df_train.groupby('Soil_Type')['Crop_Damage'].value_counts(),\"\\n\")\n",
    "sns.countplot(x='Soil_Type',hue='Crop_Damage',data=df_train)\n",
    "plt.title('Crop damage based on Soil Type')\n",
    "plt.xlabel('Soil_Type')\n",
    "plt.ylabel('Count of crop')\n",
    "plt.show()"
   ]
  },
  {
   "cell_type": "markdown",
   "metadata": {},
   "source": [
    "Maximum damage of crops are in 0th type of soil with 70 crops due to pesticides and they also have the most alive crops with 1947."
   ]
  },
  {
   "cell_type": "code",
   "execution_count": 16,
   "metadata": {},
   "outputs": [
    {
     "data": {
      "text/plain": [
       "<seaborn.axisgrid.FacetGrid at 0x1273fd3db80>"
      ]
     },
     "execution_count": 16,
     "metadata": {},
     "output_type": "execute_result"
    },
    {
     "data": {
      "image/png": "[encoded data removed]",
      "text/plain": [
       "<Figure size 438.125x360 with 1 Axes>"
      ]
     },
     "metadata": {
      "needs_background": "light"
     },
     "output_type": "display_data"
    }
   ],
   "source": [
    "#Plotting Pesticide use category vs Number doses week on the basis of crop damage using factorplot\n",
    "sns.factorplot(x='Pesticide_Use_Category',y='Number_Doses_Week',hue='Crop_Damage',palette='twilight',data=df_train,kind='bar')"
   ]
  },
  {
   "cell_type": "markdown",
   "metadata": {},
   "source": [
    "Observations:\n",
    "\n",
    "1.We can observe that if we are not using any pesicides, there is no crop damage at all. \n",
    "\n",
    "2.If we are using previously used pesticides, the damage is more as the doses of pesticides per week is increased.\n",
    "\n",
    "3.For currently using pesticides, if we increase the dose as 28 doses per week, we can observe the crop damage is high.\n",
    "\n",
    "4.Overall if the doses are 25 per week, the damage due to pesticides is out of the picture and this means that 25 dose of         pesticides per week is good for crops."
   ]
  },
  {
   "cell_type": "code",
   "execution_count": 17,
   "metadata": {},
   "outputs": [
    {
     "name": "stdout",
     "output_type": "stream",
     "text": [
      "Crop_Type  Crop_Damage\n",
      "0          0              2979\n",
      "           1               498\n",
      "           2                88\n",
      "1          0               841\n",
      "           1               166\n",
      "           2                27\n",
      "Name: Crop_Damage, dtype: int64\n"
     ]
    },
    {
     "data": {
      "image/png": "[encoded data removed]",
      "text/plain": [
       "<Figure size 432x288 with 1 Axes>"
      ]
     },
     "metadata": {
      "needs_background": "light"
     },
     "output_type": "display_data"
    }
   ],
   "source": [
    "#Checking for Crop type based on crop damage\n",
    "print(df_train.groupby('Crop_Type')['Crop_Damage'].value_counts())\n",
    "sns.countplot(x='Crop_Type',hue='Crop_Damage',data=df_train)\n",
    "plt.title('Crop damage based on crop type')\n",
    "plt.xlabel('Crop_type')\n",
    "plt.ylabel('counting of crop')\n",
    "plt.show()"
   ]
  },
  {
   "cell_type": "markdown",
   "metadata": {},
   "source": [
    "-> 0th type of crop is having less damage due to pesticides which is 88 and having more damage due to other causes which is 498,    and we also observed that the crop that has never been damaged is of count 3945.\n",
    "\n",
    "-> 1st type of crop that has never been damaged is of count 1074 and damaged due other causes is of count 166, and damaged due      to pesticides is of count 27."
   ]
  },
  {
   "cell_type": "code",
   "execution_count": 18,
   "metadata": {},
   "outputs": [
    {
     "data": {
      "image/png": "[encoded data removed]",
      "text/plain": [
       "<Figure size 360x360 with 1 Axes>"
      ]
     },
     "metadata": {
      "needs_background": "light"
     },
     "output_type": "display_data"
    }
   ],
   "source": [
    "#Plotting factorplot between crop_type vs crop_damage\n",
    "sns.factorplot(x='Crop_Type',y='Crop_Damage',data=df_train,kind='bar',palette='muted',size=5,aspect=1)\n",
    "plt.title('Crop type vs Crop damage')\n",
    "plt.show()"
   ]
  },
  {
   "cell_type": "markdown",
   "metadata": {},
   "source": [
    "1st crop type has more damage than 0th crop type overall"
   ]
  },
  {
   "cell_type": "code",
   "execution_count": 19,
   "metadata": {},
   "outputs": [
    {
     "data": {
      "text/plain": [
       "<seaborn.axisgrid.FacetGrid at 0x1273fbe7490>"
      ]
     },
     "execution_count": 19,
     "metadata": {},
     "output_type": "execute_result"
    },
    {
     "data": {
      "image/png": "[encoded data removed]",
      "text/plain": [
       "<Figure size 438.125x360 with 1 Axes>"
      ]
     },
     "metadata": {
      "needs_background": "light"
     },
     "output_type": "display_data"
    }
   ],
   "source": [
    "#Plotting factorplot between Soil Type vs Estimated Insects count on crop damage basis\n",
    "sns.factorplot(x='Soil_Type',y='Estimated_Insects_Count',hue='Crop_Damage',palette='Set1',data=df_train,kind='bar')"
   ]
  },
  {
   "cell_type": "markdown",
   "metadata": {},
   "source": [
    "-> From observing soil type 0, we can see that the crop damage due to other causes which is with estimated insects count of        1900, and the insects count is 1750 for the damage caused due to pesticides.\n",
    "\n",
    "-> From observing soil type 1, we can see that the crop damage due to other causes which is with estimated insects count of        1700, and the insects count is 1650 for the damage caused due to pesticides."
   ]
  },
  {
   "cell_type": "markdown",
   "metadata": {},
   "source": [
    "# Multivariate Analysis"
   ]
  },
  {
   "cell_type": "code",
   "execution_count": 20,
   "metadata": {},
   "outputs": [
    {
     "data": {
      "text/html": [
       "<div>\n",
       "<style scoped>\n",
       "    .dataframe tbody tr th:only-of-type {\n",
       "        vertical-align: middle;\n",
       "    }\n",
       "\n",
       "    .dataframe tbody tr th {\n",
       "        vertical-align: top;\n",
       "    }\n",
       "\n",
       "    .dataframe thead th {\n",
       "        text-align: right;\n",
       "    }\n",
       "</style>\n",
       "<table border=\"1\" class=\"dataframe\">\n",
       "  <thead>\n",
       "    <tr style=\"text-align: right;\">\n",
       "      <th></th>\n",
       "      <th>Estimated_Insects_Count</th>\n",
       "      <th>Crop_Type</th>\n",
       "      <th>Soil_Type</th>\n",
       "      <th>Pesticide_Use_Category</th>\n",
       "      <th>Number_Doses_Week</th>\n",
       "      <th>Number_Weeks_Used</th>\n",
       "      <th>Number_Weeks_Quit</th>\n",
       "      <th>Season</th>\n",
       "      <th>Crop_Damage</th>\n",
       "    </tr>\n",
       "  </thead>\n",
       "  <tbody>\n",
       "    <tr>\n",
       "      <th>count</th>\n",
       "      <td>4599.000000</td>\n",
       "      <td>4599.000000</td>\n",
       "      <td>4599.000000</td>\n",
       "      <td>4599.000000</td>\n",
       "      <td>4599.000000</td>\n",
       "      <td>4157.000000</td>\n",
       "      <td>4599.000000</td>\n",
       "      <td>4599.000000</td>\n",
       "      <td>4599.000000</td>\n",
       "    </tr>\n",
       "    <tr>\n",
       "      <th>mean</th>\n",
       "      <td>1363.000435</td>\n",
       "      <td>0.224831</td>\n",
       "      <td>0.476625</td>\n",
       "      <td>2.283540</td>\n",
       "      <td>26.477495</td>\n",
       "      <td>28.891027</td>\n",
       "      <td>9.205479</td>\n",
       "      <td>1.894325</td>\n",
       "      <td>0.194390</td>\n",
       "    </tr>\n",
       "    <tr>\n",
       "      <th>std</th>\n",
       "      <td>814.439120</td>\n",
       "      <td>0.417517</td>\n",
       "      <td>0.499508</td>\n",
       "      <td>0.471978</td>\n",
       "      <td>15.524647</td>\n",
       "      <td>12.586005</td>\n",
       "      <td>9.713253</td>\n",
       "      <td>0.694952</td>\n",
       "      <td>0.454597</td>\n",
       "    </tr>\n",
       "    <tr>\n",
       "      <th>min</th>\n",
       "      <td>150.000000</td>\n",
       "      <td>0.000000</td>\n",
       "      <td>0.000000</td>\n",
       "      <td>1.000000</td>\n",
       "      <td>0.000000</td>\n",
       "      <td>0.000000</td>\n",
       "      <td>0.000000</td>\n",
       "      <td>1.000000</td>\n",
       "      <td>0.000000</td>\n",
       "    </tr>\n",
       "    <tr>\n",
       "      <th>25%</th>\n",
       "      <td>731.000000</td>\n",
       "      <td>0.000000</td>\n",
       "      <td>0.000000</td>\n",
       "      <td>2.000000</td>\n",
       "      <td>15.000000</td>\n",
       "      <td>20.000000</td>\n",
       "      <td>0.000000</td>\n",
       "      <td>1.000000</td>\n",
       "      <td>0.000000</td>\n",
       "    </tr>\n",
       "    <tr>\n",
       "      <th>50%</th>\n",
       "      <td>1212.000000</td>\n",
       "      <td>0.000000</td>\n",
       "      <td>0.000000</td>\n",
       "      <td>2.000000</td>\n",
       "      <td>20.000000</td>\n",
       "      <td>28.000000</td>\n",
       "      <td>7.000000</td>\n",
       "      <td>2.000000</td>\n",
       "      <td>0.000000</td>\n",
       "    </tr>\n",
       "    <tr>\n",
       "      <th>75%</th>\n",
       "      <td>1786.000000</td>\n",
       "      <td>0.000000</td>\n",
       "      <td>1.000000</td>\n",
       "      <td>3.000000</td>\n",
       "      <td>40.000000</td>\n",
       "      <td>38.000000</td>\n",
       "      <td>16.000000</td>\n",
       "      <td>2.000000</td>\n",
       "      <td>0.000000</td>\n",
       "    </tr>\n",
       "    <tr>\n",
       "      <th>max</th>\n",
       "      <td>4097.000000</td>\n",
       "      <td>1.000000</td>\n",
       "      <td>1.000000</td>\n",
       "      <td>3.000000</td>\n",
       "      <td>95.000000</td>\n",
       "      <td>66.000000</td>\n",
       "      <td>47.000000</td>\n",
       "      <td>3.000000</td>\n",
       "      <td>2.000000</td>\n",
       "    </tr>\n",
       "  </tbody>\n",
       "</table>\n",
       "</div>"
      ],
      "text/plain": [
       "       Estimated_Insects_Count    Crop_Type    Soil_Type  \\\n",
       "count              4599.000000  4599.000000  4599.000000   \n",
       "mean               1363.000435     0.224831     0.476625   \n",
       "std                 814.439120     0.417517     0.499508   \n",
       "min                 150.000000     0.000000     0.000000   \n",
       "25%                 731.000000     0.000000     0.000000   \n",
       "50%                1212.000000     0.000000     0.000000   \n",
       "75%                1786.000000     0.000000     1.000000   \n",
       "max                4097.000000     1.000000     1.000000   \n",
       "\n",
       "       Pesticide_Use_Category  Number_Doses_Week  Number_Weeks_Used  \\\n",
       "count             4599.000000        4599.000000        4157.000000   \n",
       "mean                 2.283540          26.477495          28.891027   \n",
       "std                  0.471978          15.524647          12.586005   \n",
       "min                  1.000000           0.000000           0.000000   \n",
       "25%                  2.000000          15.000000          20.000000   \n",
       "50%                  2.000000          20.000000          28.000000   \n",
       "75%                  3.000000          40.000000          38.000000   \n",
       "max                  3.000000          95.000000          66.000000   \n",
       "\n",
       "       Number_Weeks_Quit       Season  Crop_Damage  \n",
       "count        4599.000000  4599.000000  4599.000000  \n",
       "mean            9.205479     1.894325     0.194390  \n",
       "std             9.713253     0.694952     0.454597  \n",
       "min             0.000000     1.000000     0.000000  \n",
       "25%             0.000000     1.000000     0.000000  \n",
       "50%             7.000000     2.000000     0.000000  \n",
       "75%            16.000000     2.000000     0.000000  \n",
       "max            47.000000     3.000000     2.000000  "
      ]
     },
     "execution_count": 20,
     "metadata": {},
     "output_type": "execute_result"
    }
   ],
   "source": [
    "df_train.describe()    #Statistical summary of the dataset"
   ]
  },
  {
   "cell_type": "markdown",
   "metadata": {},
   "source": [
    "Observations:\n",
    "\n",
    "1.The min values is 0 for all columns except Estimated_Insects_Count.\n",
    "\n",
    "2.The difference between the mean and median values is very less.\n",
    "\n",
    "3.The difference between 75th percentile and max value is large and it is due to the presence of outliers."
   ]
  },
  {
   "cell_type": "code",
   "execution_count": 21,
   "metadata": {},
   "outputs": [
    {
     "data": {
      "text/html": [
       "<div>\n",
       "<style scoped>\n",
       "    .dataframe tbody tr th:only-of-type {\n",
       "        vertical-align: middle;\n",
       "    }\n",
       "\n",
       "    .dataframe tbody tr th {\n",
       "        vertical-align: top;\n",
       "    }\n",
       "\n",
       "    .dataframe thead th {\n",
       "        text-align: right;\n",
       "    }\n",
       "</style>\n",
       "<table border=\"1\" class=\"dataframe\">\n",
       "  <thead>\n",
       "    <tr style=\"text-align: right;\">\n",
       "      <th></th>\n",
       "      <th>Estimated_Insects_Count</th>\n",
       "      <th>Crop_Type</th>\n",
       "      <th>Soil_Type</th>\n",
       "      <th>Pesticide_Use_Category</th>\n",
       "      <th>Number_Doses_Week</th>\n",
       "      <th>Number_Weeks_Used</th>\n",
       "      <th>Number_Weeks_Quit</th>\n",
       "      <th>Season</th>\n",
       "      <th>Crop_Damage</th>\n",
       "    </tr>\n",
       "  </thead>\n",
       "  <tbody>\n",
       "    <tr>\n",
       "      <th>Estimated_Insects_Count</th>\n",
       "      <td>1.000000</td>\n",
       "      <td>-0.036911</td>\n",
       "      <td>-0.151796</td>\n",
       "      <td>-0.027111</td>\n",
       "      <td>-0.122509</td>\n",
       "      <td>0.449470</td>\n",
       "      <td>0.246719</td>\n",
       "      <td>-0.009482</td>\n",
       "      <td>0.202312</td>\n",
       "    </tr>\n",
       "    <tr>\n",
       "      <th>Crop_Type</th>\n",
       "      <td>-0.036911</td>\n",
       "      <td>1.000000</td>\n",
       "      <td>-0.175019</td>\n",
       "      <td>0.349662</td>\n",
       "      <td>-0.163832</td>\n",
       "      <td>-0.002237</td>\n",
       "      <td>-0.273475</td>\n",
       "      <td>-0.000549</td>\n",
       "      <td>0.021772</td>\n",
       "    </tr>\n",
       "    <tr>\n",
       "      <th>Soil_Type</th>\n",
       "      <td>-0.151796</td>\n",
       "      <td>-0.175019</td>\n",
       "      <td>1.000000</td>\n",
       "      <td>0.021661</td>\n",
       "      <td>0.050099</td>\n",
       "      <td>-0.098399</td>\n",
       "      <td>-0.034355</td>\n",
       "      <td>0.011052</td>\n",
       "      <td>-0.059481</td>\n",
       "    </tr>\n",
       "    <tr>\n",
       "      <th>Pesticide_Use_Category</th>\n",
       "      <td>-0.027111</td>\n",
       "      <td>0.349662</td>\n",
       "      <td>0.021661</td>\n",
       "      <td>1.000000</td>\n",
       "      <td>-0.005985</td>\n",
       "      <td>0.387982</td>\n",
       "      <td>-0.569467</td>\n",
       "      <td>0.008487</td>\n",
       "      <td>0.199195</td>\n",
       "    </tr>\n",
       "    <tr>\n",
       "      <th>Number_Doses_Week</th>\n",
       "      <td>-0.122509</td>\n",
       "      <td>-0.163832</td>\n",
       "      <td>0.050099</td>\n",
       "      <td>-0.005985</td>\n",
       "      <td>1.000000</td>\n",
       "      <td>0.104022</td>\n",
       "      <td>-0.032381</td>\n",
       "      <td>-0.003768</td>\n",
       "      <td>-0.018363</td>\n",
       "    </tr>\n",
       "    <tr>\n",
       "      <th>Number_Weeks_Used</th>\n",
       "      <td>0.449470</td>\n",
       "      <td>-0.002237</td>\n",
       "      <td>-0.098399</td>\n",
       "      <td>0.387982</td>\n",
       "      <td>0.104022</td>\n",
       "      <td>1.000000</td>\n",
       "      <td>-0.467386</td>\n",
       "      <td>-0.011108</td>\n",
       "      <td>0.244988</td>\n",
       "    </tr>\n",
       "    <tr>\n",
       "      <th>Number_Weeks_Quit</th>\n",
       "      <td>0.246719</td>\n",
       "      <td>-0.273475</td>\n",
       "      <td>-0.034355</td>\n",
       "      <td>-0.569467</td>\n",
       "      <td>-0.032381</td>\n",
       "      <td>-0.467386</td>\n",
       "      <td>1.000000</td>\n",
       "      <td>0.004861</td>\n",
       "      <td>-0.152918</td>\n",
       "    </tr>\n",
       "    <tr>\n",
       "      <th>Season</th>\n",
       "      <td>-0.009482</td>\n",
       "      <td>-0.000549</td>\n",
       "      <td>0.011052</td>\n",
       "      <td>0.008487</td>\n",
       "      <td>-0.003768</td>\n",
       "      <td>-0.011108</td>\n",
       "      <td>0.004861</td>\n",
       "      <td>1.000000</td>\n",
       "      <td>-0.016196</td>\n",
       "    </tr>\n",
       "    <tr>\n",
       "      <th>Crop_Damage</th>\n",
       "      <td>0.202312</td>\n",
       "      <td>0.021772</td>\n",
       "      <td>-0.059481</td>\n",
       "      <td>0.199195</td>\n",
       "      <td>-0.018363</td>\n",
       "      <td>0.244988</td>\n",
       "      <td>-0.152918</td>\n",
       "      <td>-0.016196</td>\n",
       "      <td>1.000000</td>\n",
       "    </tr>\n",
       "  </tbody>\n",
       "</table>\n",
       "</div>"
      ],
      "text/plain": [
       "                         Estimated_Insects_Count  Crop_Type  Soil_Type  \\\n",
       "Estimated_Insects_Count                 1.000000  -0.036911  -0.151796   \n",
       "Crop_Type                              -0.036911   1.000000  -0.175019   \n",
       "Soil_Type                              -0.151796  -0.175019   1.000000   \n",
       "Pesticide_Use_Category                 -0.027111   0.349662   0.021661   \n",
       "Number_Doses_Week                      -0.122509  -0.163832   0.050099   \n",
       "Number_Weeks_Used                       0.449470  -0.002237  -0.098399   \n",
       "Number_Weeks_Quit                       0.246719  -0.273475  -0.034355   \n",
       "Season                                 -0.009482  -0.000549   0.011052   \n",
       "Crop_Damage                             0.202312   0.021772  -0.059481   \n",
       "\n",
       "                         Pesticide_Use_Category  Number_Doses_Week  \\\n",
       "Estimated_Insects_Count               -0.027111          -0.122509   \n",
       "Crop_Type                              0.349662          -0.163832   \n",
       "Soil_Type                              0.021661           0.050099   \n",
       "Pesticide_Use_Category                 1.000000          -0.005985   \n",
       "Number_Doses_Week                     -0.005985           1.000000   \n",
       "Number_Weeks_Used                      0.387982           0.104022   \n",
       "Number_Weeks_Quit                     -0.569467          -0.032381   \n",
       "Season                                 0.008487          -0.003768   \n",
       "Crop_Damage                            0.199195          -0.018363   \n",
       "\n",
       "                         Number_Weeks_Used  Number_Weeks_Quit    Season  \\\n",
       "Estimated_Insects_Count           0.449470           0.246719 -0.009482   \n",
       "Crop_Type                        -0.002237          -0.273475 -0.000549   \n",
       "Soil_Type                        -0.098399          -0.034355  0.011052   \n",
       "Pesticide_Use_Category            0.387982          -0.569467  0.008487   \n",
       "Number_Doses_Week                 0.104022          -0.032381 -0.003768   \n",
       "Number_Weeks_Used                 1.000000          -0.467386 -0.011108   \n",
       "Number_Weeks_Quit                -0.467386           1.000000  0.004861   \n",
       "Season                           -0.011108           0.004861  1.000000   \n",
       "Crop_Damage                       0.244988          -0.152918 -0.016196   \n",
       "\n",
       "                         Crop_Damage  \n",
       "Estimated_Insects_Count     0.202312  \n",
       "Crop_Type                   0.021772  \n",
       "Soil_Type                  -0.059481  \n",
       "Pesticide_Use_Category      0.199195  \n",
       "Number_Doses_Week          -0.018363  \n",
       "Number_Weeks_Used           0.244988  \n",
       "Number_Weeks_Quit          -0.152918  \n",
       "Season                     -0.016196  \n",
       "Crop_Damage                 1.000000  "
      ]
     },
     "execution_count": 21,
     "metadata": {},
     "output_type": "execute_result"
    }
   ],
   "source": [
    "#Checking correlation of the dataset\n",
    "corr=df_train.corr()  #corr() function provides the correlation value of each column\n",
    "corr"
   ]
  },
  {
   "cell_type": "code",
   "execution_count": 22,
   "metadata": {},
   "outputs": [
    {
     "data": {
      "image/png": "[encoded data removed]",
      "text/plain": [
       "<Figure size 720x576 with 2 Axes>"
      ]
     },
     "metadata": {
      "needs_background": "light"
     },
     "output_type": "display_data"
    }
   ],
   "source": [
    "#Plotting heatmap for visualizing the correlation\n",
    "plt.figure(figsize=(10,8))\n",
    "sns.heatmap(corr,linewidth=0.5,linecolor='black',fmt='.0%',cmap='rainbow',annot=True)\n",
    "plt.show()"
   ]
  },
  {
   "cell_type": "markdown",
   "metadata": {},
   "source": [
    "Observations:\n",
    "\n",
    "1.Mostly there are negative correlated values present.\n",
    "\n",
    "2.Highest positive correlated column is Number_Weeks_Used along with Estimated_Insects_Count which is of 45%\n",
    "\n",
    "3.Highest negative correlated columns is Number_Weeks_Quit along with Pesticide_Use_Category which is of -57%\n",
    "\n",
    "4.Positively correlated columns have high impact with the target variable and negatively correlated columns have less impact or   zero impact with the target variable."
   ]
  },
  {
   "cell_type": "code",
   "execution_count": 23,
   "metadata": {},
   "outputs": [],
   "source": [
    "#As ID is not much important, we can drop from the dataset\n",
    "df_train.drop('ID',axis=1,inplace=True)"
   ]
  },
  {
   "cell_type": "markdown",
   "metadata": {},
   "source": [
    "# Handling missing values"
   ]
  },
  {
   "cell_type": "code",
   "execution_count": 24,
   "metadata": {},
   "outputs": [
    {
     "data": {
      "text/plain": [
       "Estimated_Insects_Count      0\n",
       "Crop_Type                    0\n",
       "Soil_Type                    0\n",
       "Pesticide_Use_Category       0\n",
       "Number_Doses_Week            0\n",
       "Number_Weeks_Used          442\n",
       "Number_Weeks_Quit            0\n",
       "Season                       0\n",
       "Crop_Damage                  0\n",
       "dtype: int64"
      ]
     },
     "execution_count": 24,
     "metadata": {},
     "output_type": "execute_result"
    }
   ],
   "source": [
    "df_train.isnull().sum()"
   ]
  },
  {
   "cell_type": "markdown",
   "metadata": {},
   "source": [
    "As Number_Weeks_Used have missing values, we can replace them by using SimpleImputer Library"
   ]
  },
  {
   "cell_type": "code",
   "execution_count": 25,
   "metadata": {},
   "outputs": [],
   "source": [
    "from sklearn.impute import SimpleImputer\n",
    "SI=SimpleImputer(strategy='mean')  #Finding the mean value and replacing it with the missing values\n",
    "df_train['Number_Weeks_Used']=SI.fit_transform(df_train['Number_Weeks_Used'].values.reshape(-1,1)) \n",
    "# reshape is just to neglect any error value"
   ]
  },
  {
   "cell_type": "code",
   "execution_count": 26,
   "metadata": {},
   "outputs": [
    {
     "data": {
      "text/plain": [
       "Estimated_Insects_Count    0\n",
       "Crop_Type                  0\n",
       "Soil_Type                  0\n",
       "Pesticide_Use_Category     0\n",
       "Number_Doses_Week          0\n",
       "Number_Weeks_Used          0\n",
       "Number_Weeks_Quit          0\n",
       "Season                     0\n",
       "Crop_Damage                0\n",
       "dtype: int64"
      ]
     },
     "execution_count": 26,
     "metadata": {},
     "output_type": "execute_result"
    }
   ],
   "source": [
    "df_train.isnull().sum()   #Checking null values after replacing"
   ]
  },
  {
   "cell_type": "markdown",
   "metadata": {},
   "source": [
    "There are no null values present in the dataset after handling it using SimpleImputer and we used the mean value of the column and replaced it with missing values."
   ]
  },
  {
   "cell_type": "markdown",
   "metadata": {},
   "source": [
    "# Checking skewness"
   ]
  },
  {
   "cell_type": "code",
   "execution_count": 27,
   "metadata": {},
   "outputs": [
    {
     "data": {
      "text/plain": [
       "Estimated_Insects_Count    0.911469\n",
       "Crop_Type                  1.318693\n",
       "Soil_Type                  0.093631\n",
       "Pesticide_Use_Category     0.678586\n",
       "Number_Doses_Week          0.945895\n",
       "Number_Weeks_Used          0.278664\n",
       "Number_Weeks_Quit          0.919771\n",
       "Season                     0.144841\n",
       "Crop_Damage                2.306933\n",
       "dtype: float64"
      ]
     },
     "execution_count": 27,
     "metadata": {},
     "output_type": "execute_result"
    }
   ],
   "source": [
    "df_train.skew()"
   ]
  },
  {
   "cell_type": "markdown",
   "metadata": {},
   "source": [
    "Except Soil_Type, Season and Number_Weeks_Used, all the columns have quite high positive skewness"
   ]
  },
  {
   "cell_type": "code",
   "execution_count": 28,
   "metadata": {
    "scrolled": false
   },
   "outputs": [
    {
     "data": {
      "image/png": "[encoded data removed]",
      "text/plain": [
       "<Figure size 432x288 with 1 Axes>"
      ]
     },
     "metadata": {
      "needs_background": "light"
     },
     "output_type": "display_data"
    },
    {
     "data": {
      "image/png": "[encoded data removed]",
      "text/plain": [
       "<Figure size 432x288 with 1 Axes>"
      ]
     },
     "metadata": {
      "needs_background": "light"
     },
     "output_type": "display_data"
    },
    {
     "data": {
      "image/png": "[encoded data removed]",
      "text/plain": [
       "<Figure size 432x288 with 1 Axes>"
      ]
     },
     "metadata": {
      "needs_background": "light"
     },
     "output_type": "display_data"
    },
    {
     "data": {
      "image/png": "[encoded data removed]",
      "text/plain": [
       "<Figure size 432x288 with 1 Axes>"
      ]
     },
     "metadata": {
      "needs_background": "light"
     },
     "output_type": "display_data"
    },
    {
     "data": {
      "image/png": "[encoded data removed]",
      "text/plain": [
       "<Figure size 432x288 with 1 Axes>"
      ]
     },
     "metadata": {
      "needs_background": "light"
     },
     "output_type": "display_data"
    },
    {
     "data": {
      "image/png": "[encoded data removed]",
      "text/plain": [
       "<Figure size 432x288 with 1 Axes>"
      ]
     },
     "metadata": {
      "needs_background": "light"
     },
     "output_type": "display_data"
    },
    {
     "data": {
      "image/png": "[encoded data removed]",
      "text/plain": [
       "<Figure size 432x288 with 1 Axes>"
      ]
     },
     "metadata": {
      "needs_background": "light"
     },
     "output_type": "display_data"
    },
    {
     "data": {
      "image/png": "[encoded data removed]",
      "text/plain": [
       "<Figure size 432x288 with 1 Axes>"
      ]
     },
     "metadata": {
      "needs_background": "light"
     },
     "output_type": "display_data"
    },
    {
     "data": {
      "image/png": "[encoded data removed]",
      "text/plain": [
       "<Figure size 432x288 with 1 Axes>"
      ]
     },
     "metadata": {
      "needs_background": "light"
     },
     "output_type": "display_data"
    }
   ],
   "source": [
    "#Plotting distplot for checking the distribution of skewness\n",
    "for col in df_train.describe().columns:\n",
    "    sns.distplot(df_train[col])\n",
    "    plt.show()"
   ]
  },
  {
   "cell_type": "markdown",
   "metadata": {},
   "source": [
    "Most of the data is not normally distributed and it is due to the presence of outliers."
   ]
  },
  {
   "cell_type": "markdown",
   "metadata": {},
   "source": [
    "# Checking outliers"
   ]
  },
  {
   "cell_type": "markdown",
   "metadata": {},
   "source": [
    "We can check outliers by plotting boxplot"
   ]
  },
  {
   "cell_type": "code",
   "execution_count": 29,
   "metadata": {},
   "outputs": [],
   "source": [
    "collist=df_train.columns.values \n",
    "ncol=10\n",
    "nrows=10"
   ]
  },
  {
   "cell_type": "code",
   "execution_count": 30,
   "metadata": {},
   "outputs": [
    {
     "data": {
      "image/png": "[encoded data removed]",
      "text/plain": [
       "<Figure size 720x3600 with 8 Axes>"
      ]
     },
     "metadata": {
      "needs_background": "light"
     },
     "output_type": "display_data"
    }
   ],
   "source": [
    "#Lets visualize outliers through boxplots\n",
    "plt.figure(figsize=(ncol,5*ncol))\n",
    "for i in range (1,len(collist)):\n",
    "    plt.subplot(nrows,ncol,i+1)\n",
    "    sns.boxplot(df_train[collist[i]],color='green',orient='v')\n",
    "    plt.tight_layout()"
   ]
  },
  {
   "cell_type": "markdown",
   "metadata": {},
   "source": [
    "As we can see, there are outliers present in this dataset and we can handle them by using z-score"
   ]
  },
  {
   "cell_type": "markdown",
   "metadata": {},
   "source": [
    "# Handling outliers by using z-score method"
   ]
  },
  {
   "cell_type": "code",
   "execution_count": 31,
   "metadata": {},
   "outputs": [
    {
     "data": {
      "text/plain": [
       "(array([   7,    9,   14,   22,   23,  100,  103,  112,  149,  165,  166,\n",
       "         167,  179,  185,  186,  197,  207,  222,  223,  242,  248,  252,\n",
       "         264,  265,  290,  296,  305,  316,  325,  346,  351,  355,  361,\n",
       "         374,  375,  377,  384,  453,  458,  466,  480,  510,  517,  522,\n",
       "         557,  595,  612,  634,  693,  702,  703,  704,  705,  706,  807,\n",
       "         819,  855,  856,  911,  944,  978,  980,  998, 1017, 1019, 1067,\n",
       "        1097, 1178, 1212, 1291, 1307, 1324, 1326, 1327, 1329, 1337, 1339,\n",
       "        1340, 1341, 1342, 1343, 1344, 1345, 1346, 1347, 1347, 1348, 1349,\n",
       "        1406, 1443, 1457, 1489, 1523, 1589, 1652, 1654, 1737, 1807, 1868,\n",
       "        2019, 2043, 2090, 2136, 2139, 2140, 2165, 2170, 2171, 2174, 2183,\n",
       "        2185, 2188, 2190, 2190, 2191, 2192, 2193, 2194, 2237, 2392, 2553,\n",
       "        2565, 2585, 2589, 2590, 2590, 2591, 2615, 2663, 2671, 2696, 2702,\n",
       "        2710, 2714, 2716, 2723, 2767, 2779, 2792, 2796, 2797, 2804, 2806,\n",
       "        2814, 2828, 2829, 2834, 2841, 2842, 2851, 2860, 2861, 2870, 2884,\n",
       "        2888, 2912, 2915, 2917, 2921, 2923, 2928, 2929, 2940, 2942, 2944,\n",
       "        2945, 3015, 3045, 3048, 3058, 3086, 3107, 3126, 3183, 3189, 3206,\n",
       "        3241, 3248, 3252, 3253, 3254, 3255, 3256, 3257, 3336, 3388, 3526,\n",
       "        3628, 3629, 3657, 3682, 3686, 3716, 3717, 3718, 3718, 3740, 3766,\n",
       "        3796, 3830, 3840, 3841, 3850, 3851, 3856, 3894, 3902, 3915, 3919,\n",
       "        3932, 3932, 3933, 3934, 3935, 3935, 3936, 3937, 3938, 3939, 3940,\n",
       "        3940, 4024, 4091, 4155, 4186, 4213, 4274, 4277, 4278, 4375, 4376,\n",
       "        4378, 4436, 4516, 4545, 4570], dtype=int64),\n",
       " array([8, 8, 8, 0, 0, 4, 8, 8, 8, 8, 8, 8, 8, 4, 8, 8, 8, 8, 8, 8, 8, 4,\n",
       "        8, 8, 8, 8, 8, 8, 4, 4, 8, 8, 8, 8, 5, 8, 0, 8, 8, 8, 8, 8, 8, 8,\n",
       "        8, 8, 8, 8, 8, 0, 0, 0, 0, 0, 4, 8, 4, 4, 4, 8, 4, 8, 4, 4, 4, 8,\n",
       "        4, 8, 6, 6, 6, 6, 6, 8, 6, 6, 8, 8, 0, 0, 0, 0, 0, 0, 0, 6, 0, 0,\n",
       "        4, 4, 4, 4, 4, 4, 4, 4, 8, 8, 4, 4, 8, 6, 4, 8, 6, 6, 8, 8, 6, 6,\n",
       "        6, 6, 0, 6, 0, 0, 0, 0, 8, 4, 6, 6, 8, 0, 0, 8, 0, 4, 8, 8, 8, 4,\n",
       "        8, 4, 8, 8, 8, 4, 8, 8, 8, 8, 8, 8, 8, 8, 8, 8, 8, 8, 8, 8, 8, 8,\n",
       "        8, 8, 8, 8, 8, 8, 5, 5, 5, 5, 0, 0, 8, 8, 4, 8, 8, 8, 8, 8, 8, 8,\n",
       "        5, 8, 0, 0, 0, 0, 0, 0, 4, 4, 4, 8, 8, 8, 4, 8, 8, 8, 4, 8, 8, 4,\n",
       "        8, 4, 6, 6, 8, 8, 6, 6, 6, 4, 6, 0, 6, 0, 0, 0, 8, 0, 0, 0, 0, 0,\n",
       "        6, 4, 8, 8, 4, 4, 4, 8, 8, 4, 4, 8, 4, 4, 8, 8], dtype=int64))"
      ]
     },
     "execution_count": 31,
     "metadata": {},
     "output_type": "execute_result"
    }
   ],
   "source": [
    "from scipy.stats import zscore\n",
    "import numpy as np\n",
    "z=np.abs(zscore(df_train))   #converting all values into absolute values\n",
    "threshold=3    #setting up a threshold\n",
    "np.where(z>3)"
   ]
  },
  {
   "cell_type": "code",
   "execution_count": 32,
   "metadata": {},
   "outputs": [
    {
     "data": {
      "text/html": [
       "<div>\n",
       "<style scoped>\n",
       "    .dataframe tbody tr th:only-of-type {\n",
       "        vertical-align: middle;\n",
       "    }\n",
       "\n",
       "    .dataframe tbody tr th {\n",
       "        vertical-align: top;\n",
       "    }\n",
       "\n",
       "    .dataframe thead th {\n",
       "        text-align: right;\n",
       "    }\n",
       "</style>\n",
       "<table border=\"1\" class=\"dataframe\">\n",
       "  <thead>\n",
       "    <tr style=\"text-align: right;\">\n",
       "      <th></th>\n",
       "      <th>Estimated_Insects_Count</th>\n",
       "      <th>Crop_Type</th>\n",
       "      <th>Soil_Type</th>\n",
       "      <th>Pesticide_Use_Category</th>\n",
       "      <th>Number_Doses_Week</th>\n",
       "      <th>Number_Weeks_Used</th>\n",
       "      <th>Number_Weeks_Quit</th>\n",
       "      <th>Season</th>\n",
       "      <th>Crop_Damage</th>\n",
       "    </tr>\n",
       "  </thead>\n",
       "  <tbody>\n",
       "    <tr>\n",
       "      <th>0</th>\n",
       "      <td>188</td>\n",
       "      <td>1</td>\n",
       "      <td>0</td>\n",
       "      <td>1</td>\n",
       "      <td>0</td>\n",
       "      <td>0.000000</td>\n",
       "      <td>0</td>\n",
       "      <td>1</td>\n",
       "      <td>0</td>\n",
       "    </tr>\n",
       "    <tr>\n",
       "      <th>1</th>\n",
       "      <td>209</td>\n",
       "      <td>1</td>\n",
       "      <td>0</td>\n",
       "      <td>1</td>\n",
       "      <td>0</td>\n",
       "      <td>0.000000</td>\n",
       "      <td>0</td>\n",
       "      <td>2</td>\n",
       "      <td>1</td>\n",
       "    </tr>\n",
       "    <tr>\n",
       "      <th>2</th>\n",
       "      <td>257</td>\n",
       "      <td>1</td>\n",
       "      <td>0</td>\n",
       "      <td>1</td>\n",
       "      <td>0</td>\n",
       "      <td>0.000000</td>\n",
       "      <td>0</td>\n",
       "      <td>2</td>\n",
       "      <td>1</td>\n",
       "    </tr>\n",
       "    <tr>\n",
       "      <th>3</th>\n",
       "      <td>257</td>\n",
       "      <td>1</td>\n",
       "      <td>1</td>\n",
       "      <td>1</td>\n",
       "      <td>0</td>\n",
       "      <td>0.000000</td>\n",
       "      <td>0</td>\n",
       "      <td>2</td>\n",
       "      <td>1</td>\n",
       "    </tr>\n",
       "    <tr>\n",
       "      <th>4</th>\n",
       "      <td>342</td>\n",
       "      <td>1</td>\n",
       "      <td>0</td>\n",
       "      <td>1</td>\n",
       "      <td>0</td>\n",
       "      <td>0.000000</td>\n",
       "      <td>0</td>\n",
       "      <td>2</td>\n",
       "      <td>1</td>\n",
       "    </tr>\n",
       "    <tr>\n",
       "      <th>...</th>\n",
       "      <td>...</td>\n",
       "      <td>...</td>\n",
       "      <td>...</td>\n",
       "      <td>...</td>\n",
       "      <td>...</td>\n",
       "      <td>...</td>\n",
       "      <td>...</td>\n",
       "      <td>...</td>\n",
       "      <td>...</td>\n",
       "    </tr>\n",
       "    <tr>\n",
       "      <th>4594</th>\n",
       "      <td>2138</td>\n",
       "      <td>0</td>\n",
       "      <td>1</td>\n",
       "      <td>2</td>\n",
       "      <td>20</td>\n",
       "      <td>28.891027</td>\n",
       "      <td>1</td>\n",
       "      <td>1</td>\n",
       "      <td>1</td>\n",
       "    </tr>\n",
       "    <tr>\n",
       "      <th>4595</th>\n",
       "      <td>2139</td>\n",
       "      <td>0</td>\n",
       "      <td>1</td>\n",
       "      <td>2</td>\n",
       "      <td>30</td>\n",
       "      <td>47.000000</td>\n",
       "      <td>2</td>\n",
       "      <td>1</td>\n",
       "      <td>1</td>\n",
       "    </tr>\n",
       "    <tr>\n",
       "      <th>4596</th>\n",
       "      <td>2267</td>\n",
       "      <td>0</td>\n",
       "      <td>1</td>\n",
       "      <td>2</td>\n",
       "      <td>10</td>\n",
       "      <td>7.000000</td>\n",
       "      <td>27</td>\n",
       "      <td>2</td>\n",
       "      <td>0</td>\n",
       "    </tr>\n",
       "    <tr>\n",
       "      <th>4597</th>\n",
       "      <td>2267</td>\n",
       "      <td>0</td>\n",
       "      <td>1</td>\n",
       "      <td>2</td>\n",
       "      <td>10</td>\n",
       "      <td>20.000000</td>\n",
       "      <td>24</td>\n",
       "      <td>2</td>\n",
       "      <td>0</td>\n",
       "    </tr>\n",
       "    <tr>\n",
       "      <th>4598</th>\n",
       "      <td>2267</td>\n",
       "      <td>0</td>\n",
       "      <td>1</td>\n",
       "      <td>2</td>\n",
       "      <td>10</td>\n",
       "      <td>33.000000</td>\n",
       "      <td>17</td>\n",
       "      <td>2</td>\n",
       "      <td>0</td>\n",
       "    </tr>\n",
       "  </tbody>\n",
       "</table>\n",
       "<p>4370 rows × 9 columns</p>\n",
       "</div>"
      ],
      "text/plain": [
       "      Estimated_Insects_Count  Crop_Type  Soil_Type  Pesticide_Use_Category  \\\n",
       "0                         188          1          0                       1   \n",
       "1                         209          1          0                       1   \n",
       "2                         257          1          0                       1   \n",
       "3                         257          1          1                       1   \n",
       "4                         342          1          0                       1   \n",
       "...                       ...        ...        ...                     ...   \n",
       "4594                     2138          0          1                       2   \n",
       "4595                     2139          0          1                       2   \n",
       "4596                     2267          0          1                       2   \n",
       "4597                     2267          0          1                       2   \n",
       "4598                     2267          0          1                       2   \n",
       "\n",
       "      Number_Doses_Week  Number_Weeks_Used  Number_Weeks_Quit  Season  \\\n",
       "0                     0           0.000000                  0       1   \n",
       "1                     0           0.000000                  0       2   \n",
       "2                     0           0.000000                  0       2   \n",
       "3                     0           0.000000                  0       2   \n",
       "4                     0           0.000000                  0       2   \n",
       "...                 ...                ...                ...     ...   \n",
       "4594                 20          28.891027                  1       1   \n",
       "4595                 30          47.000000                  2       1   \n",
       "4596                 10           7.000000                 27       2   \n",
       "4597                 10          20.000000                 24       2   \n",
       "4598                 10          33.000000                 17       2   \n",
       "\n",
       "      Crop_Damage  \n",
       "0               0  \n",
       "1               1  \n",
       "2               1  \n",
       "3               1  \n",
       "4               1  \n",
       "...           ...  \n",
       "4594            1  \n",
       "4595            1  \n",
       "4596            0  \n",
       "4597            0  \n",
       "4598            0  \n",
       "\n",
       "[4370 rows x 9 columns]"
      ]
     },
     "execution_count": 32,
     "metadata": {},
     "output_type": "execute_result"
    }
   ],
   "source": [
    "#Removing outliers\n",
    "df_newtrain=df_train[(z<3).all(axis=1)]\n",
    "df_newtrain"
   ]
  },
  {
   "cell_type": "code",
   "execution_count": 33,
   "metadata": {},
   "outputs": [
    {
     "data": {
      "text/plain": [
       "(4599, 9)"
      ]
     },
     "execution_count": 33,
     "metadata": {},
     "output_type": "execute_result"
    }
   ],
   "source": [
    "df_train.shape   #Original dataset dimensions"
   ]
  },
  {
   "cell_type": "code",
   "execution_count": 34,
   "metadata": {},
   "outputs": [
    {
     "data": {
      "text/plain": [
       "(4370, 9)"
      ]
     },
     "execution_count": 34,
     "metadata": {},
     "output_type": "execute_result"
    }
   ],
   "source": [
    "df_newtrain.shape    #New dataset dimensions"
   ]
  },
  {
   "cell_type": "markdown",
   "metadata": {},
   "source": [
    "Nearly 200+ rows had outliers and they have been removed by using z-score method"
   ]
  },
  {
   "cell_type": "markdown",
   "metadata": {},
   "source": [
    "# Percentage loss of data after removal of outliers"
   ]
  },
  {
   "cell_type": "code",
   "execution_count": 35,
   "metadata": {},
   "outputs": [
    {
     "name": "stdout",
     "output_type": "stream",
     "text": [
      "4.979343335507719\n"
     ]
    }
   ],
   "source": [
    "percentage_loss=((229)/4599)*100   #229 = 4599-4370\n",
    "print(percentage_loss)"
   ]
  },
  {
   "cell_type": "markdown",
   "metadata": {},
   "source": [
    "Nearly 5% of the data has lost due to outliers which is not a big loss"
   ]
  },
  {
   "cell_type": "markdown",
   "metadata": {},
   "source": [
    "# Preparing dataset for model training"
   ]
  },
  {
   "cell_type": "markdown",
   "metadata": {},
   "source": [
    "We need to split independent and dependent variables from the dataset in order to perform further analysis"
   ]
  },
  {
   "cell_type": "code",
   "execution_count": 36,
   "metadata": {},
   "outputs": [],
   "source": [
    "df_x=df_newtrain.drop('Crop_Damage',axis=1)   #Independent variables\n",
    "y=df_newtrain['Crop_Damage']    #Dependent or Target Variable"
   ]
  },
  {
   "cell_type": "code",
   "execution_count": 37,
   "metadata": {},
   "outputs": [
    {
     "data": {
      "text/html": [
       "<div>\n",
       "<style scoped>\n",
       "    .dataframe tbody tr th:only-of-type {\n",
       "        vertical-align: middle;\n",
       "    }\n",
       "\n",
       "    .dataframe tbody tr th {\n",
       "        vertical-align: top;\n",
       "    }\n",
       "\n",
       "    .dataframe thead th {\n",
       "        text-align: right;\n",
       "    }\n",
       "</style>\n",
       "<table border=\"1\" class=\"dataframe\">\n",
       "  <thead>\n",
       "    <tr style=\"text-align: right;\">\n",
       "      <th></th>\n",
       "      <th>Estimated_Insects_Count</th>\n",
       "      <th>Crop_Type</th>\n",
       "      <th>Soil_Type</th>\n",
       "      <th>Pesticide_Use_Category</th>\n",
       "      <th>Number_Doses_Week</th>\n",
       "      <th>Number_Weeks_Used</th>\n",
       "      <th>Number_Weeks_Quit</th>\n",
       "      <th>Season</th>\n",
       "    </tr>\n",
       "  </thead>\n",
       "  <tbody>\n",
       "    <tr>\n",
       "      <th>0</th>\n",
       "      <td>188</td>\n",
       "      <td>1</td>\n",
       "      <td>0</td>\n",
       "      <td>1</td>\n",
       "      <td>0</td>\n",
       "      <td>0.0</td>\n",
       "      <td>0</td>\n",
       "      <td>1</td>\n",
       "    </tr>\n",
       "    <tr>\n",
       "      <th>1</th>\n",
       "      <td>209</td>\n",
       "      <td>1</td>\n",
       "      <td>0</td>\n",
       "      <td>1</td>\n",
       "      <td>0</td>\n",
       "      <td>0.0</td>\n",
       "      <td>0</td>\n",
       "      <td>2</td>\n",
       "    </tr>\n",
       "    <tr>\n",
       "      <th>2</th>\n",
       "      <td>257</td>\n",
       "      <td>1</td>\n",
       "      <td>0</td>\n",
       "      <td>1</td>\n",
       "      <td>0</td>\n",
       "      <td>0.0</td>\n",
       "      <td>0</td>\n",
       "      <td>2</td>\n",
       "    </tr>\n",
       "    <tr>\n",
       "      <th>3</th>\n",
       "      <td>257</td>\n",
       "      <td>1</td>\n",
       "      <td>1</td>\n",
       "      <td>1</td>\n",
       "      <td>0</td>\n",
       "      <td>0.0</td>\n",
       "      <td>0</td>\n",
       "      <td>2</td>\n",
       "    </tr>\n",
       "    <tr>\n",
       "      <th>4</th>\n",
       "      <td>342</td>\n",
       "      <td>1</td>\n",
       "      <td>0</td>\n",
       "      <td>1</td>\n",
       "      <td>0</td>\n",
       "      <td>0.0</td>\n",
       "      <td>0</td>\n",
       "      <td>2</td>\n",
       "    </tr>\n",
       "  </tbody>\n",
       "</table>\n",
       "</div>"
      ],
      "text/plain": [
       "   Estimated_Insects_Count  Crop_Type  Soil_Type  Pesticide_Use_Category  \\\n",
       "0                      188          1          0                       1   \n",
       "1                      209          1          0                       1   \n",
       "2                      257          1          0                       1   \n",
       "3                      257          1          1                       1   \n",
       "4                      342          1          0                       1   \n",
       "\n",
       "   Number_Doses_Week  Number_Weeks_Used  Number_Weeks_Quit  Season  \n",
       "0                  0                0.0                  0       1  \n",
       "1                  0                0.0                  0       2  \n",
       "2                  0                0.0                  0       2  \n",
       "3                  0                0.0                  0       2  \n",
       "4                  0                0.0                  0       2  "
      ]
     },
     "execution_count": 37,
     "metadata": {},
     "output_type": "execute_result"
    }
   ],
   "source": [
    "#Checking x data\n",
    "df_x.head()"
   ]
  },
  {
   "cell_type": "code",
   "execution_count": 38,
   "metadata": {},
   "outputs": [
    {
     "data": {
      "text/plain": [
       "0       0\n",
       "1       1\n",
       "2       1\n",
       "3       1\n",
       "4       1\n",
       "       ..\n",
       "4594    1\n",
       "4595    1\n",
       "4596    0\n",
       "4597    0\n",
       "4598    0\n",
       "Name: Crop_Damage, Length: 4370, dtype: int64"
      ]
     },
     "execution_count": 38,
     "metadata": {},
     "output_type": "execute_result"
    }
   ],
   "source": [
    "#Checking y data after splitting\n",
    "y"
   ]
  },
  {
   "cell_type": "markdown",
   "metadata": {},
   "source": [
    "# Treating skewness "
   ]
  },
  {
   "cell_type": "code",
   "execution_count": 39,
   "metadata": {},
   "outputs": [],
   "source": [
    "#We are treating skewness by using square root transform\n",
    "for col in df_x.skew().index:\n",
    "    if col in df_x.describe().columns:\n",
    "        if df_x[col].skew()>0.55:\n",
    "            df_x[col]=np.sqrt(df_x[col])"
   ]
  },
  {
   "cell_type": "code",
   "execution_count": 40,
   "metadata": {},
   "outputs": [
    {
     "data": {
      "text/plain": [
       "Estimated_Insects_Count    0.179172\n",
       "Crop_Type                  1.308548\n",
       "Soil_Type                  0.079724\n",
       "Pesticide_Use_Category     0.588515\n",
       "Number_Doses_Week         -0.097393\n",
       "Number_Weeks_Used          0.275330\n",
       "Number_Weeks_Quit          0.006921\n",
       "Season                     0.141605\n",
       "dtype: float64"
      ]
     },
     "execution_count": 40,
     "metadata": {},
     "output_type": "execute_result"
    }
   ],
   "source": [
    "df_x.skew()   #Checking skewness after treating it"
   ]
  },
  {
   "cell_type": "markdown",
   "metadata": {},
   "source": [
    "We can see that the skewness has been treated and now we can proceed further analysis"
   ]
  },
  {
   "cell_type": "markdown",
   "metadata": {},
   "source": [
    "# Scaling the data"
   ]
  },
  {
   "cell_type": "markdown",
   "metadata": {},
   "source": [
    "Sometimes model can be biased to higher values in dataset, so it is better to scale the dataset so that we can bring all the columns in common range. We can use StandardScaler here."
   ]
  },
  {
   "cell_type": "code",
   "execution_count": 41,
   "metadata": {},
   "outputs": [
    {
     "data": {
      "text/html": [
       "<div>\n",
       "<style scoped>\n",
       "    .dataframe tbody tr th:only-of-type {\n",
       "        vertical-align: middle;\n",
       "    }\n",
       "\n",
       "    .dataframe tbody tr th {\n",
       "        vertical-align: top;\n",
       "    }\n",
       "\n",
       "    .dataframe thead th {\n",
       "        text-align: right;\n",
       "    }\n",
       "</style>\n",
       "<table border=\"1\" class=\"dataframe\">\n",
       "  <thead>\n",
       "    <tr style=\"text-align: right;\">\n",
       "      <th></th>\n",
       "      <th>Estimated_Insects_Count</th>\n",
       "      <th>Crop_Type</th>\n",
       "      <th>Soil_Type</th>\n",
       "      <th>Pesticide_Use_Category</th>\n",
       "      <th>Number_Doses_Week</th>\n",
       "      <th>Number_Weeks_Used</th>\n",
       "      <th>Number_Weeks_Quit</th>\n",
       "      <th>Season</th>\n",
       "    </tr>\n",
       "  </thead>\n",
       "  <tbody>\n",
       "    <tr>\n",
       "      <th>0</th>\n",
       "      <td>-1.996164</td>\n",
       "      <td>1.848947</td>\n",
       "      <td>-0.960945</td>\n",
       "      <td>-3.335467</td>\n",
       "      <td>-3.292351</td>\n",
       "      <td>-2.445679</td>\n",
       "      <td>-1.237252</td>\n",
       "      <td>-1.288559</td>\n",
       "    </tr>\n",
       "    <tr>\n",
       "      <th>1</th>\n",
       "      <td>-1.925536</td>\n",
       "      <td>1.848947</td>\n",
       "      <td>-0.960945</td>\n",
       "      <td>-3.335467</td>\n",
       "      <td>-3.292351</td>\n",
       "      <td>-2.445679</td>\n",
       "      <td>-1.237252</td>\n",
       "      <td>0.147555</td>\n",
       "    </tr>\n",
       "    <tr>\n",
       "      <th>2</th>\n",
       "      <td>-1.776386</td>\n",
       "      <td>1.848947</td>\n",
       "      <td>-0.960945</td>\n",
       "      <td>-3.335467</td>\n",
       "      <td>-3.292351</td>\n",
       "      <td>-2.445679</td>\n",
       "      <td>-1.237252</td>\n",
       "      <td>0.147555</td>\n",
       "    </tr>\n",
       "    <tr>\n",
       "      <th>3</th>\n",
       "      <td>-1.776386</td>\n",
       "      <td>1.848947</td>\n",
       "      <td>1.040642</td>\n",
       "      <td>-3.335467</td>\n",
       "      <td>-3.292351</td>\n",
       "      <td>-2.445679</td>\n",
       "      <td>-1.237252</td>\n",
       "      <td>0.147555</td>\n",
       "    </tr>\n",
       "    <tr>\n",
       "      <th>4</th>\n",
       "      <td>-1.543144</td>\n",
       "      <td>1.848947</td>\n",
       "      <td>-0.960945</td>\n",
       "      <td>-3.335467</td>\n",
       "      <td>-3.292351</td>\n",
       "      <td>-2.445679</td>\n",
       "      <td>-1.237252</td>\n",
       "      <td>0.147555</td>\n",
       "    </tr>\n",
       "    <tr>\n",
       "      <th>...</th>\n",
       "      <td>...</td>\n",
       "      <td>...</td>\n",
       "      <td>...</td>\n",
       "      <td>...</td>\n",
       "      <td>...</td>\n",
       "      <td>...</td>\n",
       "      <td>...</td>\n",
       "      <td>...</td>\n",
       "    </tr>\n",
       "    <tr>\n",
       "      <th>4365</th>\n",
       "      <td>1.085323</td>\n",
       "      <td>-0.540848</td>\n",
       "      <td>1.040642</td>\n",
       "      <td>-0.578928</td>\n",
       "      <td>-0.271717</td>\n",
       "      <td>0.023356</td>\n",
       "      <td>-0.711863</td>\n",
       "      <td>-1.288559</td>\n",
       "    </tr>\n",
       "    <tr>\n",
       "      <th>4366</th>\n",
       "      <td>1.086347</td>\n",
       "      <td>-0.540848</td>\n",
       "      <td>1.040642</td>\n",
       "      <td>-0.578928</td>\n",
       "      <td>0.407155</td>\n",
       "      <td>1.570954</td>\n",
       "      <td>-0.494240</td>\n",
       "      <td>-1.288559</td>\n",
       "    </tr>\n",
       "    <tr>\n",
       "      <th>4367</th>\n",
       "      <td>1.215538</td>\n",
       "      <td>-0.540848</td>\n",
       "      <td>1.040642</td>\n",
       "      <td>-0.578928</td>\n",
       "      <td>-1.156440</td>\n",
       "      <td>-1.847457</td>\n",
       "      <td>1.492749</td>\n",
       "      <td>0.147555</td>\n",
       "    </tr>\n",
       "    <tr>\n",
       "      <th>4368</th>\n",
       "      <td>1.215538</td>\n",
       "      <td>-0.540848</td>\n",
       "      <td>1.040642</td>\n",
       "      <td>-0.578928</td>\n",
       "      <td>-1.156440</td>\n",
       "      <td>-0.736473</td>\n",
       "      <td>1.336618</td>\n",
       "      <td>0.147555</td>\n",
       "    </tr>\n",
       "    <tr>\n",
       "      <th>4369</th>\n",
       "      <td>1.215538</td>\n",
       "      <td>-0.540848</td>\n",
       "      <td>1.040642</td>\n",
       "      <td>-0.578928</td>\n",
       "      <td>-1.156440</td>\n",
       "      <td>0.374510</td>\n",
       "      <td>0.928982</td>\n",
       "      <td>0.147555</td>\n",
       "    </tr>\n",
       "  </tbody>\n",
       "</table>\n",
       "<p>4370 rows × 8 columns</p>\n",
       "</div>"
      ],
      "text/plain": [
       "      Estimated_Insects_Count  Crop_Type  Soil_Type  Pesticide_Use_Category  \\\n",
       "0                   -1.996164   1.848947  -0.960945               -3.335467   \n",
       "1                   -1.925536   1.848947  -0.960945               -3.335467   \n",
       "2                   -1.776386   1.848947  -0.960945               -3.335467   \n",
       "3                   -1.776386   1.848947   1.040642               -3.335467   \n",
       "4                   -1.543144   1.848947  -0.960945               -3.335467   \n",
       "...                       ...        ...        ...                     ...   \n",
       "4365                 1.085323  -0.540848   1.040642               -0.578928   \n",
       "4366                 1.086347  -0.540848   1.040642               -0.578928   \n",
       "4367                 1.215538  -0.540848   1.040642               -0.578928   \n",
       "4368                 1.215538  -0.540848   1.040642               -0.578928   \n",
       "4369                 1.215538  -0.540848   1.040642               -0.578928   \n",
       "\n",
       "      Number_Doses_Week  Number_Weeks_Used  Number_Weeks_Quit    Season  \n",
       "0             -3.292351          -2.445679          -1.237252 -1.288559  \n",
       "1             -3.292351          -2.445679          -1.237252  0.147555  \n",
       "2             -3.292351          -2.445679          -1.237252  0.147555  \n",
       "3             -3.292351          -2.445679          -1.237252  0.147555  \n",
       "4             -3.292351          -2.445679          -1.237252  0.147555  \n",
       "...                 ...                ...                ...       ...  \n",
       "4365          -0.271717           0.023356          -0.711863 -1.288559  \n",
       "4366           0.407155           1.570954          -0.494240 -1.288559  \n",
       "4367          -1.156440          -1.847457           1.492749  0.147555  \n",
       "4368          -1.156440          -0.736473           1.336618  0.147555  \n",
       "4369          -1.156440           0.374510           0.928982  0.147555  \n",
       "\n",
       "[4370 rows x 8 columns]"
      ]
     },
     "execution_count": 41,
     "metadata": {},
     "output_type": "execute_result"
    }
   ],
   "source": [
    "#Scaling the dataset using StandardScaler\n",
    "from sklearn.preprocessing import StandardScaler\n",
    "sc=StandardScaler()\n",
    "x=sc.fit_transform(df_x)\n",
    "x=pd.DataFrame(x,columns=df_x.columns)\n",
    "x"
   ]
  },
  {
   "cell_type": "markdown",
   "metadata": {},
   "source": [
    "# Building the model"
   ]
  },
  {
   "cell_type": "code",
   "execution_count": 42,
   "metadata": {},
   "outputs": [],
   "source": [
    "#Importing train_test_split, Logistic Regression and accuracy_score\n",
    "from sklearn.model_selection import train_test_split\n",
    "from sklearn.linear_model import LogisticRegression\n",
    "LR=LogisticRegression()\n",
    "from sklearn.metrics import accuracy_score"
   ]
  },
  {
   "cell_type": "code",
   "execution_count": 43,
   "metadata": {},
   "outputs": [
    {
     "name": "stdout",
     "output_type": "stream",
     "text": [
      "At random state 56 ,the model performs well\n",
      "Training accuracy_score is:  84.89702517162472\n",
      "Testing accuracy_score is:  84.89702517162472\n",
      "At random state 357 ,the model performs well\n",
      "Training accuracy_score is:  84.89702517162472\n",
      "Testing accuracy_score is:  84.89702517162472\n",
      "At random state 471 ,the model performs well\n",
      "Training accuracy_score is:  85.01144164759725\n",
      "Testing accuracy_score is:  85.01144164759725\n",
      "At random state 490 ,the model performs well\n",
      "Training accuracy_score is:  84.89702517162472\n",
      "Testing accuracy_score is:  84.89702517162472\n",
      "At random state 668 ,the model performs well\n",
      "Training accuracy_score is:  84.89702517162472\n",
      "Testing accuracy_score is:  84.89702517162472\n",
      "At random state 725 ,the model performs well\n",
      "Training accuracy_score is:  84.78260869565217\n",
      "Testing accuracy_score is:  84.78260869565217\n",
      "At random state 738 ,the model performs well\n",
      "Training accuracy_score is:  84.78260869565217\n",
      "Testing accuracy_score is:  84.78260869565217\n",
      "At random state 864 ,the model performs well\n",
      "Training accuracy_score is:  84.78260869565217\n",
      "Testing accuracy_score is:  84.78260869565217\n",
      "At random state 917 ,the model performs well\n",
      "Training accuracy_score is:  84.89702517162472\n",
      "Testing accuracy_score is:  84.89702517162472\n",
      "At random state 918 ,the model performs well\n",
      "Training accuracy_score is:  85.01144164759725\n",
      "Testing accuracy_score is:  85.01144164759725\n"
     ]
    }
   ],
   "source": [
    "#Finding the best random state and accuracy\n",
    "for i in range(0,1000):\n",
    "    x_train,x_test,y_train,y_test=train_test_split(x,y,test_size=.20,random_state=i)\n",
    "    LR.fit(x_train,y_train)\n",
    "    pred_train=LR.predict(x_train)\n",
    "    pred_test=LR.predict(x_test)\n",
    "    if round(accuracy_score(y_train,pred_train)*100,2)==round(accuracy_score(y_test,pred_test)*100,2):\n",
    "        print('At random state',i,',the model performs well')\n",
    "        print('Training accuracy_score is: ',accuracy_score(y_train,pred_train)*100)\n",
    "        print('Testing accuracy_score is: ',accuracy_score(y_test,pred_test)*100)"
   ]
  },
  {
   "cell_type": "markdown",
   "metadata": {},
   "source": [
    "We can see that at random_state=471 the maximum scores are obtained so that we can create our train_test_split with that"
   ]
  },
  {
   "cell_type": "code",
   "execution_count": 44,
   "metadata": {},
   "outputs": [],
   "source": [
    "#Creating train_test_split using best random_state\n",
    "x_train,x_test,y_train,y_test=train_test_split(x,y,random_state=471,test_size=.20,stratify=y)"
   ]
  },
  {
   "cell_type": "markdown",
   "metadata": {},
   "source": [
    "# Finding out the best model"
   ]
  },
  {
   "cell_type": "markdown",
   "metadata": {},
   "source": [
    "We are going to use LogisticRegression, SVC, GaussianNB, DecisionTreeClassifier and KNeighborsClassifier algorithms for finding out the best model among those"
   ]
  },
  {
   "cell_type": "code",
   "execution_count": 45,
   "metadata": {},
   "outputs": [],
   "source": [
    "#Importing various classification models for testing\n",
    "from sklearn.linear_model import LogisticRegression\n",
    "from sklearn.svm import SVC\n",
    "from sklearn.naive_bayes import GaussianNB\n",
    "from sklearn.tree import DecisionTreeClassifier\n",
    "from sklearn.neighbors import KNeighborsClassifier"
   ]
  },
  {
   "cell_type": "code",
   "execution_count": 46,
   "metadata": {},
   "outputs": [],
   "source": [
    "#Initializing the instance of the model\n",
    "LR=LogisticRegression()\n",
    "svc=SVC()\n",
    "gnb=GaussianNB()\n",
    "dtc=DecisionTreeClassifier()\n",
    "knc=KNeighborsClassifier()"
   ]
  },
  {
   "cell_type": "code",
   "execution_count": 47,
   "metadata": {},
   "outputs": [],
   "source": [
    "models= []\n",
    "models.append(('Logistic Regression',LR))\n",
    "models.append(('SupportVectorClassifier',svc))\n",
    "models.append(('GaussianNB',gnb))\n",
    "models.append(('DecisionTreeClassifier',dtc))\n",
    "models.append(('KNeighborsClassifier',knc))"
   ]
  },
  {
   "cell_type": "code",
   "execution_count": 48,
   "metadata": {},
   "outputs": [],
   "source": [
    "#Importing required modules and metrices\n",
    "from sklearn.metrics import roc_curve,auc,confusion_matrix,classification_report\n",
    "from sklearn.model_selection import cross_val_score"
   ]
  },
  {
   "cell_type": "code",
   "execution_count": 49,
   "metadata": {
    "scrolled": false
   },
   "outputs": [
    {
     "name": "stdout",
     "output_type": "stream",
     "text": [
      "****************************** Logistic Regression ***************************\n",
      "\n",
      "\n",
      "LogisticRegression()\n",
      "\n",
      "\n",
      "accuracy_score:  0.8478260869565217\n",
      "\n",
      "\n",
      "cross_val_score:  0.8434782608695652\n",
      "\n",
      "\n",
      "roc_auc_score:  0.5193008545576407\n",
      "\n",
      "\n",
      "Classification report:\n",
      " \n",
      "              precision    recall  f1-score   support\n",
      "\n",
      "           0       0.86      0.98      0.92       746\n",
      "           1       0.37      0.05      0.10       128\n",
      "\n",
      "    accuracy                           0.85       874\n",
      "   macro avg       0.61      0.52      0.51       874\n",
      "weighted avg       0.79      0.85      0.80       874\n",
      "\n",
      "\n",
      "\n",
      "Confusion matrix: \n",
      "\n",
      "[[734  12]\n",
      " [121   7]]\n",
      "\n",
      "\n",
      "AUC_ROC curve:\n",
      "\n"
     ]
    },
    {
     "data": {
      "image/png": "[encoded data removed]",
      "text/plain": [
       "<Figure size 720x3600 with 1 Axes>"
      ]
     },
     "metadata": {
      "needs_background": "light"
     },
     "output_type": "display_data"
    },
    {
     "name": "stdout",
     "output_type": "stream",
     "text": [
      "\n",
      "\n",
      "\n",
      "\n",
      "****************************** SupportVectorClassifier ***************************\n",
      "\n",
      "\n",
      "SVC()\n",
      "\n",
      "\n",
      "accuracy_score:  0.8592677345537757\n",
      "\n",
      "\n",
      "cross_val_score:  0.8521739130434783\n",
      "\n",
      "\n",
      "roc_auc_score:  0.5454193197050938\n",
      "\n",
      "\n",
      "Classification report:\n",
      " \n",
      "              precision    recall  f1-score   support\n",
      "\n",
      "           0       0.87      0.99      0.92       746\n",
      "           1       0.62      0.10      0.17       128\n",
      "\n",
      "    accuracy                           0.86       874\n",
      "   macro avg       0.74      0.55      0.55       874\n",
      "weighted avg       0.83      0.86      0.81       874\n",
      "\n",
      "\n",
      "\n",
      "Confusion matrix: \n",
      "\n",
      "[[738   8]\n",
      " [115  13]]\n",
      "\n",
      "\n",
      "AUC_ROC curve:\n",
      "\n"
     ]
    },
    {
     "data": {
      "image/png": "[encoded data removed]",
      "text/plain": [
       "<Figure size 720x3600 with 1 Axes>"
      ]
     },
     "metadata": {
      "needs_background": "light"
     },
     "output_type": "display_data"
    },
    {
     "name": "stdout",
     "output_type": "stream",
     "text": [
      "\n",
      "\n",
      "\n",
      "\n",
      "****************************** GaussianNB ***************************\n",
      "\n",
      "\n",
      "GaussianNB()\n",
      "\n",
      "\n",
      "accuracy_score:  0.8352402745995423\n",
      "\n",
      "\n",
      "cross_val_score:  0.7881006864988558\n",
      "\n",
      "\n",
      "roc_auc_score:  0.6316605227882037\n",
      "\n",
      "\n",
      "Classification report:\n",
      " \n",
      "              precision    recall  f1-score   support\n",
      "\n",
      "           0       0.89      0.92      0.91       746\n",
      "           1       0.42      0.34      0.38       128\n",
      "\n",
      "    accuracy                           0.84       874\n",
      "   macro avg       0.66      0.63      0.64       874\n",
      "weighted avg       0.82      0.84      0.83       874\n",
      "\n",
      "\n",
      "\n",
      "Confusion matrix: \n",
      "\n",
      "[[686  60]\n",
      " [ 84  44]]\n",
      "\n",
      "\n",
      "AUC_ROC curve:\n",
      "\n"
     ]
    },
    {
     "data": {
      "image/png": "[encoded data removed]",
      "text/plain": [
       "<Figure size 720x3600 with 1 Axes>"
      ]
     },
     "metadata": {
      "needs_background": "light"
     },
     "output_type": "display_data"
    },
    {
     "name": "stdout",
     "output_type": "stream",
     "text": [
      "\n",
      "\n",
      "\n",
      "\n",
      "****************************** DecisionTreeClassifier ***************************\n",
      "\n",
      "\n",
      "DecisionTreeClassifier()\n",
      "\n",
      "\n",
      "accuracy_score:  0.7665903890160183\n",
      "\n",
      "\n",
      "cross_val_score:  0.7521739130434782\n",
      "\n",
      "\n",
      "roc_auc_score:  0.5655579758713136\n",
      "\n",
      "\n",
      "Classification report:\n",
      " \n",
      "              precision    recall  f1-score   support\n",
      "\n",
      "           0       0.87      0.85      0.86       746\n",
      "           1       0.24      0.28      0.26       128\n",
      "\n",
      "    accuracy                           0.77       874\n",
      "   macro avg       0.56      0.57      0.56       874\n",
      "weighted avg       0.78      0.77      0.77       874\n",
      "\n",
      "\n",
      "\n",
      "Confusion matrix: \n",
      "\n",
      "[[634 112]\n",
      " [ 92  36]]\n",
      "\n",
      "\n",
      "AUC_ROC curve:\n",
      "\n"
     ]
    },
    {
     "data": {
      "image/png": "[encoded data removed]",
      "text/plain": [
       "<Figure size 720x3600 with 1 Axes>"
      ]
     },
     "metadata": {
      "needs_background": "light"
     },
     "output_type": "display_data"
    },
    {
     "name": "stdout",
     "output_type": "stream",
     "text": [
      "\n",
      "\n",
      "\n",
      "\n",
      "****************************** KNeighborsClassifier ***************************\n",
      "\n",
      "\n",
      "KNeighborsClassifier()\n",
      "\n",
      "\n",
      "accuracy_score:  0.8329519450800915\n",
      "\n",
      "\n",
      "cross_val_score:  0.8189931350114416\n",
      "\n",
      "\n",
      "roc_auc_score:  0.5753078920911529\n",
      "\n",
      "\n",
      "Classification report:\n",
      " \n",
      "              precision    recall  f1-score   support\n",
      "\n",
      "           0       0.87      0.94      0.91       746\n",
      "           1       0.38      0.21      0.27       128\n",
      "\n",
      "    accuracy                           0.83       874\n",
      "   macro avg       0.62      0.58      0.59       874\n",
      "weighted avg       0.80      0.83      0.81       874\n",
      "\n",
      "\n",
      "\n",
      "Confusion matrix: \n",
      "\n",
      "[[701  45]\n",
      " [101  27]]\n",
      "\n",
      "\n",
      "AUC_ROC curve:\n",
      "\n"
     ]
    },
    {
     "data": {
      "image/png": "[encoded data removed]",
      "text/plain": [
       "<Figure size 720x3600 with 1 Axes>"
      ]
     },
     "metadata": {
      "needs_background": "light"
     },
     "output_type": "display_data"
    },
    {
     "name": "stdout",
     "output_type": "stream",
     "text": [
      "\n",
      "\n",
      "\n",
      "\n"
     ]
    }
   ],
   "source": [
    "#Making a for loop and calling the algorithm one by one and save data to respective model using append function\n",
    "Model=[]\n",
    "score=[]\n",
    "cvs=[]\n",
    "rocscore=[]\n",
    "for name,model in models:\n",
    "    print('******************************',name,'***************************')\n",
    "    print('\\n')\n",
    "    Model.append(name)\n",
    "    model.fit(x_train,y_train)\n",
    "    print(model)\n",
    "    pre=model.predict(x_test)\n",
    "    print('\\n')\n",
    "    AS=accuracy_score(y_test,pre)\n",
    "    print('accuracy_score: ',AS)\n",
    "    score.append(AS*100)\n",
    "    print('\\n')\n",
    "    sc=cross_val_score(model,x,y,cv=5,scoring='accuracy').mean()\n",
    "    print('cross_val_score: ',sc)\n",
    "    cvs.append(sc*100)\n",
    "    print('\\n')\n",
    "    false_positive_rate,true_positive_rate,thresholds=roc_curve(y_test,pre)\n",
    "    roc_auc= auc(false_positive_rate,true_positive_rate)\n",
    "    print('roc_auc_score: ',roc_auc)\n",
    "    rocscore.append(roc_auc*100)\n",
    "    print('\\n')\n",
    "    print('Classification report:\\n ')\n",
    "    print(classification_report(y_test,pre))\n",
    "    print('\\n')\n",
    "    print('Confusion matrix: \\n')\n",
    "    cm=confusion_matrix(y_test,pre)\n",
    "    print(cm)\n",
    "    print('\\n')\n",
    "    plt.figure(figsize=(10,50))\n",
    "    plt.subplot(912)\n",
    "    print('AUC_ROC curve:\\n')\n",
    "    plt.title(name)\n",
    "    plt.plot(false_positive_rate,true_positive_rate, label='AUC = %0.2f'% roc_auc)\n",
    "    plt.plot([0,1],[0,1],'r--')\n",
    "    plt.legend(loc='lower right')\n",
    "    plt.xlabel('False positive rate')\n",
    "    plt.ylabel('True positive rate')\n",
    "    plt.show()\n",
    "    \n",
    "    print('\\n\\n\\n')"
   ]
  },
  {
   "cell_type": "code",
   "execution_count": 50,
   "metadata": {},
   "outputs": [
    {
     "data": {
      "text/html": [
       "<div>\n",
       "<style scoped>\n",
       "    .dataframe tbody tr th:only-of-type {\n",
       "        vertical-align: middle;\n",
       "    }\n",
       "\n",
       "    .dataframe tbody tr th {\n",
       "        vertical-align: top;\n",
       "    }\n",
       "\n",
       "    .dataframe thead th {\n",
       "        text-align: right;\n",
       "    }\n",
       "</style>\n",
       "<table border=\"1\" class=\"dataframe\">\n",
       "  <thead>\n",
       "    <tr style=\"text-align: right;\">\n",
       "      <th></th>\n",
       "      <th>Model</th>\n",
       "      <th>Accuracy_score</th>\n",
       "      <th>Cross_val_score</th>\n",
       "      <th>roc_auc_score</th>\n",
       "    </tr>\n",
       "  </thead>\n",
       "  <tbody>\n",
       "    <tr>\n",
       "      <th>0</th>\n",
       "      <td>Logistic Regression</td>\n",
       "      <td>84.782609</td>\n",
       "      <td>84.347826</td>\n",
       "      <td>51.930085</td>\n",
       "    </tr>\n",
       "    <tr>\n",
       "      <th>1</th>\n",
       "      <td>SupportVectorClassifier</td>\n",
       "      <td>85.926773</td>\n",
       "      <td>85.217391</td>\n",
       "      <td>54.541932</td>\n",
       "    </tr>\n",
       "    <tr>\n",
       "      <th>2</th>\n",
       "      <td>GaussianNB</td>\n",
       "      <td>83.524027</td>\n",
       "      <td>78.810069</td>\n",
       "      <td>63.166052</td>\n",
       "    </tr>\n",
       "    <tr>\n",
       "      <th>3</th>\n",
       "      <td>DecisionTreeClassifier</td>\n",
       "      <td>76.659039</td>\n",
       "      <td>75.217391</td>\n",
       "      <td>56.555798</td>\n",
       "    </tr>\n",
       "    <tr>\n",
       "      <th>4</th>\n",
       "      <td>KNeighborsClassifier</td>\n",
       "      <td>83.295195</td>\n",
       "      <td>81.899314</td>\n",
       "      <td>57.530789</td>\n",
       "    </tr>\n",
       "  </tbody>\n",
       "</table>\n",
       "</div>"
      ],
      "text/plain": [
       "                     Model  Accuracy_score  Cross_val_score  roc_auc_score\n",
       "0      Logistic Regression       84.782609        84.347826      51.930085\n",
       "1  SupportVectorClassifier       85.926773        85.217391      54.541932\n",
       "2               GaussianNB       83.524027        78.810069      63.166052\n",
       "3   DecisionTreeClassifier       76.659039        75.217391      56.555798\n",
       "4     KNeighborsClassifier       83.295195        81.899314      57.530789"
      ]
     },
     "execution_count": 50,
     "metadata": {},
     "output_type": "execute_result"
    }
   ],
   "source": [
    "#Finalizing the result\n",
    "result=pd.DataFrame({'Model':Model, 'Accuracy_score': score,'Cross_val_score':cvs,'roc_auc_score':rocscore})\n",
    "result"
   ]
  },
  {
   "cell_type": "markdown",
   "metadata": {},
   "source": [
    "We can see that SupportVectorClassifier algorithm is working well as it is giving an accuracy score of 85.92 and cross_val_score of 85.21. Now lets try HyperparameterTuning for finding out the best parameters and increasing the scores respectively."
   ]
  },
  {
   "cell_type": "markdown",
   "metadata": {},
   "source": [
    "# Hyperparameter Tuning"
   ]
  },
  {
   "cell_type": "code",
   "execution_count": 51,
   "metadata": {},
   "outputs": [],
   "source": [
    "#Creating parameter list to pass in GridSearchCV\n",
    "parameters={'C':[10, 1, 0.1, 0.01,0.001],'kernel':['poly','rbf','linear'],'gamma':['scale','auto']}"
   ]
  },
  {
   "cell_type": "code",
   "execution_count": 52,
   "metadata": {},
   "outputs": [
    {
     "name": "stdout",
     "output_type": "stream",
     "text": [
      "{'C': 1, 'gamma': 'scale', 'kernel': 'rbf'}\n",
      "0.8604136521561415\n"
     ]
    }
   ],
   "source": [
    "#Using GridSearchCV to run the parameters and checking final accuracy\n",
    "from sklearn.model_selection import GridSearchCV\n",
    "svc=SVC()\n",
    "grid=GridSearchCV(svc,parameters,cv=5,scoring='accuracy')\n",
    "grid.fit(x_train,y_train)\n",
    "print(grid.best_params_)  #Printing the best parameters obtained\n",
    "print(grid.best_score_) #Mean cross-validated score of best_estimator"
   ]
  },
  {
   "cell_type": "code",
   "execution_count": 53,
   "metadata": {},
   "outputs": [
    {
     "name": "stdout",
     "output_type": "stream",
     "text": [
      "Final Accuracy after tuning is:  85.92677345537757\n",
      "Cross validation score:  85.21739130434783\n"
     ]
    }
   ],
   "source": [
    "#Using the best parameters obtained \n",
    "svc=SVC(C=1,gamma='scale',kernel='rbf',random_state=471)\n",
    "svc.fit(x_train,y_train)\n",
    "pred=svc.predict(x_test)\n",
    "print('Final Accuracy after tuning is: ',accuracy_score(y_test,pred)*100)\n",
    "print('Cross validation score: ',cross_val_score(svc,x,y,cv=5,scoring='accuracy').mean()*100)"
   ]
  },
  {
   "cell_type": "markdown",
   "metadata": {},
   "source": [
    "We can see that after finding out the best parameters also our scores are not increased. Now we will use Ensemble Techniques to improve the scores "
   ]
  },
  {
   "cell_type": "markdown",
   "metadata": {},
   "source": [
    "# Ensemble Techniques for boosting our score"
   ]
  },
  {
   "cell_type": "code",
   "execution_count": 54,
   "metadata": {},
   "outputs": [
    {
     "name": "stdout",
     "output_type": "stream",
     "text": [
      "{'criterion': 'entropy', 'n_estimators': 500}\n",
      "0.8515430206417332\n"
     ]
    }
   ],
   "source": [
    "#RandomForestClassifier\n",
    "from sklearn.ensemble import RandomForestClassifier\n",
    "rfc=RandomForestClassifier(random_state=471)   #Using the best random state we obtained\n",
    "parameters={'n_estimators':[10,50,100,500,1000,1200],'criterion' :['gini', 'entropy']}\n",
    "grid=GridSearchCV(rfc,parameters,cv=5,scoring='accuracy')\n",
    "grid.fit(x_train,y_train)\n",
    "print(grid.best_params_)  #Printing the best parameters obtained\n",
    "print(grid.best_score_) #Mean cross-validated score of best_estimator"
   ]
  },
  {
   "cell_type": "code",
   "execution_count": 55,
   "metadata": {},
   "outputs": [
    {
     "name": "stdout",
     "output_type": "stream",
     "text": [
      "Accuracy score:  83.7528604118993\n",
      "Cross validation score:  83.82151029748283\n",
      "Classification report: \n",
      "\n",
      "              precision    recall  f1-score   support\n",
      "\n",
      "           0       0.87      0.95      0.91       746\n",
      "           1       0.38      0.16      0.23       128\n",
      "\n",
      "    accuracy                           0.84       874\n",
      "   macro avg       0.62      0.56      0.57       874\n",
      "weighted avg       0.80      0.84      0.81       874\n",
      "\n",
      "Confusion matrix: \n",
      "\n",
      "[[711  35]\n",
      " [107  21]]\n"
     ]
    }
   ],
   "source": [
    "#Using the best parameters obtained\n",
    "RF=RandomForestClassifier(random_state=471,criterion='entropy',n_estimators=500)\n",
    "RF.fit(x_train,y_train)\n",
    "pred=RF.predict(x_test)\n",
    "print('Accuracy score: ',accuracy_score(y_test,pred)*100)\n",
    "print('Cross validation score: ',cross_val_score(RF,x,y,cv=5,scoring='accuracy').mean()*100)\n",
    "print('Classification report: \\n')\n",
    "print(classification_report(y_test,pred))\n",
    "print('Confusion matrix: \\n')\n",
    "print(confusion_matrix(y_test,pred))"
   ]
  },
  {
   "cell_type": "code",
   "execution_count": 56,
   "metadata": {},
   "outputs": [
    {
     "name": "stdout",
     "output_type": "stream",
     "text": [
      "{'learning_rate': 1, 'n_estimators': 50}\n",
      "0.8604136521561415\n"
     ]
    }
   ],
   "source": [
    "#AdaBoostClassifier\n",
    "from sklearn.ensemble import AdaBoostClassifier\n",
    "adc=AdaBoostClassifier(random_state=471)   #Using the best random state we obtained\n",
    "parameters={'n_estimators':[50,100,500,1000],'learning_rate':[0.001,0.01,0.1,1]}\n",
    "grid=GridSearchCV(adc,parameters,cv=5,scoring='accuracy')\n",
    "grid.fit(x_train,y_train)\n",
    "print(grid.best_params_)  #Printing the best parameters obtained\n",
    "print(grid.best_score_) #Mean cross-validated score of best_estimator"
   ]
  },
  {
   "cell_type": "code",
   "execution_count": 57,
   "metadata": {},
   "outputs": [
    {
     "name": "stdout",
     "output_type": "stream",
     "text": [
      "Accuracy score:  85.24027459954233\n",
      "Cross validation score:  85.35469107551489\n",
      "Classification report: \n",
      "\n",
      "              precision    recall  f1-score   support\n",
      "\n",
      "           0       0.87      0.97      0.92       746\n",
      "           1       0.49      0.16      0.24       128\n",
      "\n",
      "    accuracy                           0.85       874\n",
      "   macro avg       0.68      0.56      0.58       874\n",
      "weighted avg       0.81      0.85      0.82       874\n",
      "\n",
      "Confusion matrix: \n",
      "\n",
      "[[725  21]\n",
      " [108  20]]\n"
     ]
    }
   ],
   "source": [
    "#Using the best parameters obtained\n",
    "adc=AdaBoostClassifier(random_state=471,n_estimators=50,learning_rate=1)\n",
    "adc.fit(x_train,y_train)\n",
    "pred=adc.predict(x_test)\n",
    "print(\"Accuracy score: \",accuracy_score(y_test,pred)*100)\n",
    "print('Cross validation score: ',cross_val_score(adc,x,y,cv=5,scoring='accuracy').mean()*100)\n",
    "print('Classification report: \\n')\n",
    "print(classification_report(y_test,pred))\n",
    "print('Confusion matrix: \\n')\n",
    "print(confusion_matrix(y_test,pred))"
   ]
  },
  {
   "cell_type": "code",
   "execution_count": 58,
   "metadata": {},
   "outputs": [
    {
     "name": "stdout",
     "output_type": "stream",
     "text": [
      "{'learning_rate': 0.1, 'loss': 'deviance', 'n_estimators': 50}\n",
      "0.8612699775189047\n"
     ]
    }
   ],
   "source": [
    "#GradientBoostingClassifier\n",
    "from sklearn.ensemble import GradientBoostingClassifier\n",
    "gbc=GradientBoostingClassifier(random_state=471)   #Using the best random state we obtained\n",
    "parameters={'n_estimators':[50,100,500,1000],'learning_rate':[0.001,0.01,0.1,1],'loss':['deviance','exponential']}\n",
    "gbc=GridSearchCV(gbc,parameters,cv=5,scoring='accuracy')\n",
    "gbc.fit(x_train,y_train)\n",
    "print(gbc.best_params_)     #Printing the best parameters obtained\n",
    "print(gbc.best_score_)      #Mean cross-validated score of best_estimator"
   ]
  },
  {
   "cell_type": "code",
   "execution_count": 59,
   "metadata": {},
   "outputs": [
    {
     "name": "stdout",
     "output_type": "stream",
     "text": [
      "Accuracy score:  85.24027459954233\n",
      "Cross validation score:  85.12585812356981\n",
      "Classification report: \n",
      "\n",
      "              precision    recall  f1-score   support\n",
      "\n",
      "           0       0.87      0.97      0.92       746\n",
      "           1       0.49      0.14      0.22       128\n",
      "\n",
      "    accuracy                           0.85       874\n",
      "   macro avg       0.68      0.56      0.57       874\n",
      "weighted avg       0.81      0.85      0.82       874\n",
      "\n",
      "Confusion matrix: \n",
      "\n",
      "[[727  19]\n",
      " [110  18]]\n"
     ]
    }
   ],
   "source": [
    "#Using the best parameters obtained\n",
    "gbc=GradientBoostingClassifier(random_state=471,n_estimators=50,learning_rate=0.1,loss='deviance')\n",
    "gbc.fit(x_train,y_train)\n",
    "pred=gbc.predict(x_test)\n",
    "print(\"Accuracy score: \",accuracy_score(y_test,pred)*100)\n",
    "print('Cross validation score: ',cross_val_score(gbc,x,y,cv=5,scoring='accuracy').mean()*100)\n",
    "print('Classification report: \\n')\n",
    "print(classification_report(y_test,pred))\n",
    "print('Confusion matrix: \\n')\n",
    "print(confusion_matrix(y_test,pred))"
   ]
  },
  {
   "cell_type": "markdown",
   "metadata": {},
   "source": [
    "After using all the necessary techniques to finding the best parameter and improving the scores, we conclude that SupportVectorClassifier is the best algorithm among all other algorithms as it gives an accuracy score of 85.92 and cross validation score of 85.21, which is good and now we will finalize the model."
   ]
  },
  {
   "cell_type": "markdown",
   "metadata": {},
   "source": [
    "# Finalizing the model "
   ]
  },
  {
   "cell_type": "code",
   "execution_count": 60,
   "metadata": {},
   "outputs": [
    {
     "name": "stdout",
     "output_type": "stream",
     "text": [
      "Predictions of SVC:  [1 1 1 ... 0 0 0]\n"
     ]
    }
   ],
   "source": [
    "svc_prediction=svc.predict(x)\n",
    "print('Predictions of SVC: ',svc_prediction)   #Printing the predicted values"
   ]
  },
  {
   "cell_type": "code",
   "execution_count": 61,
   "metadata": {},
   "outputs": [],
   "source": [
    "#Saving the model\n",
    "import pickle\n",
    "filename='Agriculture_Project.pkl'   #Specifying the filename\n",
    "pickle.dump(svc,open(filename,'wb'))   "
   ]
  },
  {
   "cell_type": "markdown",
   "metadata": {},
   "source": [
    "# Saving the predicted values"
   ]
  },
  {
   "cell_type": "code",
   "execution_count": 62,
   "metadata": {},
   "outputs": [],
   "source": [
    "train_results=pd.DataFrame(svc_prediction)\n",
    "train_results.to_csv('Agriculture_Project_TrainDataResults.csv')"
   ]
  },
  {
   "cell_type": "markdown",
   "metadata": {},
   "source": [
    "Now, we have saved the model which has the predictions of the training data we had used. Next, we will use the test data and find the predictions using the trained data we have"
   ]
  },
  {
   "cell_type": "markdown",
   "metadata": {},
   "source": [
    "# Using the test dataset"
   ]
  },
  {
   "cell_type": "code",
   "execution_count": 63,
   "metadata": {},
   "outputs": [
    {
     "data": {
      "text/html": [
       "<div>\n",
       "<style scoped>\n",
       "    .dataframe tbody tr th:only-of-type {\n",
       "        vertical-align: middle;\n",
       "    }\n",
       "\n",
       "    .dataframe tbody tr th {\n",
       "        vertical-align: top;\n",
       "    }\n",
       "\n",
       "    .dataframe thead th {\n",
       "        text-align: right;\n",
       "    }\n",
       "</style>\n",
       "<table border=\"1\" class=\"dataframe\">\n",
       "  <thead>\n",
       "    <tr style=\"text-align: right;\">\n",
       "      <th></th>\n",
       "      <th>ID</th>\n",
       "      <th>Estimated_Insects_Count</th>\n",
       "      <th>Crop_Type</th>\n",
       "      <th>Soil_Type</th>\n",
       "      <th>Pesticide_Use_Category</th>\n",
       "      <th>Number_Doses_Week</th>\n",
       "      <th>Number_Weeks_Used</th>\n",
       "      <th>Number_Weeks_Quit</th>\n",
       "      <th>Season</th>\n",
       "    </tr>\n",
       "  </thead>\n",
       "  <tbody>\n",
       "    <tr>\n",
       "      <th>0</th>\n",
       "      <td>F00000002</td>\n",
       "      <td>188</td>\n",
       "      <td>1</td>\n",
       "      <td>1</td>\n",
       "      <td>1</td>\n",
       "      <td>0</td>\n",
       "      <td>NaN</td>\n",
       "      <td>0</td>\n",
       "      <td>2</td>\n",
       "    </tr>\n",
       "    <tr>\n",
       "      <th>1</th>\n",
       "      <td>F00000007</td>\n",
       "      <td>410</td>\n",
       "      <td>1</td>\n",
       "      <td>1</td>\n",
       "      <td>1</td>\n",
       "      <td>0</td>\n",
       "      <td>0.0</td>\n",
       "      <td>0</td>\n",
       "      <td>2</td>\n",
       "    </tr>\n",
       "    <tr>\n",
       "      <th>2</th>\n",
       "      <td>F00000011</td>\n",
       "      <td>626</td>\n",
       "      <td>1</td>\n",
       "      <td>0</td>\n",
       "      <td>1</td>\n",
       "      <td>0</td>\n",
       "      <td>0.0</td>\n",
       "      <td>0</td>\n",
       "      <td>2</td>\n",
       "    </tr>\n",
       "    <tr>\n",
       "      <th>3</th>\n",
       "      <td>F00000013</td>\n",
       "      <td>731</td>\n",
       "      <td>1</td>\n",
       "      <td>0</td>\n",
       "      <td>1</td>\n",
       "      <td>0</td>\n",
       "      <td>0.0</td>\n",
       "      <td>0</td>\n",
       "      <td>2</td>\n",
       "    </tr>\n",
       "    <tr>\n",
       "      <th>4</th>\n",
       "      <td>F00000014</td>\n",
       "      <td>789</td>\n",
       "      <td>0</td>\n",
       "      <td>0</td>\n",
       "      <td>1</td>\n",
       "      <td>0</td>\n",
       "      <td>0.0</td>\n",
       "      <td>0</td>\n",
       "      <td>1</td>\n",
       "    </tr>\n",
       "  </tbody>\n",
       "</table>\n",
       "</div>"
      ],
      "text/plain": [
       "          ID  Estimated_Insects_Count  Crop_Type  Soil_Type  \\\n",
       "0  F00000002                      188          1          1   \n",
       "1  F00000007                      410          1          1   \n",
       "2  F00000011                      626          1          0   \n",
       "3  F00000013                      731          1          0   \n",
       "4  F00000014                      789          0          0   \n",
       "\n",
       "   Pesticide_Use_Category  Number_Doses_Week  Number_Weeks_Used  \\\n",
       "0                       1                  0                NaN   \n",
       "1                       1                  0                0.0   \n",
       "2                       1                  0                0.0   \n",
       "3                       1                  0                0.0   \n",
       "4                       1                  0                0.0   \n",
       "\n",
       "   Number_Weeks_Quit  Season  \n",
       "0                  0       2  \n",
       "1                  0       2  \n",
       "2                  0       2  \n",
       "3                  0       2  \n",
       "4                  0       1  "
      ]
     },
     "execution_count": 63,
     "metadata": {},
     "output_type": "execute_result"
    }
   ],
   "source": [
    "df_test=pd.read_csv('D:/Python file/Project Datasets/FinalEval/test_agriculture.csv')  #Path location of the dataset\n",
    "df_test.head()  #Checking out the top 5 rows of the dataset"
   ]
  },
  {
   "cell_type": "code",
   "execution_count": 64,
   "metadata": {},
   "outputs": [
    {
     "data": {
      "text/plain": [
       "(1199, 9)"
      ]
     },
     "execution_count": 64,
     "metadata": {},
     "output_type": "execute_result"
    }
   ],
   "source": [
    "df_test.shape   #Checking out the dimensions of the dataset"
   ]
  },
  {
   "cell_type": "markdown",
   "metadata": {},
   "source": [
    "There are 1199 rows and 9 columns in the test dataset"
   ]
  },
  {
   "cell_type": "code",
   "execution_count": 65,
   "metadata": {},
   "outputs": [
    {
     "data": {
      "text/plain": [
       "ID                           0\n",
       "Estimated_Insects_Count      0\n",
       "Crop_Type                    0\n",
       "Soil_Type                    0\n",
       "Pesticide_Use_Category       0\n",
       "Number_Doses_Week            0\n",
       "Number_Weeks_Used          119\n",
       "Number_Weeks_Quit            0\n",
       "Season                       0\n",
       "dtype: int64"
      ]
     },
     "execution_count": 65,
     "metadata": {},
     "output_type": "execute_result"
    }
   ],
   "source": [
    "df_test.isnull().sum()    #Checking for missing values"
   ]
  },
  {
   "cell_type": "markdown",
   "metadata": {},
   "source": [
    "There are missing values in the Number_Weeks_Used column and we need to fill it"
   ]
  },
  {
   "cell_type": "markdown",
   "metadata": {},
   "source": [
    "# Exploratory Data Analysis"
   ]
  },
  {
   "cell_type": "markdown",
   "metadata": {},
   "source": [
    "# Univariate Analysis"
   ]
  },
  {
   "cell_type": "code",
   "execution_count": 66,
   "metadata": {},
   "outputs": [
    {
     "name": "stdout",
     "output_type": "stream",
     "text": [
      "0    966\n",
      "1    233\n",
      "Name: Crop_Type, dtype: int64\n"
     ]
    },
    {
     "data": {
      "image/png": "[encoded data removed]",
      "text/plain": [
       "<Figure size 720x288 with 1 Axes>"
      ]
     },
     "metadata": {
      "needs_background": "light"
     },
     "output_type": "display_data"
    }
   ],
   "source": [
    "#Plotting for Crop Types\n",
    "print(df_test['Crop_Type'].value_counts())\n",
    "plt.subplots(figsize=(10,4))\n",
    "sns.countplot(x='Crop_Type',data=df_test)\n",
    "plt.title('Number of Crop types present')\n",
    "plt.xlabel('Crop_Type')\n",
    "plt.ylabel('Count of Crop_Type')\n",
    "plt.show()"
   ]
  },
  {
   "cell_type": "markdown",
   "metadata": {},
   "source": [
    "There are more 0th type of crops present and its count is 966, whereas 1st type of crops count is 233"
   ]
  },
  {
   "cell_type": "code",
   "execution_count": 67,
   "metadata": {},
   "outputs": [
    {
     "name": "stdout",
     "output_type": "stream",
     "text": [
      "0    653\n",
      "1    546\n",
      "Name: Soil_Type, dtype: int64\n"
     ]
    },
    {
     "data": {
      "image/png": "[encoded data removed]",
      "text/plain": [
       "<Figure size 720x288 with 1 Axes>"
      ]
     },
     "metadata": {
      "needs_background": "light"
     },
     "output_type": "display_data"
    }
   ],
   "source": [
    "#Plotting for Soil Type\n",
    "print(df_test['Soil_Type'].value_counts())\n",
    "plt.subplots(figsize=(10,4))\n",
    "sns.countplot(x='Soil_Type',data=df_test)\n",
    "plt.title('Number of Soil Types')\n",
    "plt.xlabel('Soil_Type')\n",
    "plt.ylabel('Count of Soil_Type')\n",
    "plt.show()"
   ]
  },
  {
   "cell_type": "markdown",
   "metadata": {},
   "source": [
    "There are 653 crops which has 0th type of soil whereas there are 546 crops of 1st type soil"
   ]
  },
  {
   "cell_type": "code",
   "execution_count": 68,
   "metadata": {},
   "outputs": [
    {
     "name": "stdout",
     "output_type": "stream",
     "text": [
      "2    695\n",
      "3    482\n",
      "1     22\n",
      "Name: Pesticide_Use_Category, dtype: int64\n",
      "\n",
      "1 for Never \t 2 for previously used \t 3 for currently using\n"
     ]
    },
    {
     "data": {
      "text/plain": [
       "Text(0, 0.5, 'Count of Pesticide_Use_Category')"
      ]
     },
     "execution_count": 68,
     "metadata": {},
     "output_type": "execute_result"
    },
    {
     "data": {
      "image/png": "[encoded data removed]",
      "text/plain": [
       "<Figure size 720x288 with 1 Axes>"
      ]
     },
     "metadata": {
      "needs_background": "light"
     },
     "output_type": "display_data"
    }
   ],
   "source": [
    "#Plotting for pesticide use category\n",
    "print(df_test['Pesticide_Use_Category'].value_counts())\n",
    "print()\n",
    "print('1 for Never','\\t','2 for previously used','\\t','3 for currently using')\n",
    "plt.subplots(figsize=(10,4))\n",
    "sns.countplot(x='Pesticide_Use_Category',data=df_test)\n",
    "plt.title('Number of Pesticide_Use_Category')\n",
    "plt.xlabel('Pesticide_Use_Category')\n",
    "plt.ylabel('Count of Pesticide_Use_Category')"
   ]
  },
  {
   "cell_type": "markdown",
   "metadata": {},
   "source": [
    "Pesticides have never been used on 22 crops, Pesticides have been used on 695 crops previously and currently the pesticides have been used on 482 crops"
   ]
  },
  {
   "cell_type": "code",
   "execution_count": 69,
   "metadata": {},
   "outputs": [
    {
     "data": {
      "image/png": "[encoded data removed]",
      "text/plain": [
       "<Figure size 432x288 with 1 Axes>"
      ]
     },
     "metadata": {
      "needs_background": "light"
     },
     "output_type": "display_data"
    }
   ],
   "source": [
    "#Checking the distribution of Estimated insects count using violin plot\n",
    "sns.violinplot(df_test['Estimated_Insects_Count'])\n",
    "plt.show()"
   ]
  },
  {
   "cell_type": "markdown",
   "metadata": {},
   "source": [
    "# Bivariate Analysis"
   ]
  },
  {
   "cell_type": "code",
   "execution_count": 70,
   "metadata": {},
   "outputs": [
    {
     "data": {
      "text/plain": [
       "<matplotlib.axes._subplots.AxesSubplot at 0x127416b1610>"
      ]
     },
     "execution_count": 70,
     "metadata": {},
     "output_type": "execute_result"
    },
    {
     "data": {
      "image/png": "[encoded data removed]",
      "text/plain": [
       "<Figure size 432x288 with 1 Axes>"
      ]
     },
     "metadata": {
      "needs_background": "light"
     },
     "output_type": "display_data"
    }
   ],
   "source": [
    "#Scatter plot between 2 variables\n",
    "sns.scatterplot(x='Estimated_Insects_Count',y='Number_Doses_Week',data=df_test)"
   ]
  },
  {
   "cell_type": "code",
   "execution_count": 71,
   "metadata": {},
   "outputs": [
    {
     "data": {
      "text/plain": [
       "<matplotlib.axes._subplots.AxesSubplot at 0x1274041c8e0>"
      ]
     },
     "execution_count": 71,
     "metadata": {},
     "output_type": "execute_result"
    },
    {
     "data": {
      "image/png": "[encoded data removed]",
      "text/plain": [
       "<Figure size 432x288 with 1 Axes>"
      ]
     },
     "metadata": {
      "needs_background": "light"
     },
     "output_type": "display_data"
    }
   ],
   "source": [
    "sns.scatterplot(x='Number_Weeks_Quit',y='Number_Weeks_Used',data=df_test)"
   ]
  },
  {
   "cell_type": "code",
   "execution_count": 72,
   "metadata": {},
   "outputs": [
    {
     "data": {
      "text/plain": [
       "<matplotlib.axes._subplots.AxesSubplot at 0x12740410850>"
      ]
     },
     "execution_count": 72,
     "metadata": {},
     "output_type": "execute_result"
    },
    {
     "data": {
      "image/png": "[encoded data removed]",
      "text/plain": [
       "<Figure size 432x288 with 1 Axes>"
      ]
     },
     "metadata": {
      "needs_background": "light"
     },
     "output_type": "display_data"
    }
   ],
   "source": [
    "sns.scatterplot(x='Season',y='Crop_Type',data=df_test)"
   ]
  },
  {
   "cell_type": "code",
   "execution_count": 73,
   "metadata": {},
   "outputs": [
    {
     "data": {
      "text/plain": [
       "<seaborn.axisgrid.FacetGrid at 0x127402bb790>"
      ]
     },
     "execution_count": 73,
     "metadata": {},
     "output_type": "execute_result"
    },
    {
     "data": {
      "image/png": "[encoded data removed]",
      "text/plain": [
       "<Figure size 360x360 with 1 Axes>"
      ]
     },
     "metadata": {
      "needs_background": "light"
     },
     "output_type": "display_data"
    }
   ],
   "source": [
    "#Plotting factorplot between Soil Type vs Estimated Insects count\n",
    "sns.factorplot(x='Soil_Type',y='Estimated_Insects_Count',palette='Set1',data=df_test,kind='bar')"
   ]
  },
  {
   "cell_type": "markdown",
   "metadata": {},
   "source": [
    "0th Type of soil has an insect count of nearly 1500 whereas 1st type of soil has an insect count of nearly 900 respectively"
   ]
  },
  {
   "cell_type": "markdown",
   "metadata": {},
   "source": [
    "# Multivariate Analysis"
   ]
  },
  {
   "cell_type": "code",
   "execution_count": 74,
   "metadata": {},
   "outputs": [
    {
     "data": {
      "text/html": [
       "<div>\n",
       "<style scoped>\n",
       "    .dataframe tbody tr th:only-of-type {\n",
       "        vertical-align: middle;\n",
       "    }\n",
       "\n",
       "    .dataframe tbody tr th {\n",
       "        vertical-align: top;\n",
       "    }\n",
       "\n",
       "    .dataframe thead th {\n",
       "        text-align: right;\n",
       "    }\n",
       "</style>\n",
       "<table border=\"1\" class=\"dataframe\">\n",
       "  <thead>\n",
       "    <tr style=\"text-align: right;\">\n",
       "      <th></th>\n",
       "      <th>Estimated_Insects_Count</th>\n",
       "      <th>Crop_Type</th>\n",
       "      <th>Soil_Type</th>\n",
       "      <th>Pesticide_Use_Category</th>\n",
       "      <th>Number_Doses_Week</th>\n",
       "      <th>Number_Weeks_Used</th>\n",
       "      <th>Number_Weeks_Quit</th>\n",
       "      <th>Season</th>\n",
       "    </tr>\n",
       "  </thead>\n",
       "  <tbody>\n",
       "    <tr>\n",
       "      <th>count</th>\n",
       "      <td>1199.000000</td>\n",
       "      <td>1199.000000</td>\n",
       "      <td>1199.000000</td>\n",
       "      <td>1199.000000</td>\n",
       "      <td>1199.000000</td>\n",
       "      <td>1080.000000</td>\n",
       "      <td>1199.000000</td>\n",
       "      <td>1199.000000</td>\n",
       "    </tr>\n",
       "    <tr>\n",
       "      <th>mean</th>\n",
       "      <td>1288.737281</td>\n",
       "      <td>0.194329</td>\n",
       "      <td>0.455379</td>\n",
       "      <td>2.383653</td>\n",
       "      <td>26.555463</td>\n",
       "      <td>29.033333</td>\n",
       "      <td>7.052544</td>\n",
       "      <td>1.881568</td>\n",
       "    </tr>\n",
       "    <tr>\n",
       "      <th>std</th>\n",
       "      <td>845.004912</td>\n",
       "      <td>0.395848</td>\n",
       "      <td>0.498213</td>\n",
       "      <td>0.522866</td>\n",
       "      <td>16.154101</td>\n",
       "      <td>12.782083</td>\n",
       "      <td>8.863634</td>\n",
       "      <td>0.685640</td>\n",
       "    </tr>\n",
       "    <tr>\n",
       "      <th>min</th>\n",
       "      <td>150.000000</td>\n",
       "      <td>0.000000</td>\n",
       "      <td>0.000000</td>\n",
       "      <td>1.000000</td>\n",
       "      <td>0.000000</td>\n",
       "      <td>0.000000</td>\n",
       "      <td>0.000000</td>\n",
       "      <td>1.000000</td>\n",
       "    </tr>\n",
       "    <tr>\n",
       "      <th>25%</th>\n",
       "      <td>677.000000</td>\n",
       "      <td>0.000000</td>\n",
       "      <td>0.000000</td>\n",
       "      <td>2.000000</td>\n",
       "      <td>15.000000</td>\n",
       "      <td>20.000000</td>\n",
       "      <td>0.000000</td>\n",
       "      <td>1.000000</td>\n",
       "    </tr>\n",
       "    <tr>\n",
       "      <th>50%</th>\n",
       "      <td>1056.000000</td>\n",
       "      <td>0.000000</td>\n",
       "      <td>0.000000</td>\n",
       "      <td>2.000000</td>\n",
       "      <td>20.000000</td>\n",
       "      <td>28.000000</td>\n",
       "      <td>3.000000</td>\n",
       "      <td>2.000000</td>\n",
       "    </tr>\n",
       "    <tr>\n",
       "      <th>75%</th>\n",
       "      <td>1785.000000</td>\n",
       "      <td>0.000000</td>\n",
       "      <td>1.000000</td>\n",
       "      <td>3.000000</td>\n",
       "      <td>40.000000</td>\n",
       "      <td>38.000000</td>\n",
       "      <td>13.000000</td>\n",
       "      <td>2.000000</td>\n",
       "    </tr>\n",
       "    <tr>\n",
       "      <th>max</th>\n",
       "      <td>4097.000000</td>\n",
       "      <td>1.000000</td>\n",
       "      <td>1.000000</td>\n",
       "      <td>3.000000</td>\n",
       "      <td>90.000000</td>\n",
       "      <td>64.000000</td>\n",
       "      <td>42.000000</td>\n",
       "      <td>3.000000</td>\n",
       "    </tr>\n",
       "  </tbody>\n",
       "</table>\n",
       "</div>"
      ],
      "text/plain": [
       "       Estimated_Insects_Count    Crop_Type    Soil_Type  \\\n",
       "count              1199.000000  1199.000000  1199.000000   \n",
       "mean               1288.737281     0.194329     0.455379   \n",
       "std                 845.004912     0.395848     0.498213   \n",
       "min                 150.000000     0.000000     0.000000   \n",
       "25%                 677.000000     0.000000     0.000000   \n",
       "50%                1056.000000     0.000000     0.000000   \n",
       "75%                1785.000000     0.000000     1.000000   \n",
       "max                4097.000000     1.000000     1.000000   \n",
       "\n",
       "       Pesticide_Use_Category  Number_Doses_Week  Number_Weeks_Used  \\\n",
       "count             1199.000000        1199.000000        1080.000000   \n",
       "mean                 2.383653          26.555463          29.033333   \n",
       "std                  0.522866          16.154101          12.782083   \n",
       "min                  1.000000           0.000000           0.000000   \n",
       "25%                  2.000000          15.000000          20.000000   \n",
       "50%                  2.000000          20.000000          28.000000   \n",
       "75%                  3.000000          40.000000          38.000000   \n",
       "max                  3.000000          90.000000          64.000000   \n",
       "\n",
       "       Number_Weeks_Quit       Season  \n",
       "count        1199.000000  1199.000000  \n",
       "mean            7.052544     1.881568  \n",
       "std             8.863634     0.685640  \n",
       "min             0.000000     1.000000  \n",
       "25%             0.000000     1.000000  \n",
       "50%             3.000000     2.000000  \n",
       "75%            13.000000     2.000000  \n",
       "max            42.000000     3.000000  "
      ]
     },
     "execution_count": 74,
     "metadata": {},
     "output_type": "execute_result"
    }
   ],
   "source": [
    "df_test.describe()    #Statistical summary of the dataset"
   ]
  },
  {
   "cell_type": "markdown",
   "metadata": {},
   "source": [
    "Observations:\n",
    "\n",
    "1.The min value for all the columns are 0, except Estimated_Insects_Count.\n",
    "\n",
    "2.The difference between the mean and median is very less.\n",
    "\n",
    "3.There is a large difference between 75th percentile and max value and it is due to the presence of outliers."
   ]
  },
  {
   "cell_type": "code",
   "execution_count": 75,
   "metadata": {},
   "outputs": [
    {
     "data": {
      "text/html": [
       "<div>\n",
       "<style scoped>\n",
       "    .dataframe tbody tr th:only-of-type {\n",
       "        vertical-align: middle;\n",
       "    }\n",
       "\n",
       "    .dataframe tbody tr th {\n",
       "        vertical-align: top;\n",
       "    }\n",
       "\n",
       "    .dataframe thead th {\n",
       "        text-align: right;\n",
       "    }\n",
       "</style>\n",
       "<table border=\"1\" class=\"dataframe\">\n",
       "  <thead>\n",
       "    <tr style=\"text-align: right;\">\n",
       "      <th></th>\n",
       "      <th>Estimated_Insects_Count</th>\n",
       "      <th>Crop_Type</th>\n",
       "      <th>Soil_Type</th>\n",
       "      <th>Pesticide_Use_Category</th>\n",
       "      <th>Number_Doses_Week</th>\n",
       "      <th>Number_Weeks_Used</th>\n",
       "      <th>Number_Weeks_Quit</th>\n",
       "      <th>Season</th>\n",
       "    </tr>\n",
       "  </thead>\n",
       "  <tbody>\n",
       "    <tr>\n",
       "      <th>Estimated_Insects_Count</th>\n",
       "      <td>1.000000</td>\n",
       "      <td>0.020773</td>\n",
       "      <td>-0.339516</td>\n",
       "      <td>0.038259</td>\n",
       "      <td>-0.121168</td>\n",
       "      <td>0.521308</td>\n",
       "      <td>0.146441</td>\n",
       "      <td>0.023384</td>\n",
       "    </tr>\n",
       "    <tr>\n",
       "      <th>Crop_Type</th>\n",
       "      <td>0.020773</td>\n",
       "      <td>1.000000</td>\n",
       "      <td>0.063050</td>\n",
       "      <td>0.482378</td>\n",
       "      <td>-0.170014</td>\n",
       "      <td>0.065865</td>\n",
       "      <td>-0.390935</td>\n",
       "      <td>0.020282</td>\n",
       "    </tr>\n",
       "    <tr>\n",
       "      <th>Soil_Type</th>\n",
       "      <td>-0.339516</td>\n",
       "      <td>0.063050</td>\n",
       "      <td>1.000000</td>\n",
       "      <td>0.129857</td>\n",
       "      <td>0.057118</td>\n",
       "      <td>-0.146997</td>\n",
       "      <td>-0.191989</td>\n",
       "      <td>-0.069242</td>\n",
       "    </tr>\n",
       "    <tr>\n",
       "      <th>Pesticide_Use_Category</th>\n",
       "      <td>0.038259</td>\n",
       "      <td>0.482378</td>\n",
       "      <td>0.129857</td>\n",
       "      <td>1.000000</td>\n",
       "      <td>-0.010922</td>\n",
       "      <td>0.430351</td>\n",
       "      <td>-0.584312</td>\n",
       "      <td>0.015085</td>\n",
       "    </tr>\n",
       "    <tr>\n",
       "      <th>Number_Doses_Week</th>\n",
       "      <td>-0.121168</td>\n",
       "      <td>-0.170014</td>\n",
       "      <td>0.057118</td>\n",
       "      <td>-0.010922</td>\n",
       "      <td>1.000000</td>\n",
       "      <td>0.129941</td>\n",
       "      <td>0.009077</td>\n",
       "      <td>0.027197</td>\n",
       "    </tr>\n",
       "    <tr>\n",
       "      <th>Number_Weeks_Used</th>\n",
       "      <td>0.521308</td>\n",
       "      <td>0.065865</td>\n",
       "      <td>-0.146997</td>\n",
       "      <td>0.430351</td>\n",
       "      <td>0.129941</td>\n",
       "      <td>1.000000</td>\n",
       "      <td>-0.380721</td>\n",
       "      <td>0.019353</td>\n",
       "    </tr>\n",
       "    <tr>\n",
       "      <th>Number_Weeks_Quit</th>\n",
       "      <td>0.146441</td>\n",
       "      <td>-0.390935</td>\n",
       "      <td>-0.191989</td>\n",
       "      <td>-0.584312</td>\n",
       "      <td>0.009077</td>\n",
       "      <td>-0.380721</td>\n",
       "      <td>1.000000</td>\n",
       "      <td>0.030281</td>\n",
       "    </tr>\n",
       "    <tr>\n",
       "      <th>Season</th>\n",
       "      <td>0.023384</td>\n",
       "      <td>0.020282</td>\n",
       "      <td>-0.069242</td>\n",
       "      <td>0.015085</td>\n",
       "      <td>0.027197</td>\n",
       "      <td>0.019353</td>\n",
       "      <td>0.030281</td>\n",
       "      <td>1.000000</td>\n",
       "    </tr>\n",
       "  </tbody>\n",
       "</table>\n",
       "</div>"
      ],
      "text/plain": [
       "                         Estimated_Insects_Count  Crop_Type  Soil_Type  \\\n",
       "Estimated_Insects_Count                 1.000000   0.020773  -0.339516   \n",
       "Crop_Type                               0.020773   1.000000   0.063050   \n",
       "Soil_Type                              -0.339516   0.063050   1.000000   \n",
       "Pesticide_Use_Category                  0.038259   0.482378   0.129857   \n",
       "Number_Doses_Week                      -0.121168  -0.170014   0.057118   \n",
       "Number_Weeks_Used                       0.521308   0.065865  -0.146997   \n",
       "Number_Weeks_Quit                       0.146441  -0.390935  -0.191989   \n",
       "Season                                  0.023384   0.020282  -0.069242   \n",
       "\n",
       "                         Pesticide_Use_Category  Number_Doses_Week  \\\n",
       "Estimated_Insects_Count                0.038259          -0.121168   \n",
       "Crop_Type                              0.482378          -0.170014   \n",
       "Soil_Type                              0.129857           0.057118   \n",
       "Pesticide_Use_Category                 1.000000          -0.010922   \n",
       "Number_Doses_Week                     -0.010922           1.000000   \n",
       "Number_Weeks_Used                      0.430351           0.129941   \n",
       "Number_Weeks_Quit                     -0.584312           0.009077   \n",
       "Season                                 0.015085           0.027197   \n",
       "\n",
       "                         Number_Weeks_Used  Number_Weeks_Quit    Season  \n",
       "Estimated_Insects_Count           0.521308           0.146441  0.023384  \n",
       "Crop_Type                         0.065865          -0.390935  0.020282  \n",
       "Soil_Type                        -0.146997          -0.191989 -0.069242  \n",
       "Pesticide_Use_Category            0.430351          -0.584312  0.015085  \n",
       "Number_Doses_Week                 0.129941           0.009077  0.027197  \n",
       "Number_Weeks_Used                 1.000000          -0.380721  0.019353  \n",
       "Number_Weeks_Quit                -0.380721           1.000000  0.030281  \n",
       "Season                            0.019353           0.030281  1.000000  "
      ]
     },
     "execution_count": 75,
     "metadata": {},
     "output_type": "execute_result"
    }
   ],
   "source": [
    "#Checking correlation of the dataset\n",
    "corr=df_test.corr()  #corr() function provides the correlation value of each column\n",
    "corr"
   ]
  },
  {
   "cell_type": "code",
   "execution_count": 76,
   "metadata": {},
   "outputs": [
    {
     "data": {
      "image/png": "[encoded data removed]",
      "text/plain": [
       "<Figure size 720x576 with 2 Axes>"
      ]
     },
     "metadata": {
      "needs_background": "light"
     },
     "output_type": "display_data"
    }
   ],
   "source": [
    "#Plotting heatmap for visualizing the correlation\n",
    "plt.figure(figsize=(10,8))\n",
    "sns.heatmap(corr,linewidth=0.5,linecolor='black',fmt='.0%',cmap='rainbow',annot=True)\n",
    "plt.show()"
   ]
  },
  {
   "cell_type": "markdown",
   "metadata": {},
   "source": [
    "Observations:\n",
    "\n",
    "1.There are more positive correlations present.\n",
    "\n",
    "2.The most positively correlated column is Number_Weeks_Used with Estimated_Insects_Count with a value of 52%\n",
    "\n",
    "3.The most negatively correlated column is Number_Weeks_Quit with Pesticide_Use_Category with a value of -58%"
   ]
  },
  {
   "cell_type": "code",
   "execution_count": 77,
   "metadata": {},
   "outputs": [],
   "source": [
    "#As ID is not much important, we can drop from the dataset\n",
    "df_test.drop('ID',axis=1,inplace=True)"
   ]
  },
  {
   "cell_type": "markdown",
   "metadata": {},
   "source": [
    "# Handling missing values"
   ]
  },
  {
   "cell_type": "code",
   "execution_count": 78,
   "metadata": {},
   "outputs": [
    {
     "data": {
      "text/plain": [
       "Estimated_Insects_Count      0\n",
       "Crop_Type                    0\n",
       "Soil_Type                    0\n",
       "Pesticide_Use_Category       0\n",
       "Number_Doses_Week            0\n",
       "Number_Weeks_Used          119\n",
       "Number_Weeks_Quit            0\n",
       "Season                       0\n",
       "dtype: int64"
      ]
     },
     "execution_count": 78,
     "metadata": {},
     "output_type": "execute_result"
    }
   ],
   "source": [
    "df_test.isnull().sum()    #Checking for missing values"
   ]
  },
  {
   "cell_type": "markdown",
   "metadata": {},
   "source": [
    "We can fill missing values by using SimpleImputer Library"
   ]
  },
  {
   "cell_type": "code",
   "execution_count": 79,
   "metadata": {},
   "outputs": [],
   "source": [
    "from sklearn.impute import SimpleImputer\n",
    "SI=SimpleImputer(strategy='mean')  #Finding the mean value and replacing it with the missing values\n",
    "df_test['Number_Weeks_Used']=SI.fit_transform(df_test['Number_Weeks_Used'].values.reshape(-1,1)) \n",
    "#reshape is just to neglect any error value"
   ]
  },
  {
   "cell_type": "code",
   "execution_count": 80,
   "metadata": {},
   "outputs": [
    {
     "data": {
      "text/plain": [
       "Estimated_Insects_Count    0\n",
       "Crop_Type                  0\n",
       "Soil_Type                  0\n",
       "Pesticide_Use_Category     0\n",
       "Number_Doses_Week          0\n",
       "Number_Weeks_Used          0\n",
       "Number_Weeks_Quit          0\n",
       "Season                     0\n",
       "dtype: int64"
      ]
     },
     "execution_count": 80,
     "metadata": {},
     "output_type": "execute_result"
    }
   ],
   "source": [
    "df_test.isnull().sum()   #Checking null values after replacing"
   ]
  },
  {
   "cell_type": "markdown",
   "metadata": {},
   "source": [
    "As we can see there are no missing values in the dataset after filling them with the mean value of the column"
   ]
  },
  {
   "cell_type": "markdown",
   "metadata": {},
   "source": [
    "# Checking skewness"
   ]
  },
  {
   "cell_type": "code",
   "execution_count": 81,
   "metadata": {},
   "outputs": [
    {
     "data": {
      "text/plain": [
       "Estimated_Insects_Count    1.098665\n",
       "Crop_Type                  1.546968\n",
       "Soil_Type                  0.179422\n",
       "Pesticide_Use_Category     0.089675\n",
       "Number_Doses_Week          0.872028\n",
       "Number_Weeks_Used          0.220343\n",
       "Number_Weeks_Quit          1.191013\n",
       "Season                     0.155872\n",
       "dtype: float64"
      ]
     },
     "execution_count": 81,
     "metadata": {},
     "output_type": "execute_result"
    }
   ],
   "source": [
    "df_test.skew()"
   ]
  },
  {
   "cell_type": "markdown",
   "metadata": {},
   "source": [
    "There are more positive skewness present in the data"
   ]
  },
  {
   "cell_type": "code",
   "execution_count": 82,
   "metadata": {
    "scrolled": false
   },
   "outputs": [
    {
     "data": {
      "image/png": "[encoded data removed]",
      "text/plain": [
       "<Figure size 432x288 with 1 Axes>"
      ]
     },
     "metadata": {
      "needs_background": "light"
     },
     "output_type": "display_data"
    },
    {
     "data": {
      "image/png": "[encoded data removed]",
      "text/plain": [
       "<Figure size 432x288 with 1 Axes>"
      ]
     },
     "metadata": {
      "needs_background": "light"
     },
     "output_type": "display_data"
    },
    {
     "data": {
      "image/png": "[encoded data removed]",
      "text/plain": [
       "<Figure size 432x288 with 1 Axes>"
      ]
     },
     "metadata": {
      "needs_background": "light"
     },
     "output_type": "display_data"
    },
    {
     "data": {
      "image/png": "[encoded data removed]",
      "text/plain": [
       "<Figure size 432x288 with 1 Axes>"
      ]
     },
     "metadata": {
      "needs_background": "light"
     },
     "output_type": "display_data"
    },
    {
     "data": {
      "image/png": "[encoded data removed]",
      "text/plain": [
       "<Figure size 432x288 with 1 Axes>"
      ]
     },
     "metadata": {
      "needs_background": "light"
     },
     "output_type": "display_data"
    },
    {
     "data": {
      "image/png": "[encoded data removed]",
      "text/plain": [
       "<Figure size 432x288 with 1 Axes>"
      ]
     },
     "metadata": {
      "needs_background": "light"
     },
     "output_type": "display_data"
    },
    {
     "data": {
      "image/png": "[encoded data removed]",
      "text/plain": [
       "<Figure size 432x288 with 1 Axes>"
      ]
     },
     "metadata": {
      "needs_background": "light"
     },
     "output_type": "display_data"
    },
    {
     "data": {
      "image/png": "[encoded data removed]",
      "text/plain": [
       "<Figure size 432x288 with 1 Axes>"
      ]
     },
     "metadata": {
      "needs_background": "light"
     },
     "output_type": "display_data"
    }
   ],
   "source": [
    "#Plotting distplot for checking the distribution of skewness\n",
    "for col in df_test.describe().columns:\n",
    "    sns.distplot(df_test[col])\n",
    "    plt.show()"
   ]
  },
  {
   "cell_type": "markdown",
   "metadata": {},
   "source": [
    "Some of the columns are not normally distributed and it is due to the presence of outliers"
   ]
  },
  {
   "cell_type": "markdown",
   "metadata": {},
   "source": [
    "# Checking outliers"
   ]
  },
  {
   "cell_type": "markdown",
   "metadata": {},
   "source": [
    "We can check the presence of outliers by plotting boxplot"
   ]
  },
  {
   "cell_type": "code",
   "execution_count": 83,
   "metadata": {},
   "outputs": [],
   "source": [
    "collist=df_test.columns.values \n",
    "ncol=10\n",
    "nrows=10"
   ]
  },
  {
   "cell_type": "code",
   "execution_count": 84,
   "metadata": {},
   "outputs": [
    {
     "data": {
      "image/png": "[encoded data removed]",
      "text/plain": [
       "<Figure size 720x3600 with 7 Axes>"
      ]
     },
     "metadata": {
      "needs_background": "light"
     },
     "output_type": "display_data"
    }
   ],
   "source": [
    "#Lets visualize outliers through boxplots\n",
    "plt.figure(figsize=(ncol,5*ncol))\n",
    "for i in range (1,len(collist)):\n",
    "    plt.subplot(nrows,ncol,i+1)\n",
    "    sns.boxplot(df_test[collist[i]],color='green',orient='v')\n",
    "    plt.tight_layout()"
   ]
  },
  {
   "cell_type": "markdown",
   "metadata": {},
   "source": [
    "As there are outliers present in the dataset, we can handle them by using z-score"
   ]
  },
  {
   "cell_type": "markdown",
   "metadata": {},
   "source": [
    "# Handling outliers by using z-score method"
   ]
  },
  {
   "cell_type": "code",
   "execution_count": 85,
   "metadata": {},
   "outputs": [
    {
     "data": {
      "text/plain": [
       "(array([  50,   83,  129,  136,  179,  255,  280,  281,  282,  501,  502,\n",
       "         503,  535,  574,  613,  630,  751,  775,  827,  829,  853,  868,\n",
       "         870,  871,  883,  890,  895,  897,  902,  904,  910,  911,  912,\n",
       "         913,  914,  915,  916, 1030, 1152], dtype=int64),\n",
       " array([4, 4, 4, 4, 4, 4, 0, 0, 0, 0, 0, 0, 4, 4, 4, 4, 4, 6, 6, 6, 6, 6,\n",
       "        6, 6, 6, 6, 6, 6, 6, 6, 0, 0, 0, 0, 0, 0, 0, 4, 4], dtype=int64))"
      ]
     },
     "execution_count": 85,
     "metadata": {},
     "output_type": "execute_result"
    }
   ],
   "source": [
    "from scipy.stats import zscore\n",
    "import numpy as np\n",
    "z=np.abs(zscore(df_test))   #converting all values into absolute values\n",
    "threshold=3    #setting up a threshold\n",
    "np.where(z>3)"
   ]
  },
  {
   "cell_type": "code",
   "execution_count": 86,
   "metadata": {},
   "outputs": [
    {
     "data": {
      "text/html": [
       "<div>\n",
       "<style scoped>\n",
       "    .dataframe tbody tr th:only-of-type {\n",
       "        vertical-align: middle;\n",
       "    }\n",
       "\n",
       "    .dataframe tbody tr th {\n",
       "        vertical-align: top;\n",
       "    }\n",
       "\n",
       "    .dataframe thead th {\n",
       "        text-align: right;\n",
       "    }\n",
       "</style>\n",
       "<table border=\"1\" class=\"dataframe\">\n",
       "  <thead>\n",
       "    <tr style=\"text-align: right;\">\n",
       "      <th></th>\n",
       "      <th>Estimated_Insects_Count</th>\n",
       "      <th>Crop_Type</th>\n",
       "      <th>Soil_Type</th>\n",
       "      <th>Pesticide_Use_Category</th>\n",
       "      <th>Number_Doses_Week</th>\n",
       "      <th>Number_Weeks_Used</th>\n",
       "      <th>Number_Weeks_Quit</th>\n",
       "      <th>Season</th>\n",
       "    </tr>\n",
       "  </thead>\n",
       "  <tbody>\n",
       "    <tr>\n",
       "      <th>0</th>\n",
       "      <td>188</td>\n",
       "      <td>1</td>\n",
       "      <td>1</td>\n",
       "      <td>1</td>\n",
       "      <td>0</td>\n",
       "      <td>29.033333</td>\n",
       "      <td>0</td>\n",
       "      <td>2</td>\n",
       "    </tr>\n",
       "    <tr>\n",
       "      <th>1</th>\n",
       "      <td>410</td>\n",
       "      <td>1</td>\n",
       "      <td>1</td>\n",
       "      <td>1</td>\n",
       "      <td>0</td>\n",
       "      <td>0.000000</td>\n",
       "      <td>0</td>\n",
       "      <td>2</td>\n",
       "    </tr>\n",
       "    <tr>\n",
       "      <th>2</th>\n",
       "      <td>626</td>\n",
       "      <td>1</td>\n",
       "      <td>0</td>\n",
       "      <td>1</td>\n",
       "      <td>0</td>\n",
       "      <td>0.000000</td>\n",
       "      <td>0</td>\n",
       "      <td>2</td>\n",
       "    </tr>\n",
       "    <tr>\n",
       "      <th>3</th>\n",
       "      <td>731</td>\n",
       "      <td>1</td>\n",
       "      <td>0</td>\n",
       "      <td>1</td>\n",
       "      <td>0</td>\n",
       "      <td>0.000000</td>\n",
       "      <td>0</td>\n",
       "      <td>2</td>\n",
       "    </tr>\n",
       "    <tr>\n",
       "      <th>4</th>\n",
       "      <td>789</td>\n",
       "      <td>0</td>\n",
       "      <td>0</td>\n",
       "      <td>1</td>\n",
       "      <td>0</td>\n",
       "      <td>0.000000</td>\n",
       "      <td>0</td>\n",
       "      <td>1</td>\n",
       "    </tr>\n",
       "    <tr>\n",
       "      <th>...</th>\n",
       "      <td>...</td>\n",
       "      <td>...</td>\n",
       "      <td>...</td>\n",
       "      <td>...</td>\n",
       "      <td>...</td>\n",
       "      <td>...</td>\n",
       "      <td>...</td>\n",
       "      <td>...</td>\n",
       "    </tr>\n",
       "    <tr>\n",
       "      <th>1194</th>\n",
       "      <td>1132</td>\n",
       "      <td>0</td>\n",
       "      <td>1</td>\n",
       "      <td>2</td>\n",
       "      <td>40</td>\n",
       "      <td>34.000000</td>\n",
       "      <td>7</td>\n",
       "      <td>3</td>\n",
       "    </tr>\n",
       "    <tr>\n",
       "      <th>1195</th>\n",
       "      <td>1132</td>\n",
       "      <td>0</td>\n",
       "      <td>1</td>\n",
       "      <td>2</td>\n",
       "      <td>40</td>\n",
       "      <td>25.000000</td>\n",
       "      <td>3</td>\n",
       "      <td>1</td>\n",
       "    </tr>\n",
       "    <tr>\n",
       "      <th>1196</th>\n",
       "      <td>1132</td>\n",
       "      <td>0</td>\n",
       "      <td>1</td>\n",
       "      <td>2</td>\n",
       "      <td>20</td>\n",
       "      <td>13.000000</td>\n",
       "      <td>23</td>\n",
       "      <td>1</td>\n",
       "    </tr>\n",
       "    <tr>\n",
       "      <th>1197</th>\n",
       "      <td>1212</td>\n",
       "      <td>0</td>\n",
       "      <td>1</td>\n",
       "      <td>2</td>\n",
       "      <td>10</td>\n",
       "      <td>35.000000</td>\n",
       "      <td>5</td>\n",
       "      <td>1</td>\n",
       "    </tr>\n",
       "    <tr>\n",
       "      <th>1198</th>\n",
       "      <td>1212</td>\n",
       "      <td>0</td>\n",
       "      <td>1</td>\n",
       "      <td>2</td>\n",
       "      <td>15</td>\n",
       "      <td>29.033333</td>\n",
       "      <td>20</td>\n",
       "      <td>3</td>\n",
       "    </tr>\n",
       "  </tbody>\n",
       "</table>\n",
       "<p>1160 rows × 8 columns</p>\n",
       "</div>"
      ],
      "text/plain": [
       "      Estimated_Insects_Count  Crop_Type  Soil_Type  Pesticide_Use_Category  \\\n",
       "0                         188          1          1                       1   \n",
       "1                         410          1          1                       1   \n",
       "2                         626          1          0                       1   \n",
       "3                         731          1          0                       1   \n",
       "4                         789          0          0                       1   \n",
       "...                       ...        ...        ...                     ...   \n",
       "1194                     1132          0          1                       2   \n",
       "1195                     1132          0          1                       2   \n",
       "1196                     1132          0          1                       2   \n",
       "1197                     1212          0          1                       2   \n",
       "1198                     1212          0          1                       2   \n",
       "\n",
       "      Number_Doses_Week  Number_Weeks_Used  Number_Weeks_Quit  Season  \n",
       "0                     0          29.033333                  0       2  \n",
       "1                     0           0.000000                  0       2  \n",
       "2                     0           0.000000                  0       2  \n",
       "3                     0           0.000000                  0       2  \n",
       "4                     0           0.000000                  0       1  \n",
       "...                 ...                ...                ...     ...  \n",
       "1194                 40          34.000000                  7       3  \n",
       "1195                 40          25.000000                  3       1  \n",
       "1196                 20          13.000000                 23       1  \n",
       "1197                 10          35.000000                  5       1  \n",
       "1198                 15          29.033333                 20       3  \n",
       "\n",
       "[1160 rows x 8 columns]"
      ]
     },
     "execution_count": 86,
     "metadata": {},
     "output_type": "execute_result"
    }
   ],
   "source": [
    "#Removing outliers\n",
    "df_newtest=df_test[(z<3).all(axis=1)]\n",
    "df_newtest"
   ]
  },
  {
   "cell_type": "code",
   "execution_count": 87,
   "metadata": {},
   "outputs": [
    {
     "data": {
      "text/plain": [
       "(1199, 8)"
      ]
     },
     "execution_count": 87,
     "metadata": {},
     "output_type": "execute_result"
    }
   ],
   "source": [
    "df_test.shape   #Original dataset dimensions"
   ]
  },
  {
   "cell_type": "code",
   "execution_count": 88,
   "metadata": {},
   "outputs": [
    {
     "data": {
      "text/plain": [
       "(1160, 8)"
      ]
     },
     "execution_count": 88,
     "metadata": {},
     "output_type": "execute_result"
    }
   ],
   "source": [
    "df_newtest.shape   #New dataset dimensions"
   ]
  },
  {
   "cell_type": "markdown",
   "metadata": {},
   "source": [
    "39 rows had outliers and they are removed by using z-score method"
   ]
  },
  {
   "cell_type": "markdown",
   "metadata": {},
   "source": [
    "# Percentage loss of data after removal of outliers"
   ]
  },
  {
   "cell_type": "code",
   "execution_count": 89,
   "metadata": {},
   "outputs": [
    {
     "name": "stdout",
     "output_type": "stream",
     "text": [
      "3.252710592160134\n"
     ]
    }
   ],
   "source": [
    "percentage_loss=((39)/1199)*100   #39 = 1199-1160\n",
    "print(percentage_loss)"
   ]
  },
  {
   "cell_type": "markdown",
   "metadata": {},
   "source": [
    "Nearly 3.25% of data has been lost due to the removal of outliers"
   ]
  },
  {
   "cell_type": "markdown",
   "metadata": {},
   "source": [
    "# Treating skewness"
   ]
  },
  {
   "cell_type": "code",
   "execution_count": 90,
   "metadata": {},
   "outputs": [],
   "source": [
    "#We are treating skewness by using square root transform\n",
    "for col in df_newtest.skew().index:\n",
    "    if col in df_newtest.describe().columns:\n",
    "        if df_newtest[col].skew()>0.55:\n",
    "            df_newtest[col]=np.sqrt(df_newtest[col])"
   ]
  },
  {
   "cell_type": "code",
   "execution_count": 91,
   "metadata": {},
   "outputs": [
    {
     "data": {
      "text/plain": [
       "Estimated_Insects_Count    0.420464\n",
       "Crop_Type                  1.515496\n",
       "Soil_Type                  0.148878\n",
       "Pesticide_Use_Category     0.069452\n",
       "Number_Doses_Week         -0.295774\n",
       "Number_Weeks_Used          0.223826\n",
       "Number_Weeks_Quit          0.362977\n",
       "Season                     0.159728\n",
       "dtype: float64"
      ]
     },
     "execution_count": 91,
     "metadata": {},
     "output_type": "execute_result"
    }
   ],
   "source": [
    "df_newtest.skew()   #Checking skewness after treating it"
   ]
  },
  {
   "cell_type": "markdown",
   "metadata": {},
   "source": [
    "The skewness present in the data has been treated and now we can proceed further with the predictions of test data we have"
   ]
  },
  {
   "cell_type": "markdown",
   "metadata": {},
   "source": [
    "# Loading the saved best model "
   ]
  },
  {
   "cell_type": "code",
   "execution_count": 92,
   "metadata": {},
   "outputs": [],
   "source": [
    "fitted_model=pickle.load(open('Agriculture_Project.pkl','rb'))"
   ]
  },
  {
   "cell_type": "code",
   "execution_count": 93,
   "metadata": {},
   "outputs": [
    {
     "data": {
      "text/plain": [
       "SVC(C=1, random_state=471)"
      ]
     },
     "execution_count": 93,
     "metadata": {},
     "output_type": "execute_result"
    }
   ],
   "source": [
    "fitted_model   #Checking the model we have saved"
   ]
  },
  {
   "cell_type": "markdown",
   "metadata": {},
   "source": [
    "We can see that SVC algorithm, which was finalized and saved after we found that it was the best model performing, is loaded and it is also showing the best parameters we obtained while doing Hyperparameter Tuning."
   ]
  },
  {
   "cell_type": "markdown",
   "metadata": {},
   "source": [
    "# Predictions over test data"
   ]
  },
  {
   "cell_type": "code",
   "execution_count": 94,
   "metadata": {},
   "outputs": [],
   "source": [
    "test_predictions=fitted_model.predict(df_newtest)   #Predicting the values"
   ]
  },
  {
   "cell_type": "code",
   "execution_count": 95,
   "metadata": {},
   "outputs": [
    {
     "data": {
      "text/plain": [
       "array([0, 0, 0, ..., 0, 0, 0], dtype=int64)"
      ]
     },
     "execution_count": 95,
     "metadata": {},
     "output_type": "execute_result"
    }
   ],
   "source": [
    "#Checking the predictions\n",
    "test_predictions"
   ]
  },
  {
   "cell_type": "markdown",
   "metadata": {},
   "source": [
    "We have predicted the values over the test data and now we will save the predicted values separately"
   ]
  },
  {
   "cell_type": "markdown",
   "metadata": {},
   "source": [
    "# Saving the predicted values"
   ]
  },
  {
   "cell_type": "code",
   "execution_count": 96,
   "metadata": {},
   "outputs": [],
   "source": [
    "test_results=pd.DataFrame(test_predictions)\n",
    "test_results.to_csv('Agriculture_Project_TestDataResults.csv')"
   ]
  },
  {
   "cell_type": "markdown",
   "metadata": {},
   "source": [
    "# Conclusion"
   ]
  },
  {
   "cell_type": "markdown",
   "metadata": {},
   "source": [
    "-> After getting an insight of this agriculture dataset, we can say that the damage of the crops can be reduced and also we        found that the pesticides were not used in most of the crops.\n",
    "\n",
    "-> First we loaded the train dataset and did the EDA process and other pre-processing techniques like skewness check and            removal, handling the outliers present, filling the missing data, visualizing the distribution of data,etc.\n",
    "\n",
    "-> From the data visualization, we got that 0th type of Crop has more damage that 1st type, the pesticides were not used on most    of the crops and also more number of crops are alive.\n",
    "\n",
    "-> Then we did the model training, building the model and finding out the best model on the basis of different metrices scores      we got like Classification Report, Confusion matrix, cross validation score, etc.\n",
    "\n",
    "-> We got SupportVectorClassifier Algorithm as the best algorithm among all as it gave an accuracy score of 85.92 and cross        validation score of 85.21. Then for finding out the best parameter and improving the scores, we performed Hyperparameter        Tuning.\n",
    "\n",
    "-> We also tried using Ensemble Techniques like RandomForestClassifier, AdaBoostClassifier and GradientBoostingClassifier          algorithms for boosting up our scores. Finally we concluded that SVC was the best and saved the model in a pickle file.\n",
    "\n",
    "-> We predicted the values obtained and saved it separately in a csv file.\n",
    "\n",
    "-> Then we used the test dataset and performed all the pre-processing pipeline methods to it. \n",
    "\n",
    "-> After handling outliers and treating skewness, we loaded the saved model that we obtained and did the predictions over the      test data and then saving the predictions separately in a csv file.\n",
    "\n",
    "-> From this project, we learnt that how to handle train and test data separately and how to predict the values from them. This    will be useful while we are working in a real-time case study as we can get any new data from the client we work on and we      can proceed our analysis by loading the best model we obtained and start working on the analysis of the new data we have.\n",
    "\n",
    "-> The final result will be the predictions we get from the new data and saving it separately.\n",
    "\n",
    "-> Overall, we can say that this dataset is very good for predicting the crop damage using classification analysis and SVC is      the best working algorithm model we obtained."
   ]
  }
 ],
 "metadata": {
  "kernelspec": {
   "display_name": "Python 3",
   "language": "python",
   "name": "python3"
  },
  "language_info": {
   "codemirror_mode": {
    "name": "ipython",
    "version": 3
   },
   "file_extension": ".py",
   "mimetype": "text/x-python",
   "name": "python",
   "nbconvert_exporter": "python",
   "pygments_lexer": "ipython3",
   "version": "3.8.3"
  }
 },
 "nbformat": 4,
 "nbformat_minor": 4
}
